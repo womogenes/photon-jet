{
 "cells": [
  {
   "cell_type": "markdown",
   "id": "410d0797-b5ac-4d8c-93cc-68c5cef36c89",
   "metadata": {},
   "source": [
    "# ECAL data plotter\n",
    "\n",
    "Make plots of the original data."
   ]
  },
  {
   "cell_type": "code",
   "execution_count": 113,
   "id": "8d6f9239-5b80-4b1a-874a-cb3b4f65a49d",
   "metadata": {},
   "outputs": [],
   "source": [
    "from utils import data_dir\n",
    "\n",
    "import os\n",
    "import numpy as np\n",
    "import h5py\n",
    "import matplotlib.pyplot as plt"
   ]
  },
  {
   "cell_type": "code",
   "execution_count": 2,
   "id": "89ed1ee2-1a4c-42e0-b07f-cacf80e72e1c",
   "metadata": {},
   "outputs": [],
   "source": [
    "task2label = {\n",
    "    \"scalar1\": r\"$h_2\\rightarrow\\pi^0\\pi^0$\",\n",
    "    \"axion1\": r\"$a\\rightarrow\\gamma\\gamma$\",\n",
    "    \"axion2\": r\"$a\\rightarrow3\\pi^0$\"\n",
    "}"
   ]
  },
  {
   "cell_type": "code",
   "execution_count": 9,
   "id": "5c450dfe-a86b-4977-a455-eb59383eaa65",
   "metadata": {},
   "outputs": [],
   "source": [
    "jets = {}\n",
    "for particle in [\"axion1\", \"gamma\", \"pi0\"]:\n",
    "    f = h5py.File(f\"{data_dir}/h5/{particle}_40-250GeV_100k.h5\")\n",
    "    jets[particle] = f"
   ]
  },
  {
   "cell_type": "code",
   "execution_count": 10,
   "id": "03984ba3-afa1-4afe-94fd-bfdf82580a59",
   "metadata": {},
   "outputs": [
    {
     "data": {
      "text/plain": [
       "<KeysViewHDF5 ['energy', 'layer_0', 'layer_1', 'layer_2', 'layer_3', 'overflow']>"
      ]
     },
     "execution_count": 10,
     "metadata": {},
     "output_type": "execute_result"
    }
   ],
   "source": [
    "f.keys()"
   ]
  },
  {
   "cell_type": "code",
   "execution_count": 115,
   "id": "74e5aa06-5c6b-4c95-998a-82eaf4322a75",
   "metadata": {},
   "outputs": [
    {
     "data": {
      "image/png": "[encoded data removed]",
      "text/plain": [
       "<Figure size 640x480 with 1 Axes>"
      ]
     },
     "metadata": {},
     "output_type": "display_data"
    }
   ],
   "source": [
    "from matplotlib.colors import LogNorm\n",
    "\n",
    "for layer in [f\"layer_{i}\" for i in range(4)]:\n",
    "    for particle in [\"axion1\", \"gamma\", \"pi0\"]:\n",
    "        plt.clf()\n",
    "        plt.rcParams.update({'font.size': 18})\n",
    "        plt.imshow(\n",
    "            jets[particle][layer][0].T * 1000,\n",
    "            aspect=\"auto\",\n",
    "            extent=[-0.2, 0.2, -0.02, 0.02],\n",
    "            norm=\"symlog\"\n",
    "        )\n",
    "        # plt.colorbar(pad=0)\n",
    "        plt.xlabel(r\"$\\phi$\")\n",
    "        plt.ylabel(r\"$\\eta$\")\n",
    "        plt.xticks(rotation=45)\n",
    "        plt.tight_layout()\n",
    "        plt.axis('off')\n",
    "        os.makedirs(f\"./generated_figures/noaxis\", exist_ok=True)\n",
    "        plt.savefig(f\"./generated_figures/noaxis/{particle}_{layer}_1GeV_40-250GeV_100k_noaxis.pdf\", bbox_inches=\"tight\")"
   ]
  }
 ],
 "metadata": {
  "kernelspec": {
   "display_name": "Python (tf2)",
   "language": "python",
   "name": "tf"
  },
  "language_info": {
   "codemirror_mode": {
    "name": "ipython",
    "version": 3
   },
   "file_extension": ".py",
   "mimetype": "text/x-python",
   "name": "python",
   "nbconvert_exporter": "python",
   "pygments_lexer": "ipython3",
   "version": "3.11.6"
  }
 },
 "nbformat": 4,
 "nbformat_minor": 5
}
