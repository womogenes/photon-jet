{
 "cells": [
  {
   "cell_type": "markdown",
   "id": "b8ef379f-9fe4-43fe-a6b8-24de7ed6cce8",
   "metadata": {},
   "source": [
    "# Scalar data transfer-er"
   ]
  },
  {
   "cell_type": "code",
   "execution_count": 3,
   "id": "b2b221fb-e199-4091-a6c2-319fae3a1843",
   "metadata": {},
   "outputs": [],
   "source": [
    "# Turn necessary files from h5 to npz\n",
    "\n",
    "import os\n",
    "import h5py\n",
    "import numpy as np\n",
    "from matplotlib import pyplot as plt\n",
    "from pprint import pprint"
   ]
  },
  {
   "cell_type": "markdown",
   "id": "2576eb78-eb22-4b47-82d4-2dda2c725ac2",
   "metadata": {},
   "source": [
    "## Transfer data locally"
   ]
  },
  {
   "cell_type": "code",
   "execution_count": 4,
   "id": "331be8b3-db8d-43a3-ae83-7be669ce8696",
   "metadata": {},
   "outputs": [],
   "source": [
    "data_dir = \"/usatlas/atlas01/atlasdisk/users/atlas_wifeng/photon-jet/data\""
   ]
  },
  {
   "cell_type": "code",
   "execution_count": 5,
   "id": "1b52b744-5192-47a9-8c88-ac7e473e1c1b",
   "metadata": {},
   "outputs": [],
   "source": [
    "def save_npz(dataset):\n",
    "    f = h5py.File(f\"{data_dir}/raw_files/h5/{dataset}.h5\")\n",
    "    np.savez(f\"{data_dir}/processed/scalar_test/{dataset}\", **f)"
   ]
  },
  {
   "cell_type": "code",
   "execution_count": 6,
   "id": "7b34c29d-cea4-4e78-b34c-b36042193a79",
   "metadata": {},
   "outputs": [],
   "source": [
    "# Transfer these jet files, save as npz\n",
    "# ~20 sec\n",
    "\n",
    "pion_jets = save_npz(\"pi0_40-250GeV_100k\")\n",
    "photon_jets = save_npz(\"gamma_40-250GeV_100k\")\n",
    "scalar_jets = save_npz(\"scalar1_40-250GeV_100k\")"
   ]
  }
 ],
 "metadata": {
  "kernelspec": {
   "display_name": "top-tagging",
   "language": "python",
   "name": "top-tagging"
  },
  "language_info": {
   "codemirror_mode": {
    "name": "ipython",
    "version": 3
   },
   "file_extension": ".py",
   "mimetype": "text/x-python",
   "name": "python",
   "nbconvert_exporter": "python",
   "pygments_lexer": "ipython3",
   "version": "3.10.10"
  }
 },
 "nbformat": 4,
 "nbformat_minor": 5
}
