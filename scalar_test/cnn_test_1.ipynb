{
 "cells": [
  {
   "cell_type": "markdown",
   "id": "12345a37-d28b-4d50-8b67-32a9052625e9",
   "metadata": {},
   "source": [
    "# CNN test 1\n",
    "\n",
    "Ok let's train a CNN on this thing"
   ]
  },
  {
   "cell_type": "code",
   "execution_count": 15,
   "id": "058ab6b9-e4e1-434a-a5fc-08fd610a0137",
   "metadata": {},
   "outputs": [],
   "source": [
    "import os\n",
    "import time\n",
    "import h5py\n",
    "import numpy as np\n",
    "import math\n",
    "\n",
    "from tqdm import tqdm\n",
    "from matplotlib import pyplot as plt\n",
    "from pprint import pprint"
   ]
  },
  {
   "cell_type": "code",
   "execution_count": 16,
   "id": "3cf2ca5b-792c-4f7f-9598-608baf4880c6",
   "metadata": {},
   "outputs": [],
   "source": [
    "# Utility functions and whatnot\n",
    "\n",
    "def convert_size(size_bytes):\n",
    "    if size_bytes == 0:\n",
    "        return \"0B\"\n",
    "    size_name = (\"B\", \"KB\", \"MB\", \"GB\", \"TB\", \"PB\", \"EB\", \"ZB\", \"YB\")\n",
    "    i = int(math.floor(math.log(size_bytes, 1024)))\n",
    "    p = math.pow(1024, i)\n",
    "    s = round(size_bytes / p, 2)\n",
    "    return \"%s %s\" % (s, size_name[i])"
   ]
  },
  {
   "cell_type": "code",
   "execution_count": 3,
   "id": "14e9e9e5-d5b2-4b9b-bee1-c5f91246764f",
   "metadata": {},
   "outputs": [],
   "source": [
    "data_dir = \"/usatlas/atlas01/atlasdisk/users/atlas_wifeng/photon-jet/data/processed/scalar_test\"\n",
    "os.chdir(data_dir)"
   ]
  },
  {
   "cell_type": "code",
   "execution_count": 17,
   "id": "462ff3c9-9e66-4f45-b51f-a912fdbccf97",
   "metadata": {},
   "outputs": [
    {
     "name": "stdout",
     "output_type": "stream",
     "text": [
      "energy     float64         (300000, 1)          2.29 MB\n",
      "layer_0    float64         (300000, 4, 16)      146.48 MB\n",
      "layer_1    float64         (300000, 4, 128)     1.14 GB\n",
      "layer_2    float64         (300000, 16, 16)     585.94 MB\n",
      "layer_3    float64         (300000, 16, 8)      292.97 MB\n",
      "overflow   float64         (300000, 4)          9.16 MB\n",
      "label      int64           (300000,)            2.29 MB\n"
     ]
    }
   ],
   "source": [
    "# Grab the data\n",
    "jets = np.load(\"all_jets.npz\")\n",
    "\n",
    "for layer in jets:\n",
    "    print(layer.ljust(10), str(jets[layer].dtype).ljust(15), str(jets[layer].shape).ljust(20), convert_size(jets[layer].nbytes))"
   ]
  },
  {
   "cell_type": "code",
   "execution_count": 6,
   "id": "42b8f147-fd65-4672-ab36-2631df0d6971",
   "metadata": {},
   "outputs": [
    {
     "ename": "AttributeError",
     "evalue": "'NpzFile' object has no attribute 'nbytes'",
     "output_type": "error",
     "traceback": [
      "\u001b[0;31m---------------------------------------------------------------------------\u001b[0m",
      "\u001b[0;31mAttributeError\u001b[0m                            Traceback (most recent call last)",
      "Cell \u001b[0;32mIn[6], line 1\u001b[0m\n\u001b[0;32m----> 1\u001b[0m \u001b[43mjets\u001b[49m\u001b[38;5;241;43m.\u001b[39;49m\u001b[43mnbytes\u001b[49m\n",
      "\u001b[0;31mAttributeError\u001b[0m: 'NpzFile' object has no attribute 'nbytes'"
     ]
    }
   ],
   "source": []
  }
 ],
 "metadata": {
  "kernelspec": {
   "display_name": "top-tagging",
   "language": "python",
   "name": "top-tagging"
  },
  "language_info": {
   "codemirror_mode": {
    "name": "ipython",
    "version": 3
   },
   "file_extension": ".py",
   "mimetype": "text/x-python",
   "name": "python",
   "nbconvert_exporter": "python",
   "pygments_lexer": "ipython3",
   "version": "3.10.10"
  }
 },
 "nbformat": 4,
 "nbformat_minor": 5
}
