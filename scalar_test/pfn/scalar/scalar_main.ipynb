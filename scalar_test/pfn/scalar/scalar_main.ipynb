{
 "cells": [
  {
   "cell_type": "markdown",
   "id": "21f93689-eea9-407e-9614-120e029a137b",
   "metadata": {},
   "source": [
    "# Test stuff for PFN model\n",
    "\n",
    "Classify pions, photons, and **scalars**"
   ]
  },
  {
   "cell_type": "code",
   "execution_count": 1,
   "id": "44db5291-bdc8-4a14-884d-8e08c17ca30b",
   "metadata": {},
   "outputs": [],
   "source": [
    "# Add import paths\n",
    "import sys\n",
    "sys.path.append(\"..\")\n",
    "\n",
    "import os\n",
    "os.environ[\"TF_CPP_MIN_LOG_LEVEL\"] = \"2\"\n",
    "\n",
    "import numpy as np\n",
    "import datetime as dt\n",
    "from utils import print_gpu_memory\n",
    "\n",
    "# Make tensorflow not use too much memory\n",
    "import tensorflow as tf\n",
    "gpus = tf.config.list_physical_devices(\"GPU\")\n",
    "for gpu in gpus:\n",
    "    tf.config.experimental.set_memory_growth(gpu, True)\n",
    "\n",
    "disk_dir = \"/usatlas/atlas01/atlasdisk/users/atlas_wifeng\""
   ]
  },
  {
   "cell_type": "code",
   "execution_count": 2,
   "id": "e7125c32-0792-4102-957c-33af01279951",
   "metadata": {},
   "outputs": [
    {
     "name": "stdout",
     "output_type": "stream",
     "text": [
      "GPU memory usage\n",
      "  current: 0B\n",
      "  peak:    0B\n"
     ]
    }
   ],
   "source": [
    "print_gpu_memory()"
   ]
  },
  {
   "cell_type": "code",
   "execution_count": 3,
   "id": "179386df-5d96-468d-bdef-b61cd5ea4db9",
   "metadata": {},
   "outputs": [],
   "source": [
    "# Get data\n",
    "from data import get_data\n",
    "(X_train, X_val, X_test,\n",
    " Y_train, Y_val, Y_test) = get_data(\"scalar_test/all_jets_point_cloud.npz\")"
   ]
  },
  {
   "cell_type": "code",
   "execution_count": 4,
   "id": "a5a46b41-fa4a-4248-984f-7bac6a9f52a1",
   "metadata": {},
   "outputs": [],
   "source": [
    "# Build model\n",
    "from model import PFN\n",
    "Phi_sizes = [128, 128, 128, 128, 64, 64, 64]\n",
    "F_sizes = [128, 128, 128, 128, 64, 64, 64]\n",
    "\n",
    "_, n_particles, n_features = X_train.shape\n",
    "model = PFN(\n",
    "    n_features=n_features,\n",
    "    n_particles=n_particles,\n",
    "    n_outputs=Y_train.shape[1],\n",
    "    Phi_sizes=Phi_sizes,\n",
    "    F_sizes=F_sizes\n",
    ")"
   ]
  },
  {
   "cell_type": "code",
   "execution_count": 5,
   "id": "01fd9137-f21b-46bf-bb0a-2f230dfccf25",
   "metadata": {},
   "outputs": [],
   "source": [
    "from collections import defaultdict\n",
    "history = defaultdict(list)"
   ]
  },
  {
   "cell_type": "code",
   "execution_count": 6,
   "id": "b556fba9-41d8-46a5-bed9-28eafdec01ee",
   "metadata": {},
   "outputs": [],
   "source": [
    "# Utility functions for training\n",
    "from train_model import train_model\n",
    "\n",
    "def train_iteration(lr, epochs):\n",
    "    fit_history = train_model(\n",
    "        model=model, \n",
    "        data=(X_train, X_val, Y_train, Y_val),\n",
    "        lr=lr,\n",
    "        epochs=epochs\n",
    "    )\n",
    "    print(f\"\\nSaving history...\")\n",
    "    for key in [\"loss\", \"val_loss\", \"accuracy\", \"val_accuracy\"]:\n",
    "        history[key].extend(fit_history.history[key])\n",
    "    return fit_history\n",
    "\n",
    "def save_model():\n",
    "    model_dir = f\"{disk_dir}/photon-jet/models/pfn\"\n",
    "    cur_date = dt.datetime.now().strftime(\"%Y-%m-%d\")\n",
    "    os.makedirs(f\"{model_dir}/{cur_date}\", exist_ok=True)\n",
    "    model.save(f\"{model_dir}/{cur_date}/{dt.datetime.now()}\")"
   ]
  },
  {
   "cell_type": "code",
   "execution_count": null,
   "id": "c5c7ed25-1b3b-4bc9-a133-2ba36d83ae5e",
   "metadata": {},
   "outputs": [
    {
     "name": "stdout",
     "output_type": "stream",
     "text": [
      "Training model...\n",
      "=== Training with lr=2e-4 [2023-06-07 16:53:23.435861] ===\n",
      "Epoch 1/10\n",
      "2400/2400 [==============================] - 62s 19ms/step - loss: 1.2954 - accuracy: 0.3659 - val_loss: 1.0139 - val_accuracy: 0.4627\n",
      "Epoch 2/10\n",
      "2400/2400 [==============================] - 45s 19ms/step - loss: 0.9920 - accuracy: 0.4783 - val_loss: 0.9749 - val_accuracy: 0.4887\n",
      "Epoch 3/10\n",
      "2400/2400 [==============================] - 45s 19ms/step - loss: 0.9734 - accuracy: 0.4940 - val_loss: 0.9905 - val_accuracy: 0.4784\n",
      "Epoch 4/10\n",
      "2400/2400 [==============================] - 45s 19ms/step - loss: 0.9089 - accuracy: 0.5407 - val_loss: 0.7556 - val_accuracy: 0.6306\n",
      "Epoch 5/10\n",
      "2400/2400 [==============================] - 45s 19ms/step - loss: 0.7154 - accuracy: 0.6665 - val_loss: 0.5659 - val_accuracy: 0.7450\n",
      "Epoch 6/10\n",
      "2400/2400 [==============================] - 45s 19ms/step - loss: 0.4549 - accuracy: 0.8109 - val_loss: 0.4834 - val_accuracy: 0.8025\n",
      "Epoch 7/10\n",
      "2400/2400 [==============================] - 45s 19ms/step - loss: 0.3935 - accuracy: 0.8412 - val_loss: 0.6889 - val_accuracy: 0.6772\n",
      "Epoch 8/10\n",
      " 220/2400 [=>............................] - ETA: 38s - loss: 0.5308 - accuracy: 0.7721"
     ]
    }
   ],
   "source": [
    "print(f\"Training model...\")\n",
    "print(f\"=== Training with lr=2e-4 [{dt.datetime.now()}] ===\")\n",
    "train_iteration(lr=1e-3, epochs=10)"
   ]
  }
 ],
 "metadata": {
  "kernelspec": {
   "display_name": "top-tagging",
   "language": "python",
   "name": "top-tagging"
  },
  "language_info": {
   "codemirror_mode": {
    "name": "ipython",
    "version": 3
   },
   "file_extension": ".py",
   "mimetype": "text/x-python",
   "name": "python",
   "nbconvert_exporter": "python",
   "pygments_lexer": "ipython3",
   "version": "3.10.10"
  }
 },
 "nbformat": 4,
 "nbformat_minor": 5
}
