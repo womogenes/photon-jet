{
 "cells": [
  {
   "cell_type": "markdown",
   "id": "7c8b613d-e95f-43c1-93b8-6646e0be5f54",
   "metadata": {},
   "source": [
    "# Particle Flow Test 1\n",
    "\n",
    "Make our own particle flow network, train it on photon jets"
   ]
  },
  {
   "cell_type": "code",
   "execution_count": 10,
   "id": "0b2625fc-9815-410c-a9a6-e636c6c07a5d",
   "metadata": {
    "tags": []
   },
   "outputs": [
    {
     "name": "stdout",
     "output_type": "stream",
     "text": [
      "Importing computing things...\n",
      "Importing tensorflow... (this could take a while)\n",
      "Importing display things...\n",
      "Importing energyflow things...\n"
     ]
    }
   ],
   "source": [
    "# Up to a couple minutes to import everything\n",
    "\n",
    "# Computing imports\n",
    "print(f\"Importing computing things...\")\n",
    "import os\n",
    "import numpy as np\n",
    "\n",
    "print(f\"Importing tensorflow... (this could take a while)\")\n",
    "os.environ[\"TF_CPP_MIN_LOG_LEVEL\"] = \"2\" # Make tensorflow quieter\n",
    "import tensorflow as tf\n",
    "from tensorflow.keras import layers\n",
    "from sklearn.metrics import roc_auc_score, roc_curve, confusion_matrix, ConfusionMatrixDisplay\n",
    "\n",
    "# Useful imports\n",
    "print(f\"Importing display things...\")\n",
    "from tqdm import tqdm\n",
    "import matplotlib.pyplot as plt\n",
    "\n",
    "# Energyflow imports\n",
    "print(f\"Importing energyflow things...\")\n",
    "import energyflow as ef\n",
    "from energyflow.utils import data_split, to_categorical"
   ]
  },
  {
   "cell_type": "markdown",
   "id": "b4b4b857-0f8d-484b-81d0-2183374b56e8",
   "metadata": {
    "tags": []
   },
   "source": [
    "## Import, preprocess data\n",
    "\n",
    "Data lives in `X_train`, `X_val`, `X_test`, and `Y_train`, `Y_val`, `Y_test`."
   ]
  },
  {
   "cell_type": "code",
   "execution_count": 12,
   "id": "5acb3473-0268-4a28-96d5-b84c3a1a7ac6",
   "metadata": {},
   "outputs": [
    {
     "name": "stdout",
     "output_type": "stream",
     "text": [
      "Loaded data\n"
     ]
    }
   ],
   "source": [
    "# ~5 sec\n",
    "jets_path = \"/usatlas/atlas01/atlasdisk/users/atlas_wifeng/photon-jet/data/processed/scalar_test/30k_jets_point_cloud.npz\"\n",
    "jets = np.load(jets_path)\n",
    "\n",
    "X, y = jets[\"X\"], jets[\"y\"]\n",
    "Y = to_categorical(y)\n",
    "\n",
    "print(\"Loaded data\")"
   ]
  },
  {
   "cell_type": "code",
   "execution_count": 13,
   "id": "7b9a5fb0-9665-4758-9d2a-bdfe1eb6ec7f",
   "metadata": {},
   "outputs": [
    {
     "name": "stdout",
     "output_type": "stream",
     "text": [
      "Done train/val/test split\n"
     ]
    }
   ],
   "source": [
    "# ~5 sec\n",
    "# Do train/val/test split\n",
    "N = len(X)\n",
    "n_val = int(0.1 * N)\n",
    "n_test = int(0.1 * N)\n",
    "\n",
    "(X_train, X_val, X_test,\n",
    " Y_train, Y_val, Y_test) = data_split(X, Y, val=n_val, test=n_test)\n",
    "\n",
    "print(\"Done train/val/test split\")"
   ]
  },
  {
   "cell_type": "markdown",
   "id": "a3ab3922-436a-41c0-bd40-83c4e4d5ad06",
   "metadata": {},
   "source": [
    "## Define the model"
   ]
  },
  {
   "cell_type": "markdown",
   "id": "7df8f8ff-7dca-400f-b136-e8b99914ab03",
   "metadata": {},
   "source": [
    "PFN model:\n",
    "$$\\text{PFN}=F\\left(\\sum_{i=1}^M \\Phi(p_i)\\right)$$"
   ]
  },
  {
   "cell_type": "code",
   "execution_count": 14,
   "id": "2018c05c-4e0d-4a4f-a80f-f26a5caa6515",
   "metadata": {
    "tags": []
   },
   "outputs": [],
   "source": [
    "def PFN(n_features,\n",
    "        n_particles,\n",
    "        n_outputs,\n",
    "        Phi_sizes,\n",
    "        F_sizes,\n",
    "        name=None):\n",
    "    \n",
    "        inputs = layers.Input((n_particles, n_features), name=\"input\")    \n",
    "        masking_layer = layers.Masking(\n",
    "            mask_value=0.,\n",
    "            input_shape=(n_particles, n_features)\n",
    "        )\n",
    "        Phi_layers = [layers.Dense(size, activation=\"relu\", name=f\"Phi_{i}\") for i, size in enumerate(Phi_sizes)]\n",
    "        F_layers = [layers.Dense(size, activation=\"relu\", name=f\"F_{i}\") for i, size in enumerate(F_sizes)]\n",
    "        last_layer = layers.Dense(n_outputs, name=\"output\")\n",
    "        \n",
    "        x = masking_layer(inputs)\n",
    "        for layer in Phi_layers:\n",
    "            x = layers.TimeDistributed(layer)(x)\n",
    "        x = tf.math.reduce_sum(x, axis=1)\n",
    "        for layer in F_layers:\n",
    "            x = layer(x)\n",
    "        x = last_layer(x)\n",
    "        \n",
    "        return tf.keras.Model(inputs=inputs, outputs=x)"
   ]
  },
  {
   "cell_type": "markdown",
   "id": "1ad97813-563f-4004-8870-efe774e60fcf",
   "metadata": {},
   "source": [
    "## Compile and train the model"
   ]
  },
  {
   "cell_type": "code",
   "execution_count": 25,
   "id": "f3740305-7324-4aa9-a75d-130c900055d2",
   "metadata": {},
   "outputs": [
    {
     "name": "stdout",
     "output_type": "stream",
     "text": [
      "GPU memory usage: {'current': 4305501440, 'peak': 4580220160}\n"
     ]
    }
   ],
   "source": [
    "tf.keras.backend.clear_session()\n",
    "print(f\"GPU memory usage: {tf.config.experimental.get_memory_info('GPU:0')}\")"
   ]
  },
  {
   "cell_type": "code",
   "execution_count": 26,
   "id": "e684b2cb-ce18-4876-a29b-4fe178659d95",
   "metadata": {},
   "outputs": [],
   "source": [
    "# Takes about 5 sec the first time\n",
    "# Data dimensions\n",
    "n_features = 4\n",
    "n_particles = 960\n",
    "\n",
    "model = PFN(\n",
    "    n_features=n_features,\n",
    "    n_particles=n_particles,\n",
    "    n_outputs=3,\n",
    "    Phi_sizes=[100, 100, 256],\n",
    "    F_sizes=[100, 100, 100]\n",
    ")"
   ]
  },
  {
   "cell_type": "code",
   "execution_count": 27,
   "id": "64d6615b-ccde-496b-924f-f005075d9185",
   "metadata": {
    "tags": []
   },
   "outputs": [
    {
     "name": "stdout",
     "output_type": "stream",
     "text": [
      "Model: \"model\"\n",
      "_________________________________________________________________\n",
      " Layer (type)                Output Shape              Param #   \n",
      "=================================================================\n",
      " input (InputLayer)          [(None, 960, 4)]          0         \n",
      "                                                                 \n",
      " masking (Masking)           (None, 960, 4)            0         \n",
      "                                                                 \n",
      " time_distributed (TimeDistr  (None, 960, 100)         500       \n",
      " ibuted)                                                         \n",
      "                                                                 \n",
      " time_distributed_1 (TimeDis  (None, 960, 100)         10100     \n",
      " tributed)                                                       \n",
      "                                                                 \n",
      " time_distributed_2 (TimeDis  (None, 960, 256)         25856     \n",
      " tributed)                                                       \n",
      "                                                                 \n",
      " tf.math.reduce_sum (TFOpLam  (None, 256)              0         \n",
      " bda)                                                            \n",
      "                                                                 \n",
      " F_0 (Dense)                 (None, 100)               25700     \n",
      "                                                                 \n",
      " F_1 (Dense)                 (None, 100)               10100     \n",
      "                                                                 \n",
      " F_2 (Dense)                 (None, 100)               10100     \n",
      "                                                                 \n",
      " output (Dense)              (None, 3)                 303       \n",
      "                                                                 \n",
      "=================================================================\n",
      "Total params: 82,659\n",
      "Trainable params: 82,659\n",
      "Non-trainable params: 0\n",
      "_________________________________________________________________\n"
     ]
    }
   ],
   "source": [
    "model.summary()"
   ]
  },
  {
   "cell_type": "code",
   "execution_count": 28,
   "id": "b465b5af-c447-4c40-a90b-35f83ed0140c",
   "metadata": {},
   "outputs": [],
   "source": [
    "lr = 2e-3\n",
    "\n",
    "model.compile(\n",
    "    optimizer=tf.keras.optimizers.Adam(learning_rate=lr),\n",
    "    loss=tf.keras.losses.CategoricalCrossentropy(from_logits=True),\n",
    "    metrics=[\"accuracy\"]\n",
    ")"
   ]
  },
  {
   "cell_type": "code",
   "execution_count": 29,
   "id": "f49f8749-b841-425e-9d08-e1cc86c3f046",
   "metadata": {
    "tags": []
   },
   "outputs": [
    {
     "name": "stdout",
     "output_type": "stream",
     "text": [
      "Epoch 1/15\n",
      "240/240 [==============================] - 20s 17ms/step - loss: 170.0735 - accuracy: 0.3352 - val_loss: 3.5145 - val_accuracy: 0.3190\n",
      "Epoch 2/15\n",
      "240/240 [==============================] - 4s 15ms/step - loss: 4.4072 - accuracy: 0.3366 - val_loss: 1.3383 - val_accuracy: 0.3373\n",
      "Epoch 3/15\n",
      "240/240 [==============================] - 4s 15ms/step - loss: 1.1897 - accuracy: 0.3350 - val_loss: 1.1604 - val_accuracy: 0.3373\n",
      "Epoch 4/15\n",
      "240/240 [==============================] - 4s 15ms/step - loss: 1.1545 - accuracy: 0.3447 - val_loss: 1.0983 - val_accuracy: 0.3720\n",
      "Epoch 5/15\n",
      "240/240 [==============================] - 4s 15ms/step - loss: 1.1259 - accuracy: 0.3553 - val_loss: 1.0920 - val_accuracy: 0.3820\n",
      "Epoch 6/15\n",
      "240/240 [==============================] - 4s 15ms/step - loss: 4.3271 - accuracy: 0.3418 - val_loss: 2.3040 - val_accuracy: 0.3437\n",
      "Epoch 7/15\n",
      "240/240 [==============================] - 4s 15ms/step - loss: 1.1743 - accuracy: 0.3783 - val_loss: 1.0630 - val_accuracy: 0.4133\n",
      "Epoch 8/15\n",
      "240/240 [==============================] - 4s 15ms/step - loss: 1.0572 - accuracy: 0.4175 - val_loss: 1.0421 - val_accuracy: 0.4557\n",
      "Epoch 9/15\n",
      "240/240 [==============================] - 4s 15ms/step - loss: 1.0414 - accuracy: 0.4437 - val_loss: 1.0177 - val_accuracy: 0.4600\n",
      "Epoch 10/15\n",
      "240/240 [==============================] - 4s 15ms/step - loss: 1.0224 - accuracy: 0.4584 - val_loss: 1.0012 - val_accuracy: 0.4823\n",
      "Epoch 11/15\n",
      "240/240 [==============================] - 4s 15ms/step - loss: 1.0070 - accuracy: 0.4728 - val_loss: 0.9889 - val_accuracy: 0.4893\n",
      "Epoch 12/15\n",
      "240/240 [==============================] - 4s 15ms/step - loss: 0.9860 - accuracy: 0.4912 - val_loss: 1.0664 - val_accuracy: 0.4370\n",
      "Epoch 13/15\n",
      "240/240 [==============================] - 4s 15ms/step - loss: 1.0120 - accuracy: 0.4723 - val_loss: 1.0046 - val_accuracy: 0.4660\n",
      "Epoch 14/15\n",
      "240/240 [==============================] - 4s 15ms/step - loss: 0.9958 - accuracy: 0.4807 - val_loss: 0.9968 - val_accuracy: 0.4810\n",
      "Epoch 15/15\n",
      "240/240 [==============================] - 4s 15ms/step - loss: 0.9868 - accuracy: 0.4890 - val_loss: 0.9859 - val_accuracy: 0.4877\n"
     ]
    }
   ],
   "source": [
    "history = model.fit(X_train, Y_train,\n",
    "                    epochs=15,\n",
    "                    batch_size=100,\n",
    "                    validation_data=(X_val, Y_val),\n",
    "                    verbose=1)"
   ]
  },
  {
   "cell_type": "code",
   "execution_count": null,
   "id": "29e9c62e-38b8-4f48-b6ea-24de5c4bc5de",
   "metadata": {},
   "outputs": [],
   "source": [
    "# ~5 sec\n",
    "model.save(\"/usatlas/atlas01/atlasdisk/users/atlas_wifeng/photon-jet/models/pfn/big_deep_deep_pfn_4.model\")"
   ]
  },
  {
   "cell_type": "code",
   "execution_count": 23,
   "id": "b0df962f-54b6-4971-827c-ee3cc7b04d9f",
   "metadata": {},
   "outputs": [
    {
     "data": {
      "image/png": "[encoded data removed]",
      "text/plain": [
       "<Figure size 640x480 with 1 Axes>"
      ]
     },
     "metadata": {},
     "output_type": "display_data"
    }
   ],
   "source": [
    "plt.plot(history.history['accuracy'])\n",
    "plt.plot(history.history['val_accuracy'])\n",
    "plt.title('model accuracy')\n",
    "plt.ylabel('accuracy')\n",
    "plt.xlabel('epoch')\n",
    "plt.legend(['train', 'val'], loc='upper left')\n",
    "plt.show()"
   ]
  },
  {
   "cell_type": "code",
   "execution_count": 24,
   "id": "15372908-6622-4521-a035-017c3e087c8a",
   "metadata": {},
   "outputs": [
    {
     "data": {
      "image/png": "[encoded data removed]",
      "text/plain": [
       "<Figure size 640x480 with 1 Axes>"
      ]
     },
     "metadata": {},
     "output_type": "display_data"
    }
   ],
   "source": [
    "plt.plot(history.history['loss'])\n",
    "plt.plot(history.history['val_loss'])\n",
    "plt.title('model loss')\n",
    "plt.ylabel('loss')\n",
    "plt.xlabel('epoch')\n",
    "plt.legend(['train', 'val'], loc='upper left')\n",
    "plt.show()"
   ]
  },
  {
   "cell_type": "code",
   "execution_count": null,
   "id": "90e8e442-467b-40e6-a690-27b95f2830ba",
   "metadata": {},
   "outputs": [],
   "source": [
    "# get predictions on test data\n",
    "preds = model.predict(X_test, batch_size=500)"
   ]
  },
  {
   "cell_type": "code",
   "execution_count": null,
   "id": "42b728b3-85be-4e41-bc53-54fd398fd828",
   "metadata": {},
   "outputs": [],
   "source": [
    "test_labels = np.argmax(Y_test, axis=1)\n",
    "pred_labels = np.argmax(preds, axis=1)\n",
    "\n",
    "mask = (test_labels == pred_labels).astype(float)\n",
    "print(mask)\n",
    "print(f\"Test accuracy: {mask.mean()}\")"
   ]
  },
  {
   "cell_type": "code",
   "execution_count": null,
   "id": "75014cfb-633c-4662-88d5-db730e70aaf7",
   "metadata": {},
   "outputs": [],
   "source": [
    "cm = confusion_matrix(test_labels, pred_labels).astype(float)\n",
    "cm /= np.sum(cm, axis=0, keepdims=True)\n",
    "\n",
    "disp = ConfusionMatrixDisplay(\n",
    "    confusion_matrix=cm,\n",
    "    display_labels=[\"pion\", \"photon\", \"scalar\"]\n",
    ");\n",
    "disp.plot(cmap=\"Blues\");\n",
    "\n",
    "print(f\"Total test jets: {len(test_labels)}\")"
   ]
  }
 ],
 "metadata": {
  "kernelspec": {
   "display_name": "top-tagging",
   "language": "python",
   "name": "top-tagging"
  },
  "language_info": {
   "codemirror_mode": {
    "name": "ipython",
    "version": 3
   },
   "file_extension": ".py",
   "mimetype": "text/x-python",
   "name": "python",
   "nbconvert_exporter": "python",
   "pygments_lexer": "ipython3",
   "version": "3.10.10"
  }
 },
 "nbformat": 4,
 "nbformat_minor": 5
}
