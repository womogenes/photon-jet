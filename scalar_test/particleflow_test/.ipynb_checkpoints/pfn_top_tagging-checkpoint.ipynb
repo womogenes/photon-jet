{
 "cells": [
  {
   "cell_type": "markdown",
   "id": "34435b5a-4783-46a0-ba45-e4df38e1ca17",
   "metadata": {},
   "source": [
    "# Top Tagging with Particle Flow Network\n",
    "\n",
    "Let's try this on photon jet\n",
    "\n",
    "Documentation: [Examples](https://energyflow.network/examples/), [Architectures](https://energyflow.network/docs/archs/)"
   ]
  },
  {
   "cell_type": "code",
   "execution_count": 11,
   "id": "d8a97b62-2e11-4e19-90ea-d04b9d6b440b",
   "metadata": {
    "tags": []
   },
   "outputs": [],
   "source": [
    "# Make tensorflow quieter\n",
    "# This takes up to a minute...\n",
    "import os\n",
    "os.environ[\"TF_CPP_MIN_LOG_LEVEL\"] = \"2\"\n",
    "\n",
    "# Computing imports\n",
    "import math\n",
    "import numpy as np\n",
    "import tensorflow as tf\n",
    "from sklearn.metrics import roc_auc_score, roc_curve\n",
    "\n",
    "# Useful imports\n",
    "from tqdm import tqdm\n",
    "import matplotlib.pyplot as plt\n",
    "\n",
    "# Energyflow imports\n",
    "import energyflow as ef\n",
    "from energyflow.archs import PFN\n",
    "from energyflow.utils import data_split, to_categorical"
   ]
  },
  {
   "cell_type": "code",
   "execution_count": 8,
   "id": "7813b1bf-0a2f-4495-8b3e-42aca03f6e8f",
   "metadata": {},
   "outputs": [],
   "source": [
    "# Utility functions and whatnot\n",
    "def convert_size(size_bytes):\n",
    "    if size_bytes == 0:\n",
    "        return \"0B\"\n",
    "    size_name = (\"B\", \"KB\", \"MB\", \"GB\", \"TB\", \"PB\", \"EB\", \"ZB\", \"YB\")\n",
    "    i = int(math.floor(math.log(size_bytes, 1024)))\n",
    "    p = math.pow(1024, i)\n",
    "    s = round(size_bytes / p, 2)\n",
    "    return \"%s %s\" % (s, size_name[i])\n",
    "\n",
    "\n",
    "class_labels = [\"pion\", \"photon\", \"scalar\"]"
   ]
  },
  {
   "cell_type": "code",
   "execution_count": 2,
   "id": "b4d30bf2-de7a-4c12-9482-4d2cb22f393c",
   "metadata": {},
   "outputs": [
    {
     "data": {
      "text/plain": [
       "[PhysicalDevice(name='/physical_device:GPU:0', device_type='GPU')]"
      ]
     },
     "execution_count": 2,
     "metadata": {},
     "output_type": "execute_result"
    }
   ],
   "source": [
    "# Make sure tensorflow can use the GPU\n",
    "tf.config.list_physical_devices(\"GPU\")"
   ]
  },
  {
   "cell_type": "code",
   "execution_count": 3,
   "id": "8ef2c168-fbdd-4724-adef-83209a612c2e",
   "metadata": {},
   "outputs": [],
   "source": [
    "# matplotlib settings\n",
    "plt.rcParams['font.family'] = 'serif'\n",
    "plt.rcParams['figure.autolayout'] = True"
   ]
  },
  {
   "cell_type": "markdown",
   "id": "0716902c-b262-43f9-b3ae-d8ceeae16f27",
   "metadata": {},
   "source": [
    "## Load data"
   ]
  },
  {
   "cell_type": "code",
   "execution_count": 18,
   "id": "a339c60b-726f-4b99-a664-2eba07db7cbf",
   "metadata": {},
   "outputs": [
    {
     "name": "stdout",
     "output_type": "stream",
     "text": [
      "Loaded data\n"
     ]
    }
   ],
   "source": [
    "# ~10 sec\n",
    "jets_path = \"/usatlas/atlas01/atlasdisk/users/atlas_wifeng/photon-jet/data/processed/scalar_test/all_jets_point_cloud.npz\"\n",
    "jets = dict(np.load(jets_path))\n",
    "\n",
    "X, y = jets[\"X\"], jets[\"y\"]\n",
    "Y = to_categorical(y)\n",
    "\n",
    "print(\"Loaded data\")"
   ]
  },
  {
   "cell_type": "markdown",
   "id": "207961b0-3945-4a87-b520-18a30e04d4ee",
   "metadata": {
    "tags": []
   },
   "source": [
    "### Feature information\n",
    "\n",
    "`X`: `(N, max_jet_size, 5)` 3D numpy array of floats\n",
    "* `0`: $p_T$, transverse momentum\n",
    "* `1`: $\\eta$, angular coordinate\n",
    "* `2`: $\\phi$, angular coordinate\n",
    "* `3`: $E$, energy\n",
    "* `4`: $R$, $\\sqrt{\\eta^2 + \\phi^2}$\n",
    "\n",
    "`y`: `(N, 5)` 1D numpy array of ints that are one-hot encoded\n",
    "* `0`: Gluon\n",
    "* `1`: Light quark\n",
    "* `2`: W boson\n",
    "* `3`: Z boson\n",
    "* `4`: Top quark\n"
   ]
  },
  {
   "cell_type": "code",
   "execution_count": 19,
   "id": "88b110cf-c05f-4b46-9009-96a91de68368",
   "metadata": {},
   "outputs": [
    {
     "name": "stdout",
     "output_type": "stream",
     "text": [
      "Done train/val/test split\n"
     ]
    }
   ],
   "source": [
    "# ~5 sec\n",
    "# Do train/val/test split\n",
    "n_val = 20000\n",
    "n_test = 20000\n",
    "\n",
    "(X_train, X_val, X_test,\n",
    " Y_train, Y_val, Y_test) = data_split(X, Y, val=n_val, test=n_test)\n",
    "\n",
    "print(\"Done train/val/test split\")"
   ]
  },
  {
   "cell_type": "code",
   "execution_count": 20,
   "id": "a48d060b-85dd-4a9c-b3d8-35cdc3a253ce",
   "metadata": {},
   "outputs": [
    {
     "name": "stdout",
     "output_type": "stream",
     "text": [
      "(260000, 960, 4) (260000, 3)\n"
     ]
    }
   ],
   "source": [
    "print(X_train.shape, Y_train.shape)"
   ]
  },
  {
   "cell_type": "code",
   "execution_count": 21,
   "id": "b2466bfa-81d3-4aae-91bf-056d0bc1a209",
   "metadata": {},
   "outputs": [
    {
     "name": "stdout",
     "output_type": "stream",
     "text": [
      "X_train         7.44 GB\n",
      "X_val           585.94 MB\n",
      "X_test          585.94 MB\n"
     ]
    }
   ],
   "source": [
    "for data_name, data in zip(\n",
    "    [\"X_train\", \"X_val\", \"X_test\"],\n",
    "    [X_train, X_val, X_test]\n",
    "):\n",
    "    print(data_name.ljust(15), convert_size(data.nbytes))"
   ]
  },
  {
   "cell_type": "markdown",
   "id": "76cfe5c2-1fbb-435e-98b0-b7d9a3387932",
   "metadata": {},
   "source": [
    "## Build the model"
   ]
  },
  {
   "cell_type": "code",
   "execution_count": 22,
   "id": "490dd5fe-de7b-43a9-892d-d35734171c70",
   "metadata": {},
   "outputs": [],
   "source": [
    "# Hyperparameters\n",
    "\n",
    "# Network architecture parameters\n",
    "Phi_sizes = [100, 100, 100, 256]\n",
    "F_sizes = [100, 100, 100, 100]\n",
    "\n",
    "# Network training parameters\n",
    "n_epochs = 1\n",
    "batch_size = 500"
   ]
  },
  {
   "cell_type": "code",
   "execution_count": 23,
   "id": "d003f75f-c0f5-4a24-b63c-715cb8a76d04",
   "metadata": {
    "tags": []
   },
   "outputs": [
    {
     "name": "stdout",
     "output_type": "stream",
     "text": [
      "Model: \"model_2\"\n",
      "__________________________________________________________________________________________________\n",
      " Layer (type)                   Output Shape         Param #     Connected to                     \n",
      "==================================================================================================\n",
      " input (InputLayer)             [(None, None, 4)]    0           []                               \n",
      "                                                                                                  \n",
      " tdist_0 (TimeDistributed)      (None, None, 100)    500         ['input[0][0]']                  \n",
      "                                                                                                  \n",
      " activation_18 (Activation)     (None, None, 100)    0           ['tdist_0[0][0]']                \n",
      "                                                                                                  \n",
      " tdist_1 (TimeDistributed)      (None, None, 100)    10100       ['activation_18[0][0]']          \n",
      "                                                                                                  \n",
      " activation_19 (Activation)     (None, None, 100)    0           ['tdist_1[0][0]']                \n",
      "                                                                                                  \n",
      " tdist_2 (TimeDistributed)      (None, None, 100)    10100       ['activation_19[0][0]']          \n",
      "                                                                                                  \n",
      " activation_20 (Activation)     (None, None, 100)    0           ['tdist_2[0][0]']                \n",
      "                                                                                                  \n",
      " tdist_3 (TimeDistributed)      (None, None, 256)    25856       ['activation_20[0][0]']          \n",
      "                                                                                                  \n",
      " mask (Lambda)                  (None, None)         0           ['input[0][0]']                  \n",
      "                                                                                                  \n",
      " activation_21 (Activation)     (None, None, 256)    0           ['tdist_3[0][0]']                \n",
      "                                                                                                  \n",
      " sum (Dot)                      (None, 256)          0           ['mask[0][0]',                   \n",
      "                                                                  'activation_21[0][0]']          \n",
      "                                                                                                  \n",
      " dense_0 (Dense)                (None, 100)          25700       ['sum[0][0]']                    \n",
      "                                                                                                  \n",
      " activation_22 (Activation)     (None, 100)          0           ['dense_0[0][0]']                \n",
      "                                                                                                  \n",
      " dense_1 (Dense)                (None, 100)          10100       ['activation_22[0][0]']          \n",
      "                                                                                                  \n",
      " activation_23 (Activation)     (None, 100)          0           ['dense_1[0][0]']                \n",
      "                                                                                                  \n",
      " dense_2 (Dense)                (None, 100)          10100       ['activation_23[0][0]']          \n",
      "                                                                                                  \n",
      " activation_24 (Activation)     (None, 100)          0           ['dense_2[0][0]']                \n",
      "                                                                                                  \n",
      " dense_3 (Dense)                (None, 100)          10100       ['activation_24[0][0]']          \n",
      "                                                                                                  \n",
      " activation_25 (Activation)     (None, 100)          0           ['dense_3[0][0]']                \n",
      "                                                                                                  \n",
      " output (Dense)                 (None, 3)            303         ['activation_25[0][0]']          \n",
      "                                                                                                  \n",
      " activation_26 (Activation)     (None, 3)            0           ['output[0][0]']                 \n",
      "                                                                                                  \n",
      "==================================================================================================\n",
      "Total params: 102,859\n",
      "Trainable params: 102,859\n",
      "Non-trainable params: 0\n",
      "__________________________________________________________________________________________________\n"
     ]
    }
   ],
   "source": [
    "# Might take a few seconds\n",
    "pfn = PFN(input_dim=X.shape[-1],\n",
    "          output_dim=Y.shape[-1],\n",
    "          Phi_sizes=Phi_sizes,\n",
    "          F_sizes=F_sizes)"
   ]
  },
  {
   "cell_type": "code",
   "execution_count": 24,
   "id": "e98d8dde-7a66-448b-990b-69c5f0dfacc2",
   "metadata": {
    "tags": []
   },
   "outputs": [
    {
     "name": "stdout",
     "output_type": "stream",
     "text": [
      "520/520 [==============================] - 58s 80ms/step - loss: 2843.3789 - acc: 0.3349 - val_loss: 1006.2841 - val_acc: 0.3290\n"
     ]
    },
    {
     "data": {
      "text/plain": [
       "<keras.callbacks.History at 0x2aeacf63e3b0>"
      ]
     },
     "execution_count": 24,
     "metadata": {},
     "output_type": "execute_result"
    }
   ],
   "source": [
    "# Train the model!\n",
    "pfn.fit(X_train, Y_train,\n",
    "        epochs=n_epochs,\n",
    "        batch_size=batch_size,\n",
    "        validation_data=(X_val, Y_val),\n",
    "        verbose=1)"
   ]
  },
  {
   "cell_type": "markdown",
   "id": "569241d9-56d5-406d-aae1-61e0d1c60051",
   "metadata": {},
   "source": [
    "## Evaluate model"
   ]
  },
  {
   "cell_type": "code",
   "execution_count": 25,
   "id": "fe6a6706-7611-4040-b6ad-c2f8d43d05ae",
   "metadata": {},
   "outputs": [
    {
     "name": "stdout",
     "output_type": "stream",
     "text": [
      "40/40 [==============================] - 1s 24ms/step\n"
     ]
    }
   ],
   "source": [
    "# get predictions on test data\n",
    "preds = pfn.predict(X_test, batch_size=500)"
   ]
  },
  {
   "cell_type": "code",
   "execution_count": 26,
   "id": "f6d86911-20fd-40f2-9735-360a13c5affe",
   "metadata": {},
   "outputs": [],
   "source": [
    "test_labels = np.argmax(Y_test, axis=1)\n",
    "pred_labels = np.argmax(preds, axis=1)"
   ]
  },
  {
   "cell_type": "code",
   "execution_count": 27,
   "id": "7526439c-e46b-4712-a1d2-8bbeef700a1c",
   "metadata": {},
   "outputs": [
    {
     "name": "stdout",
     "output_type": "stream",
     "text": [
      "[0. 0. 0. ... 1. 0. 1.]\n",
      "Test accuracy: 0.33625\n"
     ]
    }
   ],
   "source": [
    "mask = (test_labels == pred_labels).astype(float)\n",
    "print(mask)\n",
    "print(f\"Test accuracy: {mask.mean()}\")"
   ]
  }
 ],
 "metadata": {
  "kernelspec": {
   "display_name": "top-tagging",
   "language": "python",
   "name": "top-tagging"
  },
  "language_info": {
   "codemirror_mode": {
    "name": "ipython",
    "version": 3
   },
   "file_extension": ".py",
   "mimetype": "text/x-python",
   "name": "python",
   "nbconvert_exporter": "python",
   "pygments_lexer": "ipython3",
   "version": "3.10.10"
  }
 },
 "nbformat": 4,
 "nbformat_minor": 5
}
