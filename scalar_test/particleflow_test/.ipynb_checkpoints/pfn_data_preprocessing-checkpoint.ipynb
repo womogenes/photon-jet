{
 "cells": [
  {
   "cell_type": "markdown",
   "id": "c6860792-75db-42ca-ae56-2851fa879f84",
   "metadata": {},
   "source": [
    "# Particle flow network data preprocessing\n",
    "\n",
    "For photon jet task. Goal is to turn all the images into point clouds.\n",
    "\n",
    "May 13: Just do all 960 points."
   ]
  },
  {
   "cell_type": "code",
   "execution_count": 1,
   "id": "42265656-4ecd-40e0-91d3-2f7301143d12",
   "metadata": {},
   "outputs": [],
   "source": [
    "import os\n",
    "import time\n",
    "import h5py\n",
    "import numpy as np\n",
    "import math\n",
    "\n",
    "from tqdm import tqdm, trange\n",
    "from matplotlib import pyplot as plt\n",
    "from pprint import pprint"
   ]
  },
  {
   "cell_type": "markdown",
   "id": "58df2db2-ac03-48c8-88e2-3681713e8c65",
   "metadata": {},
   "source": [
    "## Grab data"
   ]
  },
  {
   "cell_type": "code",
   "execution_count": 2,
   "id": "31cb1ef0-824b-412b-b961-266b6887b661",
   "metadata": {},
   "outputs": [],
   "source": [
    "data_dir = \"/usatlas/atlas01/atlasdisk/users/atlas_wifeng/photon-jet/data/processed/scalar_test\"\n",
    "os.chdir(data_dir)"
   ]
  },
  {
   "cell_type": "code",
   "execution_count": 3,
   "id": "98c0883d-ed26-4543-96bf-43432f1f8a17",
   "metadata": {},
   "outputs": [],
   "source": [
    "raw_pions = dict(np.load(\"pi0_40-250GeV_100k.npz\"))\n",
    "raw_photons = dict(np.load(\"gamma_40-250GeV_100k.npz\"))\n",
    "raw_scalars = dict(np.load(\"scalar1_40-250GeV_100k.npz\"))"
   ]
  },
  {
   "cell_type": "code",
   "execution_count": null,
   "id": "e152e427-22a6-44cf-bd7c-56bacf3303a8",
   "metadata": {},
   "outputs": [],
   "source": []
  }
 ],
 "metadata": {
  "kernelspec": {
   "display_name": "top-tagging",
   "language": "python",
   "name": "top-tagging"
  },
  "language_info": {
   "codemirror_mode": {
    "name": "ipython",
    "version": 3
   },
   "file_extension": ".py",
   "mimetype": "text/x-python",
   "name": "python",
   "nbconvert_exporter": "python",
   "pygments_lexer": "ipython3",
   "version": "3.10.10"
  }
 },
 "nbformat": 4,
 "nbformat_minor": 5
}
