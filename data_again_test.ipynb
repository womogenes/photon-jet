{
 "cells": [
  {
   "cell_type": "code",
   "execution_count": null,
   "id": "44edf6bd-8e52-462b-88dd-d2c2dbe95ca9",
   "metadata": {},
   "outputs": [],
   "source": [
    "import tensorflow as tf\n",
    "from utils import data_dir"
   ]
  },
  {
   "cell_type": "code",
   "execution_count": null,
   "id": "5fde96ab-b958-4754-b785-b2dd8fcabf9d",
   "metadata": {},
   "outputs": [],
   "source": [
    "task_name = \"scalar1\""
   ]
  },
  {
   "cell_type": "code",
   "execution_count": null,
   "id": "0648f6d7-6194-4107-90d9-1bcce16be362",
   "metadata": {},
   "outputs": [],
   "source": [
    "model = tf.keras.Sequential([\n",
    "    tf.keras.layers.InputLayer(input_shape=(960, 4)),\n",
    "    tf.keras.layers.Flatten(),\n",
    "    tf.keras.layers.Dense(128, activation='relu'),\n",
    "    tf.keras.layers.Dense(64, activation='relu'),\n",
    "    tf.keras.layers.Dense(3, activation='linear')\n",
    "])"
   ]
  },
  {
   "cell_type": "code",
   "execution_count": null,
   "id": "db47d6fa-701d-4a61-937d-2ab6689bc79e",
   "metadata": {},
   "outputs": [],
   "source": [
    "model.compile(optimizer=tf.keras.optimizers.Adam(learning_rate=0.001),\n",
    "              loss='categorical_crossentropy',\n",
    "              metrics=['accuracy'])"
   ]
  },
  {
   "cell_type": "code",
   "execution_count": null,
   "id": "65ad0ce9-df13-4ee0-86f1-025202a90098",
   "metadata": {},
   "outputs": [],
   "source": [
    "# X_train = tf.data.Dataset.load(f\"{data_dir}/processed/tf_dataset/{task_name}/X_train\")\n",
    "# Y_train = tf.data.Dataset.load(f\"{data_dir}/processed/tf_dataset/{task_name}/Y_train\")\n",
    "\n",
    "# print(f\"{data_dir}/processed/tf_dataset/{task_name}/X_train\")"
   ]
  },
  {
   "cell_type": "code",
   "execution_count": null,
   "id": "5159575e-80a9-43f3-9a9a-b1aa8e21fed4",
   "metadata": {},
   "outputs": [],
   "source": [
    "dataset = tf.data.Dataset.load(f\"{data_dir}/test_123\")"
   ]
  },
  {
   "cell_type": "code",
   "execution_count": null,
   "id": "709cb517-39f2-4369-8698-91cd71017a6d",
   "metadata": {},
   "outputs": [],
   "source": [
    "len(dataset)"
   ]
  }
 ],
 "metadata": {
  "kernelspec": {
   "display_name": "ml",
   "language": "python",
   "name": "ml"
  },
  "language_info": {
   "codemirror_mode": {
    "name": "ipython",
    "version": 3
   },
   "file_extension": ".py",
   "mimetype": "text/x-python",
   "name": "python",
   "nbconvert_exporter": "python",
   "pygments_lexer": "ipython3",
   "version": "3.11.6"
  }
 },
 "nbformat": 4,
 "nbformat_minor": 5
}
