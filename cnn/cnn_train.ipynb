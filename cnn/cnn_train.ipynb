{
 "cells": [
  {
   "cell_type": "markdown",
   "id": "33cebaf5-5030-455d-ab20-24aed1f3f86a",
   "metadata": {},
   "source": [
    "## Imports"
   ]
  },
  {
   "cell_type": "code",
   "execution_count": 1,
   "id": "2ef67076-7559-4f10-a93d-14036f30ca7e",
   "metadata": {
    "tags": []
   },
   "outputs": [],
   "source": [
    "import sys\n",
    "import os\n",
    "import random\n",
    "import pandas as pd\n",
    "import pickle\n",
    "import numpy as np\n",
    "import matplotlib as mpl\n",
    "import matplotlib.pyplot as plt"
   ]
  },
  {
   "cell_type": "code",
   "execution_count": 2,
   "id": "803a73bb-64f1-42f5-af8a-5feee3f8ddb4",
   "metadata": {},
   "outputs": [
    {
     "name": "stdout",
     "output_type": "stream",
     "text": [
      "/usr/lib/python3.8/enum.py\n"
     ]
    }
   ],
   "source": [
    "import h5py\n",
    "from h5py import File as HDF5File\n",
    "\n",
    "import enum\n",
    "print(enum.__file__)"
   ]
  },
  {
   "cell_type": "code",
   "execution_count": 3,
   "id": "4f23a591-3271-4114-8345-f43c8aa8be8c",
   "metadata": {},
   "outputs": [
    {
     "name": "stderr",
     "output_type": "stream",
     "text": [
      "2024-01-16 05:35:23.353458: I tensorflow/core/platform/cpu_feature_guard.cc:182] This TensorFlow binary is optimized to use available CPU instructions in performance-critical operations.\n",
      "To enable the following instructions: AVX2 AVX512F FMA, in other operations, rebuild TensorFlow with the appropriate compiler flags.\n",
      "2024-01-16 05:35:24.013049: W tensorflow/compiler/tf2tensorrt/utils/py_utils.cc:38] TF-TRT Warning: Could not find TensorRT\n"
     ]
    }
   ],
   "source": [
    "# Oh boy this might take a while\n",
    "import tensorflow as tf\n",
    "from tensorflow import keras\n",
    "\n",
    "from keras.layers import Lambda, Input\n",
    "from keras.layers import Dropout, Flatten, Dense\n",
    "import keras.backend as K\n",
    "from keras.models import Sequential, Model \n",
    "from keras.layers import Conv2D\n",
    "from keras.layers import MaxPooling2D\n",
    "from keras.layers import concatenate"
   ]
  },
  {
   "cell_type": "code",
   "execution_count": 4,
   "id": "563b5db4-197c-40dd-8332-ab0506451f66",
   "metadata": {},
   "outputs": [],
   "source": [
    "import yaml\n",
    "with open(\"../config.yaml\") as fin:\n",
    "    config = yaml.safe_load(fin)\n",
    "    data_dir = config[\"data_dir\"]\n",
    "    model_dir = config[\"model_dir\"]\n",
    "    output_dir = config[\"output_dir\"]"
   ]
  },
  {
   "cell_type": "code",
   "execution_count": 5,
   "id": "bd11e0a5-ef74-492e-8e49-7c6b5dfc0d9d",
   "metadata": {},
   "outputs": [],
   "source": [
    "task_name = \"scalar1\""
   ]
  },
  {
   "cell_type": "markdown",
   "id": "573ad61a-f923-4d11-96e4-e294fcf34024",
   "metadata": {},
   "source": [
    "## Loading data\n",
    "\n",
    "See `cnn/data.py`."
   ]
  },
  {
   "cell_type": "code",
   "execution_count": 6,
   "id": "d544b7c1-1bac-4d26-b299-da38bb2c8f6a",
   "metadata": {},
   "outputs": [],
   "source": [
    "with open(f\"{data_dir}/processed/cnn/{task_name}_X_train.pkl\", \"rb\") as fin:\n",
    "    X_train = pickle.load(fin)\n",
    "with open(f\"{data_dir}/processed/cnn/{task_name}_Y_train.pkl\", \"rb\") as fin:\n",
    "    Y_train = pickle.load(fin)\n",
    "with open(f\"{data_dir}/processed/cnn/{task_name}_X_test.pkl\", \"rb\") as fin:\n",
    "    X_test = pickle.load(fin)\n",
    "with open(f\"{data_dir}/processed/cnn/{task_name}_Y_test.pkl\", \"rb\") as fin:\n",
    "    Y_test = pickle.load(fin)"
   ]
  },
  {
   "cell_type": "code",
   "execution_count": 7,
   "id": "f9d4976f-11ac-441c-9cd5-878fc95ae10a",
   "metadata": {},
   "outputs": [
    {
     "name": "stdout",
     "output_type": "stream",
     "text": [
      "Training shapes:\n",
      "  inputs: (21000, 4, 16, 1) (21000, 4, 128, 1)\n",
      "  labels: (21000,)\n"
     ]
    }
   ],
   "source": [
    "print(\"Training shapes:\")\n",
    "print(\"  inputs:\", X_train[0].shape, X_train[1].shape)\n",
    "print(\"  labels:\", Y_train.shape)"
   ]
  },
  {
   "cell_type": "markdown",
   "id": "3d4d2d82-e3a8-4f2c-879a-c8c5355ef8cd",
   "metadata": {
    "tags": []
   },
   "source": [
    "## Build the model"
   ]
  },
  {
   "cell_type": "code",
   "execution_count": 8,
   "id": "c3296f20-fa0a-493e-beeb-2ae3d9975982",
   "metadata": {},
   "outputs": [
    {
     "name": "stdout",
     "output_type": "stream",
     "text": [
      "cov11.shape (None, 4, 16, 32)\n",
      "pool1.shape (None, 2, 8, 32)\n",
      "cov12.shape (None, 2, 8, 16)\n",
      "pool2.shape (None, 1, 4, 16)\n"
     ]
    },
    {
     "name": "stderr",
     "output_type": "stream",
     "text": [
      "2024-01-16 05:35:25.849965: I tensorflow/core/common_runtime/gpu/gpu_device.cc:1639] Created device /job:localhost/replica:0/task:0/device:GPU:0 with 9804 MB memory:  -> device: 0, name: NVIDIA GeForce RTX 2080 Ti, pci bus id: 0000:89:00.0, compute capability: 7.5\n",
      "2024-01-16 05:35:25.851970: I tensorflow/core/common_runtime/gpu/gpu_device.cc:1639] Created device /job:localhost/replica:0/task:0/device:GPU:1 with 9804 MB memory:  -> device: 1, name: NVIDIA GeForce RTX 2080 Ti, pci bus id: 0000:b1:00.0, compute capability: 7.5\n",
      "2024-01-16 05:35:25.853730: I tensorflow/core/common_runtime/gpu/gpu_device.cc:1639] Created device /job:localhost/replica:0/task:0/device:GPU:2 with 9804 MB memory:  -> device: 2, name: NVIDIA GeForce RTX 2080 Ti, pci bus id: 0000:b2:00.0, compute capability: 7.5\n"
     ]
    }
   ],
   "source": [
    "visible1 = Input(shape=(4, 16, 1))\n",
    "conv11 = Conv2D(32, kernel_size=4, activation='relu', padding='same')(visible1)\n",
    "pool11 = MaxPooling2D(pool_size=(2, 2))(conv11)\n",
    "conv12 = Conv2D(16, kernel_size=4, activation='relu', padding='same')(pool11)\n",
    "pool12 = MaxPooling2D(pool_size=(2, 2))(conv12)\n",
    "flat1 = Flatten()(pool12)\n",
    "print ('cov11.shape', conv11.shape)\n",
    "print ('pool1.shape', pool11.shape)\n",
    "print ('cov12.shape', conv12.shape)\n",
    "print ('pool2.shape', pool12.shape)"
   ]
  },
  {
   "cell_type": "code",
   "execution_count": 9,
   "id": "77a83536-f4cb-486c-b6f5-caec7213392d",
   "metadata": {},
   "outputs": [
    {
     "name": "stdout",
     "output_type": "stream",
     "text": [
      "cov21.shape (None, 4, 128, 32)\n",
      "poo21.shape (None, 2, 64, 32)\n",
      "cov22.shape (None, 2, 64, 16)\n",
      "poo22.shape (None, 1, 32, 16)\n"
     ]
    }
   ],
   "source": [
    "visible2 = Input(shape=(4, 128, 1))\n",
    "conv21 = Conv2D(32, kernel_size=4, activation='relu', padding='same')(visible2)\n",
    "pool21 = MaxPooling2D(pool_size=(2, 2))(conv21)\n",
    "conv22 = Conv2D(16, kernel_size=4, activation='relu', padding='same')(pool21)\n",
    "pool22 = MaxPooling2D(pool_size=(2, 2))(conv22)\n",
    "flat2 = Flatten()(pool22)\n",
    "print ('cov21.shape', conv21.shape)\n",
    "print ('poo21.shape', pool21.shape)\n",
    "print ('cov22.shape', conv22.shape)\n",
    "print ('poo22.shape', pool22.shape)"
   ]
  },
  {
   "cell_type": "code",
   "execution_count": 10,
   "id": "5302363f-e35f-4924-bb6a-7556d5c965ff",
   "metadata": {},
   "outputs": [
    {
     "name": "stdout",
     "output_type": "stream",
     "text": [
      "cov31.shape (None, 16, 16, 32)\n",
      "poo31.shape (None, 8, 8, 32)\n",
      "cov32.shape (None, 8, 8, 16)\n",
      "poo32.shape (None, 4, 4, 16)\n"
     ]
    }
   ],
   "source": [
    "visible3 = Input(shape=(16, 16, 1))\n",
    "conv31 = Conv2D(32, kernel_size=4, activation='relu', padding='same')(visible3)\n",
    "pool31 = MaxPooling2D(pool_size=(2, 2))(conv31)\n",
    "conv32 = Conv2D(16, kernel_size=4, activation='relu', padding='same')(pool31)\n",
    "pool32 = MaxPooling2D(pool_size=(2, 2))(conv32)\n",
    "flat3 = Flatten()(pool32)\n",
    "print ('cov31.shape', conv31.shape)\n",
    "print ('poo31.shape', pool31.shape)\n",
    "print ('cov32.shape', conv32.shape)\n",
    "print ('poo32.shape', pool32.shape)"
   ]
  },
  {
   "cell_type": "code",
   "execution_count": 11,
   "id": "b7c22390-3d6a-4107-84b7-139084cdcd87",
   "metadata": {},
   "outputs": [
    {
     "name": "stdout",
     "output_type": "stream",
     "text": [
      "cov41.shape (None, 16, 8, 32)\n",
      "poo41.shape (None, 8, 4, 32)\n",
      "cov42.shape (None, 8, 4, 16)\n",
      "poo42.shape (None, 4, 2, 16)\n"
     ]
    }
   ],
   "source": [
    "visible4 = Input(shape=(16, 8, 1))\n",
    "conv41 = Conv2D(32, kernel_size=4, activation='relu', padding='same')(visible4)\n",
    "pool41 = MaxPooling2D(pool_size=(2, 2))(conv41)\n",
    "conv42 = Conv2D(16, kernel_size=4, activation='relu', padding='same')(pool41)\n",
    "pool42 = MaxPooling2D(pool_size=(2, 2))(conv42)\n",
    "flat4 = Flatten()(pool32)\n",
    "print ('cov41.shape', conv41.shape)\n",
    "print ('poo41.shape', pool41.shape)\n",
    "print ('cov42.shape', conv42.shape)\n",
    "print ('poo42.shape', pool42.shape)"
   ]
  },
  {
   "cell_type": "code",
   "execution_count": 12,
   "id": "1e73c23c-a649-4883-a6a3-70a984907366",
   "metadata": {},
   "outputs": [],
   "source": [
    "merge = concatenate([flat1, flat2, flat3, flat4])"
   ]
  },
  {
   "cell_type": "code",
   "execution_count": 13,
   "id": "44af81bc-60e9-45df-bcfc-c2c1bc23087a",
   "metadata": {},
   "outputs": [],
   "source": [
    "# interpretation model\n",
    "hidden1 = Dense(20, activation='relu')(merge)\n",
    "hidden2 = Dense(20, activation='relu')(hidden1)\n",
    "output = Dense(3)(hidden2)\n",
    "cnn = Model(inputs=[visible1, visible2, visible3, visible4], outputs=output)"
   ]
  },
  {
   "cell_type": "code",
   "execution_count": 14,
   "id": "6894db83-2f69-4fae-81cc-cce1df7f1dc4",
   "metadata": {
    "scrolled": true
   },
   "outputs": [],
   "source": [
    "# summarize layers\n",
    "# print(cnn.summary())"
   ]
  },
  {
   "cell_type": "code",
   "execution_count": 15,
   "id": "6f150176-4120-4ff8-ada4-a8bfc0b0e300",
   "metadata": {},
   "outputs": [
    {
     "data": {
      "text/plain": [
       "[<KerasTensor: shape=(None, 4, 16, 1) dtype=float32 (created by layer 'input_1')>,\n",
       " <KerasTensor: shape=(None, 4, 128, 1) dtype=float32 (created by layer 'input_2')>,\n",
       " <KerasTensor: shape=(None, 16, 16, 1) dtype=float32 (created by layer 'input_3')>,\n",
       " <KerasTensor: shape=(None, 16, 8, 1) dtype=float32 (created by layer 'input_4')>]"
      ]
     },
     "execution_count": 15,
     "metadata": {},
     "output_type": "execute_result"
    }
   ],
   "source": [
    "cnn.inputs"
   ]
  },
  {
   "cell_type": "markdown",
   "id": "67c58e1e-c3a5-4f28-aa3c-decbeb3e9d72",
   "metadata": {},
   "source": [
    "## Train the model"
   ]
  },
  {
   "cell_type": "code",
   "execution_count": 16,
   "id": "d21c1d6c-5a4a-49e0-a1be-822b81b9f1ad",
   "metadata": {},
   "outputs": [],
   "source": [
    "def train_iteration(lr, epochs):\n",
    "    print(f\"=== Training with lr={lr} for {epochs} epochs ===\")\n",
    "    cnn.compile(\n",
    "        optimizer=tf.keras.optimizers.Adam(learning_rate=lr),\n",
    "        loss=tf.keras.losses.SparseCategoricalCrossentropy(from_logits=True),\n",
    "        metrics=[\"accuracy\"]\n",
    "    )\n",
    "    return cnn.fit(\n",
    "        X_train, Y_train,\n",
    "        epochs=epochs, batch_size=128,\n",
    "        validation_data=(X_test, Y_test),\n",
    "    )"
   ]
  },
  {
   "cell_type": "code",
   "execution_count": 17,
   "id": "7ba0b06f-785d-4744-b99b-b7d511f9d564",
   "metadata": {},
   "outputs": [
    {
     "name": "stdout",
     "output_type": "stream",
     "text": [
      "=== Training with lr=0.01 for 5 epochs ===\n",
      "Epoch 1/5\n"
     ]
    },
    {
     "name": "stderr",
     "output_type": "stream",
     "text": [
      "2024-01-16 05:35:30.935574: I tensorflow/compiler/xla/stream_executor/cuda/cuda_dnn.cc:432] Loaded cuDNN version 8700\n",
      "2024-01-16 05:35:31.113067: I tensorflow/tsl/platform/default/subprocess.cc:304] Start cannot spawn child process: No such file or directory\n",
      "2024-01-16 05:35:31.471815: I tensorflow/compiler/xla/service/service.cc:168] XLA service 0x7f5c5dcc86b0 initialized for platform CUDA (this does not guarantee that XLA will be used). Devices:\n",
      "2024-01-16 05:35:31.471900: I tensorflow/compiler/xla/service/service.cc:176]   StreamExecutor device (0): NVIDIA GeForce RTX 2080 Ti, Compute Capability 7.5\n",
      "2024-01-16 05:35:31.471929: I tensorflow/compiler/xla/service/service.cc:176]   StreamExecutor device (1): NVIDIA GeForce RTX 2080 Ti, Compute Capability 7.5\n",
      "2024-01-16 05:35:31.471954: I tensorflow/compiler/xla/service/service.cc:176]   StreamExecutor device (2): NVIDIA GeForce RTX 2080 Ti, Compute Capability 7.5\n",
      "2024-01-16 05:35:31.479375: I tensorflow/compiler/mlir/tensorflow/utils/dump_mlir_util.cc:255] disabling MLIR crash reproducer, set env var `MLIR_CRASH_REPRODUCER_DIRECTORY` to enable.\n",
      "2024-01-16 05:35:31.563350: I tensorflow/tsl/platform/default/subprocess.cc:304] Start cannot spawn child process: No such file or directory\n",
      "2024-01-16 05:35:31.691270: I ./tensorflow/compiler/jit/device_compiler.h:186] Compiled cluster using XLA!  This line is logged at most once for the lifetime of the process.\n"
     ]
    },
    {
     "name": "stdout",
     "output_type": "stream",
     "text": [
      "165/165 [==============================] - 8s 17ms/step - loss: 86.4752 - accuracy: 0.7807 - val_loss: 0.1879 - val_accuracy: 0.9421\n",
      "Epoch 2/5\n",
      "165/165 [==============================] - 1s 8ms/step - loss: 0.1277 - accuracy: 0.9600 - val_loss: 0.1378 - val_accuracy: 0.9590\n",
      "Epoch 3/5\n",
      "165/165 [==============================] - 1s 6ms/step - loss: 0.0928 - accuracy: 0.9709 - val_loss: 0.0827 - val_accuracy: 0.9737\n",
      "Epoch 4/5\n",
      "165/165 [==============================] - 1s 7ms/step - loss: 0.0801 - accuracy: 0.9737 - val_loss: 0.2748 - val_accuracy: 0.8833\n",
      "Epoch 5/5\n",
      "165/165 [==============================] - 1s 8ms/step - loss: 0.0952 - accuracy: 0.9707 - val_loss: 0.0941 - val_accuracy: 0.9704\n"
     ]
    },
    {
     "data": {
      "text/plain": [
       "<keras.src.callbacks.History at 0x7f62bcdfa5e0>"
      ]
     },
     "execution_count": 17,
     "metadata": {},
     "output_type": "execute_result"
    }
   ],
   "source": [
    "train_iteration(lr=1e-2, epochs=5)"
   ]
  },
  {
   "cell_type": "code",
   "execution_count": 18,
   "id": "384a7efc-c00c-419a-aac5-cf0fde65904f",
   "metadata": {},
   "outputs": [
    {
     "name": "stdout",
     "output_type": "stream",
     "text": [
      "=== Training with lr=0.002 for 5 epochs ===\n",
      "Epoch 1/5\n",
      "165/165 [==============================] - 5s 13ms/step - loss: 0.2273 - accuracy: 0.9471 - val_loss: 0.1085 - val_accuracy: 0.9658\n",
      "Epoch 2/5\n",
      "165/165 [==============================] - 2s 10ms/step - loss: 0.0825 - accuracy: 0.9725 - val_loss: 0.0930 - val_accuracy: 0.9725\n",
      "Epoch 3/5\n",
      "165/165 [==============================] - 2s 10ms/step - loss: 0.0769 - accuracy: 0.9754 - val_loss: 0.0918 - val_accuracy: 0.9718\n",
      "Epoch 4/5\n",
      "165/165 [==============================] - 2s 10ms/step - loss: 0.0701 - accuracy: 0.9773 - val_loss: 0.1127 - val_accuracy: 0.9681\n",
      "Epoch 5/5\n",
      "165/165 [==============================] - 2s 11ms/step - loss: 0.0737 - accuracy: 0.9756 - val_loss: 0.0829 - val_accuracy: 0.9748\n"
     ]
    },
    {
     "data": {
      "text/plain": [
       "<keras.src.callbacks.History at 0x7f62900d2c40>"
      ]
     },
     "execution_count": 18,
     "metadata": {},
     "output_type": "execute_result"
    }
   ],
   "source": [
    "train_iteration(lr=2e-3, epochs=5)"
   ]
  },
  {
   "cell_type": "code",
   "execution_count": 19,
   "id": "53dc0ba1-475b-417b-b7cd-b4cdc39e7f4a",
   "metadata": {},
   "outputs": [
    {
     "name": "stdout",
     "output_type": "stream",
     "text": [
      "=== Training with lr=0.001 for 5 epochs ===\n",
      "Epoch 1/5\n",
      "165/165 [==============================] - 5s 16ms/step - loss: 0.0598 - accuracy: 0.9819 - val_loss: 0.0753 - val_accuracy: 0.9778\n",
      "Epoch 2/5\n",
      "165/165 [==============================] - 2s 9ms/step - loss: 0.0493 - accuracy: 0.9835 - val_loss: 0.0635 - val_accuracy: 0.9802\n",
      "Epoch 3/5\n",
      "165/165 [==============================] - 2s 10ms/step - loss: 0.0531 - accuracy: 0.9836 - val_loss: 0.0681 - val_accuracy: 0.9795\n",
      "Epoch 4/5\n",
      "165/165 [==============================] - 2s 11ms/step - loss: 0.0489 - accuracy: 0.9846 - val_loss: 0.0650 - val_accuracy: 0.9793\n",
      "Epoch 5/5\n",
      "165/165 [==============================] - 2s 11ms/step - loss: 0.0430 - accuracy: 0.9865 - val_loss: 0.0639 - val_accuracy: 0.9819\n"
     ]
    },
    {
     "data": {
      "text/plain": [
       "<keras.src.callbacks.History at 0x7f621033af40>"
      ]
     },
     "execution_count": 19,
     "metadata": {},
     "output_type": "execute_result"
    }
   ],
   "source": [
    "train_iteration(lr=1e-3, epochs=5)"
   ]
  },
  {
   "cell_type": "code",
   "execution_count": 20,
   "id": "95ab6382-ec39-4634-9d6e-cb283c6917fa",
   "metadata": {},
   "outputs": [
    {
     "name": "stdout",
     "output_type": "stream",
     "text": [
      "=== Training with lr=0.0002 for 5 epochs ===\n",
      "Epoch 1/5\n",
      "165/165 [==============================] - 5s 14ms/step - loss: 0.0321 - accuracy: 0.9904 - val_loss: 0.0562 - val_accuracy: 0.9836\n",
      "Epoch 2/5\n",
      "165/165 [==============================] - 2s 10ms/step - loss: 0.0297 - accuracy: 0.9912 - val_loss: 0.0568 - val_accuracy: 0.9833\n",
      "Epoch 3/5\n",
      "165/165 [==============================] - 2s 10ms/step - loss: 0.0280 - accuracy: 0.9918 - val_loss: 0.0525 - val_accuracy: 0.9846\n",
      "Epoch 4/5\n",
      "165/165 [==============================] - 2s 11ms/step - loss: 0.0269 - accuracy: 0.9919 - val_loss: 0.0599 - val_accuracy: 0.9830\n",
      "Epoch 5/5\n",
      "165/165 [==============================] - 2s 11ms/step - loss: 0.0264 - accuracy: 0.9922 - val_loss: 0.0532 - val_accuracy: 0.9850\n"
     ]
    },
    {
     "data": {
      "text/plain": [
       "<keras.src.callbacks.History at 0x7f61d46d0c10>"
      ]
     },
     "execution_count": 20,
     "metadata": {},
     "output_type": "execute_result"
    }
   ],
   "source": [
    "train_iteration(lr=2e-4, epochs=5)"
   ]
  },
  {
   "cell_type": "code",
   "execution_count": 21,
   "id": "1be83608-53b6-40e4-a7c0-6796fb9c4937",
   "metadata": {},
   "outputs": [
    {
     "name": "stdout",
     "output_type": "stream",
     "text": [
      "=== Training with lr=2e-05 for 30 epochs ===\n",
      "Epoch 1/30\n",
      "165/165 [==============================] - 5s 16ms/step - loss: 0.0232 - accuracy: 0.9934 - val_loss: 0.0524 - val_accuracy: 0.9853\n",
      "Epoch 2/30\n",
      "165/165 [==============================] - 2s 10ms/step - loss: 0.0227 - accuracy: 0.9935 - val_loss: 0.0523 - val_accuracy: 0.9854\n",
      "Epoch 3/30\n",
      "165/165 [==============================] - 2s 11ms/step - loss: 0.0224 - accuracy: 0.9935 - val_loss: 0.0527 - val_accuracy: 0.9853\n",
      "Epoch 4/30\n",
      "165/165 [==============================] - 2s 10ms/step - loss: 0.0223 - accuracy: 0.9933 - val_loss: 0.0525 - val_accuracy: 0.9856\n",
      "Epoch 5/30\n",
      "165/165 [==============================] - 2s 10ms/step - loss: 0.0222 - accuracy: 0.9936 - val_loss: 0.0528 - val_accuracy: 0.9852\n",
      "Epoch 6/30\n",
      "165/165 [==============================] - 2s 11ms/step - loss: 0.0220 - accuracy: 0.9937 - val_loss: 0.0526 - val_accuracy: 0.9854\n",
      "Epoch 7/30\n",
      "165/165 [==============================] - 2s 11ms/step - loss: 0.0220 - accuracy: 0.9936 - val_loss: 0.0526 - val_accuracy: 0.9856\n",
      "Epoch 8/30\n",
      "165/165 [==============================] - 2s 10ms/step - loss: 0.0218 - accuracy: 0.9938 - val_loss: 0.0526 - val_accuracy: 0.9856\n",
      "Epoch 9/30\n",
      "165/165 [==============================] - 1s 9ms/step - loss: 0.0216 - accuracy: 0.9937 - val_loss: 0.0526 - val_accuracy: 0.9854\n",
      "Epoch 10/30\n",
      "165/165 [==============================] - 1s 8ms/step - loss: 0.0215 - accuracy: 0.9939 - val_loss: 0.0528 - val_accuracy: 0.9853\n",
      "Epoch 11/30\n",
      "165/165 [==============================] - 1s 7ms/step - loss: 0.0214 - accuracy: 0.9939 - val_loss: 0.0536 - val_accuracy: 0.9851\n",
      "Epoch 12/30\n",
      "165/165 [==============================] - 1s 7ms/step - loss: 0.0214 - accuracy: 0.9938 - val_loss: 0.0531 - val_accuracy: 0.9854\n",
      "Epoch 13/30\n",
      "165/165 [==============================] - 1s 7ms/step - loss: 0.0213 - accuracy: 0.9940 - val_loss: 0.0531 - val_accuracy: 0.9855\n",
      "Epoch 14/30\n",
      "165/165 [==============================] - 1s 7ms/step - loss: 0.0212 - accuracy: 0.9938 - val_loss: 0.0533 - val_accuracy: 0.9854\n",
      "Epoch 15/30\n",
      "165/165 [==============================] - 1s 7ms/step - loss: 0.0210 - accuracy: 0.9938 - val_loss: 0.0534 - val_accuracy: 0.9853\n",
      "Epoch 16/30\n",
      "165/165 [==============================] - 1s 8ms/step - loss: 0.0208 - accuracy: 0.9939 - val_loss: 0.0526 - val_accuracy: 0.9852\n",
      "Epoch 17/30\n",
      "165/165 [==============================] - 1s 8ms/step - loss: 0.0208 - accuracy: 0.9938 - val_loss: 0.0527 - val_accuracy: 0.9856\n",
      "Epoch 18/30\n",
      "165/165 [==============================] - 1s 8ms/step - loss: 0.0207 - accuracy: 0.9940 - val_loss: 0.0528 - val_accuracy: 0.9856\n",
      "Epoch 19/30\n",
      "165/165 [==============================] - 1s 8ms/step - loss: 0.0206 - accuracy: 0.9941 - val_loss: 0.0536 - val_accuracy: 0.9852\n",
      "Epoch 20/30\n",
      "165/165 [==============================] - 1s 7ms/step - loss: 0.0204 - accuracy: 0.9940 - val_loss: 0.0529 - val_accuracy: 0.9851\n",
      "Epoch 21/30\n",
      "165/165 [==============================] - 1s 8ms/step - loss: 0.0202 - accuracy: 0.9943 - val_loss: 0.0535 - val_accuracy: 0.9854\n",
      "Epoch 22/30\n",
      "165/165 [==============================] - 1s 9ms/step - loss: 0.0201 - accuracy: 0.9943 - val_loss: 0.0531 - val_accuracy: 0.9852\n",
      "Epoch 23/30\n",
      "165/165 [==============================] - 2s 10ms/step - loss: 0.0200 - accuracy: 0.9944 - val_loss: 0.0544 - val_accuracy: 0.9849\n",
      "Epoch 24/30\n",
      "165/165 [==============================] - 2s 11ms/step - loss: 0.0200 - accuracy: 0.9944 - val_loss: 0.0535 - val_accuracy: 0.9851\n",
      "Epoch 25/30\n",
      "165/165 [==============================] - 2s 10ms/step - loss: 0.0199 - accuracy: 0.9944 - val_loss: 0.0532 - val_accuracy: 0.9851\n",
      "Epoch 26/30\n",
      "165/165 [==============================] - 1s 9ms/step - loss: 0.0197 - accuracy: 0.9944 - val_loss: 0.0540 - val_accuracy: 0.9851\n",
      "Epoch 27/30\n",
      "165/165 [==============================] - 1s 9ms/step - loss: 0.0197 - accuracy: 0.9942 - val_loss: 0.0537 - val_accuracy: 0.9854\n",
      "Epoch 28/30\n",
      "165/165 [==============================] - 1s 6ms/step - loss: 0.0196 - accuracy: 0.9944 - val_loss: 0.0539 - val_accuracy: 0.9852\n",
      "Epoch 29/30\n",
      "165/165 [==============================] - 1s 6ms/step - loss: 0.0195 - accuracy: 0.9946 - val_loss: 0.0537 - val_accuracy: 0.9853\n",
      "Epoch 30/30\n",
      "165/165 [==============================] - 1s 6ms/step - loss: 0.0193 - accuracy: 0.9947 - val_loss: 0.0538 - val_accuracy: 0.9852\n"
     ]
    },
    {
     "data": {
      "text/plain": [
       "<keras.src.callbacks.History at 0x7f61d4362820>"
      ]
     },
     "execution_count": 21,
     "metadata": {},
     "output_type": "execute_result"
    }
   ],
   "source": [
    "train_iteration(lr=2e-5, epochs=30)"
   ]
  },
  {
   "cell_type": "code",
   "execution_count": 22,
   "id": "1753a887-a6a2-45c8-8c66-d133c11e6d5f",
   "metadata": {},
   "outputs": [
    {
     "name": "stdout",
     "output_type": "stream",
     "text": [
      "=== Training with lr=1e-05 for 10 epochs ===\n",
      "Epoch 1/10\n",
      "165/165 [==============================] - 5s 14ms/step - loss: 0.0191 - accuracy: 0.9947 - val_loss: 0.0536 - val_accuracy: 0.9850\n",
      "Epoch 2/10\n",
      "165/165 [==============================] - 2s 10ms/step - loss: 0.0191 - accuracy: 0.9947 - val_loss: 0.0537 - val_accuracy: 0.9852\n",
      "Epoch 3/10\n",
      "165/165 [==============================] - 1s 9ms/step - loss: 0.0191 - accuracy: 0.9947 - val_loss: 0.0541 - val_accuracy: 0.9853\n",
      "Epoch 4/10\n",
      "165/165 [==============================] - 2s 10ms/step - loss: 0.0190 - accuracy: 0.9949 - val_loss: 0.0538 - val_accuracy: 0.9853\n",
      "Epoch 5/10\n",
      "165/165 [==============================] - 1s 8ms/step - loss: 0.0189 - accuracy: 0.9948 - val_loss: 0.0536 - val_accuracy: 0.9852\n",
      "Epoch 6/10\n",
      "165/165 [==============================] - 1s 7ms/step - loss: 0.0189 - accuracy: 0.9948 - val_loss: 0.0540 - val_accuracy: 0.9852\n",
      "Epoch 7/10\n",
      "165/165 [==============================] - 1s 6ms/step - loss: 0.0188 - accuracy: 0.9949 - val_loss: 0.0540 - val_accuracy: 0.9853\n",
      "Epoch 8/10\n",
      "165/165 [==============================] - 1s 7ms/step - loss: 0.0188 - accuracy: 0.9950 - val_loss: 0.0540 - val_accuracy: 0.9852\n",
      "Epoch 9/10\n",
      "165/165 [==============================] - 1s 6ms/step - loss: 0.0188 - accuracy: 0.9950 - val_loss: 0.0542 - val_accuracy: 0.9852\n",
      "Epoch 10/10\n",
      "165/165 [==============================] - 1s 7ms/step - loss: 0.0187 - accuracy: 0.9949 - val_loss: 0.0542 - val_accuracy: 0.9851\n"
     ]
    },
    {
     "data": {
      "text/plain": [
       "<keras.src.callbacks.History at 0x7f61d420eaf0>"
      ]
     },
     "execution_count": 22,
     "metadata": {},
     "output_type": "execute_result"
    }
   ],
   "source": [
    "train_iteration(lr=1e-5, epochs=10)"
   ]
  },
  {
   "cell_type": "code",
   "execution_count": null,
   "id": "4e3d6a9e-88bd-4647-bb9a-fae1a3495471",
   "metadata": {},
   "outputs": [],
   "source": [
    "# Save this model\n",
    "os.makedirs(f\"{model_dir}\", exist_ok=True)\n",
    "\n",
    "print(f\"task name: {task_name}\")\n",
    "cnn.save(f\"{model_dir}/{task_name}_cnn\")"
   ]
  }
 ],
 "metadata": {
  "kernelspec": {
   "display_name": "Python 3 (ipykernel)",
   "language": "python",
   "name": "python3"
  },
  "language_info": {
   "codemirror_mode": {
    "name": "ipython",
    "version": 3
   },
   "file_extension": ".py",
   "mimetype": "text/x-python",
   "name": "python",
   "nbconvert_exporter": "python",
   "pygments_lexer": "ipython3",
   "version": "3.8.10"
  }
 },
 "nbformat": 4,
 "nbformat_minor": 5
}
