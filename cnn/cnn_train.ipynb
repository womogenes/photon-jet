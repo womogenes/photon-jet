{
 "cells": [
  {
   "cell_type": "markdown",
   "id": "33cebaf5-5030-455d-ab20-24aed1f3f86a",
   "metadata": {},
   "source": [
    "## Imports"
   ]
  },
  {
   "cell_type": "code",
   "execution_count": 1,
   "id": "2ef67076-7559-4f10-a93d-14036f30ca7e",
   "metadata": {
    "tags": []
   },
   "outputs": [],
   "source": [
    "import sys\n",
    "import os\n",
    "import random\n",
    "import pandas as pd\n",
    "import numpy as np\n",
    "import matplotlib as mpl\n",
    "import matplotlib.pyplot as plt"
   ]
  },
  {
   "cell_type": "code",
   "execution_count": 2,
   "id": "803a73bb-64f1-42f5-af8a-5feee3f8ddb4",
   "metadata": {},
   "outputs": [
    {
     "name": "stdout",
     "output_type": "stream",
     "text": [
      "/usatlas/atlas01/atlasdisk/users/atlas_wifeng/sw/miniconda/envs/top-tagging/lib/python3.10/enum.py\n"
     ]
    }
   ],
   "source": [
    "import h5py\n",
    "from h5py import File as HDF5File\n",
    "\n",
    "import enum\n",
    "print(enum.__file__)"
   ]
  },
  {
   "cell_type": "code",
   "execution_count": 3,
   "id": "4f23a591-3271-4114-8345-f43c8aa8be8c",
   "metadata": {},
   "outputs": [
    {
     "name": "stderr",
     "output_type": "stream",
     "text": [
      "2023-08-23 04:25:03.559314: I tensorflow/core/platform/cpu_feature_guard.cc:182] This TensorFlow binary is optimized to use available CPU instructions in performance-critical operations.\n",
      "To enable the following instructions: AVX2 FMA, in other operations, rebuild TensorFlow with the appropriate compiler flags.\n",
      "2023-08-23 04:25:05.423623: W tensorflow/compiler/tf2tensorrt/utils/py_utils.cc:38] TF-TRT Warning: Could not find TensorRT\n"
     ]
    }
   ],
   "source": [
    "# Oh boy this might take a while\n",
    "import tensorflow as tf\n",
    "from tensorflow import keras\n",
    "\n",
    "from keras.layers import Lambda, Input\n",
    "from keras.layers import Dropout, Flatten, Dense\n",
    "import keras.backend as K\n",
    "from keras.models import Sequential, Model \n",
    "from keras.layers import Conv2D\n",
    "from keras.layers import MaxPooling2D\n",
    "from keras.layers import concatenate"
   ]
  },
  {
   "cell_type": "code",
   "execution_count": 4,
   "id": "563b5db4-197c-40dd-8332-ab0506451f66",
   "metadata": {},
   "outputs": [],
   "source": [
    "import yaml\n",
    "with open(\"../config.yaml\") as fin:\n",
    "    config = yaml.safe_load(fin)\n",
    "    data_dir = config[\"data_dir\"]\n",
    "    model_dir = config[\"model_dir\"]\n",
    "    output_dir = config[\"output_dir\"]"
   ]
  },
  {
   "cell_type": "code",
   "execution_count": 5,
   "id": "bd11e0a5-ef74-492e-8e49-7c6b5dfc0d9d",
   "metadata": {},
   "outputs": [],
   "source": [
    "task_name = \"axion1\""
   ]
  },
  {
   "cell_type": "markdown",
   "id": "573ad61a-f923-4d11-96e4-e294fcf34024",
   "metadata": {},
   "source": [
    "## Loading data\n",
    "\n",
    "See `cnn/data.py`."
   ]
  },
  {
   "cell_type": "code",
   "execution_count": 6,
   "id": "d544b7c1-1bac-4d26-b299-da38bb2c8f6a",
   "metadata": {},
   "outputs": [
    {
     "name": "stdout",
     "output_type": "stream",
     "text": [
      "load_data from datafile /usatlas/atlas01/atlasdisk/users/atlas_wifeng/photon-jet/data/h5/pi0_40-250GeV_100k.h5\n",
      "load_data from datafile /usatlas/atlas01/atlasdisk/users/atlas_wifeng/photon-jet/data/h5/gamma_40-250GeV_100k.h5\n",
      "load_data from datafile /usatlas/atlas01/atlasdisk/users/atlas_wifeng/photon-jet/data/h5/axion1_40-250GeV_100k.h5\n"
     ]
    }
   ],
   "source": [
    "from data import load_data\n",
    "X_train, Y_train, X_test, Y_test = load_data(task_name)"
   ]
  },
  {
   "cell_type": "code",
   "execution_count": 7,
   "id": "f9d4976f-11ac-441c-9cd5-878fc95ae10a",
   "metadata": {},
   "outputs": [
    {
     "name": "stdout",
     "output_type": "stream",
     "text": [
      "Training shapes:\n",
      "  inputs: (210000, 4, 16, 1) (210000, 4, 128, 1)\n",
      "  labels: (210000,)\n"
     ]
    }
   ],
   "source": [
    "print(\"Training shapes:\")\n",
    "print(\"  inputs:\", X_train[0].shape, X_train[1].shape)\n",
    "print(\"  labels:\", Y_train.shape)"
   ]
  },
  {
   "cell_type": "markdown",
   "id": "3d4d2d82-e3a8-4f2c-879a-c8c5355ef8cd",
   "metadata": {
    "tags": []
   },
   "source": [
    "## Build the model"
   ]
  },
  {
   "cell_type": "code",
   "execution_count": 8,
   "id": "c3296f20-fa0a-493e-beeb-2ae3d9975982",
   "metadata": {},
   "outputs": [
    {
     "name": "stderr",
     "output_type": "stream",
     "text": [
      "2023-08-23 04:25:13.798971: I tensorflow/core/common_runtime/gpu/gpu_device.cc:1635] Created device /job:localhost/replica:0/task:0/device:GPU:0 with 15363 MB memory:  -> device: 0, name: Tesla P100-PCIE-16GB, pci bus id: 0000:81:00.0, compute capability: 6.0\n"
     ]
    },
    {
     "name": "stdout",
     "output_type": "stream",
     "text": [
      "cov11.shape (None, 4, 16, 32)\n",
      "pool1.shape (None, 2, 8, 32)\n",
      "cov12.shape (None, 2, 8, 16)\n",
      "pool2.shape (None, 1, 4, 16)\n"
     ]
    }
   ],
   "source": [
    "visible1 = Input(shape=(4, 16, 1))\n",
    "conv11 = Conv2D(32, kernel_size=4, activation='relu', padding='same')(visible1)\n",
    "pool11 = MaxPooling2D(pool_size=(2, 2))(conv11)\n",
    "conv12 = Conv2D(16, kernel_size=4, activation='relu', padding='same')(pool11)\n",
    "pool12 = MaxPooling2D(pool_size=(2, 2))(conv12)\n",
    "flat1 = Flatten()(pool12)\n",
    "print ('cov11.shape', conv11.shape)\n",
    "print ('pool1.shape', pool11.shape)\n",
    "print ('cov12.shape', conv12.shape)\n",
    "print ('pool2.shape', pool12.shape)"
   ]
  },
  {
   "cell_type": "code",
   "execution_count": 9,
   "id": "77a83536-f4cb-486c-b6f5-caec7213392d",
   "metadata": {},
   "outputs": [
    {
     "name": "stdout",
     "output_type": "stream",
     "text": [
      "cov21.shape (None, 4, 128, 32)\n",
      "poo21.shape (None, 2, 64, 32)\n",
      "cov22.shape (None, 2, 64, 16)\n",
      "poo22.shape (None, 1, 32, 16)\n"
     ]
    }
   ],
   "source": [
    "visible2 = Input(shape=(4, 128, 1))\n",
    "conv21 = Conv2D(32, kernel_size=4, activation='relu', padding='same')(visible2)\n",
    "pool21 = MaxPooling2D(pool_size=(2, 2))(conv21)\n",
    "conv22 = Conv2D(16, kernel_size=4, activation='relu', padding='same')(pool21)\n",
    "pool22 = MaxPooling2D(pool_size=(2, 2))(conv22)\n",
    "flat2 = Flatten()(pool22)\n",
    "print ('cov21.shape', conv21.shape)\n",
    "print ('poo21.shape', pool21.shape)\n",
    "print ('cov22.shape', conv22.shape)\n",
    "print ('poo22.shape', pool22.shape)"
   ]
  },
  {
   "cell_type": "code",
   "execution_count": 10,
   "id": "1e73c23c-a649-4883-a6a3-70a984907366",
   "metadata": {},
   "outputs": [],
   "source": [
    "merge = concatenate([flat1, flat2])"
   ]
  },
  {
   "cell_type": "code",
   "execution_count": 11,
   "id": "44af81bc-60e9-45df-bcfc-c2c1bc23087a",
   "metadata": {},
   "outputs": [],
   "source": [
    "# interpretation model\n",
    "hidden1 = Dense(10, activation='relu')(merge)\n",
    "hidden2 = Dense(10, activation='relu')(hidden1)\n",
    "output = Dense(3, activation='sigmoid')(hidden2)\n",
    "cnn = Model(inputs=[visible1, visible2], outputs=output)\n",
    "\n",
    "cnn.compile(loss='sparse_categorical_crossentropy', optimizer='adam', metrics=['acc'])"
   ]
  },
  {
   "cell_type": "code",
   "execution_count": 12,
   "id": "6894db83-2f69-4fae-81cc-cce1df7f1dc4",
   "metadata": {},
   "outputs": [
    {
     "name": "stdout",
     "output_type": "stream",
     "text": [
      "Model: \"model\"\n",
      "__________________________________________________________________________________________________\n",
      " Layer (type)                   Output Shape         Param #     Connected to                     \n",
      "==================================================================================================\n",
      " input_1 (InputLayer)           [(None, 4, 16, 1)]   0           []                               \n",
      "                                                                                                  \n",
      " input_2 (InputLayer)           [(None, 4, 128, 1)]  0           []                               \n",
      "                                                                                                  \n",
      " conv2d (Conv2D)                (None, 4, 16, 32)    544         ['input_1[0][0]']                \n",
      "                                                                                                  \n",
      " conv2d_2 (Conv2D)              (None, 4, 128, 32)   544         ['input_2[0][0]']                \n",
      "                                                                                                  \n",
      " max_pooling2d (MaxPooling2D)   (None, 2, 8, 32)     0           ['conv2d[0][0]']                 \n",
      "                                                                                                  \n",
      " max_pooling2d_2 (MaxPooling2D)  (None, 2, 64, 32)   0           ['conv2d_2[0][0]']               \n",
      "                                                                                                  \n",
      " conv2d_1 (Conv2D)              (None, 2, 8, 16)     8208        ['max_pooling2d[0][0]']          \n",
      "                                                                                                  \n",
      " conv2d_3 (Conv2D)              (None, 2, 64, 16)    8208        ['max_pooling2d_2[0][0]']        \n",
      "                                                                                                  \n",
      " max_pooling2d_1 (MaxPooling2D)  (None, 1, 4, 16)    0           ['conv2d_1[0][0]']               \n",
      "                                                                                                  \n",
      " max_pooling2d_3 (MaxPooling2D)  (None, 1, 32, 16)   0           ['conv2d_3[0][0]']               \n",
      "                                                                                                  \n",
      " flatten (Flatten)              (None, 64)           0           ['max_pooling2d_1[0][0]']        \n",
      "                                                                                                  \n",
      " flatten_1 (Flatten)            (None, 512)          0           ['max_pooling2d_3[0][0]']        \n",
      "                                                                                                  \n",
      " concatenate (Concatenate)      (None, 576)          0           ['flatten[0][0]',                \n",
      "                                                                  'flatten_1[0][0]']              \n",
      "                                                                                                  \n",
      " dense (Dense)                  (None, 10)           5770        ['concatenate[0][0]']            \n",
      "                                                                                                  \n",
      " dense_1 (Dense)                (None, 10)           110         ['dense[0][0]']                  \n",
      "                                                                                                  \n",
      " dense_2 (Dense)                (None, 3)            33          ['dense_1[0][0]']                \n",
      "                                                                                                  \n",
      "==================================================================================================\n",
      "Total params: 23,417\n",
      "Trainable params: 23,417\n",
      "Non-trainable params: 0\n",
      "__________________________________________________________________________________________________\n",
      "None\n"
     ]
    }
   ],
   "source": [
    "# summarize layers\n",
    "print(cnn.summary())"
   ]
  },
  {
   "cell_type": "markdown",
   "id": "67c58e1e-c3a5-4f28-aa3c-decbeb3e9d72",
   "metadata": {},
   "source": [
    "## Train the model"
   ]
  },
  {
   "cell_type": "code",
   "execution_count": 13,
   "id": "a053bc97-b180-4064-8006-3f4ce44cd7f1",
   "metadata": {
    "tags": []
   },
   "outputs": [
    {
     "name": "stdout",
     "output_type": "stream",
     "text": [
      "Epoch 1/50\n"
     ]
    },
    {
     "name": "stderr",
     "output_type": "stream",
     "text": [
      "2023-08-23 04:25:16.396178: I tensorflow/compiler/xla/stream_executor/cuda/cuda_dnn.cc:424] Loaded cuDNN version 8600\n",
      "2023-08-23 04:25:17.096094: I tensorflow/compiler/xla/service/service.cc:169] XLA service 0x2ad9cb965b10 initialized for platform CUDA (this does not guarantee that XLA will be used). Devices:\n",
      "2023-08-23 04:25:17.096133: I tensorflow/compiler/xla/service/service.cc:177]   StreamExecutor device (0): Tesla P100-PCIE-16GB, Compute Capability 6.0\n",
      "2023-08-23 04:25:17.101798: I tensorflow/compiler/mlir/tensorflow/utils/dump_mlir_util.cc:269] disabling MLIR crash reproducer, set env var `MLIR_CRASH_REPRODUCER_DIRECTORY` to enable.\n",
      "2023-08-23 04:25:17.331323: I ./tensorflow/compiler/jit/device_compiler.h:180] Compiled cluster using XLA!  This line is logged at most once for the lifetime of the process.\n"
     ]
    },
    {
     "name": "stdout",
     "output_type": "stream",
     "text": [
      "2100/2100 [==============================] - 15s 5ms/step - loss: 0.3982 - acc: 0.8649 - val_loss: 0.1356 - val_acc: 0.9547\n",
      "Epoch 2/50\n",
      "2100/2100 [==============================] - 10s 5ms/step - loss: 0.1117 - acc: 0.9651 - val_loss: 0.0911 - val_acc: 0.9719\n",
      "Epoch 3/50\n",
      "2100/2100 [==============================] - 10s 5ms/step - loss: 0.0916 - acc: 0.9718 - val_loss: 0.0871 - val_acc: 0.9735\n",
      "Epoch 4/50\n",
      "2100/2100 [==============================] - 10s 5ms/step - loss: 0.0823 - acc: 0.9744 - val_loss: 0.0703 - val_acc: 0.9784\n",
      "Epoch 5/50\n",
      "2100/2100 [==============================] - 10s 5ms/step - loss: 0.0770 - acc: 0.9761 - val_loss: 0.0713 - val_acc: 0.9775\n",
      "Epoch 6/50\n",
      "2100/2100 [==============================] - 10s 5ms/step - loss: 0.0723 - acc: 0.9778 - val_loss: 0.0670 - val_acc: 0.9785\n",
      "Epoch 7/50\n",
      "2100/2100 [==============================] - 10s 5ms/step - loss: 0.0680 - acc: 0.9788 - val_loss: 0.0740 - val_acc: 0.9774\n",
      "Epoch 8/50\n",
      "2100/2100 [==============================] - 10s 5ms/step - loss: 0.0658 - acc: 0.9795 - val_loss: 0.0758 - val_acc: 0.9753\n",
      "Epoch 9/50\n",
      "2100/2100 [==============================] - 12s 6ms/step - loss: 0.0625 - acc: 0.9810 - val_loss: 0.0595 - val_acc: 0.9818\n",
      "Epoch 10/50\n",
      "2100/2100 [==============================] - 14s 7ms/step - loss: 0.0598 - acc: 0.9818 - val_loss: 0.0572 - val_acc: 0.9825\n",
      "Epoch 11/50\n",
      "2100/2100 [==============================] - 12s 6ms/step - loss: 0.0577 - acc: 0.9822 - val_loss: 0.0691 - val_acc: 0.9791\n",
      "Epoch 12/50\n",
      "2100/2100 [==============================] - 15s 7ms/step - loss: 0.0564 - acc: 0.9828 - val_loss: 0.0568 - val_acc: 0.9828\n",
      "Epoch 13/50\n",
      "2100/2100 [==============================] - 12s 6ms/step - loss: 0.0542 - acc: 0.9836 - val_loss: 0.0596 - val_acc: 0.9808\n",
      "Epoch 14/50\n",
      "2100/2100 [==============================] - 10s 5ms/step - loss: 0.0529 - acc: 0.9837 - val_loss: 0.0564 - val_acc: 0.9822\n",
      "Epoch 15/50\n",
      "2100/2100 [==============================] - 17s 8ms/step - loss: 0.0518 - acc: 0.9842 - val_loss: 0.0527 - val_acc: 0.9835\n",
      "Epoch 16/50\n",
      "2100/2100 [==============================] - 13s 6ms/step - loss: 0.0500 - acc: 0.9847 - val_loss: 0.0556 - val_acc: 0.9830\n",
      "Epoch 17/50\n",
      "2100/2100 [==============================] - 11s 5ms/step - loss: 0.0497 - acc: 0.9851 - val_loss: 0.0529 - val_acc: 0.9840\n",
      "Epoch 18/50\n",
      "2100/2100 [==============================] - 14s 6ms/step - loss: 0.0473 - acc: 0.9858 - val_loss: 0.0543 - val_acc: 0.9841\n",
      "Epoch 19/50\n",
      "2100/2100 [==============================] - 10s 5ms/step - loss: 0.0469 - acc: 0.9860 - val_loss: 0.0509 - val_acc: 0.9854\n",
      "Epoch 20/50\n",
      "2100/2100 [==============================] - 10s 5ms/step - loss: 0.0459 - acc: 0.9861 - val_loss: 0.0533 - val_acc: 0.9842\n",
      "Epoch 21/50\n",
      "2100/2100 [==============================] - 10s 5ms/step - loss: 0.0445 - acc: 0.9865 - val_loss: 0.0544 - val_acc: 0.9842\n",
      "Epoch 22/50\n",
      "2100/2100 [==============================] - 10s 5ms/step - loss: 0.0442 - acc: 0.9868 - val_loss: 0.0546 - val_acc: 0.9848\n",
      "Epoch 23/50\n",
      "2100/2100 [==============================] - 10s 5ms/step - loss: 0.0443 - acc: 0.9865 - val_loss: 0.0499 - val_acc: 0.9846\n",
      "Epoch 24/50\n",
      "2100/2100 [==============================] - 10s 5ms/step - loss: 0.0434 - acc: 0.9868 - val_loss: 0.0474 - val_acc: 0.9862\n",
      "Epoch 25/50\n",
      "2100/2100 [==============================] - 10s 5ms/step - loss: 0.0414 - acc: 0.9875 - val_loss: 0.0537 - val_acc: 0.9837\n",
      "Epoch 26/50\n",
      "2100/2100 [==============================] - 10s 5ms/step - loss: 0.0414 - acc: 0.9876 - val_loss: 0.0558 - val_acc: 0.9825\n",
      "Epoch 27/50\n",
      "2100/2100 [==============================] - 10s 5ms/step - loss: 0.0402 - acc: 0.9877 - val_loss: 0.0514 - val_acc: 0.9856\n",
      "Epoch 28/50\n",
      "2100/2100 [==============================] - 10s 5ms/step - loss: 0.0402 - acc: 0.9878 - val_loss: 0.0485 - val_acc: 0.9859\n",
      "Epoch 29/50\n",
      "2100/2100 [==============================] - 10s 5ms/step - loss: 0.0387 - acc: 0.9884 - val_loss: 0.0458 - val_acc: 0.9872\n",
      "Epoch 30/50\n",
      "2100/2100 [==============================] - 10s 5ms/step - loss: 0.0389 - acc: 0.9883 - val_loss: 0.0490 - val_acc: 0.9857\n",
      "Epoch 31/50\n",
      "2100/2100 [==============================] - 10s 5ms/step - loss: 0.0373 - acc: 0.9886 - val_loss: 0.0494 - val_acc: 0.9861\n",
      "Epoch 32/50\n",
      "2100/2100 [==============================] - 10s 5ms/step - loss: 0.0386 - acc: 0.9885 - val_loss: 0.0471 - val_acc: 0.9862\n",
      "Epoch 33/50\n",
      "2100/2100 [==============================] - 10s 5ms/step - loss: 0.0365 - acc: 0.9889 - val_loss: 0.0481 - val_acc: 0.9868\n",
      "Epoch 34/50\n",
      "2100/2100 [==============================] - 10s 5ms/step - loss: 0.0363 - acc: 0.9890 - val_loss: 0.0520 - val_acc: 0.9848\n",
      "Epoch 35/50\n",
      "2100/2100 [==============================] - 10s 5ms/step - loss: 0.0349 - acc: 0.9894 - val_loss: 0.0487 - val_acc: 0.9866\n",
      "Epoch 36/50\n",
      "2100/2100 [==============================] - 10s 5ms/step - loss: 0.0359 - acc: 0.9892 - val_loss: 0.0567 - val_acc: 0.9834\n",
      "Epoch 37/50\n",
      "2100/2100 [==============================] - 10s 5ms/step - loss: 0.0347 - acc: 0.9894 - val_loss: 0.0507 - val_acc: 0.9860\n",
      "Epoch 38/50\n",
      "2100/2100 [==============================] - 10s 5ms/step - loss: 0.0339 - acc: 0.9897 - val_loss: 0.0638 - val_acc: 0.9818\n",
      "Epoch 39/50\n",
      "2100/2100 [==============================] - 10s 5ms/step - loss: 0.0336 - acc: 0.9898 - val_loss: 0.0502 - val_acc: 0.9865\n",
      "Epoch 40/50\n",
      "2100/2100 [==============================] - 10s 5ms/step - loss: 0.0336 - acc: 0.9901 - val_loss: 0.0473 - val_acc: 0.9873\n",
      "Epoch 41/50\n",
      "2100/2100 [==============================] - 10s 5ms/step - loss: 0.0331 - acc: 0.9899 - val_loss: 0.0485 - val_acc: 0.9868\n",
      "Epoch 42/50\n",
      "2100/2100 [==============================] - 10s 5ms/step - loss: 0.0321 - acc: 0.9901 - val_loss: 0.0488 - val_acc: 0.9864\n",
      "Epoch 43/50\n",
      "2100/2100 [==============================] - 10s 5ms/step - loss: 0.0316 - acc: 0.9903 - val_loss: 0.0556 - val_acc: 0.9841\n",
      "Epoch 44/50\n",
      "2100/2100 [==============================] - 10s 5ms/step - loss: 0.0311 - acc: 0.9906 - val_loss: 0.0482 - val_acc: 0.9870\n",
      "Epoch 45/50\n",
      "2100/2100 [==============================] - 10s 5ms/step - loss: 0.0313 - acc: 0.9905 - val_loss: 0.0506 - val_acc: 0.9858\n",
      "Epoch 46/50\n",
      "2100/2100 [==============================] - 10s 5ms/step - loss: 0.0315 - acc: 0.9905 - val_loss: 0.0635 - val_acc: 0.9823\n",
      "Epoch 47/50\n",
      "2100/2100 [==============================] - 10s 5ms/step - loss: 0.0299 - acc: 0.9909 - val_loss: 0.0470 - val_acc: 0.9870\n",
      "Epoch 48/50\n",
      "2100/2100 [==============================] - 10s 5ms/step - loss: 0.0311 - acc: 0.9906 - val_loss: 0.0479 - val_acc: 0.9878\n",
      "Epoch 49/50\n",
      "2100/2100 [==============================] - 10s 5ms/step - loss: 0.0310 - acc: 0.9908 - val_loss: 0.0501 - val_acc: 0.9871\n",
      "Epoch 50/50\n",
      "2100/2100 [==============================] - 10s 5ms/step - loss: 0.0291 - acc: 0.9912 - val_loss: 0.0516 - val_acc: 0.9866\n"
     ]
    }
   ],
   "source": [
    "# Takes about 10 min to train 50 epochs. Reaches >99% accuracy!\n",
    "history = cnn.fit(\n",
    "    X_train, Y_train,\n",
    "    epochs=50, batch_size=100,\n",
    "    validation_data=(X_test, Y_test),\n",
    ")"
   ]
  },
  {
   "cell_type": "code",
   "execution_count": 14,
   "id": "4e3d6a9e-88bd-4647-bb9a-fae1a3495471",
   "metadata": {},
   "outputs": [
    {
     "name": "stdout",
     "output_type": "stream",
     "text": [
      "task name: axion1\n"
     ]
    },
    {
     "name": "stderr",
     "output_type": "stream",
     "text": [
      "WARNING:absl:Found untraced functions such as _jit_compiled_convolution_op, _jit_compiled_convolution_op, _jit_compiled_convolution_op, _jit_compiled_convolution_op while saving (showing 4 of 4). These functions will not be directly callable after loading.\n"
     ]
    },
    {
     "name": "stdout",
     "output_type": "stream",
     "text": [
      "INFO:tensorflow:Assets written to: /usatlas/atlas01/atlasdisk/users/atlas_wifeng/photon-jet/models_v2.1/cnn/axion1_cnn/assets\n"
     ]
    },
    {
     "name": "stderr",
     "output_type": "stream",
     "text": [
      "INFO:tensorflow:Assets written to: /usatlas/atlas01/atlasdisk/users/atlas_wifeng/photon-jet/models_v2.1/cnn/axion1_cnn/assets\n"
     ]
    }
   ],
   "source": [
    "# Save this model\n",
    "os.makedirs(f\"{model_dir}/cnn\", exist_ok=True)\n",
    "\n",
    "print(f\"task name: {task_name}\")\n",
    "cnn.save(f\"{model_dir}/cnn/{task_name}_cnn\")"
   ]
  },
  {
   "cell_type": "code",
   "execution_count": 15,
   "id": "87a2003b-b6a3-4729-8d6b-3b119aba2f65",
   "metadata": {},
   "outputs": [],
   "source": [
    "import json\n",
    "\n",
    "os.makedirs(f\"{output_dir}/cnn\", exist_ok=True)\n",
    "with open(f\"{output_dir}/cnn/{task_name}_train_history.json\", \"w\") as fout:\n",
    "    json.dump({\n",
    "        key: history.history[key] for key in [\"loss\", \"val_loss\", \"acc\", \"val_acc\"]\n",
    "    }, fout)"
   ]
  },
  {
   "cell_type": "code",
   "execution_count": null,
   "id": "4c9013af-59a4-4b33-8059-c6b14b4b23a8",
   "metadata": {},
   "outputs": [],
   "source": []
  }
 ],
 "metadata": {
  "kernelspec": {
   "display_name": "top-tagging",
   "language": "python",
   "name": "top-tagging"
  },
  "language_info": {
   "codemirror_mode": {
    "name": "ipython",
    "version": 3
   },
   "file_extension": ".py",
   "mimetype": "text/x-python",
   "name": "python",
   "nbconvert_exporter": "python",
   "pygments_lexer": "ipython3",
   "version": "3.10.10"
  }
 },
 "nbformat": 4,
 "nbformat_minor": 5
}
