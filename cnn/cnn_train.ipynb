{
 "cells": [
  {
   "cell_type": "markdown",
   "id": "33cebaf5-5030-455d-ab20-24aed1f3f86a",
   "metadata": {},
   "source": [
    "## Imports"
   ]
  },
  {
   "cell_type": "code",
   "execution_count": 1,
   "id": "2ef67076-7559-4f10-a93d-14036f30ca7e",
   "metadata": {
    "tags": []
   },
   "outputs": [],
   "source": [
    "import sys\n",
    "import os\n",
    "import random\n",
    "import pandas as pd\n",
    "import pickle\n",
    "import numpy as np\n",
    "import matplotlib as mpl\n",
    "import matplotlib.pyplot as plt"
   ]
  },
  {
   "cell_type": "code",
   "execution_count": 2,
   "id": "803a73bb-64f1-42f5-af8a-5feee3f8ddb4",
   "metadata": {},
   "outputs": [
    {
     "name": "stdout",
     "output_type": "stream",
     "text": [
      "/usr/lib/python3.8/enum.py\n"
     ]
    }
   ],
   "source": [
    "import h5py\n",
    "from h5py import File as HDF5File\n",
    "\n",
    "import enum\n",
    "print(enum.__file__)"
   ]
  },
  {
   "cell_type": "code",
   "execution_count": 3,
   "id": "4f23a591-3271-4114-8345-f43c8aa8be8c",
   "metadata": {},
   "outputs": [
    {
     "name": "stderr",
     "output_type": "stream",
     "text": [
      "2024-01-21 05:00:46.218130: I tensorflow/core/platform/cpu_feature_guard.cc:182] This TensorFlow binary is optimized to use available CPU instructions in performance-critical operations.\n",
      "To enable the following instructions: AVX2 AVX512F FMA, in other operations, rebuild TensorFlow with the appropriate compiler flags.\n",
      "2024-01-21 05:00:47.082453: W tensorflow/compiler/tf2tensorrt/utils/py_utils.cc:38] TF-TRT Warning: Could not find TensorRT\n"
     ]
    }
   ],
   "source": [
    "# Oh boy this might take a while\n",
    "import tensorflow as tf\n",
    "from tensorflow import keras\n",
    "\n",
    "from keras.layers import Lambda, Input\n",
    "from keras.layers import Dropout, Flatten, Dense\n",
    "import keras.backend as K\n",
    "from keras.models import Sequential, Model \n",
    "from keras.layers import Conv2D\n",
    "from keras.layers import MaxPooling2D\n",
    "from keras.layers import concatenate"
   ]
  },
  {
   "cell_type": "code",
   "execution_count": 4,
   "id": "563b5db4-197c-40dd-8332-ab0506451f66",
   "metadata": {},
   "outputs": [],
   "source": [
    "import yaml\n",
    "with open(\"../config.yaml\") as fin:\n",
    "    config = yaml.safe_load(fin)\n",
    "    data_dir = config[\"data_dir\"]\n",
    "    model_dir = config[\"model_dir\"]\n",
    "    output_dir = config[\"output_dir\"]"
   ]
  },
  {
   "cell_type": "code",
   "execution_count": 46,
   "id": "bd11e0a5-ef74-492e-8e49-7c6b5dfc0d9d",
   "metadata": {},
   "outputs": [],
   "source": [
    "task_name = \"axion2\""
   ]
  },
  {
   "cell_type": "markdown",
   "id": "573ad61a-f923-4d11-96e4-e294fcf34024",
   "metadata": {},
   "source": [
    "## Loading data\n",
    "\n",
    "See `cnn/data.py`."
   ]
  },
  {
   "cell_type": "code",
   "execution_count": 47,
   "id": "d544b7c1-1bac-4d26-b299-da38bb2c8f6a",
   "metadata": {},
   "outputs": [],
   "source": [
    "with open(f\"{data_dir}/processed/cnn/{task_name}_X_train.pkl\", \"rb\") as fin:\n",
    "    X_train = pickle.load(fin)\n",
    "with open(f\"{data_dir}/processed/cnn/{task_name}_Y_train.pkl\", \"rb\") as fin:\n",
    "    Y_train = pickle.load(fin)\n",
    "with open(f\"{data_dir}/processed/cnn/{task_name}_X_test.pkl\", \"rb\") as fin:\n",
    "    X_test = pickle.load(fin)\n",
    "with open(f\"{data_dir}/processed/cnn/{task_name}_Y_test.pkl\", \"rb\") as fin:\n",
    "    Y_test = pickle.load(fin)"
   ]
  },
  {
   "cell_type": "code",
   "execution_count": 48,
   "id": "f9d4976f-11ac-441c-9cd5-878fc95ae10a",
   "metadata": {},
   "outputs": [
    {
     "name": "stdout",
     "output_type": "stream",
     "text": [
      "Training shapes:\n",
      "  inputs: (210000, 4, 16, 1) (210000, 4, 128, 1)\n",
      "  labels: (210000,)\n"
     ]
    }
   ],
   "source": [
    "print(\"Training shapes:\")\n",
    "print(\"  inputs:\", X_train[0].shape, X_train[1].shape)\n",
    "print(\"  labels:\", Y_train.shape)"
   ]
  },
  {
   "cell_type": "markdown",
   "id": "3d4d2d82-e3a8-4f2c-879a-c8c5355ef8cd",
   "metadata": {
    "tags": []
   },
   "source": [
    "## Build the model"
   ]
  },
  {
   "cell_type": "code",
   "execution_count": 8,
   "id": "c3296f20-fa0a-493e-beeb-2ae3d9975982",
   "metadata": {},
   "outputs": [
    {
     "name": "stdout",
     "output_type": "stream",
     "text": [
      "cov11.shape (None, 4, 16, 32)\n",
      "pool1.shape (None, 2, 8, 32)\n",
      "cov12.shape (None, 2, 8, 16)\n",
      "pool2.shape (None, 1, 4, 16)\n"
     ]
    },
    {
     "name": "stderr",
     "output_type": "stream",
     "text": [
      "2024-01-21 05:00:50.327136: I tensorflow/core/common_runtime/gpu/gpu_device.cc:1639] Created device /job:localhost/replica:0/task:0/device:GPU:0 with 9804 MB memory:  -> device: 0, name: NVIDIA GeForce RTX 2080 Ti, pci bus id: 0000:1a:00.0, compute capability: 7.5\n",
      "2024-01-21 05:00:50.328471: I tensorflow/core/common_runtime/gpu/gpu_device.cc:1639] Created device /job:localhost/replica:0/task:0/device:GPU:1 with 9804 MB memory:  -> device: 1, name: NVIDIA GeForce RTX 2080 Ti, pci bus id: 0000:1b:00.0, compute capability: 7.5\n",
      "2024-01-21 05:00:50.329352: I tensorflow/core/common_runtime/gpu/gpu_device.cc:1639] Created device /job:localhost/replica:0/task:0/device:GPU:2 with 9804 MB memory:  -> device: 2, name: NVIDIA GeForce RTX 2080 Ti, pci bus id: 0000:3d:00.0, compute capability: 7.5\n",
      "2024-01-21 05:00:50.330202: I tensorflow/core/common_runtime/gpu/gpu_device.cc:1639] Created device /job:localhost/replica:0/task:0/device:GPU:3 with 9804 MB memory:  -> device: 3, name: NVIDIA GeForce RTX 2080 Ti, pci bus id: 0000:3e:00.0, compute capability: 7.5\n"
     ]
    }
   ],
   "source": [
    "visible1 = Input(shape=(4, 16, 1))\n",
    "conv11 = Conv2D(32, kernel_size=4, activation='relu', padding='same')(visible1)\n",
    "pool11 = MaxPooling2D(pool_size=(2, 2))(conv11)\n",
    "conv12 = Conv2D(16, kernel_size=4, activation='relu', padding='same')(pool11)\n",
    "pool12 = MaxPooling2D(pool_size=(2, 2))(conv12)\n",
    "flat1 = Flatten()(pool12)\n",
    "print ('cov11.shape', conv11.shape)\n",
    "print ('pool1.shape', pool11.shape)\n",
    "print ('cov12.shape', conv12.shape)\n",
    "print ('pool2.shape', pool12.shape)"
   ]
  },
  {
   "cell_type": "code",
   "execution_count": 9,
   "id": "77a83536-f4cb-486c-b6f5-caec7213392d",
   "metadata": {},
   "outputs": [
    {
     "name": "stdout",
     "output_type": "stream",
     "text": [
      "cov21.shape (None, 4, 128, 32)\n",
      "poo21.shape (None, 2, 64, 32)\n",
      "cov22.shape (None, 2, 64, 16)\n",
      "poo22.shape (None, 1, 32, 16)\n"
     ]
    }
   ],
   "source": [
    "visible2 = Input(shape=(4, 128, 1))\n",
    "conv21 = Conv2D(32, kernel_size=4, activation='relu', padding='same')(visible2)\n",
    "pool21 = MaxPooling2D(pool_size=(2, 2))(conv21)\n",
    "conv22 = Conv2D(16, kernel_size=4, activation='relu', padding='same')(pool21)\n",
    "pool22 = MaxPooling2D(pool_size=(2, 2))(conv22)\n",
    "flat2 = Flatten()(pool22)\n",
    "print ('cov21.shape', conv21.shape)\n",
    "print ('poo21.shape', pool21.shape)\n",
    "print ('cov22.shape', conv22.shape)\n",
    "print ('poo22.shape', pool22.shape)"
   ]
  },
  {
   "cell_type": "code",
   "execution_count": 10,
   "id": "5302363f-e35f-4924-bb6a-7556d5c965ff",
   "metadata": {},
   "outputs": [
    {
     "name": "stdout",
     "output_type": "stream",
     "text": [
      "cov31.shape (None, 16, 16, 32)\n",
      "poo31.shape (None, 8, 8, 32)\n",
      "cov32.shape (None, 8, 8, 16)\n",
      "poo32.shape (None, 4, 4, 16)\n"
     ]
    }
   ],
   "source": [
    "visible3 = Input(shape=(16, 16, 1))\n",
    "conv31 = Conv2D(32, kernel_size=4, activation='relu', padding='same')(visible3)\n",
    "pool31 = MaxPooling2D(pool_size=(2, 2))(conv31)\n",
    "conv32 = Conv2D(16, kernel_size=4, activation='relu', padding='same')(pool31)\n",
    "pool32 = MaxPooling2D(pool_size=(2, 2))(conv32)\n",
    "flat3 = Flatten()(pool32)\n",
    "print ('cov31.shape', conv31.shape)\n",
    "print ('poo31.shape', pool31.shape)\n",
    "print ('cov32.shape', conv32.shape)\n",
    "print ('poo32.shape', pool32.shape)"
   ]
  },
  {
   "cell_type": "code",
   "execution_count": 11,
   "id": "b7c22390-3d6a-4107-84b7-139084cdcd87",
   "metadata": {},
   "outputs": [
    {
     "name": "stdout",
     "output_type": "stream",
     "text": [
      "cov41.shape (None, 16, 8, 32)\n",
      "poo41.shape (None, 8, 4, 32)\n",
      "cov42.shape (None, 8, 4, 16)\n",
      "poo42.shape (None, 4, 2, 16)\n"
     ]
    }
   ],
   "source": [
    "visible4 = Input(shape=(16, 8, 1))\n",
    "conv41 = Conv2D(32, kernel_size=4, activation='relu', padding='same')(visible4)\n",
    "pool41 = MaxPooling2D(pool_size=(2, 2))(conv41)\n",
    "conv42 = Conv2D(16, kernel_size=4, activation='relu', padding='same')(pool41)\n",
    "pool42 = MaxPooling2D(pool_size=(2, 2))(conv42)\n",
    "flat4 = Flatten()(pool32)\n",
    "print ('cov41.shape', conv41.shape)\n",
    "print ('poo41.shape', pool41.shape)\n",
    "print ('cov42.shape', conv42.shape)\n",
    "print ('poo42.shape', pool42.shape)"
   ]
  },
  {
   "cell_type": "code",
   "execution_count": 12,
   "id": "1e73c23c-a649-4883-a6a3-70a984907366",
   "metadata": {},
   "outputs": [],
   "source": [
    "merge = concatenate([flat1, flat2, flat3, flat4])"
   ]
  },
  {
   "cell_type": "code",
   "execution_count": 49,
   "id": "44af81bc-60e9-45df-bcfc-c2c1bc23087a",
   "metadata": {},
   "outputs": [],
   "source": [
    "# interpretation model\n",
    "hidden1 = Dense(20, activation='relu')(merge)\n",
    "hidden2 = Dense(20, activation='relu')(hidden1)\n",
    "output = Dense(3)(hidden2)\n",
    "cnn = Model(inputs=[visible1, visible2, visible3, visible4], outputs=output)"
   ]
  },
  {
   "cell_type": "code",
   "execution_count": 50,
   "id": "6894db83-2f69-4fae-81cc-cce1df7f1dc4",
   "metadata": {
    "scrolled": true
   },
   "outputs": [],
   "source": [
    "# summarize layers\n",
    "# print(cnn.summary())"
   ]
  },
  {
   "cell_type": "code",
   "execution_count": 51,
   "id": "6f150176-4120-4ff8-ada4-a8bfc0b0e300",
   "metadata": {},
   "outputs": [
    {
     "data": {
      "text/plain": [
       "[<KerasTensor: shape=(None, 4, 16, 1) dtype=float32 (created by layer 'input_1')>,\n",
       " <KerasTensor: shape=(None, 4, 128, 1) dtype=float32 (created by layer 'input_2')>,\n",
       " <KerasTensor: shape=(None, 16, 16, 1) dtype=float32 (created by layer 'input_3')>,\n",
       " <KerasTensor: shape=(None, 16, 8, 1) dtype=float32 (created by layer 'input_4')>]"
      ]
     },
     "execution_count": 51,
     "metadata": {},
     "output_type": "execute_result"
    }
   ],
   "source": [
    "cnn.inputs"
   ]
  },
  {
   "cell_type": "markdown",
   "id": "67c58e1e-c3a5-4f28-aa3c-decbeb3e9d72",
   "metadata": {},
   "source": [
    "## Train the model"
   ]
  },
  {
   "cell_type": "code",
   "execution_count": 52,
   "id": "d21c1d6c-5a4a-49e0-a1be-822b81b9f1ad",
   "metadata": {},
   "outputs": [],
   "source": [
    "def train_iteration(lr, epochs):\n",
    "    print(f\"=== Training with lr={lr} for {epochs} epochs ===\")\n",
    "    cnn.compile(\n",
    "        optimizer=tf.keras.optimizers.Adam(learning_rate=lr),\n",
    "        loss=tf.keras.losses.SparseCategoricalCrossentropy(from_logits=True),\n",
    "        metrics=[\"accuracy\"]\n",
    "    )\n",
    "    return cnn.fit(\n",
    "        X_train, Y_train,\n",
    "        epochs=epochs, batch_size=128,\n",
    "        validation_data=(X_test, Y_test),\n",
    "    )"
   ]
  },
  {
   "cell_type": "code",
   "execution_count": 55,
   "id": "7ba0b06f-785d-4744-b99b-b7d511f9d564",
   "metadata": {},
   "outputs": [
    {
     "name": "stdout",
     "output_type": "stream",
     "text": [
      "=== Training with lr=0.01 for 3 epochs ===\n",
      "Epoch 1/3\n",
      "1641/1641 [==============================] - 12s 6ms/step - loss: 0.5607 - accuracy: 0.7599 - val_loss: 0.8752 - val_accuracy: 0.5164\n",
      "Epoch 2/3\n",
      "1641/1641 [==============================] - 9s 6ms/step - loss: 0.7410 - accuracy: 0.6152 - val_loss: 0.7866 - val_accuracy: 0.6049\n",
      "Epoch 3/3\n",
      "1641/1641 [==============================] - 7s 4ms/step - loss: 0.7861 - accuracy: 0.6003 - val_loss: 0.8971 - val_accuracy: 0.4697\n"
     ]
    },
    {
     "data": {
      "text/plain": [
       "<keras.src.callbacks.History at 0x7f7d423bc250>"
      ]
     },
     "execution_count": 55,
     "metadata": {},
     "output_type": "execute_result"
    }
   ],
   "source": [
    "train_iteration(lr=1e-2, epochs=3)"
   ]
  },
  {
   "cell_type": "code",
   "execution_count": 56,
   "id": "384a7efc-c00c-419a-aac5-cf0fde65904f",
   "metadata": {},
   "outputs": [
    {
     "name": "stdout",
     "output_type": "stream",
     "text": [
      "=== Training with lr=0.002 for 5 epochs ===\n",
      "Epoch 1/5\n",
      "1641/1641 [==============================] - 12s 6ms/step - loss: 0.5465 - accuracy: 0.6838 - val_loss: 0.4457 - val_accuracy: 0.7209\n",
      "Epoch 2/5\n",
      "1641/1641 [==============================] - 8s 5ms/step - loss: 0.2529 - accuracy: 0.8989 - val_loss: 0.1400 - val_accuracy: 0.9593\n",
      "Epoch 3/5\n",
      "1641/1641 [==============================] - 8s 5ms/step - loss: 0.1121 - accuracy: 0.9668 - val_loss: 0.0919 - val_accuracy: 0.9741\n",
      "Epoch 4/5\n",
      "1641/1641 [==============================] - 7s 5ms/step - loss: 0.0929 - accuracy: 0.9724 - val_loss: 0.0772 - val_accuracy: 0.9777\n",
      "Epoch 5/5\n",
      "1641/1641 [==============================] - 7s 4ms/step - loss: 0.0767 - accuracy: 0.9775 - val_loss: 0.0645 - val_accuracy: 0.9824\n"
     ]
    },
    {
     "data": {
      "text/plain": [
       "<keras.src.callbacks.History at 0x7f7d2c55de50>"
      ]
     },
     "execution_count": 56,
     "metadata": {},
     "output_type": "execute_result"
    }
   ],
   "source": [
    "train_iteration(lr=2e-3, epochs=5)"
   ]
  },
  {
   "cell_type": "code",
   "execution_count": 57,
   "id": "53dc0ba1-475b-417b-b7cd-b4cdc39e7f4a",
   "metadata": {
    "scrolled": true
   },
   "outputs": [
    {
     "name": "stdout",
     "output_type": "stream",
     "text": [
      "=== Training with lr=0.001 for 5 epochs ===\n",
      "Epoch 1/5\n",
      "1641/1641 [==============================] - 13s 6ms/step - loss: 0.0639 - accuracy: 0.9824 - val_loss: 0.0602 - val_accuracy: 0.9831\n",
      "Epoch 2/5\n",
      "1641/1641 [==============================] - 7s 4ms/step - loss: 0.0587 - accuracy: 0.9836 - val_loss: 0.0610 - val_accuracy: 0.9814\n",
      "Epoch 3/5\n",
      "1641/1641 [==============================] - 7s 4ms/step - loss: 0.0559 - accuracy: 0.9846 - val_loss: 0.0550 - val_accuracy: 0.9845\n",
      "Epoch 4/5\n",
      "1641/1641 [==============================] - 6s 4ms/step - loss: 0.0539 - accuracy: 0.9850 - val_loss: 0.0512 - val_accuracy: 0.9855\n",
      "Epoch 5/5\n",
      "1641/1641 [==============================] - 7s 4ms/step - loss: 0.0521 - accuracy: 0.9855 - val_loss: 0.0747 - val_accuracy: 0.9766\n"
     ]
    },
    {
     "data": {
      "text/plain": [
       "<keras.src.callbacks.History at 0x7f7d565018e0>"
      ]
     },
     "execution_count": 57,
     "metadata": {},
     "output_type": "execute_result"
    }
   ],
   "source": [
    "train_iteration(lr=1e-3, epochs=5)"
   ]
  },
  {
   "cell_type": "code",
   "execution_count": 58,
   "id": "95ab6382-ec39-4634-9d6e-cb283c6917fa",
   "metadata": {},
   "outputs": [
    {
     "name": "stdout",
     "output_type": "stream",
     "text": [
      "=== Training with lr=0.0002 for 5 epochs ===\n",
      "Epoch 1/5\n",
      "1641/1641 [==============================] - 12s 6ms/step - loss: 0.0473 - accuracy: 0.9868 - val_loss: 0.0496 - val_accuracy: 0.9859\n",
      "Epoch 2/5\n",
      "1641/1641 [==============================] - 8s 5ms/step - loss: 0.0460 - accuracy: 0.9871 - val_loss: 0.0492 - val_accuracy: 0.9864\n",
      "Epoch 3/5\n",
      "1641/1641 [==============================] - 7s 4ms/step - loss: 0.0455 - accuracy: 0.9872 - val_loss: 0.0487 - val_accuracy: 0.9861\n",
      "Epoch 4/5\n",
      "1641/1641 [==============================] - 6s 4ms/step - loss: 0.0452 - accuracy: 0.9875 - val_loss: 0.0489 - val_accuracy: 0.9863\n",
      "Epoch 5/5\n",
      "1641/1641 [==============================] - 6s 4ms/step - loss: 0.0446 - accuracy: 0.9875 - val_loss: 0.0479 - val_accuracy: 0.9868\n"
     ]
    },
    {
     "data": {
      "text/plain": [
       "<keras.src.callbacks.History at 0x7f7d426736a0>"
      ]
     },
     "execution_count": 58,
     "metadata": {},
     "output_type": "execute_result"
    }
   ],
   "source": [
    "train_iteration(lr=2e-4, epochs=5)"
   ]
  },
  {
   "cell_type": "code",
   "execution_count": 59,
   "id": "1be83608-53b6-40e4-a7c0-6796fb9c4937",
   "metadata": {},
   "outputs": [
    {
     "name": "stdout",
     "output_type": "stream",
     "text": [
      "=== Training with lr=2e-05 for 30 epochs ===\n",
      "Epoch 1/30\n",
      "1641/1641 [==============================] - 12s 6ms/step - loss: 0.0437 - accuracy: 0.9878 - val_loss: 0.0479 - val_accuracy: 0.9866\n",
      "Epoch 2/30\n",
      "1641/1641 [==============================] - 7s 4ms/step - loss: 0.0435 - accuracy: 0.9878 - val_loss: 0.0480 - val_accuracy: 0.9865\n",
      "Epoch 3/30\n",
      "1641/1641 [==============================] - 7s 4ms/step - loss: 0.0434 - accuracy: 0.9878 - val_loss: 0.0479 - val_accuracy: 0.9866\n",
      "Epoch 4/30\n",
      "1641/1641 [==============================] - 7s 4ms/step - loss: 0.0434 - accuracy: 0.9878 - val_loss: 0.0478 - val_accuracy: 0.9867\n",
      "Epoch 5/30\n",
      "1641/1641 [==============================] - 8s 5ms/step - loss: 0.0433 - accuracy: 0.9878 - val_loss: 0.0478 - val_accuracy: 0.9866\n",
      "Epoch 6/30\n",
      "1641/1641 [==============================] - 7s 4ms/step - loss: 0.0433 - accuracy: 0.9878 - val_loss: 0.0478 - val_accuracy: 0.9867\n",
      "Epoch 7/30\n",
      "1641/1641 [==============================] - 7s 4ms/step - loss: 0.0432 - accuracy: 0.9878 - val_loss: 0.0477 - val_accuracy: 0.9866\n",
      "Epoch 8/30\n",
      "1641/1641 [==============================] - 6s 4ms/step - loss: 0.0432 - accuracy: 0.9878 - val_loss: 0.0477 - val_accuracy: 0.9865\n",
      "Epoch 9/30\n",
      "1641/1641 [==============================] - 7s 4ms/step - loss: 0.0431 - accuracy: 0.9878 - val_loss: 0.0477 - val_accuracy: 0.9867\n",
      "Epoch 10/30\n",
      "1641/1641 [==============================] - 7s 4ms/step - loss: 0.0431 - accuracy: 0.9879 - val_loss: 0.0477 - val_accuracy: 0.9867\n",
      "Epoch 11/30\n",
      "1641/1641 [==============================] - 7s 5ms/step - loss: 0.0430 - accuracy: 0.9880 - val_loss: 0.0477 - val_accuracy: 0.9866\n",
      "Epoch 12/30\n",
      "1641/1641 [==============================] - 7s 4ms/step - loss: 0.0430 - accuracy: 0.9879 - val_loss: 0.0475 - val_accuracy: 0.9866\n",
      "Epoch 13/30\n",
      "1641/1641 [==============================] - 7s 4ms/step - loss: 0.0430 - accuracy: 0.9879 - val_loss: 0.0477 - val_accuracy: 0.9867\n",
      "Epoch 14/30\n",
      "1641/1641 [==============================] - 8s 5ms/step - loss: 0.0429 - accuracy: 0.9879 - val_loss: 0.0475 - val_accuracy: 0.9867\n",
      "Epoch 15/30\n",
      "1641/1641 [==============================] - 8s 5ms/step - loss: 0.0429 - accuracy: 0.9879 - val_loss: 0.0475 - val_accuracy: 0.9867\n",
      "Epoch 16/30\n",
      "1641/1641 [==============================] - 7s 4ms/step - loss: 0.0428 - accuracy: 0.9880 - val_loss: 0.0474 - val_accuracy: 0.9868\n",
      "Epoch 17/30\n",
      "1641/1641 [==============================] - 7s 4ms/step - loss: 0.0428 - accuracy: 0.9880 - val_loss: 0.0474 - val_accuracy: 0.9867\n",
      "Epoch 18/30\n",
      "1641/1641 [==============================] - 8s 5ms/step - loss: 0.0428 - accuracy: 0.9880 - val_loss: 0.0474 - val_accuracy: 0.9867\n",
      "Epoch 19/30\n",
      "1641/1641 [==============================] - 7s 4ms/step - loss: 0.0427 - accuracy: 0.9879 - val_loss: 0.0474 - val_accuracy: 0.9867\n",
      "Epoch 20/30\n",
      "1641/1641 [==============================] - 7s 5ms/step - loss: 0.0427 - accuracy: 0.9880 - val_loss: 0.0473 - val_accuracy: 0.9868\n",
      "Epoch 21/30\n",
      "1641/1641 [==============================] - 8s 5ms/step - loss: 0.0427 - accuracy: 0.9879 - val_loss: 0.0473 - val_accuracy: 0.9867\n",
      "Epoch 22/30\n",
      "1641/1641 [==============================] - 9s 5ms/step - loss: 0.0426 - accuracy: 0.9879 - val_loss: 0.0473 - val_accuracy: 0.9868\n",
      "Epoch 23/30\n",
      "1641/1641 [==============================] - 7s 4ms/step - loss: 0.0426 - accuracy: 0.9880 - val_loss: 0.0473 - val_accuracy: 0.9869\n",
      "Epoch 24/30\n",
      "1641/1641 [==============================] - 8s 5ms/step - loss: 0.0426 - accuracy: 0.9880 - val_loss: 0.0473 - val_accuracy: 0.9867\n",
      "Epoch 25/30\n",
      "1641/1641 [==============================] - 7s 4ms/step - loss: 0.0425 - accuracy: 0.9880 - val_loss: 0.0472 - val_accuracy: 0.9869\n",
      "Epoch 26/30\n",
      "1641/1641 [==============================] - 7s 5ms/step - loss: 0.0425 - accuracy: 0.9880 - val_loss: 0.0471 - val_accuracy: 0.9868\n",
      "Epoch 27/30\n",
      "1641/1641 [==============================] - 8s 5ms/step - loss: 0.0425 - accuracy: 0.9880 - val_loss: 0.0471 - val_accuracy: 0.9867\n",
      "Epoch 28/30\n",
      "1641/1641 [==============================] - 7s 4ms/step - loss: 0.0424 - accuracy: 0.9880 - val_loss: 0.0471 - val_accuracy: 0.9867\n",
      "Epoch 29/30\n",
      "1641/1641 [==============================] - 7s 4ms/step - loss: 0.0424 - accuracy: 0.9880 - val_loss: 0.0470 - val_accuracy: 0.9868\n",
      "Epoch 30/30\n",
      "1641/1641 [==============================] - 7s 4ms/step - loss: 0.0423 - accuracy: 0.9881 - val_loss: 0.0471 - val_accuracy: 0.9868\n"
     ]
    },
    {
     "data": {
      "text/plain": [
       "<keras.src.callbacks.History at 0x7f7f732a1880>"
      ]
     },
     "execution_count": 59,
     "metadata": {},
     "output_type": "execute_result"
    }
   ],
   "source": [
    "train_iteration(lr=2e-5, epochs=30)"
   ]
  },
  {
   "cell_type": "code",
   "execution_count": 60,
   "id": "1753a887-a6a2-45c8-8c66-d133c11e6d5f",
   "metadata": {},
   "outputs": [
    {
     "name": "stdout",
     "output_type": "stream",
     "text": [
      "=== Training with lr=1e-05 for 10 epochs ===\n",
      "Epoch 1/10\n",
      "1641/1641 [==============================] - 12s 6ms/step - loss: 0.0423 - accuracy: 0.9881 - val_loss: 0.0470 - val_accuracy: 0.9869\n",
      "Epoch 2/10\n",
      "1641/1641 [==============================] - 6s 4ms/step - loss: 0.0423 - accuracy: 0.9881 - val_loss: 0.0470 - val_accuracy: 0.9869\n",
      "Epoch 3/10\n",
      "1641/1641 [==============================] - 7s 4ms/step - loss: 0.0422 - accuracy: 0.9881 - val_loss: 0.0471 - val_accuracy: 0.9869\n",
      "Epoch 4/10\n",
      "1641/1641 [==============================] - 8s 5ms/step - loss: 0.0422 - accuracy: 0.9880 - val_loss: 0.0469 - val_accuracy: 0.9868\n",
      "Epoch 5/10\n",
      "1641/1641 [==============================] - 7s 4ms/step - loss: 0.0422 - accuracy: 0.9881 - val_loss: 0.0470 - val_accuracy: 0.9869\n",
      "Epoch 6/10\n",
      "1641/1641 [==============================] - 7s 4ms/step - loss: 0.0422 - accuracy: 0.9881 - val_loss: 0.0471 - val_accuracy: 0.9869\n",
      "Epoch 7/10\n",
      "1641/1641 [==============================] - 8s 5ms/step - loss: 0.0422 - accuracy: 0.9881 - val_loss: 0.0469 - val_accuracy: 0.9869\n",
      "Epoch 8/10\n",
      "1641/1641 [==============================] - 8s 5ms/step - loss: 0.0421 - accuracy: 0.9881 - val_loss: 0.0469 - val_accuracy: 0.9869\n",
      "Epoch 9/10\n",
      "1641/1641 [==============================] - 7s 4ms/step - loss: 0.0421 - accuracy: 0.9881 - val_loss: 0.0469 - val_accuracy: 0.9868\n",
      "Epoch 10/10\n",
      "1641/1641 [==============================] - 6s 4ms/step - loss: 0.0421 - accuracy: 0.9880 - val_loss: 0.0469 - val_accuracy: 0.9868\n"
     ]
    },
    {
     "data": {
      "text/plain": [
       "<keras.src.callbacks.History at 0x7f7f6fc4b790>"
      ]
     },
     "execution_count": 60,
     "metadata": {},
     "output_type": "execute_result"
    }
   ],
   "source": [
    "train_iteration(lr=1e-5, epochs=10)"
   ]
  },
  {
   "cell_type": "code",
   "execution_count": 61,
   "id": "4e3d6a9e-88bd-4647-bb9a-fae1a3495471",
   "metadata": {},
   "outputs": [
    {
     "name": "stdout",
     "output_type": "stream",
     "text": [
      "task name: axion2\n",
      "INFO:tensorflow:Assets written to: /data/wifeng/photon-jet/cnn_models_v1.0/axion2_cnn/assets\n"
     ]
    },
    {
     "name": "stderr",
     "output_type": "stream",
     "text": [
      "INFO:tensorflow:Assets written to: /data/wifeng/photon-jet/cnn_models_v1.0/axion2_cnn/assets\n"
     ]
    }
   ],
   "source": [
    "# Save this model\n",
    "os.makedirs(f\"{model_dir}\", exist_ok=True)\n",
    "\n",
    "print(f\"task name: {task_name}\")\n",
    "cnn.save(f\"{model_dir}/{task_name}_cnn\")"
   ]
  }
 ],
 "metadata": {
  "kernelspec": {
   "display_name": "Python 3 (ipykernel)",
   "language": "python",
   "name": "python3"
  },
  "language_info": {
   "codemirror_mode": {
    "name": "ipython",
    "version": 3
   },
   "file_extension": ".py",
   "mimetype": "text/x-python",
   "name": "python",
   "nbconvert_exporter": "python",
   "pygments_lexer": "ipython3",
   "version": "3.8.10"
  }
 },
 "nbformat": 4,
 "nbformat_minor": 5
}
