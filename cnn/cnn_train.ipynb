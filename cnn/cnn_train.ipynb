{
 "cells": [
  {
   "cell_type": "markdown",
   "id": "33cebaf5-5030-455d-ab20-24aed1f3f86a",
   "metadata": {},
   "source": [
    "## Imports"
   ]
  },
  {
   "cell_type": "code",
   "execution_count": 1,
   "id": "2ef67076-7559-4f10-a93d-14036f30ca7e",
   "metadata": {
    "tags": []
   },
   "outputs": [],
   "source": [
    "import sys\n",
    "import os\n",
    "import random\n",
    "import pandas as pd\n",
    "import numpy as np\n",
    "import matplotlib as mpl\n",
    "import matplotlib.pyplot as plt"
   ]
  },
  {
   "cell_type": "code",
   "execution_count": 2,
   "id": "803a73bb-64f1-42f5-af8a-5feee3f8ddb4",
   "metadata": {},
   "outputs": [
    {
     "name": "stdout",
     "output_type": "stream",
     "text": [
      "/usatlas/atlas01/atlasdisk/users/atlas_wifeng/sw/miniconda/envs/top-tagging/lib/python3.10/enum.py\n"
     ]
    }
   ],
   "source": [
    "import h5py\n",
    "from h5py import File as HDF5File\n",
    "\n",
    "import enum\n",
    "print(enum.__file__)"
   ]
  },
  {
   "cell_type": "code",
   "execution_count": 3,
   "id": "4f23a591-3271-4114-8345-f43c8aa8be8c",
   "metadata": {},
   "outputs": [
    {
     "name": "stderr",
     "output_type": "stream",
     "text": [
      "2023-08-23 20:42:12.473335: I tensorflow/core/platform/cpu_feature_guard.cc:182] This TensorFlow binary is optimized to use available CPU instructions in performance-critical operations.\n",
      "To enable the following instructions: AVX2 FMA, in other operations, rebuild TensorFlow with the appropriate compiler flags.\n",
      "2023-08-23 20:42:14.359493: W tensorflow/compiler/tf2tensorrt/utils/py_utils.cc:38] TF-TRT Warning: Could not find TensorRT\n"
     ]
    }
   ],
   "source": [
    "# Oh boy this might take a while\n",
    "import tensorflow as tf\n",
    "from tensorflow import keras\n",
    "\n",
    "from keras.layers import Lambda, Input\n",
    "from keras.layers import Dropout, Flatten, Dense\n",
    "import keras.backend as K\n",
    "from keras.models import Sequential, Model \n",
    "from keras.layers import Conv2D\n",
    "from keras.layers import MaxPooling2D\n",
    "from keras.layers import concatenate"
   ]
  },
  {
   "cell_type": "code",
   "execution_count": 4,
   "id": "563b5db4-197c-40dd-8332-ab0506451f66",
   "metadata": {},
   "outputs": [],
   "source": [
    "import yaml\n",
    "with open(\"../config.yaml\") as fin:\n",
    "    config = yaml.safe_load(fin)\n",
    "    data_dir = config[\"data_dir\"]\n",
    "    model_dir = config[\"model_dir\"]\n",
    "    output_dir = config[\"output_dir\"]"
   ]
  },
  {
   "cell_type": "code",
   "execution_count": 5,
   "id": "bd11e0a5-ef74-492e-8e49-7c6b5dfc0d9d",
   "metadata": {},
   "outputs": [],
   "source": [
    "task_name = \"scalar1\""
   ]
  },
  {
   "cell_type": "markdown",
   "id": "573ad61a-f923-4d11-96e4-e294fcf34024",
   "metadata": {},
   "source": [
    "## Loading data\n",
    "\n",
    "See `cnn/data.py`."
   ]
  },
  {
   "cell_type": "code",
   "execution_count": 6,
   "id": "d544b7c1-1bac-4d26-b299-da38bb2c8f6a",
   "metadata": {},
   "outputs": [
    {
     "name": "stdout",
     "output_type": "stream",
     "text": [
      "load_data from datafile /usatlas/atlas01/atlasdisk/users/atlas_wifeng/photon-jet/data/h5/pi0_40-250GeV_100k.h5\n",
      "load_data from datafile /usatlas/atlas01/atlasdisk/users/atlas_wifeng/photon-jet/data/h5/gamma_40-250GeV_100k.h5\n",
      "load_data from datafile /usatlas/atlas01/atlasdisk/users/atlas_wifeng/photon-jet/data/h5/scalar1_40-250GeV_100k.h5\n"
     ]
    }
   ],
   "source": [
    "from cnn_data import load_data\n",
    "X_train, Y_train, X_test, Y_test = load_data(task_name)"
   ]
  },
  {
   "cell_type": "code",
   "execution_count": 7,
   "id": "f9d4976f-11ac-441c-9cd5-878fc95ae10a",
   "metadata": {},
   "outputs": [
    {
     "name": "stdout",
     "output_type": "stream",
     "text": [
      "Training shapes:\n",
      "  inputs: (210000, 4, 16, 1) (210000, 4, 128, 1)\n",
      "  labels: (210000,)\n"
     ]
    }
   ],
   "source": [
    "print(\"Training shapes:\")\n",
    "print(\"  inputs:\", X_train[0].shape, X_train[1].shape)\n",
    "print(\"  labels:\", Y_train.shape)"
   ]
  },
  {
   "cell_type": "markdown",
   "id": "3d4d2d82-e3a8-4f2c-879a-c8c5355ef8cd",
   "metadata": {
    "tags": []
   },
   "source": [
    "## Build the model"
   ]
  },
  {
   "cell_type": "code",
   "execution_count": 8,
   "id": "c3296f20-fa0a-493e-beeb-2ae3d9975982",
   "metadata": {},
   "outputs": [
    {
     "name": "stdout",
     "output_type": "stream",
     "text": [
      "cov11.shape (None, 4, 16, 32)\n",
      "pool1.shape (None, 2, 8, 32)\n",
      "cov12.shape (None, 2, 8, 16)\n",
      "pool2.shape (None, 1, 4, 16)\n"
     ]
    },
    {
     "name": "stderr",
     "output_type": "stream",
     "text": [
      "2023-08-23 20:42:21.250448: I tensorflow/core/common_runtime/gpu/gpu_device.cc:1635] Created device /job:localhost/replica:0/task:0/device:GPU:0 with 4412 MB memory:  -> device: 0, name: Tesla P100-PCIE-16GB, pci bus id: 0000:07:00.0, compute capability: 6.0\n"
     ]
    }
   ],
   "source": [
    "visible1 = Input(shape=(4, 16, 1))\n",
    "conv11 = Conv2D(32, kernel_size=4, activation='relu', padding='same')(visible1)\n",
    "pool11 = MaxPooling2D(pool_size=(2, 2))(conv11)\n",
    "conv12 = Conv2D(16, kernel_size=4, activation='relu', padding='same')(pool11)\n",
    "pool12 = MaxPooling2D(pool_size=(2, 2))(conv12)\n",
    "flat1 = Flatten()(pool12)\n",
    "print ('cov11.shape', conv11.shape)\n",
    "print ('pool1.shape', pool11.shape)\n",
    "print ('cov12.shape', conv12.shape)\n",
    "print ('pool2.shape', pool12.shape)"
   ]
  },
  {
   "cell_type": "code",
   "execution_count": 9,
   "id": "77a83536-f4cb-486c-b6f5-caec7213392d",
   "metadata": {},
   "outputs": [
    {
     "name": "stdout",
     "output_type": "stream",
     "text": [
      "cov21.shape (None, 4, 128, 32)\n",
      "poo21.shape (None, 2, 64, 32)\n",
      "cov22.shape (None, 2, 64, 16)\n",
      "poo22.shape (None, 1, 32, 16)\n"
     ]
    }
   ],
   "source": [
    "visible2 = Input(shape=(4, 128, 1))\n",
    "conv21 = Conv2D(32, kernel_size=4, activation='relu', padding='same')(visible2)\n",
    "pool21 = MaxPooling2D(pool_size=(2, 2))(conv21)\n",
    "conv22 = Conv2D(16, kernel_size=4, activation='relu', padding='same')(pool21)\n",
    "pool22 = MaxPooling2D(pool_size=(2, 2))(conv22)\n",
    "flat2 = Flatten()(pool22)\n",
    "print ('cov21.shape', conv21.shape)\n",
    "print ('poo21.shape', pool21.shape)\n",
    "print ('cov22.shape', conv22.shape)\n",
    "print ('poo22.shape', pool22.shape)"
   ]
  },
  {
   "cell_type": "code",
   "execution_count": 10,
   "id": "1e73c23c-a649-4883-a6a3-70a984907366",
   "metadata": {},
   "outputs": [],
   "source": [
    "merge = concatenate([flat1, flat2])"
   ]
  },
  {
   "cell_type": "code",
   "execution_count": 11,
   "id": "44af81bc-60e9-45df-bcfc-c2c1bc23087a",
   "metadata": {},
   "outputs": [],
   "source": [
    "# interpretation model\n",
    "hidden1 = Dense(10, activation='relu')(merge)\n",
    "hidden2 = Dense(10, activation='relu')(hidden1)\n",
    "output = Dense(3, activation='sigmoid')(hidden2)\n",
    "cnn = Model(inputs=[visible1, visible2], outputs=output)\n",
    "\n",
    "cnn.compile(loss='sparse_categorical_crossentropy', optimizer='adam', metrics=['acc'])"
   ]
  },
  {
   "cell_type": "code",
   "execution_count": 12,
   "id": "6894db83-2f69-4fae-81cc-cce1df7f1dc4",
   "metadata": {},
   "outputs": [
    {
     "name": "stdout",
     "output_type": "stream",
     "text": [
      "Model: \"model\"\n",
      "__________________________________________________________________________________________________\n",
      " Layer (type)                   Output Shape         Param #     Connected to                     \n",
      "==================================================================================================\n",
      " input_1 (InputLayer)           [(None, 4, 16, 1)]   0           []                               \n",
      "                                                                                                  \n",
      " input_2 (InputLayer)           [(None, 4, 128, 1)]  0           []                               \n",
      "                                                                                                  \n",
      " conv2d (Conv2D)                (None, 4, 16, 32)    544         ['input_1[0][0]']                \n",
      "                                                                                                  \n",
      " conv2d_2 (Conv2D)              (None, 4, 128, 32)   544         ['input_2[0][0]']                \n",
      "                                                                                                  \n",
      " max_pooling2d (MaxPooling2D)   (None, 2, 8, 32)     0           ['conv2d[0][0]']                 \n",
      "                                                                                                  \n",
      " max_pooling2d_2 (MaxPooling2D)  (None, 2, 64, 32)   0           ['conv2d_2[0][0]']               \n",
      "                                                                                                  \n",
      " conv2d_1 (Conv2D)              (None, 2, 8, 16)     8208        ['max_pooling2d[0][0]']          \n",
      "                                                                                                  \n",
      " conv2d_3 (Conv2D)              (None, 2, 64, 16)    8208        ['max_pooling2d_2[0][0]']        \n",
      "                                                                                                  \n",
      " max_pooling2d_1 (MaxPooling2D)  (None, 1, 4, 16)    0           ['conv2d_1[0][0]']               \n",
      "                                                                                                  \n",
      " max_pooling2d_3 (MaxPooling2D)  (None, 1, 32, 16)   0           ['conv2d_3[0][0]']               \n",
      "                                                                                                  \n",
      " flatten (Flatten)              (None, 64)           0           ['max_pooling2d_1[0][0]']        \n",
      "                                                                                                  \n",
      " flatten_1 (Flatten)            (None, 512)          0           ['max_pooling2d_3[0][0]']        \n",
      "                                                                                                  \n",
      " concatenate (Concatenate)      (None, 576)          0           ['flatten[0][0]',                \n",
      "                                                                  'flatten_1[0][0]']              \n",
      "                                                                                                  \n",
      " dense (Dense)                  (None, 10)           5770        ['concatenate[0][0]']            \n",
      "                                                                                                  \n",
      " dense_1 (Dense)                (None, 10)           110         ['dense[0][0]']                  \n",
      "                                                                                                  \n",
      " dense_2 (Dense)                (None, 3)            33          ['dense_1[0][0]']                \n",
      "                                                                                                  \n",
      "==================================================================================================\n",
      "Total params: 23,417\n",
      "Trainable params: 23,417\n",
      "Non-trainable params: 0\n",
      "__________________________________________________________________________________________________\n",
      "None\n"
     ]
    }
   ],
   "source": [
    "# summarize layers\n",
    "print(cnn.summary())"
   ]
  },
  {
   "cell_type": "markdown",
   "id": "67c58e1e-c3a5-4f28-aa3c-decbeb3e9d72",
   "metadata": {},
   "source": [
    "## Train the model"
   ]
  },
  {
   "cell_type": "code",
   "execution_count": 13,
   "id": "430ad25f-2fbe-499f-bb99-c05fab054b1b",
   "metadata": {
    "collapsed": true,
    "jupyter": {
     "outputs_hidden": true
    },
    "tags": []
   },
   "outputs": [
    {
     "name": "stdout",
     "output_type": "stream",
     "text": [
      "Epoch 1/50\n"
     ]
    },
    {
     "name": "stderr",
     "output_type": "stream",
     "text": [
      "2023-08-23 20:42:24.110628: I tensorflow/compiler/xla/stream_executor/cuda/cuda_dnn.cc:424] Loaded cuDNN version 8600\n",
      "2023-08-23 20:42:25.029555: I tensorflow/compiler/xla/service/service.cc:169] XLA service 0x2b3668146c20 initialized for platform CUDA (this does not guarantee that XLA will be used). Devices:\n",
      "2023-08-23 20:42:25.029635: I tensorflow/compiler/xla/service/service.cc:177]   StreamExecutor device (0): Tesla P100-PCIE-16GB, Compute Capability 6.0\n",
      "2023-08-23 20:42:25.952792: I tensorflow/compiler/mlir/tensorflow/utils/dump_mlir_util.cc:269] disabling MLIR crash reproducer, set env var `MLIR_CRASH_REPRODUCER_DIRECTORY` to enable.\n",
      "2023-08-23 20:42:30.712892: I ./tensorflow/compiler/jit/device_compiler.h:180] Compiled cluster using XLA!  This line is logged at most once for the lifetime of the process.\n"
     ]
    },
    {
     "name": "stdout",
     "output_type": "stream",
     "text": [
      "2100/2100 [==============================] - 24s 5ms/step - loss: 0.2198 - acc: 0.9487 - val_loss: 0.0829 - val_acc: 0.9734\n",
      "Epoch 2/50\n",
      "2100/2100 [==============================] - 10s 5ms/step - loss: 0.0869 - acc: 0.9734 - val_loss: 0.0859 - val_acc: 0.9719\n",
      "Epoch 3/50\n",
      "2100/2100 [==============================] - 10s 5ms/step - loss: 0.0745 - acc: 0.9774 - val_loss: 0.0987 - val_acc: 0.9709\n",
      "Epoch 4/50\n",
      "2100/2100 [==============================] - 10s 5ms/step - loss: 0.0675 - acc: 0.9788 - val_loss: 0.0610 - val_acc: 0.9803\n",
      "Epoch 5/50\n",
      "2100/2100 [==============================] - 10s 5ms/step - loss: 0.0622 - acc: 0.9809 - val_loss: 0.0656 - val_acc: 0.9795\n",
      "Epoch 6/50\n",
      "2100/2100 [==============================] - 10s 5ms/step - loss: 0.0584 - acc: 0.9819 - val_loss: 0.0510 - val_acc: 0.9842\n",
      "Epoch 7/50\n",
      "2100/2100 [==============================] - 10s 5ms/step - loss: 0.0540 - acc: 0.9833 - val_loss: 0.0507 - val_acc: 0.9841\n",
      "Epoch 8/50\n",
      "2100/2100 [==============================] - 10s 5ms/step - loss: 0.0515 - acc: 0.9843 - val_loss: 0.0504 - val_acc: 0.9837\n",
      "Epoch 9/50\n",
      "2100/2100 [==============================] - 10s 5ms/step - loss: 0.0491 - acc: 0.9849 - val_loss: 0.0529 - val_acc: 0.9839\n",
      "Epoch 10/50\n",
      "2100/2100 [==============================] - 10s 5ms/step - loss: 0.0472 - acc: 0.9856 - val_loss: 0.0517 - val_acc: 0.9848\n",
      "Epoch 11/50\n",
      "2100/2100 [==============================] - 10s 5ms/step - loss: 0.0442 - acc: 0.9867 - val_loss: 0.0460 - val_acc: 0.9863\n",
      "Epoch 12/50\n",
      "2100/2100 [==============================] - 10s 5ms/step - loss: 0.0423 - acc: 0.9873 - val_loss: 0.0462 - val_acc: 0.9868\n",
      "Epoch 13/50\n",
      "2100/2100 [==============================] - 10s 5ms/step - loss: 0.0408 - acc: 0.9876 - val_loss: 0.0406 - val_acc: 0.9881\n",
      "Epoch 14/50\n",
      "2100/2100 [==============================] - 10s 5ms/step - loss: 0.0392 - acc: 0.9882 - val_loss: 0.0480 - val_acc: 0.9855\n",
      "Epoch 15/50\n",
      "2100/2100 [==============================] - 10s 5ms/step - loss: 0.0377 - acc: 0.9887 - val_loss: 0.0533 - val_acc: 0.9835\n",
      "Epoch 16/50\n",
      "2100/2100 [==============================] - 11s 5ms/step - loss: 0.0362 - acc: 0.9895 - val_loss: 0.0410 - val_acc: 0.9885\n",
      "Epoch 17/50\n",
      "2100/2100 [==============================] - 10s 5ms/step - loss: 0.0352 - acc: 0.9896 - val_loss: 0.0399 - val_acc: 0.9885\n",
      "Epoch 18/50\n",
      "2100/2100 [==============================] - 10s 5ms/step - loss: 0.0334 - acc: 0.9901 - val_loss: 0.0413 - val_acc: 0.9882\n",
      "Epoch 19/50\n",
      "2100/2100 [==============================] - 10s 5ms/step - loss: 0.0332 - acc: 0.9900 - val_loss: 0.0390 - val_acc: 0.9887\n",
      "Epoch 20/50\n",
      "2100/2100 [==============================] - 10s 5ms/step - loss: 0.0315 - acc: 0.9906 - val_loss: 0.0374 - val_acc: 0.9901\n",
      "Epoch 21/50\n",
      "2100/2100 [==============================] - 10s 5ms/step - loss: 0.0306 - acc: 0.9908 - val_loss: 0.0464 - val_acc: 0.9871\n",
      "Epoch 22/50\n",
      "2100/2100 [==============================] - 10s 5ms/step - loss: 0.0297 - acc: 0.9913 - val_loss: 0.0422 - val_acc: 0.9889\n",
      "Epoch 23/50\n",
      "2100/2100 [==============================] - 10s 5ms/step - loss: 0.0286 - acc: 0.9915 - val_loss: 0.0422 - val_acc: 0.9893\n",
      "Epoch 24/50\n",
      "2100/2100 [==============================] - 10s 5ms/step - loss: 0.0279 - acc: 0.9917 - val_loss: 0.0368 - val_acc: 0.9903\n",
      "Epoch 25/50\n",
      "2100/2100 [==============================] - 10s 5ms/step - loss: 0.0273 - acc: 0.9918 - val_loss: 0.0489 - val_acc: 0.9867\n",
      "Epoch 26/50\n",
      "2100/2100 [==============================] - 10s 5ms/step - loss: 0.0259 - acc: 0.9924 - val_loss: 0.0419 - val_acc: 0.9890\n",
      "Epoch 27/50\n",
      "2100/2100 [==============================] - 10s 5ms/step - loss: 0.0255 - acc: 0.9924 - val_loss: 0.0354 - val_acc: 0.9903\n",
      "Epoch 28/50\n",
      "2100/2100 [==============================] - 10s 5ms/step - loss: 0.0264 - acc: 0.9922 - val_loss: 0.0399 - val_acc: 0.9904\n",
      "Epoch 29/50\n",
      "2100/2100 [==============================] - 10s 5ms/step - loss: 0.0241 - acc: 0.9929 - val_loss: 0.0478 - val_acc: 0.9872\n",
      "Epoch 30/50\n",
      "2100/2100 [==============================] - 10s 5ms/step - loss: 0.0236 - acc: 0.9930 - val_loss: 0.0376 - val_acc: 0.9897\n",
      "Epoch 31/50\n",
      "2100/2100 [==============================] - 10s 5ms/step - loss: 0.0240 - acc: 0.9930 - val_loss: 0.0419 - val_acc: 0.9879\n",
      "Epoch 32/50\n",
      "2100/2100 [==============================] - 10s 5ms/step - loss: 0.0231 - acc: 0.9933 - val_loss: 0.0441 - val_acc: 0.9873\n",
      "Epoch 33/50\n",
      "2100/2100 [==============================] - 10s 5ms/step - loss: 0.0213 - acc: 0.9937 - val_loss: 0.0425 - val_acc: 0.9898\n",
      "Epoch 34/50\n",
      "2100/2100 [==============================] - 10s 5ms/step - loss: 0.0219 - acc: 0.9937 - val_loss: 0.0489 - val_acc: 0.9859\n",
      "Epoch 35/50\n",
      "2100/2100 [==============================] - 10s 5ms/step - loss: 0.0210 - acc: 0.9938 - val_loss: 0.0379 - val_acc: 0.9907\n",
      "Epoch 36/50\n",
      "2100/2100 [==============================] - 10s 5ms/step - loss: 0.0203 - acc: 0.9942 - val_loss: 0.0408 - val_acc: 0.9896\n",
      "Epoch 37/50\n",
      "2100/2100 [==============================] - 11s 5ms/step - loss: 0.0203 - acc: 0.9942 - val_loss: 0.0468 - val_acc: 0.9890\n",
      "Epoch 38/50\n",
      "2100/2100 [==============================] - 10s 5ms/step - loss: 0.0202 - acc: 0.9941 - val_loss: 0.0422 - val_acc: 0.9897\n",
      "Epoch 39/50\n",
      "2100/2100 [==============================] - 10s 5ms/step - loss: 0.0199 - acc: 0.9941 - val_loss: 0.0366 - val_acc: 0.9911\n",
      "Epoch 40/50\n",
      "2100/2100 [==============================] - 10s 5ms/step - loss: 0.0188 - acc: 0.9945 - val_loss: 0.0399 - val_acc: 0.9908\n",
      "Epoch 41/50\n",
      "2100/2100 [==============================] - 10s 5ms/step - loss: 0.0183 - acc: 0.9946 - val_loss: 0.0413 - val_acc: 0.9896\n",
      "Epoch 42/50\n",
      "2100/2100 [==============================] - 10s 5ms/step - loss: 0.0185 - acc: 0.9945 - val_loss: 0.0422 - val_acc: 0.9906\n",
      "Epoch 43/50\n",
      "2100/2100 [==============================] - 10s 5ms/step - loss: 0.0183 - acc: 0.9946 - val_loss: 0.0421 - val_acc: 0.9894\n",
      "Epoch 44/50\n",
      "2100/2100 [==============================] - 10s 5ms/step - loss: 0.0184 - acc: 0.9946 - val_loss: 0.0389 - val_acc: 0.9909\n",
      "Epoch 45/50\n",
      "2100/2100 [==============================] - 10s 5ms/step - loss: 0.0179 - acc: 0.9949 - val_loss: 0.0430 - val_acc: 0.9903\n",
      "Epoch 46/50\n",
      "2100/2100 [==============================] - 10s 5ms/step - loss: 0.0169 - acc: 0.9950 - val_loss: 0.0400 - val_acc: 0.9907\n",
      "Epoch 47/50\n",
      "2100/2100 [==============================] - 10s 5ms/step - loss: 0.0167 - acc: 0.9951 - val_loss: 0.0407 - val_acc: 0.9906\n",
      "Epoch 48/50\n",
      "2100/2100 [==============================] - 10s 5ms/step - loss: 0.0166 - acc: 0.9951 - val_loss: 0.0398 - val_acc: 0.9905\n",
      "Epoch 49/50\n",
      "2100/2100 [==============================] - 10s 5ms/step - loss: 0.0158 - acc: 0.9954 - val_loss: 0.0451 - val_acc: 0.9897\n",
      "Epoch 50/50\n",
      "2100/2100 [==============================] - 10s 5ms/step - loss: 0.0162 - acc: 0.9953 - val_loss: 0.0535 - val_acc: 0.9892\n"
     ]
    }
   ],
   "source": [
    "# Takes about 10 min to train 50 epochs. Reaches >99% accuracy!\n",
    "history = cnn.fit(\n",
    "    X_train, Y_train,\n",
    "    epochs=50, batch_size=100,\n",
    "    validation_data=(X_test, Y_test),\n",
    ")"
   ]
  },
  {
   "cell_type": "code",
   "execution_count": 14,
   "id": "4e3d6a9e-88bd-4647-bb9a-fae1a3495471",
   "metadata": {},
   "outputs": [
    {
     "name": "stdout",
     "output_type": "stream",
     "text": [
      "task name: scalar1\n"
     ]
    },
    {
     "name": "stderr",
     "output_type": "stream",
     "text": [
      "WARNING:absl:Found untraced functions such as _jit_compiled_convolution_op, _jit_compiled_convolution_op, _jit_compiled_convolution_op, _jit_compiled_convolution_op while saving (showing 4 of 4). These functions will not be directly callable after loading.\n"
     ]
    },
    {
     "name": "stdout",
     "output_type": "stream",
     "text": [
      "INFO:tensorflow:Assets written to: /usatlas/atlas01/atlasdisk/users/atlas_wifeng/photon-jet/models_v2.2/cnn/scalar1_cnn/assets\n"
     ]
    },
    {
     "name": "stderr",
     "output_type": "stream",
     "text": [
      "INFO:tensorflow:Assets written to: /usatlas/atlas01/atlasdisk/users/atlas_wifeng/photon-jet/models_v2.2/cnn/scalar1_cnn/assets\n"
     ]
    }
   ],
   "source": [
    "# Save this model\n",
    "os.makedirs(f\"{model_dir}/cnn\", exist_ok=True)\n",
    "\n",
    "print(f\"task name: {task_name}\")\n",
    "cnn.save(f\"{model_dir}/cnn/{task_name}_cnn\")"
   ]
  },
  {
   "cell_type": "code",
   "execution_count": 15,
   "id": "87a2003b-b6a3-4729-8d6b-3b119aba2f65",
   "metadata": {},
   "outputs": [],
   "source": [
    "import json\n",
    "\n",
    "os.makedirs(f\"{output_dir}/cnn\", exist_ok=True)\n",
    "with open(f\"{output_dir}/cnn/{task_name}_train_history.json\", \"w\") as fout:\n",
    "    json.dump({\n",
    "        key: history.history[key] for key in [\"loss\", \"val_loss\", \"acc\", \"val_acc\"]\n",
    "    }, fout)"
   ]
  },
  {
   "cell_type": "code",
   "execution_count": null,
   "id": "4c9013af-59a4-4b33-8059-c6b14b4b23a8",
   "metadata": {},
   "outputs": [],
   "source": []
  }
 ],
 "metadata": {
  "kernelspec": {
   "display_name": "top-tagging",
   "language": "python",
   "name": "top-tagging"
  },
  "language_info": {
   "codemirror_mode": {
    "name": "ipython",
    "version": 3
   },
   "file_extension": ".py",
   "mimetype": "text/x-python",
   "name": "python",
   "nbconvert_exporter": "python",
   "pygments_lexer": "ipython3",
   "version": "3.10.10"
  }
 },
 "nbformat": 4,
 "nbformat_minor": 5
}
