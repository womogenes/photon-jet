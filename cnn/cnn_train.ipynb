{
 "cells": [
  {
   "cell_type": "markdown",
   "id": "33cebaf5-5030-455d-ab20-24aed1f3f86a",
   "metadata": {},
   "source": [
    "## Imports"
   ]
  },
  {
   "cell_type": "code",
   "execution_count": 1,
   "id": "2ef67076-7559-4f10-a93d-14036f30ca7e",
   "metadata": {
    "tags": []
   },
   "outputs": [],
   "source": [
    "import sys\n",
    "import os\n",
    "import random\n",
    "import pandas as pd\n",
    "import numpy as np\n",
    "import matplotlib as mpl\n",
    "import matplotlib.pyplot as plt"
   ]
  },
  {
   "cell_type": "code",
   "execution_count": 2,
   "id": "803a73bb-64f1-42f5-af8a-5feee3f8ddb4",
   "metadata": {},
   "outputs": [
    {
     "name": "stdout",
     "output_type": "stream",
     "text": [
      "/usr/lib/python3.8/enum.py\n"
     ]
    }
   ],
   "source": [
    "import h5py\n",
    "from h5py import File as HDF5File\n",
    "\n",
    "import enum\n",
    "print(enum.__file__)"
   ]
  },
  {
   "cell_type": "code",
   "execution_count": 3,
   "id": "4f23a591-3271-4114-8345-f43c8aa8be8c",
   "metadata": {},
   "outputs": [
    {
     "name": "stderr",
     "output_type": "stream",
     "text": [
      "2024-01-15 19:23:43.717240: I tensorflow/core/platform/cpu_feature_guard.cc:182] This TensorFlow binary is optimized to use available CPU instructions in performance-critical operations.\n",
      "To enable the following instructions: AVX2 AVX512F FMA, in other operations, rebuild TensorFlow with the appropriate compiler flags.\n",
      "2024-01-15 19:23:44.392360: W tensorflow/compiler/tf2tensorrt/utils/py_utils.cc:38] TF-TRT Warning: Could not find TensorRT\n"
     ]
    }
   ],
   "source": [
    "# Oh boy this might take a while\n",
    "import tensorflow as tf\n",
    "from tensorflow import keras\n",
    "\n",
    "from keras.layers import Lambda, Input\n",
    "from keras.layers import Dropout, Flatten, Dense\n",
    "import keras.backend as K\n",
    "from keras.models import Sequential, Model \n",
    "from keras.layers import Conv2D\n",
    "from keras.layers import MaxPooling2D\n",
    "from keras.layers import concatenate"
   ]
  },
  {
   "cell_type": "code",
   "execution_count": 4,
   "id": "563b5db4-197c-40dd-8332-ab0506451f66",
   "metadata": {},
   "outputs": [],
   "source": [
    "import yaml\n",
    "with open(\"../config.yaml\") as fin:\n",
    "    config = yaml.safe_load(fin)\n",
    "    data_dir = config[\"data_dir\"]\n",
    "    model_dir = config[\"model_dir\"]\n",
    "    output_dir = config[\"output_dir\"]"
   ]
  },
  {
   "cell_type": "code",
   "execution_count": 5,
   "id": "bd11e0a5-ef74-492e-8e49-7c6b5dfc0d9d",
   "metadata": {},
   "outputs": [],
   "source": [
    "task_name = \"scalar1\""
   ]
  },
  {
   "cell_type": "markdown",
   "id": "573ad61a-f923-4d11-96e4-e294fcf34024",
   "metadata": {},
   "source": [
    "## Loading data\n",
    "\n",
    "See `cnn/data.py`."
   ]
  },
  {
   "cell_type": "code",
   "execution_count": 6,
   "id": "d544b7c1-1bac-4d26-b299-da38bb2c8f6a",
   "metadata": {},
   "outputs": [
    {
     "name": "stdout",
     "output_type": "stream",
     "text": [
      "load_data from datafile /data/wifeng/photon-jet/data/h5/pi0_40-250GeV_100k.h5\n",
      "load_data from datafile /data/wifeng/photon-jet/data/h5/gamma_40-250GeV_100k.h5\n",
      "load_data from datafile /data/wifeng/photon-jet/data/h5/scalar1_40-250GeV_100k.h5\n",
      "rng=Generator(PCG64), perm=[264512 162665 196504 ... 113500 283120 234089], n_train=21000, n_test=27900\n"
     ]
    }
   ],
   "source": [
    "from cnn_data import load_data\n",
    "X_train, Y_train, X_test, Y_test = load_data(task_name)"
   ]
  },
  {
   "cell_type": "code",
   "execution_count": 7,
   "id": "f9d4976f-11ac-441c-9cd5-878fc95ae10a",
   "metadata": {},
   "outputs": [
    {
     "name": "stdout",
     "output_type": "stream",
     "text": [
      "Training shapes:\n",
      "  inputs: (21000, 4, 16, 1) (21000, 4, 128, 1)\n",
      "  labels: (21000,)\n"
     ]
    }
   ],
   "source": [
    "print(\"Training shapes:\")\n",
    "print(\"  inputs:\", X_train[0].shape, X_train[1].shape)\n",
    "print(\"  labels:\", Y_train.shape)"
   ]
  },
  {
   "cell_type": "markdown",
   "id": "3d4d2d82-e3a8-4f2c-879a-c8c5355ef8cd",
   "metadata": {
    "tags": []
   },
   "source": [
    "## Build the model"
   ]
  },
  {
   "cell_type": "code",
   "execution_count": 8,
   "id": "c3296f20-fa0a-493e-beeb-2ae3d9975982",
   "metadata": {},
   "outputs": [
    {
     "name": "stdout",
     "output_type": "stream",
     "text": [
      "cov11.shape (None, 4, 16, 32)\n",
      "pool1.shape (None, 2, 8, 32)\n",
      "cov12.shape (None, 2, 8, 16)\n",
      "pool2.shape (None, 1, 4, 16)\n"
     ]
    },
    {
     "name": "stderr",
     "output_type": "stream",
     "text": [
      "2024-01-15 19:23:49.426260: I tensorflow/core/common_runtime/gpu/gpu_device.cc:1639] Created device /job:localhost/replica:0/task:0/device:GPU:0 with 9804 MB memory:  -> device: 0, name: NVIDIA GeForce RTX 2080 Ti, pci bus id: 0000:88:00.0, compute capability: 7.5\n",
      "2024-01-15 19:23:49.427235: I tensorflow/core/common_runtime/gpu/gpu_device.cc:1639] Created device /job:localhost/replica:0/task:0/device:GPU:1 with 9804 MB memory:  -> device: 1, name: NVIDIA GeForce RTX 2080 Ti, pci bus id: 0000:89:00.0, compute capability: 7.5\n",
      "2024-01-15 19:23:49.428142: I tensorflow/core/common_runtime/gpu/gpu_device.cc:1639] Created device /job:localhost/replica:0/task:0/device:GPU:2 with 9804 MB memory:  -> device: 2, name: NVIDIA GeForce RTX 2080 Ti, pci bus id: 0000:b1:00.0, compute capability: 7.5\n",
      "2024-01-15 19:23:49.428972: I tensorflow/core/common_runtime/gpu/gpu_device.cc:1639] Created device /job:localhost/replica:0/task:0/device:GPU:3 with 9804 MB memory:  -> device: 3, name: NVIDIA GeForce RTX 2080 Ti, pci bus id: 0000:b2:00.0, compute capability: 7.5\n"
     ]
    }
   ],
   "source": [
    "visible1 = Input(shape=(4, 16, 1))\n",
    "conv11 = Conv2D(32, kernel_size=4, activation='relu', padding='same')(visible1)\n",
    "pool11 = MaxPooling2D(pool_size=(2, 2))(conv11)\n",
    "conv12 = Conv2D(16, kernel_size=4, activation='relu', padding='same')(pool11)\n",
    "pool12 = MaxPooling2D(pool_size=(2, 2))(conv12)\n",
    "flat1 = Flatten()(pool12)\n",
    "print ('cov11.shape', conv11.shape)\n",
    "print ('pool1.shape', pool11.shape)\n",
    "print ('cov12.shape', conv12.shape)\n",
    "print ('pool2.shape', pool12.shape)"
   ]
  },
  {
   "cell_type": "code",
   "execution_count": 9,
   "id": "77a83536-f4cb-486c-b6f5-caec7213392d",
   "metadata": {},
   "outputs": [
    {
     "name": "stdout",
     "output_type": "stream",
     "text": [
      "cov21.shape (None, 4, 128, 32)\n",
      "poo21.shape (None, 2, 64, 32)\n",
      "cov22.shape (None, 2, 64, 16)\n",
      "poo22.shape (None, 1, 32, 16)\n"
     ]
    }
   ],
   "source": [
    "visible2 = Input(shape=(4, 128, 1))\n",
    "conv21 = Conv2D(32, kernel_size=4, activation='relu', padding='same')(visible2)\n",
    "pool21 = MaxPooling2D(pool_size=(2, 2))(conv21)\n",
    "conv22 = Conv2D(16, kernel_size=4, activation='relu', padding='same')(pool21)\n",
    "pool22 = MaxPooling2D(pool_size=(2, 2))(conv22)\n",
    "flat2 = Flatten()(pool22)\n",
    "print ('cov21.shape', conv21.shape)\n",
    "print ('poo21.shape', pool21.shape)\n",
    "print ('cov22.shape', conv22.shape)\n",
    "print ('poo22.shape', pool22.shape)"
   ]
  },
  {
   "cell_type": "code",
   "execution_count": 10,
   "id": "1e73c23c-a649-4883-a6a3-70a984907366",
   "metadata": {},
   "outputs": [],
   "source": [
    "merge = concatenate([flat1, flat2])"
   ]
  },
  {
   "cell_type": "code",
   "execution_count": 32,
   "id": "44af81bc-60e9-45df-bcfc-c2c1bc23087a",
   "metadata": {},
   "outputs": [],
   "source": [
    "# interpretation model\n",
    "hidden1 = Dense(50, activation='relu')(merge)\n",
    "dropout1 = Dropout(0.1)(hidden1)\n",
    "hidden2 = Dense(20, activation='relu')(dropout1)\n",
    "dropout2 = Dropout(0.1)(hidden2)\n",
    "output = Dense(3)(dropout2)\n",
    "cnn = Model(inputs=[visible1, visible2], outputs=output)"
   ]
  },
  {
   "cell_type": "code",
   "execution_count": 33,
   "id": "6894db83-2f69-4fae-81cc-cce1df7f1dc4",
   "metadata": {
    "scrolled": true
   },
   "outputs": [],
   "source": [
    "# summarize layers\n",
    "# print(cnn.summary())"
   ]
  },
  {
   "cell_type": "code",
   "execution_count": 34,
   "id": "6f150176-4120-4ff8-ada4-a8bfc0b0e300",
   "metadata": {},
   "outputs": [
    {
     "data": {
      "text/plain": [
       "[<KerasTensor: shape=(None, 4, 16, 1) dtype=float32 (created by layer 'input_1')>,\n",
       " <KerasTensor: shape=(None, 4, 128, 1) dtype=float32 (created by layer 'input_2')>]"
      ]
     },
     "execution_count": 34,
     "metadata": {},
     "output_type": "execute_result"
    }
   ],
   "source": [
    "cnn.inputs"
   ]
  },
  {
   "cell_type": "markdown",
   "id": "67c58e1e-c3a5-4f28-aa3c-decbeb3e9d72",
   "metadata": {},
   "source": [
    "## Train the model"
   ]
  },
  {
   "cell_type": "code",
   "execution_count": 35,
   "id": "d21c1d6c-5a4a-49e0-a1be-822b81b9f1ad",
   "metadata": {},
   "outputs": [],
   "source": [
    "def train_iteration(lr, epochs):\n",
    "    cnn.compile(\n",
    "        optimizer=tf.keras.optimizers.Adam(learning_rate=lr),\n",
    "        loss=tf.keras.losses.SparseCategoricalCrossentropy(from_logits=True),\n",
    "        metrics=[\"accuracy\"]\n",
    "    )    \n",
    "    return cnn.fit(\n",
    "        X_train, Y_train,\n",
    "        epochs=epochs, batch_size=32,\n",
    "        validation_data=(X_test, Y_test),\n",
    "    )"
   ]
  },
  {
   "cell_type": "code",
   "execution_count": 36,
   "id": "7ba0b06f-785d-4744-b99b-b7d511f9d564",
   "metadata": {},
   "outputs": [
    {
     "name": "stdout",
     "output_type": "stream",
     "text": [
      "Epoch 1/5\n",
      "657/657 [==============================] - 6s 6ms/step - loss: 0.5563 - accuracy: 0.8861 - val_loss: 0.1440 - val_accuracy: 0.9548\n",
      "Epoch 2/5\n",
      "657/657 [==============================] - 4s 7ms/step - loss: 0.2398 - accuracy: 0.9277 - val_loss: 0.2044 - val_accuracy: 0.9389\n",
      "Epoch 3/5\n",
      "657/657 [==============================] - 4s 5ms/step - loss: 0.2507 - accuracy: 0.9210 - val_loss: 0.2866 - val_accuracy: 0.9102\n",
      "Epoch 4/5\n",
      "657/657 [==============================] - 4s 5ms/step - loss: 0.2149 - accuracy: 0.9317 - val_loss: 0.1676 - val_accuracy: 0.9512\n",
      "Epoch 5/5\n",
      "657/657 [==============================] - 4s 6ms/step - loss: 0.3048 - accuracy: 0.9076 - val_loss: 0.2053 - val_accuracy: 0.9390\n"
     ]
    },
    {
     "data": {
      "text/plain": [
       "<keras.src.callbacks.History at 0x7fdb7436d3a0>"
      ]
     },
     "execution_count": 36,
     "metadata": {},
     "output_type": "execute_result"
    }
   ],
   "source": [
    "train_iteration(lr=1e-2, epochs=5)"
   ]
  },
  {
   "cell_type": "code",
   "execution_count": 37,
   "id": "384a7efc-c00c-419a-aac5-cf0fde65904f",
   "metadata": {},
   "outputs": [
    {
     "name": "stdout",
     "output_type": "stream",
     "text": [
      "Epoch 1/5\n",
      "657/657 [==============================] - 7s 7ms/step - loss: 0.1550 - accuracy: 0.9573 - val_loss: 0.1267 - val_accuracy: 0.9655\n",
      "Epoch 2/5\n",
      "657/657 [==============================] - 4s 6ms/step - loss: 0.1797 - accuracy: 0.9540 - val_loss: 0.1510 - val_accuracy: 0.9606\n",
      "Epoch 3/5\n",
      "657/657 [==============================] - 4s 5ms/step - loss: 0.1425 - accuracy: 0.9599 - val_loss: 0.1137 - val_accuracy: 0.9677\n",
      "Epoch 4/5\n",
      "657/657 [==============================] - 3s 5ms/step - loss: 0.1386 - accuracy: 0.9603 - val_loss: 0.2088 - val_accuracy: 0.9686\n",
      "Epoch 5/5\n",
      "657/657 [==============================] - 4s 6ms/step - loss: 0.1349 - accuracy: 0.9600 - val_loss: 0.1582 - val_accuracy: 0.9689\n"
     ]
    },
    {
     "data": {
      "text/plain": [
       "<keras.src.callbacks.History at 0x7fdaa823f490>"
      ]
     },
     "execution_count": 37,
     "metadata": {},
     "output_type": "execute_result"
    }
   ],
   "source": [
    "train_iteration(lr=2e-3, epochs=5)"
   ]
  },
  {
   "cell_type": "code",
   "execution_count": 38,
   "id": "53dc0ba1-475b-417b-b7cd-b4cdc39e7f4a",
   "metadata": {},
   "outputs": [
    {
     "name": "stdout",
     "output_type": "stream",
     "text": [
      "Epoch 1/5\n",
      "657/657 [==============================] - 7s 7ms/step - loss: 0.1171 - accuracy: 0.9685 - val_loss: 0.1173 - val_accuracy: 0.9687\n",
      "Epoch 2/5\n",
      "657/657 [==============================] - 5s 7ms/step - loss: 0.1015 - accuracy: 0.9698 - val_loss: 0.1366 - val_accuracy: 0.9701\n",
      "Epoch 3/5\n",
      "657/657 [==============================] - 4s 5ms/step - loss: 0.1304 - accuracy: 0.9686 - val_loss: 0.1331 - val_accuracy: 0.9690\n",
      "Epoch 4/5\n",
      "657/657 [==============================] - 4s 6ms/step - loss: 0.1095 - accuracy: 0.9670 - val_loss: 0.1255 - val_accuracy: 0.9704\n",
      "Epoch 5/5\n",
      "657/657 [==============================] - 4s 6ms/step - loss: 0.1004 - accuracy: 0.9717 - val_loss: 0.1278 - val_accuracy: 0.9704\n"
     ]
    },
    {
     "data": {
      "text/plain": [
       "<keras.src.callbacks.History at 0x7fda7e61f130>"
      ]
     },
     "execution_count": 38,
     "metadata": {},
     "output_type": "execute_result"
    }
   ],
   "source": [
    "train_iteration(lr=1e-3, epochs=5)"
   ]
  },
  {
   "cell_type": "code",
   "execution_count": null,
   "id": "95ab6382-ec39-4634-9d6e-cb283c6917fa",
   "metadata": {},
   "outputs": [],
   "source": [
    "train_iteration(lr=2e-4, epochs=5)"
   ]
  },
  {
   "cell_type": "code",
   "execution_count": null,
   "id": "a2ed5700-5061-4b2f-879e-cde30c4dd9c5",
   "metadata": {},
   "outputs": [],
   "source": [
    "train_iteration(lr=2e-4, epochs=10)"
   ]
  },
  {
   "cell_type": "code",
   "execution_count": null,
   "id": "4e3d6a9e-88bd-4647-bb9a-fae1a3495471",
   "metadata": {},
   "outputs": [],
   "source": [
    "# Save this model\n",
    "os.makedirs(f\"{model_dir}\", exist_ok=True)\n",
    "\n",
    "print(f\"task name: {task_name}\")\n",
    "cnn.save(f\"{model_dir}/{task_name}_cnn\")"
   ]
  },
  {
   "cell_type": "code",
   "execution_count": null,
   "id": "87a2003b-b6a3-4729-8d6b-3b119aba2f65",
   "metadata": {},
   "outputs": [],
   "source": [
    "import json\n",
    "\n",
    "os.makedirs(f\"{output_dir}/cnn\", exist_ok=True)\n",
    "with open(f\"{output_dir}/cnn/{task_name}_train_history.json\", \"w\") as fout:\n",
    "    json.dump({\n",
    "        key: history.history[key] for key in [\"loss\", \"val_loss\", \"acc\", \"val_acc\"]\n",
    "    }, fout)"
   ]
  }
 ],
 "metadata": {
  "kernelspec": {
   "display_name": "Python 3 (ipykernel)",
   "language": "python",
   "name": "python3"
  },
  "language_info": {
   "codemirror_mode": {
    "name": "ipython",
    "version": 3
   },
   "file_extension": ".py",
   "mimetype": "text/x-python",
   "name": "python",
   "nbconvert_exporter": "python",
   "pygments_lexer": "ipython3",
   "version": "3.8.10"
  }
 },
 "nbformat": 4,
 "nbformat_minor": 5
}
