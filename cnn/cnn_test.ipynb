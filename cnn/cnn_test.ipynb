{
 "cells": [
  {
   "cell_type": "markdown",
   "id": "0820a0b1-35f7-4d92-b041-81e6882dff5f",
   "metadata": {},
   "source": [
    "# Test CNN models\n",
    "\n",
    "Give average accuracies for each task, and generate confusion matrix plots."
   ]
  },
  {
   "cell_type": "code",
   "execution_count": 1,
   "id": "4482d141-aa38-431e-a075-063b46349fd4",
   "metadata": {},
   "outputs": [
    {
     "name": "stderr",
     "output_type": "stream",
     "text": [
      "2024-01-16 04:28:03.109584: I tensorflow/core/platform/cpu_feature_guard.cc:182] This TensorFlow binary is optimized to use available CPU instructions in performance-critical operations.\n",
      "To enable the following instructions: AVX2 AVX512F FMA, in other operations, rebuild TensorFlow with the appropriate compiler flags.\n",
      "2024-01-16 04:28:03.922837: W tensorflow/compiler/tf2tensorrt/utils/py_utils.cc:38] TF-TRT Warning: Could not find TensorRT\n"
     ]
    }
   ],
   "source": [
    "import sys\n",
    "sys.path.append(\"..\")\n",
    "\n",
    "import os\n",
    "import json\n",
    "import numpy as np\n",
    "import keras\n",
    "import tensorflow as tf\n",
    "from sklearn.metrics import confusion_matrix\n",
    "import matplotlib.pyplot as plt"
   ]
  },
  {
   "cell_type": "code",
   "execution_count": 2,
   "id": "7d8416dd-4289-44c4-9e70-f7f58f2ed092",
   "metadata": {},
   "outputs": [
    {
     "name": "stdout",
     "output_type": "stream",
     "text": [
      "Importing lots of stuff...\n"
     ]
    }
   ],
   "source": [
    "from test_model import plot_cm, model_dir, output_dir\n",
    "from cnn_data import load_data"
   ]
  },
  {
   "cell_type": "markdown",
   "id": "b06056ef-271e-419e-b357-e727acf6ec62",
   "metadata": {},
   "source": [
    "## Confusion matrix construction"
   ]
  },
  {
   "cell_type": "code",
   "execution_count": 3,
   "id": "f00d6181-7b40-4253-bcd4-e7815771f1d0",
   "metadata": {},
   "outputs": [],
   "source": [
    "def evaluate_cnn(task_name):\n",
    "    print(f\"Loading data for task {task_name}...\")\n",
    "    X_test, Y_test, _, _ = load_data(task_name)\n",
    "    print(f\"Loading model...\")\n",
    "    cnn = keras.models.load_model(f\"{model_dir}/{task_name}_cnn\")\n",
    "    \n",
    "    Y_pred = np.argmax(cnn.predict(X_test, batch_size=900), axis=1)\n",
    "    \n",
    "    cm = confusion_matrix(Y_test, Y_pred).astype(float)\n",
    "    cm /= np.sum(cm, axis=1, keepdims=True)\n",
    "    task2label = {\n",
    "        \"scalar1\": r\"$s\\rightarrow\\pi^0\\pi^0$\",\n",
    "        \"axion1\": r\"$a\\rightarrow\\gamma\\gamma$\",\n",
    "        \"axion2\": r\"$a\\rightarrow3\\pi^0$\"\n",
    "    }\n",
    "    labels = [r\"$\\pi^0$\", r\"$\\gamma$\", task2label[task_name]]\n",
    "    \n",
    "    os.makedirs(f\"{output_dir}/cnn\", exist_ok=True)\n",
    "    plot_cm(\n",
    "        cm,\n",
    "        labels=labels,\n",
    "        save_path=f\"{output_dir}/cnn/{task_name}_cm.pdf\"\n",
    "    )\n",
    "    test_accuracy = np.mean(Y_pred == Y_test)\n",
    "    print(f\"\\nMean test accuracy for {task_name}: {test_accuracy:.5f}\")\n",
    "    \n",
    "    return test_accuracy, cm"
   ]
  },
  {
   "cell_type": "code",
   "execution_count": 4,
   "id": "cf802055-8cac-4e4f-aac7-80094d2d274e",
   "metadata": {},
   "outputs": [
    {
     "name": "stdout",
     "output_type": "stream",
     "text": [
      "Loading data for task scalar1...\n",
      "load_data from datafile /data/wifeng/photon-jet/data/h5/pi0_40-250GeV_100k.h5\n",
      "load_data from datafile /data/wifeng/photon-jet/data/h5/gamma_40-250GeV_100k.h5\n",
      "load_data from datafile /data/wifeng/photon-jet/data/h5/scalar1_40-250GeV_100k.h5\n",
      "Loading model...\n"
     ]
    },
    {
     "name": "stderr",
     "output_type": "stream",
     "text": [
      "2024-01-16 04:28:12.807090: I tensorflow/core/common_runtime/gpu/gpu_device.cc:1639] Created device /job:localhost/replica:0/task:0/device:GPU:0 with 9804 MB memory:  -> device: 0, name: NVIDIA GeForce RTX 2080 Ti, pci bus id: 0000:89:00.0, compute capability: 7.5\n",
      "2024-01-16 04:28:12.808630: I tensorflow/core/common_runtime/gpu/gpu_device.cc:1639] Created device /job:localhost/replica:0/task:0/device:GPU:1 with 9804 MB memory:  -> device: 1, name: NVIDIA GeForce RTX 2080 Ti, pci bus id: 0000:b1:00.0, compute capability: 7.5\n",
      "2024-01-16 04:28:12.809966: I tensorflow/core/common_runtime/gpu/gpu_device.cc:1639] Created device /job:localhost/replica:0/task:0/device:GPU:2 with 9804 MB memory:  -> device: 2, name: NVIDIA GeForce RTX 2080 Ti, pci bus id: 0000:b2:00.0, compute capability: 7.5\n",
      "2024-01-16 04:28:14.575755: I tensorflow/compiler/xla/stream_executor/cuda/cuda_dnn.cc:432] Loaded cuDNN version 8700\n",
      "2024-01-16 04:28:14.729006: I tensorflow/tsl/platform/default/subprocess.cc:304] Start cannot spawn child process: No such file or directory\n"
     ]
    },
    {
     "name": "stdout",
     "output_type": "stream",
     "text": [
      "24/24 [==============================] - 1s 10ms/step\n",
      "\n",
      "Mean test accuracy for scalar1: 0.98862\n"
     ]
    },
    {
     "data": {
      "image/png": "[encoded data removed]",
      "text/plain": [
       "<Figure size 640x480 with 1 Axes>"
      ]
     },
     "metadata": {},
     "output_type": "display_data"
    }
   ],
   "source": [
    "evaluate_cnn(\"scalar1\");"
   ]
  }
 ],
 "metadata": {
  "kernelspec": {
   "display_name": "Python 3 (ipykernel)",
   "language": "python",
   "name": "python3"
  },
  "language_info": {
   "codemirror_mode": {
    "name": "ipython",
    "version": 3
   },
   "file_extension": ".py",
   "mimetype": "text/x-python",
   "name": "python",
   "nbconvert_exporter": "python",
   "pygments_lexer": "ipython3",
   "version": "3.8.10"
  }
 },
 "nbformat": 4,
 "nbformat_minor": 5
}
