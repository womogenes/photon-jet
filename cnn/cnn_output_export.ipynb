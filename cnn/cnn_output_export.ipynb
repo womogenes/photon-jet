{
 "cells": [
  {
   "cell_type": "code",
   "execution_count": 1,
   "id": "8174f88b-efc3-4dcc-8b89-746275aecaae",
   "metadata": {},
   "outputs": [
    {
     "name": "stdout",
     "output_type": "stream",
     "text": [
      "Started...\n",
      "Importing small stuff...\n",
      "Importing scipy stuff...\n"
     ]
    },
    {
     "name": "stderr",
     "output_type": "stream",
     "text": [
      "2024-01-21 05:26:55.580782: I tensorflow/core/platform/cpu_feature_guard.cc:182] This TensorFlow binary is optimized to use available CPU instructions in performance-critical operations.\n",
      "To enable the following instructions: AVX2 AVX512F FMA, in other operations, rebuild TensorFlow with the appropriate compiler flags.\n",
      "2024-01-21 05:27:16.402228: W tensorflow/compiler/tf2tensorrt/utils/py_utils.cc:38] TF-TRT Warning: Could not find TensorRT\n"
     ]
    }
   ],
   "source": [
    "print(\"Started...\")\n",
    "import sys\n",
    "sys.path.append(\"..\")\n",
    "\n",
    "print(\"Importing small stuff...\")\n",
    "import os\n",
    "import json\n",
    "import pickle\n",
    "import numpy as np\n",
    "\n",
    "print(\"Importing scipy stuff...\")\n",
    "from scipy.special import softmax\n",
    "from scipy.integrate import simpson\n",
    "from scipy.optimize import root\n",
    "from sklearn.metrics import confusion_matrix\n",
    "\n",
    "from tensorflow import keras\n",
    "\n",
    "from tabulate import tabulate\n",
    "import matplotlib.pyplot as plt"
   ]
  },
  {
   "cell_type": "code",
   "execution_count": 2,
   "id": "f6eaab72-2970-41fb-9d0c-e6d7d8d8b5de",
   "metadata": {},
   "outputs": [
    {
     "name": "stdout",
     "output_type": "stream",
     "text": [
      "Importing lots of stuff...\n"
     ]
    }
   ],
   "source": [
    "from test_model import plot_cm, model_dir, output_dir, data_dir"
   ]
  },
  {
   "cell_type": "code",
   "execution_count": 3,
   "id": "7ecdfb2d-d5e3-4c51-8e89-fa53e78f2418",
   "metadata": {},
   "outputs": [],
   "source": [
    "task_name = \"axion2\""
   ]
  },
  {
   "cell_type": "code",
   "execution_count": 4,
   "id": "89d73f33-d0f0-41d2-b5c8-d08ffa2f06eb",
   "metadata": {},
   "outputs": [
    {
     "name": "stdout",
     "output_type": "stream",
     "text": [
      "Loading data for task axion2...\n",
      "Loading model...\n"
     ]
    },
    {
     "name": "stderr",
     "output_type": "stream",
     "text": [
      "2024-01-21 05:27:53.654947: I tensorflow/core/common_runtime/gpu/gpu_device.cc:1639] Created device /job:localhost/replica:0/task:0/device:GPU:0 with 9804 MB memory:  -> device: 0, name: NVIDIA GeForce RTX 2080 Ti, pci bus id: 0000:1a:00.0, compute capability: 7.5\n",
      "2024-01-21 05:27:53.655937: I tensorflow/core/common_runtime/gpu/gpu_device.cc:1639] Created device /job:localhost/replica:0/task:0/device:GPU:1 with 9804 MB memory:  -> device: 1, name: NVIDIA GeForce RTX 2080 Ti, pci bus id: 0000:1b:00.0, compute capability: 7.5\n",
      "2024-01-21 05:27:53.656809: I tensorflow/core/common_runtime/gpu/gpu_device.cc:1639] Created device /job:localhost/replica:0/task:0/device:GPU:2 with 9804 MB memory:  -> device: 2, name: NVIDIA GeForce RTX 2080 Ti, pci bus id: 0000:3d:00.0, compute capability: 7.5\n",
      "2024-01-21 05:27:53.657600: I tensorflow/core/common_runtime/gpu/gpu_device.cc:1639] Created device /job:localhost/replica:0/task:0/device:GPU:3 with 9804 MB memory:  -> device: 3, name: NVIDIA GeForce RTX 2080 Ti, pci bus id: 0000:3e:00.0, compute capability: 7.5\n",
      "2024-01-21 05:27:56.682827: I tensorflow/compiler/xla/stream_executor/cuda/cuda_dnn.cc:432] Loaded cuDNN version 8700\n",
      "2024-01-21 05:27:56.880324: I tensorflow/tsl/platform/default/subprocess.cc:304] Start cannot spawn child process: No such file or directory\n"
     ]
    },
    {
     "name": "stdout",
     "output_type": "stream",
     "text": [
      "900/900 [==============================] - 2s 2ms/step\n"
     ]
    }
   ],
   "source": [
    "print(f\"Loading data for task {task_name}...\")\n",
    "\n",
    "with open(f\"{data_dir}/processed/cnn/{task_name}_X_test.pkl\", \"rb\") as fin:\n",
    "    X_test = pickle.load(fin)\n",
    "with open(f\"{data_dir}/processed/cnn/{task_name}_Y_test.pkl\", \"rb\") as fin:\n",
    "    Y_test = pickle.load(fin)\n",
    "    \n",
    "print(f\"Loading model...\")\n",
    "cnn = keras.models.load_model(f\"{model_dir}/{task_name}_cnn\")\n",
    "\n",
    "y_pred = cnn.predict(X_test, batch_size=100)"
   ]
  },
  {
   "cell_type": "code",
   "execution_count": 5,
   "id": "f39d8f6a-e9e3-4733-af7a-3ce2cff63a58",
   "metadata": {},
   "outputs": [],
   "source": [
    "np.savez(f\"{data_dir}/model_outputs/{task_name}_cnn_test.npz\", raw_outputs=y_pred, y_true=Y_test)"
   ]
  },
  {
   "cell_type": "code",
   "execution_count": 6,
   "id": "6674660f-1919-43a3-8323-1bb13cd2df75",
   "metadata": {},
   "outputs": [
    {
     "name": "stdout",
     "output_type": "stream",
     "text": [
      "2813/2813 [==============================] - 6s 2ms/step - loss: 0.0469 - accuracy: 0.9868\n"
     ]
    },
    {
     "data": {
      "text/plain": [
       "[0.04688137397170067, 0.9868333339691162]"
      ]
     },
     "execution_count": 6,
     "metadata": {},
     "output_type": "execute_result"
    }
   ],
   "source": [
    "cnn.evaluate(X_test, Y_test)"
   ]
  }
 ],
 "metadata": {
  "kernelspec": {
   "display_name": "Python (tf2)",
   "language": "python",
   "name": "tf"
  },
  "language_info": {
   "codemirror_mode": {
    "name": "ipython",
    "version": 3
   },
   "file_extension": ".py",
   "mimetype": "text/x-python",
   "name": "python",
   "nbconvert_exporter": "python",
   "pygments_lexer": "ipython3",
   "version": "3.11.6"
  }
 },
 "nbformat": 4,
 "nbformat_minor": 5
}
