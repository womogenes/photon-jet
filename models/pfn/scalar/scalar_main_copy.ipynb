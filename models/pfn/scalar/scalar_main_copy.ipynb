{
 "cells": [
  {
   "cell_type": "markdown",
   "id": "21f93689-eea9-407e-9614-120e029a137b",
   "metadata": {},
   "source": [
    "# Test stuff for PFN model\n",
    "\n",
    "Classify pions, photons, and **scalars**"
   ]
  },
  {
   "cell_type": "code",
   "execution_count": 2,
   "id": "44db5291-bdc8-4a14-884d-8e08c17ca30b",
   "metadata": {
    "tags": []
   },
   "outputs": [
    {
     "name": "stdout",
     "output_type": "stream",
     "text": [
      "Importing tensorflow...\n",
      "Enabling memory growth...\n"
     ]
    }
   ],
   "source": [
    "# Add import paths\n",
    "import sys\n",
    "sys.path.append(\"..\")\n",
    "\n",
    "import os\n",
    "os.environ[\"TF_CPP_MIN_LOG_LEVEL\"] = \"2\"\n",
    "\n",
    "import numpy as np\n",
    "import datetime as dt\n",
    "from utils import print_gpu_memory\n",
    "\n",
    "# Make tensorflow not use too much memory\n",
    "print(f\"Importing tensorflow...\")\n",
    "import tensorflow as tf\n",
    "print(f\"Enabling memory growth...\")\n",
    "gpus = tf.config.list_physical_devices(\"GPU\")\n",
    "for gpu in gpus:\n",
    "    tf.config.experimental.set_memory_growth(gpu, True)\n",
    "\n",
    "disk_dir = \"/usatlas/atlas01/atlasdisk/users/atlas_wifeng\""
   ]
  },
  {
   "cell_type": "code",
   "execution_count": 3,
   "id": "179386df-5d96-468d-bdef-b61cd5ea4db9",
   "metadata": {
    "tags": []
   },
   "outputs": [
    {
     "name": "stdout",
     "output_type": "stream",
     "text": [
      "(240000, 960, 4) (240000, 3)\n"
     ]
    }
   ],
   "source": [
    "# Get data\n",
    "from data import get_data\n",
    "(X_train, X_val, X_test,\n",
    " Y_train, Y_val, Y_test) = get_data(\"scalar_test/all_jets_point_cloud.npz\")\n",
    "\n",
    "print(X_train.shape, Y_train.shape)"
   ]
  },
  {
   "cell_type": "code",
   "execution_count": 4,
   "id": "a5a46b41-fa4a-4248-984f-7bac6a9f52a1",
   "metadata": {
    "tags": []
   },
   "outputs": [],
   "source": [
    "# Build model\n",
    "from model import PFN\n",
    "Phi_sizes = [256, 256, 256, 128, 128, 128]\n",
    "F_sizes = [256, 256, 256, 128, 128, 128]\n",
    "\n",
    "_, n_particles, n_features = X_train.shape\n",
    "model = PFN(\n",
    "    n_features=n_features,\n",
    "    n_particles=n_particles,\n",
    "    n_outputs=Y_train.shape[1],\n",
    "    Phi_sizes=Phi_sizes,\n",
    "    F_sizes=F_sizes\n",
    ")"
   ]
  },
  {
   "cell_type": "code",
   "execution_count": 5,
   "id": "01fd9137-f21b-46bf-bb0a-2f230dfccf25",
   "metadata": {
    "tags": []
   },
   "outputs": [],
   "source": [
    "from collections import defaultdict\n",
    "history = defaultdict(list)"
   ]
  },
  {
   "cell_type": "code",
   "execution_count": 6,
   "id": "b556fba9-41d8-46a5-bed9-28eafdec01ee",
   "metadata": {
    "tags": []
   },
   "outputs": [],
   "source": [
    "# Utility functions for training\n",
    "from train_model import train_model\n",
    "\n",
    "def train_iteration(lr, epochs):\n",
    "    fit_history = train_model(\n",
    "        model=model, \n",
    "        data=(X_train, X_val, Y_train, Y_val),\n",
    "        lr=lr,\n",
    "        epochs=epochs\n",
    "    )\n",
    "    print(f\"\\nSaving history...\")\n",
    "    for key in [\"loss\", \"val_loss\", \"accuracy\", \"val_accuracy\"]:\n",
    "        history[key].extend(fit_history.history[key])\n",
    "    return fit_history\n",
    "\n",
    "def save_model(name):\n",
    "    model_dir = f\"{disk_dir}/photon-jet/models/pfn\"\n",
    "    cur_date = dt.datetime.now().strftime(\"%Y-%m-%d\")\n",
    "    model.save(f\"{model_dir}/{name}_{cur_date}\")"
   ]
  },
  {
   "cell_type": "code",
   "execution_count": 7,
   "id": "e7125c32-0792-4102-957c-33af01279951",
   "metadata": {},
   "outputs": [
    {
     "name": "stdout",
     "output_type": "stream",
     "text": [
      "GPU memory usage\n",
      "  current: 1.75 MB\n",
      "  peak:    2.0 MB\n"
     ]
    }
   ],
   "source": [
    "print_gpu_memory()"
   ]
  },
  {
   "cell_type": "code",
   "execution_count": 8,
   "id": "c5c7ed25-1b3b-4bc9-a133-2ba36d83ae5e",
   "metadata": {
    "collapsed": true,
    "jupyter": {
     "outputs_hidden": true
    },
    "tags": []
   },
   "outputs": [
    {
     "name": "stdout",
     "output_type": "stream",
     "text": [
      "=== Training [2023-06-07 20:12:13.511548] ===\n",
      "Epoch 1/30\n",
      "2400/2400 [==============================] - 94s 36ms/step - loss: 2.8511 - accuracy: 0.3363 - val_loss: 1.0982 - val_accuracy: 0.3330\n",
      "Epoch 2/30\n",
      "2400/2400 [==============================] - 86s 36ms/step - loss: 1.1433 - accuracy: 0.3765 - val_loss: 1.0536 - val_accuracy: 0.4084\n",
      "Epoch 3/30\n",
      "2400/2400 [==============================] - 86s 36ms/step - loss: 1.0433 - accuracy: 0.4416 - val_loss: 1.0351 - val_accuracy: 0.4453\n",
      "Epoch 4/30\n",
      "2400/2400 [==============================] - 86s 36ms/step - loss: 1.0368 - accuracy: 0.4477 - val_loss: 1.0399 - val_accuracy: 0.4381\n",
      "Epoch 5/30\n",
      "2400/2400 [==============================] - 86s 36ms/step - loss: 1.0649 - accuracy: 0.4520 - val_loss: 1.0174 - val_accuracy: 0.4523\n",
      "Epoch 6/30\n",
      "2400/2400 [==============================] - 86s 36ms/step - loss: 0.9774 - accuracy: 0.4904 - val_loss: 0.9398 - val_accuracy: 0.5240\n",
      "Epoch 7/30\n",
      "2400/2400 [==============================] - 86s 36ms/step - loss: 0.9011 - accuracy: 0.5445 - val_loss: 0.8918 - val_accuracy: 0.5478\n",
      "Epoch 8/30\n",
      "2400/2400 [==============================] - 86s 36ms/step - loss: 0.7906 - accuracy: 0.6208 - val_loss: 0.6839 - val_accuracy: 0.6727\n",
      "Epoch 9/30\n",
      "2400/2400 [==============================] - 86s 36ms/step - loss: 0.6547 - accuracy: 0.7024 - val_loss: 0.9441 - val_accuracy: 0.5234\n",
      "Epoch 10/30\n",
      "2400/2400 [==============================] - 86s 36ms/step - loss: 0.6089 - accuracy: 0.7265 - val_loss: 0.5406 - val_accuracy: 0.7685\n",
      "Epoch 11/30\n",
      "2400/2400 [==============================] - 86s 36ms/step - loss: 0.5059 - accuracy: 0.7824 - val_loss: 0.4597 - val_accuracy: 0.8065\n",
      "Epoch 12/30\n",
      "2400/2400 [==============================] - 86s 36ms/step - loss: 0.6053 - accuracy: 0.7278 - val_loss: 0.6926 - val_accuracy: 0.6874\n",
      "Epoch 13/30\n",
      "2400/2400 [==============================] - 86s 36ms/step - loss: 0.5742 - accuracy: 0.7436 - val_loss: 0.5863 - val_accuracy: 0.7364\n",
      "Epoch 14/30\n",
      "2400/2400 [==============================] - 86s 36ms/step - loss: 0.4888 - accuracy: 0.7902 - val_loss: 0.5036 - val_accuracy: 0.7920\n",
      "Epoch 15/30\n",
      "2400/2400 [==============================] - 86s 36ms/step - loss: 0.4193 - accuracy: 0.8248 - val_loss: 0.4957 - val_accuracy: 0.7934\n",
      "Epoch 16/30\n",
      "2400/2400 [==============================] - 86s 36ms/step - loss: 0.7960 - accuracy: 0.7200 - val_loss: 0.5456 - val_accuracy: 0.7640\n",
      "Epoch 17/30\n",
      "2400/2400 [==============================] - 85s 36ms/step - loss: 0.4158 - accuracy: 0.8261 - val_loss: 0.3920 - val_accuracy: 0.8319\n",
      "Epoch 18/30\n",
      "2400/2400 [==============================] - 86s 36ms/step - loss: 0.3806 - accuracy: 0.8421 - val_loss: 0.3810 - val_accuracy: 0.8447\n",
      "Epoch 19/30\n",
      "2400/2400 [==============================] - 86s 36ms/step - loss: 0.3824 - accuracy: 0.8414 - val_loss: 0.4956 - val_accuracy: 0.7927\n",
      "Epoch 20/30\n",
      "2400/2400 [==============================] - 86s 36ms/step - loss: 0.3693 - accuracy: 0.8474 - val_loss: 0.3881 - val_accuracy: 0.8419\n",
      "Epoch 21/30\n",
      "2400/2400 [==============================] - 85s 36ms/step - loss: 0.3706 - accuracy: 0.8463 - val_loss: 0.3606 - val_accuracy: 0.8544\n",
      "Epoch 22/30\n",
      "2400/2400 [==============================] - 86s 36ms/step - loss: 0.3431 - accuracy: 0.8591 - val_loss: 0.3303 - val_accuracy: 0.8644\n",
      "Epoch 23/30\n",
      "2400/2400 [==============================] - 86s 36ms/step - loss: 0.3654 - accuracy: 0.8496 - val_loss: 0.3045 - val_accuracy: 0.8761\n",
      "Epoch 24/30\n",
      "2400/2400 [==============================] - 86s 36ms/step - loss: 0.3328 - accuracy: 0.8646 - val_loss: 0.3465 - val_accuracy: 0.8553\n",
      "Epoch 25/30\n",
      "2400/2400 [==============================] - 86s 36ms/step - loss: 0.3568 - accuracy: 0.8511 - val_loss: 0.3696 - val_accuracy: 0.8467\n",
      "Epoch 26/30\n",
      "2400/2400 [==============================] - 86s 36ms/step - loss: 0.3316 - accuracy: 0.8644 - val_loss: 0.3356 - val_accuracy: 0.8627\n",
      "Epoch 27/30\n",
      "2400/2400 [==============================] - 86s 36ms/step - loss: 0.3148 - accuracy: 0.8716 - val_loss: 0.3239 - val_accuracy: 0.8657\n",
      "Epoch 28/30\n",
      "2400/2400 [==============================] - 86s 36ms/step - loss: 0.3071 - accuracy: 0.8755 - val_loss: 0.3165 - val_accuracy: 0.8681\n",
      "Epoch 29/30\n",
      "2400/2400 [==============================] - 85s 36ms/step - loss: 0.3100 - accuracy: 0.8729 - val_loss: 0.3032 - val_accuracy: 0.8774\n",
      "Epoch 30/30\n",
      "2400/2400 [==============================] - 86s 36ms/step - loss: 0.2883 - accuracy: 0.8827 - val_loss: 0.2473 - val_accuracy: 0.9012\n",
      "\n",
      "Saving history...\n"
     ]
    },
    {
     "data": {
      "text/plain": [
       "<keras.callbacks.History at 0x2b3a6d714400>"
      ]
     },
     "execution_count": 8,
     "metadata": {},
     "output_type": "execute_result"
    }
   ],
   "source": [
    "print(f\"=== Training [{dt.datetime.now()}] ===\")\n",
    "train_iteration(lr=2e-4, epochs=30)"
   ]
  },
  {
   "cell_type": "code",
   "execution_count": 9,
   "id": "945c82e7-d0fb-4dae-b9af-d00da171e07e",
   "metadata": {},
   "outputs": [
    {
     "name": "stdout",
     "output_type": "stream",
     "text": [
      "=== Training [2023-06-07 20:55:42.446690] ===\n",
      "Epoch 1/30\n",
      "2400/2400 [==============================] - 91s 36ms/step - loss: 0.2041 - accuracy: 0.9216 - val_loss: 0.2215 - val_accuracy: 0.9137\n",
      "Epoch 2/30\n",
      "2400/2400 [==============================] - 86s 36ms/step - loss: 0.1876 - accuracy: 0.9294 - val_loss: 0.1828 - val_accuracy: 0.9298\n",
      "Epoch 3/30\n",
      "2400/2400 [==============================] - 86s 36ms/step - loss: 0.1765 - accuracy: 0.9335 - val_loss: 0.1686 - val_accuracy: 0.9372\n",
      "Epoch 4/30\n",
      "2400/2400 [==============================] - 86s 36ms/step - loss: 0.1674 - accuracy: 0.9371 - val_loss: 0.1694 - val_accuracy: 0.9362\n",
      "Epoch 5/30\n",
      "2400/2400 [==============================] - 86s 36ms/step - loss: 0.1599 - accuracy: 0.9405 - val_loss: 0.1628 - val_accuracy: 0.9383\n",
      "Epoch 6/30\n",
      "2400/2400 [==============================] - 86s 36ms/step - loss: 0.1526 - accuracy: 0.9435 - val_loss: 0.1449 - val_accuracy: 0.9464\n",
      "Epoch 7/30\n",
      "2400/2400 [==============================] - 86s 36ms/step - loss: 0.1468 - accuracy: 0.9458 - val_loss: 0.1439 - val_accuracy: 0.9471\n",
      "Epoch 8/30\n",
      "2400/2400 [==============================] - 86s 36ms/step - loss: 0.1412 - accuracy: 0.9482 - val_loss: 0.1479 - val_accuracy: 0.9448\n",
      "Epoch 9/30\n",
      "2400/2400 [==============================] - 86s 36ms/step - loss: 0.1351 - accuracy: 0.9506 - val_loss: 0.1515 - val_accuracy: 0.9447\n",
      "Epoch 10/30\n",
      "2400/2400 [==============================] - 86s 36ms/step - loss: 0.1305 - accuracy: 0.9524 - val_loss: 0.1395 - val_accuracy: 0.9495\n",
      "Epoch 11/30\n",
      "2400/2400 [==============================] - 86s 36ms/step - loss: 0.1261 - accuracy: 0.9543 - val_loss: 0.1241 - val_accuracy: 0.9553\n",
      "Epoch 12/30\n",
      "2400/2400 [==============================] - 86s 36ms/step - loss: 0.1214 - accuracy: 0.9561 - val_loss: 0.1216 - val_accuracy: 0.9570\n",
      "Epoch 13/30\n",
      "2400/2400 [==============================] - 86s 36ms/step - loss: 0.1185 - accuracy: 0.9573 - val_loss: 0.1139 - val_accuracy: 0.9597\n",
      "Epoch 14/30\n",
      "2400/2400 [==============================] - 87s 36ms/step - loss: 0.1143 - accuracy: 0.9589 - val_loss: 0.1189 - val_accuracy: 0.9578\n",
      "Epoch 15/30\n",
      "2400/2400 [==============================] - 86s 36ms/step - loss: 0.1128 - accuracy: 0.9594 - val_loss: 0.1160 - val_accuracy: 0.9591\n",
      "Epoch 16/30\n",
      "2400/2400 [==============================] - 86s 36ms/step - loss: 0.1080 - accuracy: 0.9616 - val_loss: 0.1106 - val_accuracy: 0.9604\n",
      "Epoch 17/30\n",
      "2400/2400 [==============================] - 86s 36ms/step - loss: 0.1052 - accuracy: 0.9626 - val_loss: 0.1077 - val_accuracy: 0.9614\n",
      "Epoch 18/30\n",
      "2400/2400 [==============================] - 86s 36ms/step - loss: 0.1021 - accuracy: 0.9635 - val_loss: 0.1165 - val_accuracy: 0.9586\n",
      "Epoch 19/30\n",
      "2400/2400 [==============================] - 86s 36ms/step - loss: 0.1013 - accuracy: 0.9638 - val_loss: 0.1077 - val_accuracy: 0.9613\n",
      "Epoch 20/30\n",
      "2400/2400 [==============================] - 86s 36ms/step - loss: 0.0978 - accuracy: 0.9653 - val_loss: 0.1221 - val_accuracy: 0.9554\n",
      "Epoch 21/30\n",
      "2400/2400 [==============================] - 86s 36ms/step - loss: 0.0971 - accuracy: 0.9654 - val_loss: 0.1103 - val_accuracy: 0.9610\n",
      "Epoch 22/30\n",
      "2400/2400 [==============================] - 86s 36ms/step - loss: 0.0945 - accuracy: 0.9663 - val_loss: 0.0950 - val_accuracy: 0.9671\n",
      "Epoch 23/30\n",
      "2400/2400 [==============================] - 86s 36ms/step - loss: 0.0935 - accuracy: 0.9667 - val_loss: 0.1124 - val_accuracy: 0.9608\n",
      "Epoch 24/30\n",
      "2400/2400 [==============================] - 86s 36ms/step - loss: 0.0922 - accuracy: 0.9674 - val_loss: 0.0948 - val_accuracy: 0.9657\n",
      "Epoch 25/30\n",
      "2400/2400 [==============================] - 86s 36ms/step - loss: 0.0901 - accuracy: 0.9680 - val_loss: 0.0884 - val_accuracy: 0.9702\n",
      "Epoch 26/30\n",
      "2400/2400 [==============================] - 86s 36ms/step - loss: 0.0897 - accuracy: 0.9681 - val_loss: 0.0889 - val_accuracy: 0.9696\n",
      "Epoch 27/30\n",
      "2400/2400 [==============================] - 86s 36ms/step - loss: 0.0882 - accuracy: 0.9687 - val_loss: 0.0870 - val_accuracy: 0.9696\n",
      "Epoch 28/30\n",
      "2400/2400 [==============================] - 86s 36ms/step - loss: 0.0856 - accuracy: 0.9695 - val_loss: 0.1006 - val_accuracy: 0.9657\n",
      "Epoch 29/30\n",
      "2400/2400 [==============================] - 86s 36ms/step - loss: 0.0884 - accuracy: 0.9687 - val_loss: 0.0904 - val_accuracy: 0.9688\n",
      "Epoch 30/30\n",
      "2400/2400 [==============================] - 86s 36ms/step - loss: 0.0843 - accuracy: 0.9700 - val_loss: 0.0956 - val_accuracy: 0.9664\n",
      "\n",
      "Saving history...\n"
     ]
    },
    {
     "data": {
      "text/plain": [
       "<keras.callbacks.History at 0x2b3a6d715c60>"
      ]
     },
     "execution_count": 9,
     "metadata": {},
     "output_type": "execute_result"
    }
   ],
   "source": [
    "print(f\"=== Training [{dt.datetime.now()}] ===\")\n",
    "train_iteration(lr=2e-5, epochs=30)"
   ]
  },
  {
   "cell_type": "code",
   "execution_count": 10,
   "id": "a7aae716-5652-4991-a207-a7c36f6719f7",
   "metadata": {},
   "outputs": [
    {
     "ename": "TypeError",
     "evalue": "save_model() takes 0 positional arguments but 1 was given",
     "output_type": "error",
     "traceback": [
      "\u001b[0;31m---------------------------------------------------------------------------\u001b[0m",
      "\u001b[0;31mTypeError\u001b[0m                                 Traceback (most recent call last)",
      "Cell \u001b[0;32mIn[10], line 1\u001b[0m\n\u001b[0;32m----> 1\u001b[0m \u001b[43msave_model\u001b[49m\u001b[43m(\u001b[49m\u001b[38;5;124;43m\"\u001b[39;49m\u001b[38;5;124;43mbigger_model\u001b[39;49m\u001b[38;5;124;43m\"\u001b[39;49m\u001b[43m)\u001b[49m\n",
      "\u001b[0;31mTypeError\u001b[0m: save_model() takes 0 positional arguments but 1 was given"
     ]
    }
   ],
   "source": [
    "save_model(\"bigger_model\")"
   ]
  },
  {
   "cell_type": "code",
   "execution_count": null,
   "id": "12085427-d09b-4ad9-a81c-43da6815caec",
   "metadata": {
    "tags": []
   },
   "outputs": [],
   "source": [
    "print(f\"=== Training [{dt.datetime.now()}] ===\")\n",
    "train_iteration(lr=2e-6, epochs=30)"
   ]
  },
  {
   "cell_type": "markdown",
   "id": "bc9d76a4-3a5c-4385-b372-8c02bc812187",
   "metadata": {},
   "source": [
    "### Evaluate model"
   ]
  },
  {
   "cell_type": "code",
   "execution_count": null,
   "id": "f8c8639d-410e-4247-9380-508693665e33",
   "metadata": {
    "tags": []
   },
   "outputs": [],
   "source": [
    "from matplotlib import pyplot as plt\n",
    "\n",
    "fig, axs = plt.subplots(1, 2, figsize=(10, 4))\n",
    "ax1, ax2 = axs\n",
    "\n",
    "ax1.plot(history[\"loss\"])\n",
    "ax1.plot(history[\"val_loss\"])\n",
    "ax1.legend([\"loss\", \"val_loss\"])\n",
    "ax1.set_xlabel(\"Epoch\")\n",
    "ax1.set_ylabel(\"Loss\");\n",
    "\n",
    "ax2.plot(history[\"accuracy\"])\n",
    "ax2.plot(history[\"val_accuracy\"])\n",
    "ax2.legend([\"loss\", \"val_accuracy\"])\n",
    "ax2.set_xlabel(\"Epoch\")\n",
    "ax2.set_ylabel(\"Accuracy\");"
   ]
  },
  {
   "cell_type": "code",
   "execution_count": null,
   "id": "fd0e639f-8174-45a8-8154-51b1dcdc5fcc",
   "metadata": {},
   "outputs": [],
   "source": [
    "# Test model\n",
    "from test_model import test_model, plot_cm\n",
    "test_accuracy, cm = test_model(model, (X_test, Y_test))\n",
    "print(f\"Testing accuracy: {test_accuracy}\")\n",
    "\n",
    "plot_cm(cm, [\"pion\", \"photon\", \"axion1\"])"
   ]
  },
  {
   "cell_type": "code",
   "execution_count": null,
   "id": "ced4a76f-b373-4123-9f97-69f265714f57",
   "metadata": {},
   "outputs": [],
   "source": []
  }
 ],
 "metadata": {
  "kernelspec": {
   "display_name": "top-tagging",
   "language": "python",
   "name": "top-tagging"
  },
  "language_info": {
   "codemirror_mode": {
    "name": "ipython",
    "version": 3
   },
   "file_extension": ".py",
   "mimetype": "text/x-python",
   "name": "python",
   "nbconvert_exporter": "python",
   "pygments_lexer": "ipython3",
   "version": "3.10.10"
  }
 },
 "nbformat": 4,
 "nbformat_minor": 5
}
