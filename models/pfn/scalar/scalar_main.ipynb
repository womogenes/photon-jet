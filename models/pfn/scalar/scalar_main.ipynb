{
 "cells": [
  {
   "cell_type": "markdown",
   "id": "21f93689-eea9-407e-9614-120e029a137b",
   "metadata": {},
   "source": [
    "# Test stuff for PFN model\n",
    "\n",
    "Classify pions, photons, and **scalars**"
   ]
  },
  {
   "cell_type": "code",
   "execution_count": 1,
   "id": "44db5291-bdc8-4a14-884d-8e08c17ca30b",
   "metadata": {
    "tags": []
   },
   "outputs": [
    {
     "name": "stdout",
     "output_type": "stream",
     "text": [
      "Importing tensorflow...\n",
      "Enabling memory growth...\n"
     ]
    }
   ],
   "source": [
    "# Add import paths\n",
    "import sys\n",
    "sys.path.append(\"..\")\n",
    "\n",
    "import os\n",
    "os.environ[\"TF_CPP_MIN_LOG_LEVEL\"] = \"2\"\n",
    "\n",
    "import numpy as np\n",
    "import datetime as dt\n",
    "from utils import print_gpu_memory\n",
    "\n",
    "# Make tensorflow not use too much memory\n",
    "print(f\"Importing tensorflow...\")\n",
    "import tensorflow as tf\n",
    "print(f\"Enabling memory growth...\")\n",
    "gpus = tf.config.list_physical_devices(\"GPU\")\n",
    "for gpu in gpus:\n",
    "    tf.config.experimental.set_memory_growth(gpu, True)\n",
    "\n",
    "disk_dir = \"/usatlas/atlas01/atlasdisk/users/atlas_wifeng\""
   ]
  },
  {
   "cell_type": "code",
   "execution_count": 2,
   "id": "179386df-5d96-468d-bdef-b61cd5ea4db9",
   "metadata": {
    "tags": []
   },
   "outputs": [
    {
     "name": "stdout",
     "output_type": "stream",
     "text": [
      "(240000, 960, 7) (240000, 3)\n"
     ]
    }
   ],
   "source": [
    "# Get data\n",
    "from data import get_data\n",
    "(X_train, X_val, X_test,\n",
    " Y_train, Y_val, Y_test) = get_data(\"scalar_test/all_jets_7_feature_point_cloud.npz\")\n",
    "\n",
    "print(X_train.shape, Y_train.shape)"
   ]
  },
  {
   "cell_type": "code",
   "execution_count": 3,
   "id": "a5a46b41-fa4a-4248-984f-7bac6a9f52a1",
   "metadata": {
    "tags": []
   },
   "outputs": [],
   "source": [
    "# Build model\n",
    "from model import PFN\n",
    "Phi_sizes = [128, 128, 128, 128, 64, 64, 64]\n",
    "F_sizes = [128, 128, 128, 128, 64, 64, 64]\n",
    "\n",
    "_, n_particles, n_features = X_train.shape\n",
    "model = PFN(\n",
    "    n_features=n_features,\n",
    "    n_particles=n_particles,\n",
    "    n_outputs=Y_train.shape[1],\n",
    "    Phi_sizes=Phi_sizes,\n",
    "    F_sizes=F_sizes\n",
    ")"
   ]
  },
  {
   "cell_type": "code",
   "execution_count": 4,
   "id": "01fd9137-f21b-46bf-bb0a-2f230dfccf25",
   "metadata": {
    "tags": []
   },
   "outputs": [],
   "source": [
    "from collections import defaultdict\n",
    "history = defaultdict(list)"
   ]
  },
  {
   "cell_type": "code",
   "execution_count": 12,
   "id": "b556fba9-41d8-46a5-bed9-28eafdec01ee",
   "metadata": {
    "tags": []
   },
   "outputs": [],
   "source": [
    "# Utility functions for training\n",
    "from train_model import train_model\n",
    "\n",
    "def train_iteration(lr, epochs):\n",
    "    fit_history = train_model(\n",
    "        model=model, \n",
    "        data=(X_train, X_val, Y_train, Y_val),\n",
    "        lr=lr,\n",
    "        epochs=epochs\n",
    "    )\n",
    "    print(f\"\\nSaving history...\")\n",
    "    for key in [\"loss\", \"val_loss\", \"accuracy\", \"val_accuracy\"]:\n",
    "        history[key].extend(fit_history.history[key])\n",
    "    return fit_history\n",
    "\n",
    "def save_model(name):\n",
    "    model_dir = f\"{disk_dir}/photon-jet/models/pfn\"\n",
    "    cur_date = dt.datetime.now().strftime(\"%Y-%m-%d\")\n",
    "    model.save(f\"{model_dir}/{name}_{cur_date}\")"
   ]
  },
  {
   "cell_type": "code",
   "execution_count": 6,
   "id": "e7125c32-0792-4102-957c-33af01279951",
   "metadata": {},
   "outputs": [
    {
     "name": "stdout",
     "output_type": "stream",
     "text": [
      "GPU memory usage\n",
      "  current: 558.25 KB\n",
      "  peak:    619.75 KB\n"
     ]
    }
   ],
   "source": [
    "print_gpu_memory()"
   ]
  },
  {
   "cell_type": "code",
   "execution_count": 7,
   "id": "c5c7ed25-1b3b-4bc9-a133-2ba36d83ae5e",
   "metadata": {
    "collapsed": true,
    "jupyter": {
     "outputs_hidden": true
    },
    "tags": []
   },
   "outputs": [
    {
     "name": "stdout",
     "output_type": "stream",
     "text": [
      "=== Training [2023-06-07 18:05:12.443742] ===\n",
      "Epoch 1/30\n",
      "2400/2400 [==============================] - 54s 20ms/step - loss: 1.6891 - accuracy: 0.3563 - val_loss: 1.0466 - val_accuracy: 0.4219\n",
      "Epoch 2/30\n",
      "2400/2400 [==============================] - 46s 19ms/step - loss: 1.1515 - accuracy: 0.4318 - val_loss: 0.9999 - val_accuracy: 0.4746\n",
      "Epoch 3/30\n",
      "2400/2400 [==============================] - 46s 19ms/step - loss: 0.9937 - accuracy: 0.4784 - val_loss: 0.9576 - val_accuracy: 0.5103\n",
      "Epoch 4/30\n",
      "2400/2400 [==============================] - 46s 19ms/step - loss: 0.9597 - accuracy: 0.5031 - val_loss: 0.9798 - val_accuracy: 0.4956\n",
      "Epoch 5/30\n",
      "2400/2400 [==============================] - 46s 19ms/step - loss: 0.9484 - accuracy: 0.5109 - val_loss: 1.0478 - val_accuracy: 0.4372\n",
      "Epoch 6/30\n",
      "2400/2400 [==============================] - 47s 19ms/step - loss: 0.9339 - accuracy: 0.5213 - val_loss: 0.8945 - val_accuracy: 0.5430\n",
      "Epoch 7/30\n",
      "2400/2400 [==============================] - 46s 19ms/step - loss: 0.9150 - accuracy: 0.5333 - val_loss: 0.9242 - val_accuracy: 0.5266\n",
      "Epoch 8/30\n",
      "2400/2400 [==============================] - 46s 19ms/step - loss: 0.8928 - accuracy: 0.5448 - val_loss: 0.8679 - val_accuracy: 0.5607\n",
      "Epoch 9/30\n",
      "2400/2400 [==============================] - 47s 19ms/step - loss: 0.9060 - accuracy: 0.5407 - val_loss: 0.9211 - val_accuracy: 0.5305\n",
      "Epoch 10/30\n",
      "2400/2400 [==============================] - 47s 19ms/step - loss: 0.8970 - accuracy: 0.5455 - val_loss: 0.8418 - val_accuracy: 0.5768\n",
      "Epoch 11/30\n",
      "2400/2400 [==============================] - 46s 19ms/step - loss: 0.8588 - accuracy: 0.5710 - val_loss: 0.9830 - val_accuracy: 0.4985\n",
      "Epoch 12/30\n",
      "2400/2400 [==============================] - 47s 19ms/step - loss: 0.8343 - accuracy: 0.5843 - val_loss: 0.9983 - val_accuracy: 0.5164\n",
      "Epoch 13/30\n",
      "2400/2400 [==============================] - 47s 19ms/step - loss: 0.7997 - accuracy: 0.6043 - val_loss: 0.7714 - val_accuracy: 0.6153\n",
      "Epoch 14/30\n",
      "2400/2400 [==============================] - 47s 19ms/step - loss: 0.8297 - accuracy: 0.5847 - val_loss: 0.8524 - val_accuracy: 0.5771\n",
      "Epoch 15/30\n",
      "2400/2400 [==============================] - 46s 19ms/step - loss: 0.7306 - accuracy: 0.6534 - val_loss: 0.5912 - val_accuracy: 0.7312\n",
      "Epoch 16/30\n",
      "2400/2400 [==============================] - 46s 19ms/step - loss: 0.6376 - accuracy: 0.7095 - val_loss: 0.7211 - val_accuracy: 0.6567\n",
      "Epoch 17/30\n",
      "2400/2400 [==============================] - 46s 19ms/step - loss: 0.5109 - accuracy: 0.7786 - val_loss: 0.4321 - val_accuracy: 0.8166\n",
      "Epoch 18/30\n",
      "2400/2400 [==============================] - 46s 19ms/step - loss: 0.4550 - accuracy: 0.8067 - val_loss: 0.4202 - val_accuracy: 0.8225\n",
      "Epoch 19/30\n",
      "2400/2400 [==============================] - 46s 19ms/step - loss: 0.4282 - accuracy: 0.8196 - val_loss: 0.3593 - val_accuracy: 0.8530\n",
      "Epoch 20/30\n",
      "2400/2400 [==============================] - 46s 19ms/step - loss: 0.4364 - accuracy: 0.8179 - val_loss: 0.3689 - val_accuracy: 0.8511\n",
      "Epoch 21/30\n",
      "2400/2400 [==============================] - 46s 19ms/step - loss: 0.4623 - accuracy: 0.8017 - val_loss: 0.4336 - val_accuracy: 0.8204\n",
      "Epoch 22/30\n",
      "2400/2400 [==============================] - 46s 19ms/step - loss: 0.4009 - accuracy: 0.8329 - val_loss: 0.3473 - val_accuracy: 0.8609\n",
      "Epoch 23/30\n",
      "2400/2400 [==============================] - 46s 19ms/step - loss: 0.3957 - accuracy: 0.8356 - val_loss: 0.4252 - val_accuracy: 0.8231\n",
      "Epoch 24/30\n",
      "2400/2400 [==============================] - 47s 19ms/step - loss: 0.3740 - accuracy: 0.8456 - val_loss: 0.3373 - val_accuracy: 0.8631\n",
      "Epoch 25/30\n",
      "2400/2400 [==============================] - 47s 19ms/step - loss: 0.4014 - accuracy: 0.8329 - val_loss: 0.3334 - val_accuracy: 0.8638\n",
      "Epoch 26/30\n",
      "2400/2400 [==============================] - 47s 19ms/step - loss: 0.3610 - accuracy: 0.8518 - val_loss: 0.4642 - val_accuracy: 0.8011\n",
      "Epoch 27/30\n",
      "2400/2400 [==============================] - 46s 19ms/step - loss: 0.3990 - accuracy: 0.8336 - val_loss: 0.3476 - val_accuracy: 0.8586\n",
      "Epoch 28/30\n",
      "2400/2400 [==============================] - 46s 19ms/step - loss: 0.3524 - accuracy: 0.8553 - val_loss: 0.3301 - val_accuracy: 0.8634\n",
      "Epoch 29/30\n",
      "2400/2400 [==============================] - 46s 19ms/step - loss: 0.3581 - accuracy: 0.8529 - val_loss: 0.3353 - val_accuracy: 0.8617\n",
      "Epoch 30/30\n",
      "2400/2400 [==============================] - 47s 19ms/step - loss: 0.3397 - accuracy: 0.8605 - val_loss: 0.3041 - val_accuracy: 0.8779\n",
      "\n",
      "Saving history...\n"
     ]
    },
    {
     "data": {
      "text/plain": [
       "<keras.callbacks.History at 0x2aba4602c640>"
      ]
     },
     "execution_count": 7,
     "metadata": {},
     "output_type": "execute_result"
    }
   ],
   "source": [
    "print(f\"=== Training [{dt.datetime.now()}] ===\")\n",
    "train_iteration(lr=2e-4, epochs=30)"
   ]
  },
  {
   "cell_type": "code",
   "execution_count": 8,
   "id": "945c82e7-d0fb-4dae-b9af-d00da171e07e",
   "metadata": {
    "collapsed": true,
    "jupyter": {
     "outputs_hidden": true
    },
    "tags": []
   },
   "outputs": [
    {
     "name": "stdout",
     "output_type": "stream",
     "text": [
      "=== Training [2023-06-07 18:28:45.423167] ===\n",
      "Epoch 1/30\n",
      "2400/2400 [==============================] - 52s 20ms/step - loss: 0.2716 - accuracy: 0.8893 - val_loss: 0.2558 - val_accuracy: 0.8971\n",
      "Epoch 2/30\n",
      "2400/2400 [==============================] - 47s 19ms/step - loss: 0.2532 - accuracy: 0.8983 - val_loss: 0.2407 - val_accuracy: 0.9043\n",
      "Epoch 3/30\n",
      "2400/2400 [==============================] - 47s 19ms/step - loss: 0.2417 - accuracy: 0.9038 - val_loss: 0.2455 - val_accuracy: 0.9032\n",
      "Epoch 4/30\n",
      "2400/2400 [==============================] - 47s 19ms/step - loss: 0.2294 - accuracy: 0.9101 - val_loss: 0.2289 - val_accuracy: 0.9104\n",
      "Epoch 5/30\n",
      "2400/2400 [==============================] - 47s 19ms/step - loss: 0.2220 - accuracy: 0.9138 - val_loss: 0.2167 - val_accuracy: 0.9143\n",
      "Epoch 6/30\n",
      "2400/2400 [==============================] - 47s 19ms/step - loss: 0.2114 - accuracy: 0.9186 - val_loss: 0.1975 - val_accuracy: 0.9267\n",
      "Epoch 7/30\n",
      "2400/2400 [==============================] - 47s 19ms/step - loss: 0.2063 - accuracy: 0.9216 - val_loss: 0.1945 - val_accuracy: 0.9266\n",
      "Epoch 8/30\n",
      "2400/2400 [==============================] - 47s 19ms/step - loss: 0.1999 - accuracy: 0.9240 - val_loss: 0.1877 - val_accuracy: 0.9291\n",
      "Epoch 9/30\n",
      "2400/2400 [==============================] - 47s 19ms/step - loss: 0.1968 - accuracy: 0.9259 - val_loss: 0.1920 - val_accuracy: 0.9285\n",
      "Epoch 10/30\n",
      "2400/2400 [==============================] - 47s 19ms/step - loss: 0.1905 - accuracy: 0.9288 - val_loss: 0.1873 - val_accuracy: 0.9324\n",
      "Epoch 11/30\n",
      "2400/2400 [==============================] - 47s 19ms/step - loss: 0.1865 - accuracy: 0.9303 - val_loss: 0.1779 - val_accuracy: 0.9342\n",
      "Epoch 12/30\n",
      "2400/2400 [==============================] - 47s 19ms/step - loss: 0.1823 - accuracy: 0.9322 - val_loss: 0.1845 - val_accuracy: 0.9327\n",
      "Epoch 13/30\n",
      "2400/2400 [==============================] - 47s 19ms/step - loss: 0.1800 - accuracy: 0.9333 - val_loss: 0.1803 - val_accuracy: 0.9310\n",
      "Epoch 14/30\n",
      "2400/2400 [==============================] - 47s 19ms/step - loss: 0.1753 - accuracy: 0.9349 - val_loss: 0.1779 - val_accuracy: 0.9343\n",
      "Epoch 15/30\n",
      "2400/2400 [==============================] - 47s 19ms/step - loss: 0.1701 - accuracy: 0.9370 - val_loss: 0.1595 - val_accuracy: 0.9417\n",
      "Epoch 16/30\n",
      "2400/2400 [==============================] - 47s 19ms/step - loss: 0.1695 - accuracy: 0.9377 - val_loss: 0.1598 - val_accuracy: 0.9439\n",
      "Epoch 17/30\n",
      "2400/2400 [==============================] - 47s 19ms/step - loss: 0.1651 - accuracy: 0.9395 - val_loss: 0.1658 - val_accuracy: 0.9405\n",
      "Epoch 18/30\n",
      "2400/2400 [==============================] - 47s 19ms/step - loss: 0.1634 - accuracy: 0.9400 - val_loss: 0.1552 - val_accuracy: 0.9433\n",
      "Epoch 19/30\n",
      "2400/2400 [==============================] - 47s 19ms/step - loss: 0.1598 - accuracy: 0.9416 - val_loss: 0.2128 - val_accuracy: 0.9244\n",
      "Epoch 20/30\n",
      "2400/2400 [==============================] - 47s 19ms/step - loss: 0.1573 - accuracy: 0.9426 - val_loss: 0.1527 - val_accuracy: 0.9441\n",
      "Epoch 21/30\n",
      "2400/2400 [==============================] - 47s 19ms/step - loss: 0.1551 - accuracy: 0.9434 - val_loss: 0.1645 - val_accuracy: 0.9396\n",
      "Epoch 22/30\n",
      "2400/2400 [==============================] - 47s 19ms/step - loss: 0.1534 - accuracy: 0.9441 - val_loss: 0.1589 - val_accuracy: 0.9418\n",
      "Epoch 23/30\n",
      "2400/2400 [==============================] - 47s 19ms/step - loss: 0.1519 - accuracy: 0.9452 - val_loss: 0.1500 - val_accuracy: 0.9445\n",
      "Epoch 24/30\n",
      "2400/2400 [==============================] - 47s 19ms/step - loss: 0.1495 - accuracy: 0.9461 - val_loss: 0.1776 - val_accuracy: 0.9351\n",
      "Epoch 25/30\n",
      "2400/2400 [==============================] - 47s 19ms/step - loss: 0.1487 - accuracy: 0.9463 - val_loss: 0.1752 - val_accuracy: 0.9360\n",
      "Epoch 26/30\n",
      "2400/2400 [==============================] - 47s 19ms/step - loss: 0.1458 - accuracy: 0.9471 - val_loss: 0.1396 - val_accuracy: 0.9492\n",
      "Epoch 27/30\n",
      "2400/2400 [==============================] - 47s 19ms/step - loss: 0.1434 - accuracy: 0.9480 - val_loss: 0.1903 - val_accuracy: 0.9290\n",
      "Epoch 28/30\n",
      "2400/2400 [==============================] - 47s 19ms/step - loss: 0.1422 - accuracy: 0.9490 - val_loss: 0.1588 - val_accuracy: 0.9424\n",
      "Epoch 29/30\n",
      "2400/2400 [==============================] - 47s 19ms/step - loss: 0.1405 - accuracy: 0.9497 - val_loss: 0.1348 - val_accuracy: 0.9515\n",
      "Epoch 30/30\n",
      "2400/2400 [==============================] - 47s 19ms/step - loss: 0.1392 - accuracy: 0.9498 - val_loss: 0.1320 - val_accuracy: 0.9533\n",
      "\n",
      "Saving history...\n"
     ]
    },
    {
     "data": {
      "text/plain": [
       "<keras.callbacks.History at 0x2aba4fb5c250>"
      ]
     },
     "execution_count": 8,
     "metadata": {},
     "output_type": "execute_result"
    }
   ],
   "source": [
    "print(f\"=== Training [{dt.datetime.now()}] ===\")\n",
    "train_iteration(lr=2e-5, epochs=30)"
   ]
  },
  {
   "cell_type": "code",
   "execution_count": 9,
   "id": "22df7c39-e1b1-4769-bf3b-5bbd6674e8bd",
   "metadata": {
    "collapsed": true,
    "jupyter": {
     "outputs_hidden": true
    },
    "tags": []
   },
   "outputs": [
    {
     "name": "stdout",
     "output_type": "stream",
     "text": [
      "=== Training [2023-06-07 18:53:18.242744] ===\n"
     ]
    },
    {
     "ename": "InternalError",
     "evalue": "Failed copying input tensor from /job:localhost/replica:0/task:0/device:CPU:0 to /job:localhost/replica:0/task:0/device:GPU:0 in order to run _EagerConst: Dst tensor is not initialized.",
     "output_type": "error",
     "traceback": [
      "\u001b[0;31m---------------------------------------------------------------------------\u001b[0m",
      "\u001b[0;31mInternalError\u001b[0m                             Traceback (most recent call last)",
      "Cell \u001b[0;32mIn[9], line 2\u001b[0m\n\u001b[1;32m      1\u001b[0m \u001b[38;5;28mprint\u001b[39m(\u001b[38;5;124mf\u001b[39m\u001b[38;5;124m\"\u001b[39m\u001b[38;5;124m=== Training [\u001b[39m\u001b[38;5;132;01m{\u001b[39;00mdt\u001b[38;5;241m.\u001b[39mdatetime\u001b[38;5;241m.\u001b[39mnow()\u001b[38;5;132;01m}\u001b[39;00m\u001b[38;5;124m] ===\u001b[39m\u001b[38;5;124m\"\u001b[39m)\n\u001b[0;32m----> 2\u001b[0m \u001b[43mtrain_iteration\u001b[49m\u001b[43m(\u001b[49m\u001b[43mlr\u001b[49m\u001b[38;5;241;43m=\u001b[39;49m\u001b[38;5;241;43m2e-6\u001b[39;49m\u001b[43m,\u001b[49m\u001b[43m \u001b[49m\u001b[43mepochs\u001b[49m\u001b[38;5;241;43m=\u001b[39;49m\u001b[38;5;241;43m30\u001b[39;49m\u001b[43m)\u001b[49m\n",
      "Cell \u001b[0;32mIn[5], line 5\u001b[0m, in \u001b[0;36mtrain_iteration\u001b[0;34m(lr, epochs)\u001b[0m\n\u001b[1;32m      4\u001b[0m \u001b[38;5;28;01mdef\u001b[39;00m \u001b[38;5;21mtrain_iteration\u001b[39m(lr, epochs):\n\u001b[0;32m----> 5\u001b[0m     fit_history \u001b[38;5;241m=\u001b[39m \u001b[43mtrain_model\u001b[49m\u001b[43m(\u001b[49m\n\u001b[1;32m      6\u001b[0m \u001b[43m        \u001b[49m\u001b[43mmodel\u001b[49m\u001b[38;5;241;43m=\u001b[39;49m\u001b[43mmodel\u001b[49m\u001b[43m,\u001b[49m\u001b[43m \u001b[49m\n\u001b[1;32m      7\u001b[0m \u001b[43m        \u001b[49m\u001b[43mdata\u001b[49m\u001b[38;5;241;43m=\u001b[39;49m\u001b[43m(\u001b[49m\u001b[43mX_train\u001b[49m\u001b[43m,\u001b[49m\u001b[43m \u001b[49m\u001b[43mX_val\u001b[49m\u001b[43m,\u001b[49m\u001b[43m \u001b[49m\u001b[43mY_train\u001b[49m\u001b[43m,\u001b[49m\u001b[43m \u001b[49m\u001b[43mY_val\u001b[49m\u001b[43m)\u001b[49m\u001b[43m,\u001b[49m\n\u001b[1;32m      8\u001b[0m \u001b[43m        \u001b[49m\u001b[43mlr\u001b[49m\u001b[38;5;241;43m=\u001b[39;49m\u001b[43mlr\u001b[49m\u001b[43m,\u001b[49m\n\u001b[1;32m      9\u001b[0m \u001b[43m        \u001b[49m\u001b[43mepochs\u001b[49m\u001b[38;5;241;43m=\u001b[39;49m\u001b[43mepochs\u001b[49m\n\u001b[1;32m     10\u001b[0m \u001b[43m    \u001b[49m\u001b[43m)\u001b[49m\n\u001b[1;32m     11\u001b[0m     \u001b[38;5;28mprint\u001b[39m(\u001b[38;5;124mf\u001b[39m\u001b[38;5;124m\"\u001b[39m\u001b[38;5;130;01m\\n\u001b[39;00m\u001b[38;5;124mSaving history...\u001b[39m\u001b[38;5;124m\"\u001b[39m)\n\u001b[1;32m     12\u001b[0m     \u001b[38;5;28;01mfor\u001b[39;00m key \u001b[38;5;129;01min\u001b[39;00m [\u001b[38;5;124m\"\u001b[39m\u001b[38;5;124mloss\u001b[39m\u001b[38;5;124m\"\u001b[39m, \u001b[38;5;124m\"\u001b[39m\u001b[38;5;124mval_loss\u001b[39m\u001b[38;5;124m\"\u001b[39m, \u001b[38;5;124m\"\u001b[39m\u001b[38;5;124maccuracy\u001b[39m\u001b[38;5;124m\"\u001b[39m, \u001b[38;5;124m\"\u001b[39m\u001b[38;5;124mval_accuracy\u001b[39m\u001b[38;5;124m\"\u001b[39m]:\n",
      "File \u001b[0;32m/direct/usatlas+u/atlas_wifeng/photon-jet/models/pfn/scalar/../train_model.py:25\u001b[0m, in \u001b[0;36mtrain_model\u001b[0;34m(model, data, lr, epochs, batch_size, verbose)\u001b[0m\n\u001b[1;32m     18\u001b[0m X_train, X_val, Y_train, Y_val \u001b[38;5;241m=\u001b[39m data\n\u001b[1;32m     20\u001b[0m model\u001b[38;5;241m.\u001b[39mcompile(\n\u001b[1;32m     21\u001b[0m     optimizer\u001b[38;5;241m=\u001b[39mtf\u001b[38;5;241m.\u001b[39mkeras\u001b[38;5;241m.\u001b[39moptimizers\u001b[38;5;241m.\u001b[39mAdam(learning_rate\u001b[38;5;241m=\u001b[39mlr),\n\u001b[1;32m     22\u001b[0m     loss\u001b[38;5;241m=\u001b[39mtf\u001b[38;5;241m.\u001b[39mkeras\u001b[38;5;241m.\u001b[39mlosses\u001b[38;5;241m.\u001b[39mCategoricalCrossentropy(from_logits\u001b[38;5;241m=\u001b[39m\u001b[38;5;28;01mTrue\u001b[39;00m),\n\u001b[1;32m     23\u001b[0m     metrics\u001b[38;5;241m=\u001b[39m[\u001b[38;5;124m\"\u001b[39m\u001b[38;5;124maccuracy\u001b[39m\u001b[38;5;124m\"\u001b[39m]\n\u001b[1;32m     24\u001b[0m )\n\u001b[0;32m---> 25\u001b[0m fit_history \u001b[38;5;241m=\u001b[39m \u001b[43mmodel\u001b[49m\u001b[38;5;241;43m.\u001b[39;49m\u001b[43mfit\u001b[49m\u001b[43m(\u001b[49m\u001b[43mX_train\u001b[49m\u001b[43m,\u001b[49m\u001b[43m \u001b[49m\u001b[43mY_train\u001b[49m\u001b[43m,\u001b[49m\n\u001b[1;32m     26\u001b[0m \u001b[43m                        \u001b[49m\u001b[43mepochs\u001b[49m\u001b[38;5;241;43m=\u001b[39;49m\u001b[43mepochs\u001b[49m\u001b[43m,\u001b[49m\n\u001b[1;32m     27\u001b[0m \u001b[43m                        \u001b[49m\u001b[43mbatch_size\u001b[49m\u001b[38;5;241;43m=\u001b[39;49m\u001b[43mbatch_size\u001b[49m\u001b[43m,\u001b[49m\n\u001b[1;32m     28\u001b[0m \u001b[43m                        \u001b[49m\u001b[43mvalidation_data\u001b[49m\u001b[38;5;241;43m=\u001b[39;49m\u001b[43m(\u001b[49m\u001b[43mX_val\u001b[49m\u001b[43m,\u001b[49m\u001b[43m \u001b[49m\u001b[43mY_val\u001b[49m\u001b[43m)\u001b[49m\u001b[43m,\u001b[49m\n\u001b[1;32m     29\u001b[0m \u001b[43m                        \u001b[49m\u001b[43mverbose\u001b[49m\u001b[38;5;241;43m=\u001b[39;49m\u001b[43mverbose\u001b[49m\u001b[43m)\u001b[49m\n\u001b[1;32m     31\u001b[0m \u001b[38;5;28;01mreturn\u001b[39;00m fit_history\n",
      "File \u001b[0;32m/usatlas/atlas01/atlasdisk/users/atlas_wifeng/sw/miniconda/envs/top-tagging/lib/python3.10/site-packages/keras/utils/traceback_utils.py:70\u001b[0m, in \u001b[0;36mfilter_traceback.<locals>.error_handler\u001b[0;34m(*args, **kwargs)\u001b[0m\n\u001b[1;32m     67\u001b[0m     filtered_tb \u001b[38;5;241m=\u001b[39m _process_traceback_frames(e\u001b[38;5;241m.\u001b[39m__traceback__)\n\u001b[1;32m     68\u001b[0m     \u001b[38;5;66;03m# To get the full stack trace, call:\u001b[39;00m\n\u001b[1;32m     69\u001b[0m     \u001b[38;5;66;03m# `tf.debugging.disable_traceback_filtering()`\u001b[39;00m\n\u001b[0;32m---> 70\u001b[0m     \u001b[38;5;28;01mraise\u001b[39;00m e\u001b[38;5;241m.\u001b[39mwith_traceback(filtered_tb) \u001b[38;5;28;01mfrom\u001b[39;00m \u001b[38;5;28;01mNone\u001b[39;00m\n\u001b[1;32m     71\u001b[0m \u001b[38;5;28;01mfinally\u001b[39;00m:\n\u001b[1;32m     72\u001b[0m     \u001b[38;5;28;01mdel\u001b[39;00m filtered_tb\n",
      "File \u001b[0;32m/usatlas/atlas01/atlasdisk/users/atlas_wifeng/sw/miniconda/envs/top-tagging/lib/python3.10/site-packages/tensorflow/python/framework/constant_op.py:103\u001b[0m, in \u001b[0;36mconvert_to_eager_tensor\u001b[0;34m(value, ctx, dtype)\u001b[0m\n\u001b[1;32m    101\u001b[0m     dtype \u001b[38;5;241m=\u001b[39m dtypes\u001b[38;5;241m.\u001b[39mas_dtype(dtype)\u001b[38;5;241m.\u001b[39mas_datatype_enum\n\u001b[1;32m    102\u001b[0m ctx\u001b[38;5;241m.\u001b[39mensure_initialized()\n\u001b[0;32m--> 103\u001b[0m \u001b[38;5;28;01mreturn\u001b[39;00m \u001b[43mops\u001b[49m\u001b[38;5;241;43m.\u001b[39;49m\u001b[43mEagerTensor\u001b[49m\u001b[43m(\u001b[49m\u001b[43mvalue\u001b[49m\u001b[43m,\u001b[49m\u001b[43m \u001b[49m\u001b[43mctx\u001b[49m\u001b[38;5;241;43m.\u001b[39;49m\u001b[43mdevice_name\u001b[49m\u001b[43m,\u001b[49m\u001b[43m \u001b[49m\u001b[43mdtype\u001b[49m\u001b[43m)\u001b[49m\n",
      "\u001b[0;31mInternalError\u001b[0m: Failed copying input tensor from /job:localhost/replica:0/task:0/device:CPU:0 to /job:localhost/replica:0/task:0/device:GPU:0 in order to run _EagerConst: Dst tensor is not initialized."
     ]
    }
   ],
   "source": [
    "print(f\"=== Training [{dt.datetime.now()}] ===\")\n",
    "train_iteration(lr=2e-6, epochs=30)"
   ]
  },
  {
   "cell_type": "code",
   "execution_count": 13,
   "id": "db5fd29b-53a4-4831-a950-762383313b7e",
   "metadata": {},
   "outputs": [
    {
     "name": "stderr",
     "output_type": "stream",
     "text": [
      "WARNING:absl:Found untraced functions such as _update_step_xla while saving (showing 1 of 1). These functions will not be directly callable after loading.\n"
     ]
    },
    {
     "name": "stdout",
     "output_type": "stream",
     "text": [
      "INFO:tensorflow:Assets written to: /usatlas/atlas01/atlasdisk/users/atlas_wifeng/photon-jet/models/pfn/7_feature_95pc_2023-06-07/assets\n"
     ]
    },
    {
     "name": "stderr",
     "output_type": "stream",
     "text": [
      "INFO:tensorflow:Assets written to: /usatlas/atlas01/atlasdisk/users/atlas_wifeng/photon-jet/models/pfn/7_feature_95pc_2023-06-07/assets\n"
     ]
    }
   ],
   "source": [
    "save_model(\"7_feature_95pc\")"
   ]
  },
  {
   "cell_type": "markdown",
   "id": "bc9d76a4-3a5c-4385-b372-8c02bc812187",
   "metadata": {},
   "source": [
    "### Evaluate model"
   ]
  },
  {
   "cell_type": "code",
   "execution_count": null,
   "id": "f8c8639d-410e-4247-9380-508693665e33",
   "metadata": {
    "tags": []
   },
   "outputs": [],
   "source": [
    "from matplotlib import pyplot as plt\n",
    "\n",
    "fig, axs = plt.subplots(1, 2, figsize=(10, 4))\n",
    "ax1, ax2 = axs\n",
    "\n",
    "ax1.plot(history[\"loss\"])\n",
    "ax1.plot(history[\"val_loss\"])\n",
    "ax1.legend([\"loss\", \"val_loss\"])\n",
    "ax1.set_xlabel(\"Epoch\")\n",
    "ax1.set_ylabel(\"Loss\");\n",
    "\n",
    "ax2.plot(history[\"accuracy\"])\n",
    "ax2.plot(history[\"val_accuracy\"])\n",
    "ax2.legend([\"loss\", \"val_accuracy\"])\n",
    "ax2.set_xlabel(\"Epoch\")\n",
    "ax2.set_ylabel(\"Accuracy\");"
   ]
  },
  {
   "cell_type": "code",
   "execution_count": null,
   "id": "fd0e639f-8174-45a8-8154-51b1dcdc5fcc",
   "metadata": {},
   "outputs": [],
   "source": [
    "# Test model\n",
    "from test_model import test_model, plot_cm\n",
    "test_accuracy, cm = test_model(model, (X_test, Y_test))\n",
    "print(f\"Testing accuracy: {test_accuracy}\")\n",
    "\n",
    "plot_cm(cm, [\"pion\", \"photon\", \"axion1\"])"
   ]
  },
  {
   "cell_type": "code",
   "execution_count": null,
   "id": "ced4a76f-b373-4123-9f97-69f265714f57",
   "metadata": {},
   "outputs": [],
   "source": []
  }
 ],
 "metadata": {
  "kernelspec": {
   "display_name": "top-tagging",
   "language": "python",
   "name": "top-tagging"
  },
  "language_info": {
   "codemirror_mode": {
    "name": "ipython",
    "version": 3
   },
   "file_extension": ".py",
   "mimetype": "text/x-python",
   "name": "python",
   "nbconvert_exporter": "python",
   "pygments_lexer": "ipython3",
   "version": "3.10.10"
  }
 },
 "nbformat": 4,
 "nbformat_minor": 5
}
