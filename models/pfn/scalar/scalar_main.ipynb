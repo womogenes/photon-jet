{
 "cells": [
  {
   "cell_type": "markdown",
   "id": "21f93689-eea9-407e-9614-120e029a137b",
   "metadata": {},
   "source": [
    "# Test stuff for PFN model\n",
    "\n",
    "Classify pions, photons, and **scalars**"
   ]
  },
  {
   "cell_type": "code",
   "execution_count": 1,
   "id": "44db5291-bdc8-4a14-884d-8e08c17ca30b",
   "metadata": {
    "tags": []
   },
   "outputs": [
    {
     "name": "stdout",
     "output_type": "stream",
     "text": [
      "Importing tensorflow...\n",
      "Enabling memory growth...\n"
     ]
    }
   ],
   "source": [
    "# Add import paths\n",
    "import sys\n",
    "sys.path.append(\"..\")\n",
    "\n",
    "import os\n",
    "os.environ[\"TF_CPP_MIN_LOG_LEVEL\"] = \"2\"\n",
    "\n",
    "import numpy as np\n",
    "import datetime as dt\n",
    "from utils import print_gpu_memory, model_dir\n",
    "\n",
    "# Make tensorflow not use too much memory\n",
    "import tensorflow as tf\n",
    "gpus = tf.config.list_physical_devices(\"GPU\")\n",
    "for gpu in gpus:\n",
    "    tf.config.experimental.set_memory_growth(gpu, True)"
   ]
  },
  {
   "cell_type": "code",
   "execution_count": 2,
   "id": "179386df-5d96-468d-bdef-b61cd5ea4db9",
   "metadata": {
    "tags": []
   },
   "outputs": [
    {
     "name": "stdout",
     "output_type": "stream",
     "text": [
      "(240000, 960, 4) (240000, 3)\n"
     ]
    }
   ],
   "source": [
    "# Get data\n",
    "from data import get_data\n",
    "(X_train, X_val, X_test,\n",
    " Y_train, Y_val, Y_test) = get_data(\"processed/scalars/all_jets_point_cloud.npz\")\n",
    "\n",
    "print(X_train.shape, Y_train.shape)"
   ]
  },
  {
   "cell_type": "code",
   "execution_count": 3,
   "id": "a5a46b41-fa4a-4248-984f-7bac6a9f52a1",
   "metadata": {
    "tags": []
   },
   "outputs": [],
   "source": [
    "# Build model\n",
    "from model import PFN\n",
    "Phi_sizes = [128, 128, 128, 128, 64, 64, 64]\n",
    "F_sizes = [128, 128, 128, 128, 64, 64, 64]\n",
    "\n",
    "_, n_particles, n_features = X_train.shape\n",
    "model = PFN(\n",
    "    n_features=n_features,\n",
    "    n_particles=n_particles,\n",
    "    n_outputs=Y_train.shape[1],\n",
    "    Phi_sizes=Phi_sizes,\n",
    "    F_sizes=F_sizes\n",
    ")"
   ]
  },
  {
   "cell_type": "code",
   "execution_count": 4,
   "id": "01fd9137-f21b-46bf-bb0a-2f230dfccf25",
   "metadata": {
    "tags": []
   },
   "outputs": [],
   "source": [
    "from collections import defaultdict\n",
    "history = defaultdict(list)"
   ]
  },
  {
   "cell_type": "code",
   "execution_count": 5,
   "id": "b556fba9-41d8-46a5-bed9-28eafdec01ee",
   "metadata": {
    "tags": []
   },
   "outputs": [],
   "source": [
    "# Utility functions for training\n",
    "from train_model import train_model\n",
    "import yaml\n",
    "\n",
    "def train_iteration(lr, epochs):\n",
    "    fit_history = train_model(\n",
    "        model=model, \n",
    "        data=(X_train, X_val, Y_train, Y_val),\n",
    "        lr=lr,\n",
    "        epochs=epochs\n",
    "    )\n",
    "    print(f\"\\nSaving history...\")\n",
    "    for key in [\"loss\", \"val_loss\", \"accuracy\", \"val_accuracy\"]:\n",
    "        history[key].extend(fit_history.history[key])\n",
    "    return fit_history\n",
    "\n",
    "def save_model(name):\n",
    "    cur_date = dt.datetime.now().strftime(\"%Y-%m-%d\")\n",
    "    model.save(f\"{model_dir}/{name}_{cur_date}\")"
   ]
  },
  {
   "cell_type": "code",
   "execution_count": 6,
   "id": "e7125c32-0792-4102-957c-33af01279951",
   "metadata": {},
   "outputs": [
    {
     "name": "stdout",
     "output_type": "stream",
     "text": [
      "GPU memory usage\n",
      "  current: 556.75 KB\n",
      "  peak:    618.25 KB\n"
     ]
    }
   ],
   "source": [
    "print_gpu_memory()"
   ]
  },
  {
   "cell_type": "code",
   "execution_count": 7,
   "id": "c5c7ed25-1b3b-4bc9-a133-2ba36d83ae5e",
   "metadata": {
    "collapsed": true,
    "jupyter": {
     "outputs_hidden": true
    },
    "tags": []
   },
   "outputs": [
    {
     "name": "stdout",
     "output_type": "stream",
     "text": [
      "=== Training [2023-06-09 14:05:22.007478] ===\n",
      "Epoch 1/45\n",
      "2400/2400 [==============================] - 58s 19ms/step - loss: 2.0241 - accuracy: 0.3387 - val_loss: 1.1522 - val_accuracy: 0.3364\n",
      "Epoch 2/45\n",
      "2400/2400 [==============================] - 46s 19ms/step - loss: 1.0621 - accuracy: 0.4221 - val_loss: 1.0003 - val_accuracy: 0.4834\n",
      "Epoch 3/45\n",
      "2400/2400 [==============================] - 46s 19ms/step - loss: 1.0248 - accuracy: 0.4596 - val_loss: 0.9742 - val_accuracy: 0.4890\n",
      "Epoch 4/45\n",
      "2400/2400 [==============================] - 47s 19ms/step - loss: 0.9891 - accuracy: 0.4809 - val_loss: 0.9935 - val_accuracy: 0.4748\n",
      "Epoch 5/45\n",
      "2400/2400 [==============================] - 46s 19ms/step - loss: 0.9721 - accuracy: 0.4911 - val_loss: 1.0183 - val_accuracy: 0.4378\n",
      "Epoch 6/45\n",
      "2400/2400 [==============================] - 46s 19ms/step - loss: 0.9824 - accuracy: 0.4847 - val_loss: 0.9558 - val_accuracy: 0.5089\n",
      "Epoch 7/45\n",
      "2400/2400 [==============================] - 46s 19ms/step - loss: 0.9512 - accuracy: 0.5099 - val_loss: 0.9994 - val_accuracy: 0.4798\n",
      "Epoch 8/45\n",
      "2400/2400 [==============================] - 46s 19ms/step - loss: 0.9356 - accuracy: 0.5187 - val_loss: 0.9237 - val_accuracy: 0.5386\n",
      "Epoch 9/45\n",
      "2400/2400 [==============================] - 46s 19ms/step - loss: 0.9526 - accuracy: 0.5088 - val_loss: 0.9201 - val_accuracy: 0.5260\n",
      "Epoch 10/45\n",
      "2400/2400 [==============================] - 46s 19ms/step - loss: 0.9129 - accuracy: 0.5390 - val_loss: 0.8130 - val_accuracy: 0.6120\n",
      "Epoch 11/45\n",
      "2400/2400 [==============================] - 46s 19ms/step - loss: 0.8716 - accuracy: 0.5706 - val_loss: 0.8056 - val_accuracy: 0.6078\n",
      "Epoch 12/45\n",
      "2400/2400 [==============================] - 46s 19ms/step - loss: 0.8531 - accuracy: 0.5817 - val_loss: 0.8989 - val_accuracy: 0.5524\n",
      "Epoch 13/45\n",
      "2400/2400 [==============================] - 46s 19ms/step - loss: 0.8956 - accuracy: 0.5486 - val_loss: 0.9484 - val_accuracy: 0.5121\n",
      "Epoch 14/45\n",
      "2400/2400 [==============================] - 46s 19ms/step - loss: 0.8848 - accuracy: 0.5554 - val_loss: 0.8054 - val_accuracy: 0.6117\n",
      "Epoch 15/45\n",
      "2400/2400 [==============================] - 46s 19ms/step - loss: 0.8622 - accuracy: 0.5727 - val_loss: 0.8413 - val_accuracy: 0.5814\n",
      "Epoch 16/45\n",
      "2400/2400 [==============================] - 46s 19ms/step - loss: 0.8267 - accuracy: 0.5967 - val_loss: 0.8231 - val_accuracy: 0.5996\n",
      "Epoch 17/45\n",
      "2400/2400 [==============================] - 46s 19ms/step - loss: 0.7135 - accuracy: 0.6659 - val_loss: 0.6096 - val_accuracy: 0.7226\n",
      "Epoch 18/45\n",
      "2400/2400 [==============================] - 46s 19ms/step - loss: 0.6851 - accuracy: 0.6801 - val_loss: 0.5590 - val_accuracy: 0.7569\n",
      "Epoch 19/45\n",
      "2400/2400 [==============================] - 46s 19ms/step - loss: 0.5506 - accuracy: 0.7582 - val_loss: 0.6221 - val_accuracy: 0.7175\n",
      "Epoch 20/45\n",
      "2400/2400 [==============================] - 45s 19ms/step - loss: 0.5711 - accuracy: 0.7452 - val_loss: 0.5356 - val_accuracy: 0.7696\n",
      "Epoch 21/45\n",
      "2400/2400 [==============================] - 45s 19ms/step - loss: 0.4946 - accuracy: 0.7873 - val_loss: 0.4503 - val_accuracy: 0.8105\n",
      "Epoch 22/45\n",
      "2400/2400 [==============================] - 46s 19ms/step - loss: 0.5408 - accuracy: 0.7607 - val_loss: 0.4259 - val_accuracy: 0.8229\n",
      "Epoch 23/45\n",
      "2400/2400 [==============================] - 46s 19ms/step - loss: 0.4574 - accuracy: 0.8066 - val_loss: 0.5638 - val_accuracy: 0.7523\n",
      "Epoch 24/45\n",
      "2400/2400 [==============================] - 46s 19ms/step - loss: 0.4501 - accuracy: 0.8090 - val_loss: 0.4786 - val_accuracy: 0.7959\n",
      "Epoch 25/45\n",
      "2400/2400 [==============================] - 46s 19ms/step - loss: 0.4672 - accuracy: 0.7992 - val_loss: 0.4109 - val_accuracy: 0.8300\n",
      "Epoch 26/45\n",
      "2400/2400 [==============================] - 46s 19ms/step - loss: 0.4722 - accuracy: 0.7971 - val_loss: 0.4941 - val_accuracy: 0.7988\n",
      "Epoch 27/45\n",
      "2400/2400 [==============================] - 46s 19ms/step - loss: 0.4076 - accuracy: 0.8300 - val_loss: 0.4160 - val_accuracy: 0.8260\n",
      "Epoch 28/45\n",
      "2400/2400 [==============================] - 46s 19ms/step - loss: 0.4391 - accuracy: 0.8130 - val_loss: 0.4629 - val_accuracy: 0.8057\n",
      "Epoch 29/45\n",
      "2400/2400 [==============================] - 46s 19ms/step - loss: 0.4524 - accuracy: 0.8059 - val_loss: 0.4603 - val_accuracy: 0.8069\n",
      "Epoch 30/45\n",
      "2400/2400 [==============================] - 46s 19ms/step - loss: 0.5281 - accuracy: 0.7694 - val_loss: 0.9762 - val_accuracy: 0.4775\n",
      "Epoch 31/45\n",
      "2400/2400 [==============================] - 46s 19ms/step - loss: 0.6829 - accuracy: 0.6785 - val_loss: 0.4145 - val_accuracy: 0.8257\n",
      "Epoch 32/45\n",
      "2400/2400 [==============================] - 46s 19ms/step - loss: 0.5073 - accuracy: 0.7786 - val_loss: 0.4243 - val_accuracy: 0.8262\n",
      "Epoch 33/45\n",
      "2400/2400 [==============================] - 45s 19ms/step - loss: 0.5008 - accuracy: 0.7785 - val_loss: 0.4434 - val_accuracy: 0.8108\n",
      "Epoch 34/45\n",
      "2400/2400 [==============================] - 46s 19ms/step - loss: 0.4850 - accuracy: 0.7869 - val_loss: 0.7892 - val_accuracy: 0.6171\n",
      "Epoch 35/45\n",
      "2400/2400 [==============================] - 46s 19ms/step - loss: 0.4213 - accuracy: 0.8225 - val_loss: 0.5169 - val_accuracy: 0.7695\n",
      "Epoch 36/45\n",
      "2400/2400 [==============================] - 46s 19ms/step - loss: 0.3782 - accuracy: 0.8431 - val_loss: 0.4526 - val_accuracy: 0.8130\n",
      "Epoch 37/45\n",
      "2400/2400 [==============================] - 46s 19ms/step - loss: 0.4375 - accuracy: 0.8143 - val_loss: 0.3956 - val_accuracy: 0.8388\n",
      "Epoch 38/45\n",
      "2400/2400 [==============================] - 46s 19ms/step - loss: 0.3553 - accuracy: 0.8534 - val_loss: 0.5032 - val_accuracy: 0.7881\n",
      "Epoch 39/45\n",
      "2400/2400 [==============================] - 46s 19ms/step - loss: 0.3469 - accuracy: 0.8572 - val_loss: 0.3230 - val_accuracy: 0.8666\n",
      "Epoch 40/45\n",
      "2400/2400 [==============================] - 45s 19ms/step - loss: 0.3998 - accuracy: 0.8314 - val_loss: 0.3520 - val_accuracy: 0.8559\n",
      "Epoch 41/45\n",
      "2400/2400 [==============================] - 45s 19ms/step - loss: 0.3385 - accuracy: 0.8615 - val_loss: 0.3121 - val_accuracy: 0.8723\n",
      "Epoch 42/45\n",
      "2400/2400 [==============================] - 45s 19ms/step - loss: 0.3584 - accuracy: 0.8523 - val_loss: 0.2987 - val_accuracy: 0.8785\n",
      "Epoch 43/45\n",
      "2400/2400 [==============================] - 45s 19ms/step - loss: 0.3487 - accuracy: 0.8558 - val_loss: 0.3035 - val_accuracy: 0.8790\n",
      "Epoch 44/45\n",
      "2400/2400 [==============================] - 46s 19ms/step - loss: 0.3473 - accuracy: 0.8567 - val_loss: 0.3056 - val_accuracy: 0.8770\n",
      "Epoch 45/45\n",
      "2400/2400 [==============================] - 46s 19ms/step - loss: 0.3165 - accuracy: 0.8706 - val_loss: 0.2874 - val_accuracy: 0.8818\n",
      "\n",
      "Saving history...\n"
     ]
    },
    {
     "data": {
      "text/plain": [
       "<keras.callbacks.History at 0x2ab36ff1ff40>"
      ]
     },
     "execution_count": 7,
     "metadata": {},
     "output_type": "execute_result"
    }
   ],
   "source": [
    "print(f\"=== Training [{dt.datetime.now()}] ===\")\n",
    "train_iteration(lr=2e-4, epochs=45)"
   ]
  },
  {
   "cell_type": "code",
   "execution_count": 8,
   "id": "945c82e7-d0fb-4dae-b9af-d00da171e07e",
   "metadata": {
    "collapsed": true,
    "jupyter": {
     "outputs_hidden": true
    },
    "tags": []
   },
   "outputs": [
    {
     "name": "stdout",
     "output_type": "stream",
     "text": [
      "=== Training [2023-06-09 14:40:51.165770] ===\n",
      "Epoch 1/45\n",
      "2400/2400 [==============================] - 51s 19ms/step - loss: 0.2535 - accuracy: 0.8990 - val_loss: 0.2385 - val_accuracy: 0.9047\n",
      "Epoch 2/45\n",
      "2400/2400 [==============================] - 46s 19ms/step - loss: 0.2366 - accuracy: 0.9064 - val_loss: 0.2355 - val_accuracy: 0.9065\n",
      "Epoch 3/45\n",
      "2400/2400 [==============================] - 45s 19ms/step - loss: 0.2258 - accuracy: 0.9116 - val_loss: 0.2192 - val_accuracy: 0.9149\n",
      "Epoch 4/45\n",
      "2400/2400 [==============================] - 46s 19ms/step - loss: 0.2184 - accuracy: 0.9147 - val_loss: 0.2126 - val_accuracy: 0.9171\n",
      "Epoch 5/45\n",
      "2400/2400 [==============================] - 46s 19ms/step - loss: 0.2124 - accuracy: 0.9172 - val_loss: 0.2318 - val_accuracy: 0.9103\n",
      "Epoch 6/45\n",
      "2400/2400 [==============================] - 46s 19ms/step - loss: 0.2054 - accuracy: 0.9204 - val_loss: 0.2038 - val_accuracy: 0.9192\n",
      "Epoch 7/45\n",
      "2400/2400 [==============================] - 46s 19ms/step - loss: 0.2008 - accuracy: 0.9218 - val_loss: 0.1925 - val_accuracy: 0.9255\n",
      "Epoch 8/45\n",
      "2400/2400 [==============================] - 46s 19ms/step - loss: 0.1965 - accuracy: 0.9234 - val_loss: 0.1899 - val_accuracy: 0.9269\n",
      "Epoch 9/45\n",
      "2400/2400 [==============================] - 46s 19ms/step - loss: 0.1909 - accuracy: 0.9260 - val_loss: 0.1816 - val_accuracy: 0.9281\n",
      "Epoch 10/45\n",
      "2400/2400 [==============================] - 45s 19ms/step - loss: 0.1867 - accuracy: 0.9274 - val_loss: 0.1925 - val_accuracy: 0.9253\n",
      "Epoch 11/45\n",
      "2400/2400 [==============================] - 46s 19ms/step - loss: 0.1823 - accuracy: 0.9297 - val_loss: 0.1787 - val_accuracy: 0.9294\n",
      "Epoch 12/45\n",
      "2400/2400 [==============================] - 46s 19ms/step - loss: 0.1811 - accuracy: 0.9307 - val_loss: 0.1728 - val_accuracy: 0.9332\n",
      "Epoch 13/45\n",
      "2400/2400 [==============================] - 46s 19ms/step - loss: 0.1754 - accuracy: 0.9327 - val_loss: 0.1779 - val_accuracy: 0.9314\n",
      "Epoch 14/45\n",
      "2400/2400 [==============================] - 46s 19ms/step - loss: 0.1742 - accuracy: 0.9339 - val_loss: 0.1672 - val_accuracy: 0.9353\n",
      "Epoch 15/45\n",
      "2400/2400 [==============================] - 46s 19ms/step - loss: 0.1708 - accuracy: 0.9350 - val_loss: 0.1927 - val_accuracy: 0.9270\n",
      "Epoch 16/45\n",
      "2400/2400 [==============================] - 46s 19ms/step - loss: 0.1680 - accuracy: 0.9368 - val_loss: 0.1729 - val_accuracy: 0.9342\n",
      "Epoch 17/45\n",
      "2400/2400 [==============================] - 46s 19ms/step - loss: 0.1651 - accuracy: 0.9376 - val_loss: 0.1629 - val_accuracy: 0.9379\n",
      "Epoch 18/45\n",
      "2400/2400 [==============================] - 45s 19ms/step - loss: 0.1635 - accuracy: 0.9389 - val_loss: 0.1735 - val_accuracy: 0.9349\n",
      "Epoch 19/45\n",
      "2400/2400 [==============================] - 46s 19ms/step - loss: 0.1604 - accuracy: 0.9400 - val_loss: 0.1509 - val_accuracy: 0.9428\n",
      "Epoch 20/45\n",
      "2400/2400 [==============================] - 46s 19ms/step - loss: 0.1578 - accuracy: 0.9408 - val_loss: 0.1523 - val_accuracy: 0.9436\n",
      "Epoch 21/45\n",
      "2400/2400 [==============================] - 46s 19ms/step - loss: 0.1557 - accuracy: 0.9417 - val_loss: 0.1492 - val_accuracy: 0.9441\n",
      "Epoch 22/45\n",
      "2400/2400 [==============================] - 46s 19ms/step - loss: 0.1546 - accuracy: 0.9423 - val_loss: 0.1492 - val_accuracy: 0.9448\n",
      "Epoch 23/45\n",
      "2400/2400 [==============================] - 46s 19ms/step - loss: 0.1522 - accuracy: 0.9436 - val_loss: 0.1549 - val_accuracy: 0.9422\n",
      "Epoch 24/45\n",
      "2400/2400 [==============================] - 46s 19ms/step - loss: 0.1505 - accuracy: 0.9443 - val_loss: 0.1565 - val_accuracy: 0.9399\n",
      "Epoch 25/45\n",
      "2400/2400 [==============================] - 46s 19ms/step - loss: 0.1481 - accuracy: 0.9451 - val_loss: 0.1380 - val_accuracy: 0.9486\n",
      "Epoch 26/45\n",
      "2400/2400 [==============================] - 45s 19ms/step - loss: 0.1458 - accuracy: 0.9462 - val_loss: 0.1464 - val_accuracy: 0.9452\n",
      "Epoch 27/45\n",
      "2400/2400 [==============================] - 45s 19ms/step - loss: 0.1450 - accuracy: 0.9464 - val_loss: 0.1567 - val_accuracy: 0.9403\n",
      "Epoch 28/45\n",
      "2400/2400 [==============================] - 46s 19ms/step - loss: 0.1428 - accuracy: 0.9475 - val_loss: 0.1351 - val_accuracy: 0.9503\n",
      "Epoch 29/45\n",
      "2400/2400 [==============================] - 46s 19ms/step - loss: 0.1413 - accuracy: 0.9481 - val_loss: 0.1491 - val_accuracy: 0.9450\n",
      "Epoch 30/45\n",
      "2400/2400 [==============================] - 46s 19ms/step - loss: 0.1388 - accuracy: 0.9494 - val_loss: 0.1449 - val_accuracy: 0.9464\n",
      "Epoch 31/45\n",
      "2400/2400 [==============================] - 46s 19ms/step - loss: 0.1391 - accuracy: 0.9490 - val_loss: 0.1387 - val_accuracy: 0.9484\n",
      "Epoch 32/45\n",
      "2400/2400 [==============================] - 46s 19ms/step - loss: 0.1365 - accuracy: 0.9503 - val_loss: 0.1464 - val_accuracy: 0.9453\n",
      "Epoch 33/45\n",
      "2400/2400 [==============================] - 46s 19ms/step - loss: 0.1352 - accuracy: 0.9509 - val_loss: 0.1314 - val_accuracy: 0.9518\n",
      "Epoch 34/45\n",
      "2400/2400 [==============================] - 46s 19ms/step - loss: 0.1329 - accuracy: 0.9513 - val_loss: 0.1308 - val_accuracy: 0.9520\n",
      "Epoch 35/45\n",
      "2400/2400 [==============================] - 45s 19ms/step - loss: 0.1320 - accuracy: 0.9521 - val_loss: 0.1276 - val_accuracy: 0.9535\n",
      "Epoch 36/45\n",
      "2400/2400 [==============================] - 53s 22ms/step - loss: 0.1311 - accuracy: 0.9527 - val_loss: 0.1285 - val_accuracy: 0.9519\n",
      "Epoch 37/45\n",
      "2400/2400 [==============================] - 46s 19ms/step - loss: 0.1300 - accuracy: 0.9531 - val_loss: 0.1285 - val_accuracy: 0.9533\n",
      "Epoch 38/45\n",
      "2400/2400 [==============================] - 45s 19ms/step - loss: 0.1276 - accuracy: 0.9540 - val_loss: 0.1589 - val_accuracy: 0.9406\n",
      "Epoch 39/45\n",
      "2400/2400 [==============================] - 46s 19ms/step - loss: 0.1263 - accuracy: 0.9543 - val_loss: 0.1421 - val_accuracy: 0.9468\n",
      "Epoch 40/45\n",
      "2400/2400 [==============================] - 46s 19ms/step - loss: 0.1256 - accuracy: 0.9546 - val_loss: 0.1216 - val_accuracy: 0.9566\n",
      "Epoch 41/45\n",
      "2400/2400 [==============================] - 46s 19ms/step - loss: 0.1240 - accuracy: 0.9551 - val_loss: 0.1355 - val_accuracy: 0.9503\n",
      "Epoch 42/45\n",
      "2400/2400 [==============================] - 46s 19ms/step - loss: 0.1227 - accuracy: 0.9559 - val_loss: 0.1215 - val_accuracy: 0.9556\n",
      "Epoch 43/45\n",
      "2400/2400 [==============================] - 46s 19ms/step - loss: 0.1230 - accuracy: 0.9558 - val_loss: 0.1291 - val_accuracy: 0.9523\n",
      "Epoch 44/45\n",
      "2400/2400 [==============================] - 46s 19ms/step - loss: 0.1210 - accuracy: 0.9567 - val_loss: 0.1153 - val_accuracy: 0.9582\n",
      "Epoch 45/45\n",
      "2400/2400 [==============================] - 46s 19ms/step - loss: 0.1212 - accuracy: 0.9561 - val_loss: 0.1149 - val_accuracy: 0.9592\n",
      "\n",
      "Saving history...\n"
     ]
    },
    {
     "data": {
      "text/plain": [
       "<keras.callbacks.History at 0x2ab3ea7fa1d0>"
      ]
     },
     "execution_count": 8,
     "metadata": {},
     "output_type": "execute_result"
    }
   ],
   "source": [
    "print(f\"=== Training [{dt.datetime.now()}] ===\")\n",
    "train_iteration(lr=2e-5, epochs=45)"
   ]
  },
  {
   "cell_type": "code",
   "execution_count": 9,
   "id": "22df7c39-e1b1-4769-bf3b-5bbd6674e8bd",
   "metadata": {
    "collapsed": true,
    "jupyter": {
     "outputs_hidden": true
    },
    "tags": []
   },
   "outputs": [
    {
     "name": "stdout",
     "output_type": "stream",
     "text": [
      "=== Training [2023-06-09 15:16:20.584163] ===\n",
      "Epoch 1/30\n",
      "2400/2400 [==============================] - 62s 20ms/step - loss: 0.1040 - accuracy: 0.9637 - val_loss: 0.1099 - val_accuracy: 0.9608\n",
      "Epoch 2/30\n",
      "2400/2400 [==============================] - 46s 19ms/step - loss: 0.1030 - accuracy: 0.9640 - val_loss: 0.1092 - val_accuracy: 0.9611\n",
      "Epoch 3/30\n",
      "2400/2400 [==============================] - 46s 19ms/step - loss: 0.1025 - accuracy: 0.9640 - val_loss: 0.1077 - val_accuracy: 0.9614\n",
      "Epoch 4/30\n",
      "2400/2400 [==============================] - 46s 19ms/step - loss: 0.1019 - accuracy: 0.9642 - val_loss: 0.1083 - val_accuracy: 0.9613\n",
      "Epoch 5/30\n",
      "2400/2400 [==============================] - 46s 19ms/step - loss: 0.1017 - accuracy: 0.9644 - val_loss: 0.1063 - val_accuracy: 0.9617\n",
      "Epoch 6/30\n",
      "2400/2400 [==============================] - 46s 19ms/step - loss: 0.1013 - accuracy: 0.9645 - val_loss: 0.1074 - val_accuracy: 0.9615\n",
      "Epoch 7/30\n",
      "2400/2400 [==============================] - 45s 19ms/step - loss: 0.1009 - accuracy: 0.9643 - val_loss: 0.1069 - val_accuracy: 0.9617\n",
      "Epoch 8/30\n",
      "2400/2400 [==============================] - 46s 19ms/step - loss: 0.1006 - accuracy: 0.9647 - val_loss: 0.1082 - val_accuracy: 0.9611\n",
      "Epoch 9/30\n",
      "2400/2400 [==============================] - 47s 19ms/step - loss: 0.1004 - accuracy: 0.9645 - val_loss: 0.1049 - val_accuracy: 0.9626\n",
      "Epoch 10/30\n",
      "2400/2400 [==============================] - 46s 19ms/step - loss: 0.1003 - accuracy: 0.9649 - val_loss: 0.1055 - val_accuracy: 0.9627\n",
      "Epoch 11/30\n",
      "2400/2400 [==============================] - 46s 19ms/step - loss: 0.0999 - accuracy: 0.9650 - val_loss: 0.1042 - val_accuracy: 0.9633\n",
      "Epoch 12/30\n",
      "2400/2400 [==============================] - 46s 19ms/step - loss: 0.0997 - accuracy: 0.9650 - val_loss: 0.1046 - val_accuracy: 0.9626\n",
      "Epoch 13/30\n",
      "2400/2400 [==============================] - 46s 19ms/step - loss: 0.0995 - accuracy: 0.9649 - val_loss: 0.1039 - val_accuracy: 0.9632\n",
      "Epoch 14/30\n",
      "2400/2400 [==============================] - 45s 19ms/step - loss: 0.0992 - accuracy: 0.9651 - val_loss: 0.1053 - val_accuracy: 0.9624\n",
      "Epoch 15/30\n",
      "2400/2400 [==============================] - 45s 19ms/step - loss: 0.0990 - accuracy: 0.9651 - val_loss: 0.1040 - val_accuracy: 0.9628\n",
      "Epoch 16/30\n",
      "2400/2400 [==============================] - 46s 19ms/step - loss: 0.0989 - accuracy: 0.9652 - val_loss: 0.1032 - val_accuracy: 0.9629\n",
      "Epoch 17/30\n",
      "2400/2400 [==============================] - 47s 19ms/step - loss: 0.0987 - accuracy: 0.9652 - val_loss: 0.1029 - val_accuracy: 0.9631\n",
      "Epoch 18/30\n",
      "2400/2400 [==============================] - 46s 19ms/step - loss: 0.0985 - accuracy: 0.9654 - val_loss: 0.1039 - val_accuracy: 0.9639\n",
      "Epoch 19/30\n",
      "2400/2400 [==============================] - 46s 19ms/step - loss: 0.0981 - accuracy: 0.9654 - val_loss: 0.1030 - val_accuracy: 0.9628\n",
      "Epoch 20/30\n",
      "2400/2400 [==============================] - 46s 19ms/step - loss: 0.0982 - accuracy: 0.9656 - val_loss: 0.1017 - val_accuracy: 0.9639\n",
      "Epoch 21/30\n",
      "2400/2400 [==============================] - 46s 19ms/step - loss: 0.0979 - accuracy: 0.9657 - val_loss: 0.1032 - val_accuracy: 0.9639\n",
      "Epoch 22/30\n",
      "2400/2400 [==============================] - 45s 19ms/step - loss: 0.0977 - accuracy: 0.9656 - val_loss: 0.1026 - val_accuracy: 0.9640\n",
      "Epoch 23/30\n",
      "2400/2400 [==============================] - 46s 19ms/step - loss: 0.0976 - accuracy: 0.9657 - val_loss: 0.1024 - val_accuracy: 0.9642\n",
      "Epoch 24/30\n",
      "2400/2400 [==============================] - 46s 19ms/step - loss: 0.0974 - accuracy: 0.9658 - val_loss: 0.1013 - val_accuracy: 0.9645\n",
      "Epoch 25/30\n",
      "2400/2400 [==============================] - 46s 19ms/step - loss: 0.0971 - accuracy: 0.9657 - val_loss: 0.1021 - val_accuracy: 0.9632\n",
      "Epoch 26/30\n",
      "2400/2400 [==============================] - 46s 19ms/step - loss: 0.0972 - accuracy: 0.9659 - val_loss: 0.1017 - val_accuracy: 0.9637\n",
      "Epoch 27/30\n",
      "2400/2400 [==============================] - 46s 19ms/step - loss: 0.0968 - accuracy: 0.9660 - val_loss: 0.1016 - val_accuracy: 0.9640\n",
      "Epoch 28/30\n",
      "2400/2400 [==============================] - 46s 19ms/step - loss: 0.0966 - accuracy: 0.9660 - val_loss: 0.1011 - val_accuracy: 0.9648\n",
      "Epoch 29/30\n",
      "2400/2400 [==============================] - 46s 19ms/step - loss: 0.0966 - accuracy: 0.9660 - val_loss: 0.1022 - val_accuracy: 0.9638\n",
      "Epoch 30/30\n",
      "2400/2400 [==============================] - 46s 19ms/step - loss: 0.0964 - accuracy: 0.9660 - val_loss: 0.1004 - val_accuracy: 0.9639\n",
      "\n",
      "Saving history...\n"
     ]
    },
    {
     "data": {
      "text/plain": [
       "<keras.callbacks.History at 0x2ab3f7db3640>"
      ]
     },
     "execution_count": 9,
     "metadata": {},
     "output_type": "execute_result"
    }
   ],
   "source": [
    "print(f\"=== Training [{dt.datetime.now()}] ===\")\n",
    "train_iteration(lr=2e-6, epochs=30)"
   ]
  },
  {
   "cell_type": "code",
   "execution_count": 12,
   "id": "bf3acb96-03a8-43c7-92c9-4377418147d2",
   "metadata": {
    "collapsed": true,
    "jupyter": {
     "outputs_hidden": true
    },
    "tags": []
   },
   "outputs": [
    {
     "name": "stdout",
     "output_type": "stream",
     "text": [
      "=== Training [2023-06-09 22:47:28.211818] ===\n",
      "Epoch 1/15\n",
      "2400/2400 [==============================] - 69s 20ms/step - loss: 0.0943 - accuracy: 0.9670 - val_loss: 0.0997 - val_accuracy: 0.9644\n",
      "Epoch 2/15\n",
      "2400/2400 [==============================] - 46s 19ms/step - loss: 0.0942 - accuracy: 0.9670 - val_loss: 0.0996 - val_accuracy: 0.9647\n",
      "Epoch 3/15\n",
      "2400/2400 [==============================] - 46s 19ms/step - loss: 0.0941 - accuracy: 0.9672 - val_loss: 0.0996 - val_accuracy: 0.9647\n",
      "Epoch 4/15\n",
      "2400/2400 [==============================] - 46s 19ms/step - loss: 0.0940 - accuracy: 0.9671 - val_loss: 0.0998 - val_accuracy: 0.9644\n",
      "Epoch 5/15\n",
      "2400/2400 [==============================] - 46s 19ms/step - loss: 0.0941 - accuracy: 0.9671 - val_loss: 0.0999 - val_accuracy: 0.9642\n",
      "Epoch 6/15\n",
      "2400/2400 [==============================] - 46s 19ms/step - loss: 0.0941 - accuracy: 0.9671 - val_loss: 0.0998 - val_accuracy: 0.9647\n",
      "Epoch 7/15\n",
      "2400/2400 [==============================] - 46s 19ms/step - loss: 0.0940 - accuracy: 0.9671 - val_loss: 0.0995 - val_accuracy: 0.9648\n",
      "Epoch 8/15\n",
      "2400/2400 [==============================] - 46s 19ms/step - loss: 0.0940 - accuracy: 0.9670 - val_loss: 0.0994 - val_accuracy: 0.9648\n",
      "Epoch 9/15\n",
      "2400/2400 [==============================] - 46s 19ms/step - loss: 0.0940 - accuracy: 0.9672 - val_loss: 0.0995 - val_accuracy: 0.9650\n",
      "Epoch 10/15\n",
      "2400/2400 [==============================] - 46s 19ms/step - loss: 0.0939 - accuracy: 0.9671 - val_loss: 0.0994 - val_accuracy: 0.9648\n",
      "Epoch 11/15\n",
      "2400/2400 [==============================] - 46s 19ms/step - loss: 0.0940 - accuracy: 0.9671 - val_loss: 0.0994 - val_accuracy: 0.9649\n",
      "Epoch 12/15\n",
      "2400/2400 [==============================] - 46s 19ms/step - loss: 0.0939 - accuracy: 0.9673 - val_loss: 0.0997 - val_accuracy: 0.9653\n",
      "Epoch 13/15\n",
      "2400/2400 [==============================] - 46s 19ms/step - loss: 0.0939 - accuracy: 0.9672 - val_loss: 0.0994 - val_accuracy: 0.9653\n",
      "Epoch 14/15\n",
      "2400/2400 [==============================] - 45s 19ms/step - loss: 0.0939 - accuracy: 0.9671 - val_loss: 0.0993 - val_accuracy: 0.9650\n",
      "Epoch 15/15\n",
      "2400/2400 [==============================] - 46s 19ms/step - loss: 0.0938 - accuracy: 0.9672 - val_loss: 0.0993 - val_accuracy: 0.9651\n",
      "\n",
      "Saving history...\n"
     ]
    },
    {
     "data": {
      "text/plain": [
       "<keras.callbacks.History at 0x2ab3ea8501f0>"
      ]
     },
     "execution_count": 12,
     "metadata": {},
     "output_type": "execute_result"
    }
   ],
   "source": [
    "print(f\"=== Training [{dt.datetime.now()}] ===\")\n",
    "train_iteration(lr=2e-7, epochs=15)"
   ]
  },
  {
   "cell_type": "code",
   "execution_count": 13,
   "id": "5f6febb5-e0b8-4b5e-b5b4-631452a3752c",
   "metadata": {
    "collapsed": true,
    "jupyter": {
     "outputs_hidden": true
    },
    "tags": []
   },
   "outputs": [
    {
     "name": "stdout",
     "output_type": "stream",
     "text": [
      "=== Training [2023-06-09 23:11:10.802391] ===\n",
      "Epoch 1/15\n",
      "2400/2400 [==============================] - 51s 19ms/step - loss: 0.0938 - accuracy: 0.9672 - val_loss: 0.0991 - val_accuracy: 0.9648\n",
      "Epoch 2/15\n",
      "2400/2400 [==============================] - 45s 19ms/step - loss: 0.0938 - accuracy: 0.9672 - val_loss: 0.0991 - val_accuracy: 0.9649\n",
      "Epoch 3/15\n",
      "2400/2400 [==============================] - 45s 19ms/step - loss: 0.0938 - accuracy: 0.9672 - val_loss: 0.0995 - val_accuracy: 0.9646\n",
      "Epoch 4/15\n",
      "2400/2400 [==============================] - 46s 19ms/step - loss: 0.0938 - accuracy: 0.9673 - val_loss: 0.0992 - val_accuracy: 0.9652\n",
      "Epoch 5/15\n",
      "2400/2400 [==============================] - 46s 19ms/step - loss: 0.0937 - accuracy: 0.9673 - val_loss: 0.0995 - val_accuracy: 0.9642\n",
      "Epoch 6/15\n",
      "2400/2400 [==============================] - 46s 19ms/step - loss: 0.0938 - accuracy: 0.9673 - val_loss: 0.0991 - val_accuracy: 0.9651\n",
      "Epoch 7/15\n",
      "2400/2400 [==============================] - 46s 19ms/step - loss: 0.0937 - accuracy: 0.9671 - val_loss: 0.0990 - val_accuracy: 0.9650\n",
      "Epoch 8/15\n",
      "2400/2400 [==============================] - 46s 19ms/step - loss: 0.0937 - accuracy: 0.9673 - val_loss: 0.0991 - val_accuracy: 0.9654\n",
      "Epoch 9/15\n",
      "2400/2400 [==============================] - 46s 19ms/step - loss: 0.0937 - accuracy: 0.9672 - val_loss: 0.0991 - val_accuracy: 0.9651\n",
      "Epoch 10/15\n",
      "2400/2400 [==============================] - 46s 19ms/step - loss: 0.0936 - accuracy: 0.9673 - val_loss: 0.0991 - val_accuracy: 0.9650\n",
      "Epoch 11/15\n",
      "2400/2400 [==============================] - 45s 19ms/step - loss: 0.0937 - accuracy: 0.9672 - val_loss: 0.0991 - val_accuracy: 0.9647\n",
      "Epoch 12/15\n",
      "2400/2400 [==============================] - 46s 19ms/step - loss: 0.0936 - accuracy: 0.9673 - val_loss: 0.0991 - val_accuracy: 0.9647\n",
      "Epoch 13/15\n",
      "2400/2400 [==============================] - 47s 19ms/step - loss: 0.0936 - accuracy: 0.9674 - val_loss: 0.0990 - val_accuracy: 0.9649\n",
      "Epoch 14/15\n",
      "2400/2400 [==============================] - 46s 19ms/step - loss: 0.0936 - accuracy: 0.9672 - val_loss: 0.0991 - val_accuracy: 0.9652\n",
      "Epoch 15/15\n",
      "2400/2400 [==============================] - 46s 19ms/step - loss: 0.0936 - accuracy: 0.9673 - val_loss: 0.0992 - val_accuracy: 0.9647\n",
      "\n",
      "Saving history...\n"
     ]
    },
    {
     "data": {
      "text/plain": [
       "<keras.callbacks.History at 0x2ab411de8970>"
      ]
     },
     "execution_count": 13,
     "metadata": {},
     "output_type": "execute_result"
    }
   ],
   "source": [
    "print(f\"=== Training [{dt.datetime.now()}] ===\")\n",
    "train_iteration(lr=2e-7, epochs=15)"
   ]
  },
  {
   "cell_type": "code",
   "execution_count": 15,
   "id": "2c030340-03dd-4307-be01-5596e370547c",
   "metadata": {
    "collapsed": true,
    "jupyter": {
     "outputs_hidden": true
    },
    "tags": []
   },
   "outputs": [
    {
     "name": "stdout",
     "output_type": "stream",
     "text": [
      "=== Training [2023-06-09 23:35:31.968216] ===\n",
      "Epoch 1/15\n",
      "2400/2400 [==============================] - 50s 19ms/step - loss: 0.0955 - accuracy: 0.9663 - val_loss: 0.1002 - val_accuracy: 0.9653\n",
      "Epoch 2/15\n",
      "2400/2400 [==============================] - 46s 19ms/step - loss: 0.0954 - accuracy: 0.9666 - val_loss: 0.1002 - val_accuracy: 0.9644\n",
      "Epoch 3/15\n",
      "2400/2400 [==============================] - 46s 19ms/step - loss: 0.0953 - accuracy: 0.9665 - val_loss: 0.0997 - val_accuracy: 0.9641\n",
      "Epoch 4/15\n",
      "2400/2400 [==============================] - 46s 19ms/step - loss: 0.0950 - accuracy: 0.9665 - val_loss: 0.1002 - val_accuracy: 0.9642\n",
      "Epoch 5/15\n",
      "2400/2400 [==============================] - 47s 19ms/step - loss: 0.0951 - accuracy: 0.9665 - val_loss: 0.1019 - val_accuracy: 0.9630\n",
      "Epoch 6/15\n",
      "2400/2400 [==============================] - 46s 19ms/step - loss: 0.0949 - accuracy: 0.9670 - val_loss: 0.1001 - val_accuracy: 0.9646\n",
      "Epoch 7/15\n",
      "2400/2400 [==============================] - 46s 19ms/step - loss: 0.0949 - accuracy: 0.9666 - val_loss: 0.0991 - val_accuracy: 0.9651\n",
      "Epoch 8/15\n",
      "2400/2400 [==============================] - 46s 19ms/step - loss: 0.0945 - accuracy: 0.9668 - val_loss: 0.0987 - val_accuracy: 0.9646\n",
      "Epoch 9/15\n",
      "2400/2400 [==============================] - 46s 19ms/step - loss: 0.0944 - accuracy: 0.9667 - val_loss: 0.1004 - val_accuracy: 0.9645\n",
      "Epoch 10/15\n",
      "2400/2400 [==============================] - 46s 19ms/step - loss: 0.0943 - accuracy: 0.9669 - val_loss: 0.0987 - val_accuracy: 0.9654\n",
      "Epoch 11/15\n",
      "2400/2400 [==============================] - 46s 19ms/step - loss: 0.0943 - accuracy: 0.9669 - val_loss: 0.0983 - val_accuracy: 0.9652\n",
      "Epoch 12/15\n",
      "2400/2400 [==============================] - 46s 19ms/step - loss: 0.0941 - accuracy: 0.9670 - val_loss: 0.0977 - val_accuracy: 0.9654\n",
      "Epoch 13/15\n",
      "2400/2400 [==============================] - 46s 19ms/step - loss: 0.0940 - accuracy: 0.9667 - val_loss: 0.0985 - val_accuracy: 0.9651\n",
      "Epoch 14/15\n",
      "2400/2400 [==============================] - 45s 19ms/step - loss: 0.0938 - accuracy: 0.9671 - val_loss: 0.0990 - val_accuracy: 0.9653\n",
      "Epoch 15/15\n",
      "2400/2400 [==============================] - 46s 19ms/step - loss: 0.0935 - accuracy: 0.9672 - val_loss: 0.0979 - val_accuracy: 0.9655\n",
      "\n",
      "Saving history...\n"
     ]
    },
    {
     "data": {
      "text/plain": [
       "<keras.callbacks.History at 0x2ab4a9b0e1d0>"
      ]
     },
     "execution_count": 15,
     "metadata": {},
     "output_type": "execute_result"
    }
   ],
   "source": [
    "print(f\"=== Training [{dt.datetime.now()}] ===\")\n",
    "train_iteration(lr=2e-6, epochs=15)"
   ]
  },
  {
   "cell_type": "code",
   "execution_count": 18,
   "id": "af9b4da3-a48e-4189-8780-5b3f3682a1ff",
   "metadata": {},
   "outputs": [
    {
     "name": "stdout",
     "output_type": "stream",
     "text": [
      "INFO:tensorflow:Assets written to: /usatlas/atlas01/atlasdisk/users/atlas_wifeng/photon-jet/models/pfn/96.58%_2023-06-09/assets\n"
     ]
    }
   ],
   "source": [
    "save_model(\"96.58%\")"
   ]
  },
  {
   "cell_type": "markdown",
   "id": "bc9d76a4-3a5c-4385-b372-8c02bc812187",
   "metadata": {},
   "source": [
    "### Evaluate model"
   ]
  },
  {
   "cell_type": "code",
   "execution_count": 16,
   "id": "f8c8639d-410e-4247-9380-508693665e33",
   "metadata": {
    "tags": []
   },
   "outputs": [
    {
     "data": {
      "image/png": "[encoded data removed]",
      "text/plain": [
       "<Figure size 1000x400 with 2 Axes>"
      ]
     },
     "metadata": {},
     "output_type": "display_data"
    }
   ],
   "source": [
    "from matplotlib import pyplot as plt\n",
    "\n",
    "fig, axs = plt.subplots(1, 2, figsize=(10, 4))\n",
    "ax1, ax2 = axs\n",
    "\n",
    "ax1.plot(history[\"loss\"])\n",
    "ax1.plot(history[\"val_loss\"])\n",
    "ax1.legend([\"loss\", \"val_loss\"])\n",
    "ax1.set_xlabel(\"Epoch\")\n",
    "ax1.set_ylabel(\"Loss\");\n",
    "\n",
    "ax2.plot(history[\"accuracy\"])\n",
    "ax2.plot(history[\"val_accuracy\"])\n",
    "ax2.legend([\"loss\", \"val_accuracy\"])\n",
    "ax2.set_xlabel(\"Epoch\")\n",
    "ax2.set_ylabel(\"Accuracy\");"
   ]
  },
  {
   "cell_type": "code",
   "execution_count": 17,
   "id": "fd0e639f-8174-45a8-8154-51b1dcdc5fcc",
   "metadata": {},
   "outputs": [
    {
     "name": "stdout",
     "output_type": "stream",
     "text": [
      "60/60 [==============================] - 11s 29ms/step\n",
      "Testing accuracy: 0.9658\n"
     ]
    },
    {
     "data": {
      "image/png": "[encoded data removed]",
      "text/plain": [
       "<Figure size 640x480 with 2 Axes>"
      ]
     },
     "metadata": {},
     "output_type": "display_data"
    }
   ],
   "source": [
    "# Test model\n",
    "from test_model import test_model, plot_cm\n",
    "test_accuracy, cm = test_model(model, (X_test, Y_test))\n",
    "print(f\"Testing accuracy: {test_accuracy}\")\n",
    "\n",
    "plot_cm(cm, [\"pion\", \"photon\", \"axion1\"])"
   ]
  }
 ],
 "metadata": {
  "kernelspec": {
   "display_name": "top-tagging",
   "language": "python",
   "name": "top-tagging"
  },
  "language_info": {
   "codemirror_mode": {
    "name": "ipython",
    "version": 3
   },
   "file_extension": ".py",
   "mimetype": "text/x-python",
   "name": "python",
   "nbconvert_exporter": "python",
   "pygments_lexer": "ipython3",
   "version": "3.10.10"
  }
 },
 "nbformat": 4,
 "nbformat_minor": 5
}
