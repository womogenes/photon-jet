{
 "cells": [
  {
   "cell_type": "markdown",
   "id": "21f93689-eea9-407e-9614-120e029a137b",
   "metadata": {},
   "source": [
    "# Test stuff for PFN model\n",
    "\n",
    "Classify pions, photons, and **scalars**"
   ]
  },
  {
   "cell_type": "code",
   "execution_count": 2,
   "id": "44db5291-bdc8-4a14-884d-8e08c17ca30b",
   "metadata": {
    "tags": []
   },
   "outputs": [
    {
     "name": "stdout",
     "output_type": "stream",
     "text": [
      "Importing tensorflow...\n",
      "Enabling memory growth...\n"
     ]
    }
   ],
   "source": [
    "# Add import paths\n",
    "import sys\n",
    "sys.path.append(\"..\")\n",
    "\n",
    "import os\n",
    "os.environ[\"TF_CPP_MIN_LOG_LEVEL\"] = \"2\"\n",
    "\n",
    "import numpy as np\n",
    "import datetime as dt\n",
    "from utils import print_gpu_memory, model_dir\n",
    "\n",
    "# Make tensorflow not use too much memory\n",
    "print(f\"Importing tensorflow...\")\n",
    "import tensorflow as tf\n",
    "print(f\"Enabling memory growth...\")\n",
    "gpus = tf.config.list_physical_devices(\"GPU\")\n",
    "for gpu in gpus:\n",
    "    tf.config.experimental.set_memory_growth(gpu, True)"
   ]
  },
  {
   "cell_type": "code",
   "execution_count": 4,
   "id": "179386df-5d96-468d-bdef-b61cd5ea4db9",
   "metadata": {
    "tags": []
   },
   "outputs": [
    {
     "name": "stdout",
     "output_type": "stream",
     "text": [
      "/usatlas/atlas01/atlasdisk/users/atlas_wifeng/photon-jet/data\n",
      "(240000, 960, 4) (240000, 3)\n"
     ]
    }
   ],
   "source": [
    "# Get data\n",
    "from data import get_data\n",
    "(X_train, X_val, X_test,\n",
    " Y_train, Y_val, Y_test) = get_data(\"processed/scalars/all_jets_point_cloud.npz\")\n",
    "\n",
    "print(X_train.shape, Y_train.shape)"
   ]
  },
  {
   "cell_type": "code",
   "execution_count": 5,
   "id": "a5a46b41-fa4a-4248-984f-7bac6a9f52a1",
   "metadata": {
    "tags": []
   },
   "outputs": [],
   "source": [
    "# Build model\n",
    "from model import PFN\n",
    "Phi_sizes = [128, 128, 128, 128, 64, 64, 64]\n",
    "F_sizes = [128, 128, 128, 128, 64, 64, 64]\n",
    "\n",
    "_, n_particles, n_features = X_train.shape\n",
    "model = PFN(\n",
    "    n_features=n_features,\n",
    "    n_particles=n_particles,\n",
    "    n_outputs=Y_train.shape[1],\n",
    "    Phi_sizes=Phi_sizes,\n",
    "    F_sizes=F_sizes\n",
    ")"
   ]
  },
  {
   "cell_type": "code",
   "execution_count": 6,
   "id": "01fd9137-f21b-46bf-bb0a-2f230dfccf25",
   "metadata": {
    "tags": []
   },
   "outputs": [],
   "source": [
    "from collections import defaultdict\n",
    "history = defaultdict(list)"
   ]
  },
  {
   "cell_type": "code",
   "execution_count": 7,
   "id": "b556fba9-41d8-46a5-bed9-28eafdec01ee",
   "metadata": {
    "tags": []
   },
   "outputs": [],
   "source": [
    "# Utility functions for training\n",
    "from train_model import train_model\n",
    "import yaml\n",
    "\n",
    "def train_iteration(lr, epochs):\n",
    "    fit_history = train_model(\n",
    "        model=model, \n",
    "        data=(X_train, X_val, Y_train, Y_val),\n",
    "        lr=lr,\n",
    "        epochs=epochs\n",
    "    )\n",
    "    print(f\"\\nSaving history...\")\n",
    "    for key in [\"loss\", \"val_loss\", \"accuracy\", \"val_accuracy\"]:\n",
    "        history[key].extend(fit_history.history[key])\n",
    "    return fit_history\n",
    "\n",
    "def save_model(name):\n",
    "    cur_date = dt.datetime.now().strftime(\"%Y-%m-%d\")\n",
    "    model.save(f\"{model_dir}/{name}_{cur_date}\")"
   ]
  },
  {
   "cell_type": "code",
   "execution_count": 8,
   "id": "e7125c32-0792-4102-957c-33af01279951",
   "metadata": {},
   "outputs": [
    {
     "name": "stdout",
     "output_type": "stream",
     "text": [
      "GPU memory usage\n",
      "  current: 556.75 KB\n",
      "  peak:    618.25 KB\n"
     ]
    }
   ],
   "source": [
    "print_gpu_memory()"
   ]
  },
  {
   "cell_type": "code",
   "execution_count": 9,
   "id": "c5c7ed25-1b3b-4bc9-a133-2ba36d83ae5e",
   "metadata": {
    "tags": []
   },
   "outputs": [
    {
     "name": "stdout",
     "output_type": "stream",
     "text": [
      "=== Training [2023-06-08 01:18:40.171011] ===\n",
      "Epoch 1/30\n",
      "2400/2400 [==============================] - 57s 20ms/step - loss: 1.3706 - accuracy: 0.3484 - val_loss: 1.0576 - val_accuracy: 0.4263\n",
      "Epoch 2/30\n",
      "2400/2400 [==============================] - 46s 19ms/step - loss: 1.1431 - accuracy: 0.4174 - val_loss: 1.0557 - val_accuracy: 0.4010\n",
      "Epoch 3/30\n",
      "2400/2400 [==============================] - 45s 19ms/step - loss: 1.0361 - accuracy: 0.4476 - val_loss: 1.0302 - val_accuracy: 0.4238\n",
      "Epoch 4/30\n",
      "2400/2400 [==============================] - 45s 19ms/step - loss: 1.0203 - accuracy: 0.4596 - val_loss: 0.9984 - val_accuracy: 0.4774\n",
      "Epoch 5/30\n",
      "2400/2400 [==============================] - 45s 19ms/step - loss: 0.9899 - accuracy: 0.4794 - val_loss: 1.0128 - val_accuracy: 0.4731\n",
      "Epoch 6/30\n",
      "2400/2400 [==============================] - 45s 19ms/step - loss: 0.9675 - accuracy: 0.4978 - val_loss: 0.9875 - val_accuracy: 0.4845\n",
      "Epoch 7/30\n",
      "2400/2400 [==============================] - 45s 19ms/step - loss: 0.9423 - accuracy: 0.5169 - val_loss: 0.9760 - val_accuracy: 0.4919\n",
      "Epoch 8/30\n",
      "2400/2400 [==============================] - 45s 19ms/step - loss: 0.9524 - accuracy: 0.5093 - val_loss: 0.9348 - val_accuracy: 0.5228\n",
      "Epoch 9/30\n",
      "2400/2400 [==============================] - 45s 19ms/step - loss: 0.8643 - accuracy: 0.5725 - val_loss: 0.7855 - val_accuracy: 0.6244\n",
      "Epoch 10/30\n",
      "2400/2400 [==============================] - 45s 19ms/step - loss: 0.7838 - accuracy: 0.6262 - val_loss: 0.6662 - val_accuracy: 0.7019\n",
      "Epoch 11/30\n",
      "2400/2400 [==============================] - 45s 19ms/step - loss: 0.8120 - accuracy: 0.6024 - val_loss: 0.9504 - val_accuracy: 0.5100\n",
      "Epoch 12/30\n",
      "2400/2400 [==============================] - 45s 19ms/step - loss: 0.6887 - accuracy: 0.6817 - val_loss: 0.5702 - val_accuracy: 0.7527\n",
      "Epoch 13/30\n",
      "2400/2400 [==============================] - 45s 19ms/step - loss: 0.7173 - accuracy: 0.6616 - val_loss: 0.6249 - val_accuracy: 0.7230\n",
      "Epoch 14/30\n",
      "2400/2400 [==============================] - 45s 19ms/step - loss: 0.5888 - accuracy: 0.7373 - val_loss: 0.5492 - val_accuracy: 0.7592\n",
      "Epoch 15/30\n",
      "2400/2400 [==============================] - 45s 19ms/step - loss: 0.5343 - accuracy: 0.7659 - val_loss: 0.5671 - val_accuracy: 0.7497\n",
      "Epoch 16/30\n",
      "2400/2400 [==============================] - 45s 19ms/step - loss: 0.5409 - accuracy: 0.7630 - val_loss: 0.8563 - val_accuracy: 0.6043\n",
      "Epoch 17/30\n",
      "2400/2400 [==============================] - 45s 19ms/step - loss: 0.4945 - accuracy: 0.7871 - val_loss: 0.4920 - val_accuracy: 0.7840\n",
      "Epoch 18/30\n",
      "2400/2400 [==============================] - 45s 19ms/step - loss: 0.4651 - accuracy: 0.8028 - val_loss: 0.4189 - val_accuracy: 0.8226\n",
      "Epoch 19/30\n",
      "2400/2400 [==============================] - 45s 19ms/step - loss: 0.4483 - accuracy: 0.8112 - val_loss: 0.4389 - val_accuracy: 0.8195\n",
      "Epoch 20/30\n",
      "2400/2400 [==============================] - 45s 19ms/step - loss: 0.4154 - accuracy: 0.8265 - val_loss: 0.4758 - val_accuracy: 0.7952\n",
      "Epoch 21/30\n",
      "2400/2400 [==============================] - 45s 19ms/step - loss: 0.5035 - accuracy: 0.7802 - val_loss: 0.7440 - val_accuracy: 0.6508\n",
      "Epoch 22/30\n",
      "2400/2400 [==============================] - 45s 19ms/step - loss: 0.4526 - accuracy: 0.8083 - val_loss: 0.4244 - val_accuracy: 0.8215\n",
      "Epoch 23/30\n",
      "2400/2400 [==============================] - 51s 21ms/step - loss: 0.4194 - accuracy: 0.8247 - val_loss: 0.4151 - val_accuracy: 0.8229\n",
      "Epoch 24/30\n",
      "2400/2400 [==============================] - 60s 25ms/step - loss: 0.4223 - accuracy: 0.8226 - val_loss: 0.3812 - val_accuracy: 0.8397\n",
      "Epoch 25/30\n",
      "2400/2400 [==============================] - 45s 19ms/step - loss: 0.4117 - accuracy: 0.8276 - val_loss: 0.3973 - val_accuracy: 0.8306\n",
      "Epoch 26/30\n",
      "2400/2400 [==============================] - 45s 19ms/step - loss: 0.3853 - accuracy: 0.8406 - val_loss: 0.3852 - val_accuracy: 0.8440\n",
      "Epoch 27/30\n",
      "2400/2400 [==============================] - 45s 19ms/step - loss: 0.5036 - accuracy: 0.7806 - val_loss: 0.4162 - val_accuracy: 0.8223\n",
      "Epoch 28/30\n",
      "2400/2400 [==============================] - 47s 20ms/step - loss: 0.4121 - accuracy: 0.8292 - val_loss: 0.4242 - val_accuracy: 0.8205\n",
      "Epoch 29/30\n",
      "2400/2400 [==============================] - 50s 21ms/step - loss: 0.4194 - accuracy: 0.8240 - val_loss: 0.4787 - val_accuracy: 0.7925\n",
      "Epoch 30/30\n",
      "2400/2400 [==============================] - 71s 30ms/step - loss: 0.4151 - accuracy: 0.8260 - val_loss: 0.3827 - val_accuracy: 0.8392\n",
      "\n",
      "Saving history...\n"
     ]
    },
    {
     "data": {
      "text/plain": [
       "<keras.callbacks.History at 0x2b37bf573a90>"
      ]
     },
     "execution_count": 9,
     "metadata": {},
     "output_type": "execute_result"
    }
   ],
   "source": [
    "print(f\"=== Training [{dt.datetime.now()}] ===\")\n",
    "train_iteration(lr=2e-4, epochs=30)"
   ]
  },
  {
   "cell_type": "code",
   "execution_count": null,
   "id": "945c82e7-d0fb-4dae-b9af-d00da171e07e",
   "metadata": {
    "tags": []
   },
   "outputs": [],
   "source": [
    "print(f\"=== Training [{dt.datetime.now()}] ===\")\n",
    "train_iteration(lr=2e-5, epochs=30)"
   ]
  },
  {
   "cell_type": "code",
   "execution_count": null,
   "id": "22df7c39-e1b1-4769-bf3b-5bbd6674e8bd",
   "metadata": {
    "tags": []
   },
   "outputs": [],
   "source": [
    "print(f\"=== Training [{dt.datetime.now()}] ===\")\n",
    "train_iteration(lr=2e-6, epochs=30)"
   ]
  },
  {
   "cell_type": "code",
   "execution_count": null,
   "id": "db5fd29b-53a4-4831-a950-762383313b7e",
   "metadata": {},
   "outputs": [],
   "source": [
    "save_model(\"7_feature_95pc\")"
   ]
  },
  {
   "cell_type": "markdown",
   "id": "bc9d76a4-3a5c-4385-b372-8c02bc812187",
   "metadata": {},
   "source": [
    "### Evaluate model"
   ]
  },
  {
   "cell_type": "code",
   "execution_count": null,
   "id": "f8c8639d-410e-4247-9380-508693665e33",
   "metadata": {
    "tags": []
   },
   "outputs": [],
   "source": [
    "from matplotlib import pyplot as plt\n",
    "\n",
    "fig, axs = plt.subplots(1, 2, figsize=(10, 4))\n",
    "ax1, ax2 = axs\n",
    "\n",
    "ax1.plot(history[\"loss\"])\n",
    "ax1.plot(history[\"val_loss\"])\n",
    "ax1.legend([\"loss\", \"val_loss\"])\n",
    "ax1.set_xlabel(\"Epoch\")\n",
    "ax1.set_ylabel(\"Loss\");\n",
    "\n",
    "ax2.plot(history[\"accuracy\"])\n",
    "ax2.plot(history[\"val_accuracy\"])\n",
    "ax2.legend([\"loss\", \"val_accuracy\"])\n",
    "ax2.set_xlabel(\"Epoch\")\n",
    "ax2.set_ylabel(\"Accuracy\");"
   ]
  },
  {
   "cell_type": "code",
   "execution_count": null,
   "id": "fd0e639f-8174-45a8-8154-51b1dcdc5fcc",
   "metadata": {},
   "outputs": [],
   "source": [
    "# Test model\n",
    "from test_model import test_model, plot_cm\n",
    "test_accuracy, cm = test_model(model, (X_test, Y_test))\n",
    "print(f\"Testing accuracy: {test_accuracy}\")\n",
    "\n",
    "plot_cm(cm, [\"pion\", \"photon\", \"axion1\"])"
   ]
  }
 ],
 "metadata": {
  "kernelspec": {
   "display_name": "top-tagging",
   "language": "python",
   "name": "top-tagging"
  },
  "language_info": {
   "codemirror_mode": {
    "name": "ipython",
    "version": 3
   },
   "file_extension": ".py",
   "mimetype": "text/x-python",
   "name": "python",
   "nbconvert_exporter": "python",
   "pygments_lexer": "ipython3",
   "version": "3.10.10"
  }
 },
 "nbformat": 4,
 "nbformat_minor": 5
}
