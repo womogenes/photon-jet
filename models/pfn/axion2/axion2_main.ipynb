{
 "cells": [
  {
   "cell_type": "markdown",
   "id": "21f93689-eea9-407e-9614-120e029a137b",
   "metadata": {},
   "source": [
    "# Test stuff for PFN model\n",
    "\n",
    "Classify pions, photons, and **axion2s**"
   ]
  },
  {
   "cell_type": "code",
   "execution_count": null,
   "id": "44db5291-bdc8-4a14-884d-8e08c17ca30b",
   "metadata": {
    "tags": []
   },
   "outputs": [],
   "source": [
    "# Add import paths\n",
    "import sys\n",
    "sys.path.append(\"..\")\n",
    "\n",
    "import os\n",
    "os.environ[\"TF_CPP_MIN_LOG_LEVEL\"] = \"2\"\n",
    "\n",
    "import numpy as np\n",
    "import datetime as dt\n",
    "from utils import print_gpu_memory, model_dir\n",
    "\n",
    "# Make tensorflow not use too much memory\n",
    "import tensorflow as tf\n",
    "gpus = tf.config.list_physical_devices(\"GPU\")\n",
    "for gpu in gpus:\n",
    "    tf.config.experimental.set_memory_growth(gpu, True)"
   ]
  },
  {
   "cell_type": "code",
   "execution_count": null,
   "id": "179386df-5d96-468d-bdef-b61cd5ea4db9",
   "metadata": {
    "tags": []
   },
   "outputs": [],
   "source": [
    "# Get data\n",
    "from data import get_data\n",
    "(X_train, X_val, X_test,\n",
    " Y_train, Y_val, Y_test) = get_data(\"processed/axion2s/all_jets_point_cloud.npz\")\n",
    "\n",
    "print(X_train.shape, Y_train.shape)"
   ]
  },
  {
   "cell_type": "code",
   "execution_count": null,
   "id": "a5a46b41-fa4a-4248-984f-7bac6a9f52a1",
   "metadata": {
    "tags": []
   },
   "outputs": [],
   "source": [
    "# Build model\n",
    "from model import PFN\n",
    "Phi_sizes = [128, 128, 128, 128, 64, 64, 64]\n",
    "F_sizes = [128, 128, 128, 128, 64, 64, 64]\n",
    "\n",
    "_, n_particles, n_features = X_train.shape\n",
    "model = PFN(\n",
    "    n_features=n_features,\n",
    "    n_particles=n_particles,\n",
    "    n_outputs=Y_train.shape[1],\n",
    "    Phi_sizes=Phi_sizes,\n",
    "    F_sizes=F_sizes\n",
    ")"
   ]
  },
  {
   "cell_type": "code",
   "execution_count": null,
   "id": "01fd9137-f21b-46bf-bb0a-2f230dfccf25",
   "metadata": {
    "tags": []
   },
   "outputs": [],
   "source": [
    "from collections import defaultdict\n",
    "history = defaultdict(list)"
   ]
  },
  {
   "cell_type": "code",
   "execution_count": null,
   "id": "b556fba9-41d8-46a5-bed9-28eafdec01ee",
   "metadata": {
    "tags": []
   },
   "outputs": [],
   "source": [
    "# Utility functions for training\n",
    "from train_model import train_model\n",
    "import yaml\n",
    "\n",
    "def train_iteration(lr, epochs):\n",
    "    fit_history = train_model(\n",
    "        model=model, \n",
    "        data=(X_train, X_val, Y_train, Y_val),\n",
    "        lr=lr,\n",
    "        epochs=epochs\n",
    "    )\n",
    "    print(f\"\\nSaving history...\")\n",
    "    for key in [\"loss\", \"val_loss\", \"accuracy\", \"val_accuracy\"]:\n",
    "        history[key].extend(fit_history.history[key])\n",
    "    return fit_history\n",
    "\n",
    "def save_model(name):\n",
    "    cur_date = dt.datetime.now().strftime(\"%Y-%m-%d\")\n",
    "    model.save(f\"{model_dir}/{name}_{cur_date}\")"
   ]
  },
  {
   "cell_type": "code",
   "execution_count": null,
   "id": "e7125c32-0792-4102-957c-33af01279951",
   "metadata": {},
   "outputs": [],
   "source": [
    "print_gpu_memory()"
   ]
  },
  {
   "cell_type": "code",
   "execution_count": null,
   "id": "c5c7ed25-1b3b-4bc9-a133-2ba36d83ae5e",
   "metadata": {
    "tags": []
   },
   "outputs": [],
   "source": [
    "print(f\"=== Training [{dt.datetime.now()}] ===\")\n",
    "train_iteration(lr=2e-4, epochs=45)"
   ]
  },
  {
   "cell_type": "code",
   "execution_count": null,
   "id": "945c82e7-d0fb-4dae-b9af-d00da171e07e",
   "metadata": {
    "tags": []
   },
   "outputs": [],
   "source": [
    "print(f\"=== Training [{dt.datetime.now()}] ===\")\n",
    "train_iteration(lr=2e-5, epochs=45)"
   ]
  },
  {
   "cell_type": "code",
   "execution_count": null,
   "id": "22df7c39-e1b1-4769-bf3b-5bbd6674e8bd",
   "metadata": {
    "tags": []
   },
   "outputs": [],
   "source": [
    "print(f\"=== Training [{dt.datetime.now()}] ===\")\n",
    "train_iteration(lr=2e-6, epochs=30)"
   ]
  },
  {
   "cell_type": "code",
   "execution_count": null,
   "id": "af9b4da3-a48e-4189-8780-5b3f3682a1ff",
   "metadata": {},
   "outputs": [],
   "source": [
    "save_model(\"\")"
   ]
  },
  {
   "cell_type": "markdown",
   "id": "bc9d76a4-3a5c-4385-b372-8c02bc812187",
   "metadata": {},
   "source": [
    "### Evaluate model"
   ]
  },
  {
   "cell_type": "code",
   "execution_count": null,
   "id": "f8c8639d-410e-4247-9380-508693665e33",
   "metadata": {
    "tags": []
   },
   "outputs": [],
   "source": [
    "from matplotlib import pyplot as plt\n",
    "\n",
    "fig, axs = plt.subplots(1, 2, figsize=(10, 4))\n",
    "ax1, ax2 = axs\n",
    "\n",
    "ax1.plot(history[\"loss\"])\n",
    "ax1.plot(history[\"val_loss\"])\n",
    "ax1.legend([\"loss\", \"val_loss\"])\n",
    "ax1.set_xlabel(\"Epoch\")\n",
    "ax1.set_ylabel(\"Loss\");\n",
    "\n",
    "ax2.plot(history[\"accuracy\"])\n",
    "ax2.plot(history[\"val_accuracy\"])\n",
    "ax2.legend([\"loss\", \"val_accuracy\"])\n",
    "ax2.set_xlabel(\"Epoch\")\n",
    "ax2.set_ylabel(\"Accuracy\");"
   ]
  },
  {
   "cell_type": "code",
   "execution_count": null,
   "id": "fd0e639f-8174-45a8-8154-51b1dcdc5fcc",
   "metadata": {},
   "outputs": [],
   "source": [
    "# Test model\n",
    "from test_model import test_model, plot_cm\n",
    "test_accuracy, cm = test_model(model, (X_test, Y_test))\n",
    "print(f\"Testing accuracy: {test_accuracy}\")\n",
    "\n",
    "plot_cm(cm, [\"pion\", \"photon\", \"axion2\"])"
   ]
  }
 ],
 "metadata": {
  "kernelspec": {
   "display_name": "top-tagging",
   "language": "python",
   "name": "top-tagging"
  },
  "language_info": {
   "codemirror_mode": {
    "name": "ipython",
    "version": 3
   },
   "file_extension": ".py",
   "mimetype": "text/x-python",
   "name": "python",
   "nbconvert_exporter": "python",
   "pygments_lexer": "ipython3",
   "version": "3.10.10"
  }
 },
 "nbformat": 4,
 "nbformat_minor": 5
}
