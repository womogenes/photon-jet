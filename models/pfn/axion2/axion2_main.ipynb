{
 "cells": [
  {
   "cell_type": "markdown",
   "id": "21f93689-eea9-407e-9614-120e029a137b",
   "metadata": {},
   "source": [
    "# Test stuff for PFN model\n",
    "\n",
    "Classify pions, photons, and **axion2s**"
   ]
  },
  {
   "cell_type": "code",
   "execution_count": 1,
   "id": "44db5291-bdc8-4a14-884d-8e08c17ca30b",
   "metadata": {
    "tags": []
   },
   "outputs": [],
   "source": [
    "# Add import paths\n",
    "import sys\n",
    "sys.path.append(\"..\")\n",
    "\n",
    "import os\n",
    "os.environ[\"TF_CPP_MIN_LOG_LEVEL\"] = \"2\"\n",
    "\n",
    "import numpy as np\n",
    "import datetime as dt\n",
    "from utils import print_gpu_memory, model_dir\n",
    "\n",
    "# Make tensorflow not use too much memory\n",
    "import tensorflow as tf\n",
    "gpus = tf.config.list_physical_devices(\"GPU\")\n",
    "for gpu in gpus:\n",
    "    tf.config.experimental.set_memory_growth(gpu, True)"
   ]
  },
  {
   "cell_type": "code",
   "execution_count": 3,
   "id": "179386df-5d96-468d-bdef-b61cd5ea4db9",
   "metadata": {
    "tags": []
   },
   "outputs": [
    {
     "name": "stdout",
     "output_type": "stream",
     "text": [
      "(240000, 960, 4) (240000, 3)\n"
     ]
    }
   ],
   "source": [
    "# Get data\n",
    "from data import get_data\n",
    "(X_train, X_val, X_test,\n",
    " Y_train, Y_val, Y_test) = get_data(\"processed/axion2_test/all_jets_point_cloud.npz\")\n",
    "\n",
    "print(X_train.shape, Y_train.shape)"
   ]
  },
  {
   "cell_type": "code",
   "execution_count": 4,
   "id": "a5a46b41-fa4a-4248-984f-7bac6a9f52a1",
   "metadata": {
    "tags": []
   },
   "outputs": [],
   "source": [
    "# Build model\n",
    "from model import PFN\n",
    "Phi_sizes = [128, 128, 128, 128, 64, 64, 64]\n",
    "F_sizes = [128, 128, 128, 128, 64, 64, 64]\n",
    "\n",
    "_, n_particles, n_features = X_train.shape\n",
    "model = PFN(\n",
    "    n_features=n_features,\n",
    "    n_particles=n_particles,\n",
    "    n_outputs=Y_train.shape[1],\n",
    "    Phi_sizes=Phi_sizes,\n",
    "    F_sizes=F_sizes\n",
    ")"
   ]
  },
  {
   "cell_type": "code",
   "execution_count": 5,
   "id": "01fd9137-f21b-46bf-bb0a-2f230dfccf25",
   "metadata": {
    "tags": []
   },
   "outputs": [],
   "source": [
    "from collections import defaultdict\n",
    "history = defaultdict(list)"
   ]
  },
  {
   "cell_type": "code",
   "execution_count": 6,
   "id": "b556fba9-41d8-46a5-bed9-28eafdec01ee",
   "metadata": {
    "tags": []
   },
   "outputs": [],
   "source": [
    "# Utility functions for training\n",
    "from train_model import train_model\n",
    "import yaml\n",
    "\n",
    "def train_iteration(lr, epochs):\n",
    "    fit_history = train_model(\n",
    "        model=model, \n",
    "        data=(X_train, X_val, Y_train, Y_val),\n",
    "        lr=lr,\n",
    "        epochs=epochs\n",
    "    )\n",
    "    print(f\"\\nSaving history...\")\n",
    "    for key in [\"loss\", \"val_loss\", \"accuracy\", \"val_accuracy\"]:\n",
    "        history[key].extend(fit_history.history[key])\n",
    "    return fit_history\n",
    "\n",
    "def save_model(name):\n",
    "    cur_date = dt.datetime.now().strftime(\"%Y-%m-%d\")\n",
    "    model.save(f\"{model_dir}/{name}_{cur_date}\")"
   ]
  },
  {
   "cell_type": "code",
   "execution_count": 7,
   "id": "e7125c32-0792-4102-957c-33af01279951",
   "metadata": {},
   "outputs": [
    {
     "name": "stdout",
     "output_type": "stream",
     "text": [
      "GPU memory usage\n",
      "  current: 556.75 KB\n",
      "  peak:    618.25 KB\n"
     ]
    }
   ],
   "source": [
    "print_gpu_memory()"
   ]
  },
  {
   "cell_type": "code",
   "execution_count": 8,
   "id": "c5c7ed25-1b3b-4bc9-a133-2ba36d83ae5e",
   "metadata": {
    "tags": []
   },
   "outputs": [
    {
     "name": "stdout",
     "output_type": "stream",
     "text": [
      "=== Training [2023-06-10 00:39:27.080289] ===\n",
      "Epoch 1/45\n",
      "2400/2400 [==============================] - 61s 20ms/step - loss: 1.5039 - accuracy: 0.3524 - val_loss: 1.0055 - val_accuracy: 0.4673\n",
      "Epoch 2/45\n",
      "2400/2400 [==============================] - 45s 19ms/step - loss: 0.9486 - accuracy: 0.5115 - val_loss: 0.9035 - val_accuracy: 0.5408\n",
      "Epoch 3/45\n",
      "2400/2400 [==============================] - 45s 19ms/step - loss: 0.8841 - accuracy: 0.5475 - val_loss: 0.8705 - val_accuracy: 0.5446\n",
      "Epoch 4/45\n",
      "2400/2400 [==============================] - 45s 19ms/step - loss: 0.8519 - accuracy: 0.5638 - val_loss: 0.8437 - val_accuracy: 0.5660\n",
      "Epoch 5/45\n",
      "2400/2400 [==============================] - 45s 19ms/step - loss: 0.8673 - accuracy: 0.5591 - val_loss: 0.8816 - val_accuracy: 0.5493\n",
      "Epoch 6/45\n",
      "2400/2400 [==============================] - 45s 19ms/step - loss: 0.8400 - accuracy: 0.5737 - val_loss: 0.7529 - val_accuracy: 0.6238\n",
      "Epoch 7/45\n",
      "2400/2400 [==============================] - 46s 19ms/step - loss: 0.8359 - accuracy: 0.5772 - val_loss: 0.8314 - val_accuracy: 0.5714\n",
      "Epoch 8/45\n",
      "2400/2400 [==============================] - 46s 19ms/step - loss: 0.8136 - accuracy: 0.5877 - val_loss: 0.7057 - val_accuracy: 0.6436\n",
      "Epoch 9/45\n",
      "2400/2400 [==============================] - 45s 19ms/step - loss: 0.7290 - accuracy: 0.6379 - val_loss: 0.7302 - val_accuracy: 0.6319\n",
      "Epoch 10/45\n",
      "2400/2400 [==============================] - 45s 19ms/step - loss: 0.6967 - accuracy: 0.6554 - val_loss: 0.6433 - val_accuracy: 0.6807\n",
      "Epoch 11/45\n",
      "2400/2400 [==============================] - 45s 19ms/step - loss: 0.6870 - accuracy: 0.6609 - val_loss: 0.6500 - val_accuracy: 0.6782\n",
      "Epoch 12/45\n",
      "2400/2400 [==============================] - 45s 19ms/step - loss: 0.7002 - accuracy: 0.6529 - val_loss: 0.6752 - val_accuracy: 0.6736\n",
      "Epoch 13/45\n",
      "2400/2400 [==============================] - 45s 19ms/step - loss: 0.6693 - accuracy: 0.6712 - val_loss: 0.7138 - val_accuracy: 0.6423\n",
      "Epoch 14/45\n",
      "2400/2400 [==============================] - 45s 19ms/step - loss: 0.6374 - accuracy: 0.6861 - val_loss: 0.6734 - val_accuracy: 0.6848\n",
      "Epoch 15/45\n",
      "2400/2400 [==============================] - 46s 19ms/step - loss: 0.6243 - accuracy: 0.6925 - val_loss: 0.6204 - val_accuracy: 0.6995\n",
      "Epoch 16/45\n",
      "2400/2400 [==============================] - 46s 19ms/step - loss: 0.5900 - accuracy: 0.7112 - val_loss: 0.5527 - val_accuracy: 0.7425\n",
      "Epoch 17/45\n",
      "2400/2400 [==============================] - 45s 19ms/step - loss: 0.5828 - accuracy: 0.7199 - val_loss: 0.5097 - val_accuracy: 0.7631\n",
      "Epoch 18/45\n",
      "2400/2400 [==============================] - 45s 19ms/step - loss: 0.5784 - accuracy: 0.7287 - val_loss: 0.5321 - val_accuracy: 0.7597\n",
      "Epoch 19/45\n",
      "2400/2400 [==============================] - 45s 19ms/step - loss: 0.4875 - accuracy: 0.7847 - val_loss: 0.4334 - val_accuracy: 0.8124\n",
      "Epoch 20/45\n",
      "2400/2400 [==============================] - 45s 19ms/step - loss: 0.4585 - accuracy: 0.7995 - val_loss: 0.3739 - val_accuracy: 0.8385\n",
      "Epoch 21/45\n",
      "2400/2400 [==============================] - 45s 19ms/step - loss: 0.4613 - accuracy: 0.7928 - val_loss: 0.7645 - val_accuracy: 0.6193\n",
      "Epoch 22/45\n",
      "2400/2400 [==============================] - 45s 19ms/step - loss: 0.4886 - accuracy: 0.7799 - val_loss: 0.3435 - val_accuracy: 0.8585\n",
      "Epoch 23/45\n",
      "2400/2400 [==============================] - 46s 19ms/step - loss: 0.3350 - accuracy: 0.8616 - val_loss: 0.3116 - val_accuracy: 0.8725\n",
      "Epoch 24/45\n",
      "2400/2400 [==============================] - 46s 19ms/step - loss: 0.3423 - accuracy: 0.8576 - val_loss: 0.3175 - val_accuracy: 0.8690\n",
      "Epoch 25/45\n",
      "2400/2400 [==============================] - 48s 20ms/step - loss: 0.5320 - accuracy: 0.7511 - val_loss: 0.4088 - val_accuracy: 0.8277\n",
      "Epoch 26/45\n",
      "2400/2400 [==============================] - 45s 19ms/step - loss: 0.4259 - accuracy: 0.8147 - val_loss: 0.3021 - val_accuracy: 0.8778\n",
      "Epoch 27/45\n",
      "2400/2400 [==============================] - 45s 19ms/step - loss: 0.3150 - accuracy: 0.8717 - val_loss: 0.3476 - val_accuracy: 0.8522\n",
      "Epoch 28/45\n",
      "2400/2400 [==============================] - 45s 19ms/step - loss: 0.3048 - accuracy: 0.8754 - val_loss: 0.2747 - val_accuracy: 0.8897\n",
      "Epoch 29/45\n",
      "2400/2400 [==============================] - 45s 19ms/step - loss: 0.2948 - accuracy: 0.8803 - val_loss: 0.2661 - val_accuracy: 0.8907\n",
      "Epoch 30/45\n",
      "2400/2400 [==============================] - 45s 19ms/step - loss: 0.3247 - accuracy: 0.8659 - val_loss: 0.3308 - val_accuracy: 0.8672\n",
      "Epoch 31/45\n",
      "2400/2400 [==============================] - 46s 19ms/step - loss: 0.2974 - accuracy: 0.8789 - val_loss: 0.2662 - val_accuracy: 0.8914\n",
      "Epoch 32/45\n",
      "2400/2400 [==============================] - 46s 19ms/step - loss: 0.2824 - accuracy: 0.8853 - val_loss: 0.2543 - val_accuracy: 0.8975\n",
      "Epoch 33/45\n",
      "2400/2400 [==============================] - 45s 19ms/step - loss: 0.2864 - accuracy: 0.8831 - val_loss: 0.2609 - val_accuracy: 0.8942\n",
      "Epoch 34/45\n",
      "2400/2400 [==============================] - 45s 19ms/step - loss: 0.2694 - accuracy: 0.8905 - val_loss: 0.2580 - val_accuracy: 0.8958\n",
      "Epoch 35/45\n",
      "2400/2400 [==============================] - 45s 19ms/step - loss: 0.3569 - accuracy: 0.8470 - val_loss: 0.2701 - val_accuracy: 0.8886\n",
      "Epoch 36/45\n",
      "2400/2400 [==============================] - 45s 19ms/step - loss: 0.2642 - accuracy: 0.8929 - val_loss: 0.2541 - val_accuracy: 0.8963\n",
      "Epoch 37/45\n",
      "2400/2400 [==============================] - 45s 19ms/step - loss: 0.2674 - accuracy: 0.8913 - val_loss: 10.1799 - val_accuracy: 0.3190\n",
      "Epoch 38/45\n",
      "2400/2400 [==============================] - 45s 19ms/step - loss: 0.4096 - accuracy: 0.8214 - val_loss: 0.2973 - val_accuracy: 0.8787\n",
      "Epoch 39/45\n",
      "2400/2400 [==============================] - 46s 19ms/step - loss: 0.2635 - accuracy: 0.8935 - val_loss: 0.2483 - val_accuracy: 0.9004\n",
      "Epoch 40/45\n",
      "2400/2400 [==============================] - 46s 19ms/step - loss: 0.2542 - accuracy: 0.8965 - val_loss: 0.2536 - val_accuracy: 0.8968\n",
      "Epoch 41/45\n",
      "2400/2400 [==============================] - 45s 19ms/step - loss: 0.2766 - accuracy: 0.8858 - val_loss: 0.2321 - val_accuracy: 0.9075\n",
      "Epoch 42/45\n",
      "2400/2400 [==============================] - 45s 19ms/step - loss: 0.2588 - accuracy: 0.8946 - val_loss: 0.2355 - val_accuracy: 0.9056\n",
      "Epoch 43/45\n",
      "2400/2400 [==============================] - 45s 19ms/step - loss: 0.2443 - accuracy: 0.9011 - val_loss: 0.2471 - val_accuracy: 0.8981\n",
      "Epoch 44/45\n",
      "2400/2400 [==============================] - 45s 19ms/step - loss: 0.2440 - accuracy: 0.9013 - val_loss: 0.2187 - val_accuracy: 0.9140\n",
      "Epoch 45/45\n",
      "2400/2400 [==============================] - 45s 19ms/step - loss: 0.2358 - accuracy: 0.9041 - val_loss: 0.2268 - val_accuracy: 0.9081\n",
      "\n",
      "Saving history...\n"
     ]
    },
    {
     "data": {
      "text/plain": [
       "<keras.callbacks.History at 0x2ae5ec42ed10>"
      ]
     },
     "execution_count": 8,
     "metadata": {},
     "output_type": "execute_result"
    }
   ],
   "source": [
    "print(f\"=== Training [{dt.datetime.now()}] ===\")\n",
    "train_iteration(lr=2e-4, epochs=45)"
   ]
  },
  {
   "cell_type": "code",
   "execution_count": 9,
   "id": "945c82e7-d0fb-4dae-b9af-d00da171e07e",
   "metadata": {
    "tags": []
   },
   "outputs": [
    {
     "name": "stdout",
     "output_type": "stream",
     "text": [
      "=== Training [2023-06-10 01:13:56.713851] ===\n",
      "Epoch 1/45\n",
      "2400/2400 [==============================] - 53s 19ms/step - loss: 0.1996 - accuracy: 0.9187 - val_loss: 0.2062 - val_accuracy: 0.9168\n",
      "Epoch 2/45\n",
      "2400/2400 [==============================] - 46s 19ms/step - loss: 0.1942 - accuracy: 0.9216 - val_loss: 0.1936 - val_accuracy: 0.9220\n",
      "Epoch 3/45\n",
      "2400/2400 [==============================] - 45s 19ms/step - loss: 0.1894 - accuracy: 0.9234 - val_loss: 0.1902 - val_accuracy: 0.9248\n",
      "Epoch 4/45\n",
      "2400/2400 [==============================] - 45s 19ms/step - loss: 0.1859 - accuracy: 0.9250 - val_loss: 0.1889 - val_accuracy: 0.9250\n",
      "Epoch 5/45\n",
      "2400/2400 [==============================] - 45s 19ms/step - loss: 0.1825 - accuracy: 0.9265 - val_loss: 0.1822 - val_accuracy: 0.9279\n",
      "Epoch 6/45\n",
      "2400/2400 [==============================] - 45s 19ms/step - loss: 0.1789 - accuracy: 0.9285 - val_loss: 0.1885 - val_accuracy: 0.9246\n",
      "Epoch 7/45\n",
      "2400/2400 [==============================] - 45s 19ms/step - loss: 0.1766 - accuracy: 0.9292 - val_loss: 0.1813 - val_accuracy: 0.9275\n",
      "Epoch 8/45\n",
      "2400/2400 [==============================] - 45s 19ms/step - loss: 0.1732 - accuracy: 0.9310 - val_loss: 0.1784 - val_accuracy: 0.9303\n",
      "Epoch 9/45\n",
      "2400/2400 [==============================] - 45s 19ms/step - loss: 0.1700 - accuracy: 0.9322 - val_loss: 0.1712 - val_accuracy: 0.9329\n",
      "Epoch 10/45\n",
      "2400/2400 [==============================] - 46s 19ms/step - loss: 0.1672 - accuracy: 0.9338 - val_loss: 0.1937 - val_accuracy: 0.9237\n",
      "Epoch 11/45\n",
      "2400/2400 [==============================] - 49s 21ms/step - loss: 0.1644 - accuracy: 0.9352 - val_loss: 0.1701 - val_accuracy: 0.9348\n",
      "Epoch 12/45\n",
      "2400/2400 [==============================] - 45s 19ms/step - loss: 0.1615 - accuracy: 0.9364 - val_loss: 0.1641 - val_accuracy: 0.9382\n",
      "Epoch 13/45\n",
      "2400/2400 [==============================] - 45s 19ms/step - loss: 0.1583 - accuracy: 0.9383 - val_loss: 0.1627 - val_accuracy: 0.9371\n",
      "Epoch 14/45\n",
      "2400/2400 [==============================] - 45s 19ms/step - loss: 0.1550 - accuracy: 0.9393 - val_loss: 0.1601 - val_accuracy: 0.9392\n",
      "Epoch 15/45\n",
      "2400/2400 [==============================] - 45s 19ms/step - loss: 0.1519 - accuracy: 0.9410 - val_loss: 0.1556 - val_accuracy: 0.9397\n",
      "Epoch 16/45\n",
      "2400/2400 [==============================] - 45s 19ms/step - loss: 0.1499 - accuracy: 0.9421 - val_loss: 0.1587 - val_accuracy: 0.9400\n",
      "Epoch 17/45\n",
      "2400/2400 [==============================] - 45s 19ms/step - loss: 0.1468 - accuracy: 0.9434 - val_loss: 0.1536 - val_accuracy: 0.9417\n",
      "Epoch 18/45\n",
      "2400/2400 [==============================] - 45s 19ms/step - loss: 0.1445 - accuracy: 0.9448 - val_loss: 0.1447 - val_accuracy: 0.9459\n",
      "Epoch 19/45\n",
      "2400/2400 [==============================] - 45s 19ms/step - loss: 0.1421 - accuracy: 0.9456 - val_loss: 0.1423 - val_accuracy: 0.9466\n",
      "Epoch 20/45\n",
      "2400/2400 [==============================] - 48s 20ms/step - loss: 0.1400 - accuracy: 0.9465 - val_loss: 0.1647 - val_accuracy: 0.9379\n",
      "Epoch 21/45\n",
      "2400/2400 [==============================] - 45s 19ms/step - loss: 0.1378 - accuracy: 0.9475 - val_loss: 0.1417 - val_accuracy: 0.9477\n",
      "Epoch 22/45\n",
      "2400/2400 [==============================] - 58s 24ms/step - loss: 0.1358 - accuracy: 0.9481 - val_loss: 0.1406 - val_accuracy: 0.9468\n",
      "Epoch 23/45\n",
      "2400/2400 [==============================] - 45s 19ms/step - loss: 0.1334 - accuracy: 0.9493 - val_loss: 0.1397 - val_accuracy: 0.9483\n",
      "Epoch 24/45\n",
      "2400/2400 [==============================] - 45s 19ms/step - loss: 0.1316 - accuracy: 0.9502 - val_loss: 0.1379 - val_accuracy: 0.9486\n",
      "Epoch 25/45\n",
      "2400/2400 [==============================] - 45s 19ms/step - loss: 0.1316 - accuracy: 0.9501 - val_loss: 0.1322 - val_accuracy: 0.9501\n",
      "Epoch 26/45\n",
      "2400/2400 [==============================] - 45s 19ms/step - loss: 0.1295 - accuracy: 0.9508 - val_loss: 0.1437 - val_accuracy: 0.9463\n",
      "Epoch 27/45\n",
      "2400/2400 [==============================] - 45s 19ms/step - loss: 0.1275 - accuracy: 0.9518 - val_loss: 0.1312 - val_accuracy: 0.9506\n",
      "Epoch 28/45\n",
      "2400/2400 [==============================] - 45s 19ms/step - loss: 0.1264 - accuracy: 0.9521 - val_loss: 0.1285 - val_accuracy: 0.9532\n",
      "Epoch 29/45\n",
      "2400/2400 [==============================] - 45s 19ms/step - loss: 0.1245 - accuracy: 0.9530 - val_loss: 0.1286 - val_accuracy: 0.9520\n",
      "Epoch 30/45\n",
      "2400/2400 [==============================] - 45s 19ms/step - loss: 0.1228 - accuracy: 0.9538 - val_loss: 0.1271 - val_accuracy: 0.9541\n",
      "Epoch 31/45\n",
      "2400/2400 [==============================] - 45s 19ms/step - loss: 0.1212 - accuracy: 0.9547 - val_loss: 0.1283 - val_accuracy: 0.9532\n",
      "Epoch 32/45\n",
      "2400/2400 [==============================] - 45s 19ms/step - loss: 0.1206 - accuracy: 0.9549 - val_loss: 0.1205 - val_accuracy: 0.9560\n",
      "Epoch 33/45\n",
      "2400/2400 [==============================] - 45s 19ms/step - loss: 0.1186 - accuracy: 0.9563 - val_loss: 0.1267 - val_accuracy: 0.9541\n",
      "Epoch 34/45\n",
      "2400/2400 [==============================] - 45s 19ms/step - loss: 0.1183 - accuracy: 0.9561 - val_loss: 0.1233 - val_accuracy: 0.9562\n",
      "Epoch 35/45\n",
      "2400/2400 [==============================] - 45s 19ms/step - loss: 0.1158 - accuracy: 0.9575 - val_loss: 0.1179 - val_accuracy: 0.9582\n",
      "Epoch 36/45\n",
      "2400/2400 [==============================] - 45s 19ms/step - loss: 0.1144 - accuracy: 0.9578 - val_loss: 0.1139 - val_accuracy: 0.9590\n",
      "Epoch 37/45\n",
      "2400/2400 [==============================] - 45s 19ms/step - loss: 0.1137 - accuracy: 0.9585 - val_loss: 0.1156 - val_accuracy: 0.9580\n",
      "Epoch 38/45\n",
      "2400/2400 [==============================] - 45s 19ms/step - loss: 0.1123 - accuracy: 0.9591 - val_loss: 0.1141 - val_accuracy: 0.9601\n",
      "Epoch 39/45\n",
      "2400/2400 [==============================] - 45s 19ms/step - loss: 0.1119 - accuracy: 0.9593 - val_loss: 0.1135 - val_accuracy: 0.9600\n",
      "Epoch 40/45\n",
      "2400/2400 [==============================] - 45s 19ms/step - loss: 0.1096 - accuracy: 0.9604 - val_loss: 0.1278 - val_accuracy: 0.9531\n",
      "Epoch 41/45\n",
      "2400/2400 [==============================] - 45s 19ms/step - loss: 0.1097 - accuracy: 0.9600 - val_loss: 0.1157 - val_accuracy: 0.9592\n",
      "Epoch 42/45\n",
      "2400/2400 [==============================] - 45s 19ms/step - loss: 0.1082 - accuracy: 0.9608 - val_loss: 0.1167 - val_accuracy: 0.9581\n",
      "Epoch 43/45\n",
      "2400/2400 [==============================] - 45s 19ms/step - loss: 0.1071 - accuracy: 0.9612 - val_loss: 0.1172 - val_accuracy: 0.9571\n",
      "Epoch 44/45\n",
      "2400/2400 [==============================] - 45s 19ms/step - loss: 0.1064 - accuracy: 0.9618 - val_loss: 0.1172 - val_accuracy: 0.9580\n",
      "Epoch 45/45\n",
      "2400/2400 [==============================] - 46s 19ms/step - loss: 0.1057 - accuracy: 0.9617 - val_loss: 0.1585 - val_accuracy: 0.9380\n",
      "\n",
      "Saving history...\n"
     ]
    },
    {
     "data": {
      "text/plain": [
       "<keras.callbacks.History at 0x2ae5ee1107f0>"
      ]
     },
     "execution_count": 9,
     "metadata": {},
     "output_type": "execute_result"
    }
   ],
   "source": [
    "print(f\"=== Training [{dt.datetime.now()}] ===\")\n",
    "train_iteration(lr=2e-5, epochs=45)"
   ]
  },
  {
   "cell_type": "code",
   "execution_count": 10,
   "id": "22df7c39-e1b1-4769-bf3b-5bbd6674e8bd",
   "metadata": {
    "tags": []
   },
   "outputs": [
    {
     "name": "stdout",
     "output_type": "stream",
     "text": [
      "=== Training [2023-06-10 01:48:28.294255] ===\n",
      "Epoch 1/30\n",
      "2400/2400 [==============================] - 70s 19ms/step - loss: 0.0961 - accuracy: 0.9658 - val_loss: 0.1034 - val_accuracy: 0.9648\n",
      "Epoch 2/30\n",
      "2400/2400 [==============================] - 45s 19ms/step - loss: 0.0948 - accuracy: 0.9663 - val_loss: 0.1020 - val_accuracy: 0.9650\n",
      "Epoch 3/30\n",
      "2400/2400 [==============================] - 45s 19ms/step - loss: 0.0943 - accuracy: 0.9665 - val_loss: 0.1009 - val_accuracy: 0.9648\n",
      "Epoch 4/30\n",
      "2400/2400 [==============================] - 45s 19ms/step - loss: 0.0941 - accuracy: 0.9667 - val_loss: 0.1008 - val_accuracy: 0.9651\n",
      "Epoch 5/30\n",
      "2400/2400 [==============================] - 45s 19ms/step - loss: 0.0939 - accuracy: 0.9666 - val_loss: 0.1014 - val_accuracy: 0.9647\n",
      "Epoch 6/30\n",
      "2400/2400 [==============================] - 45s 19ms/step - loss: 0.0936 - accuracy: 0.9668 - val_loss: 0.1009 - val_accuracy: 0.9646\n",
      "Epoch 7/30\n",
      "2400/2400 [==============================] - 45s 19ms/step - loss: 0.0934 - accuracy: 0.9668 - val_loss: 0.1005 - val_accuracy: 0.9653\n",
      "Epoch 8/30\n",
      "2400/2400 [==============================] - 46s 19ms/step - loss: 0.0932 - accuracy: 0.9669 - val_loss: 0.1003 - val_accuracy: 0.9654\n",
      "Epoch 9/30\n",
      "2400/2400 [==============================] - 45s 19ms/step - loss: 0.0929 - accuracy: 0.9671 - val_loss: 0.1000 - val_accuracy: 0.9653\n",
      "Epoch 10/30\n",
      "2400/2400 [==============================] - 45s 19ms/step - loss: 0.0928 - accuracy: 0.9672 - val_loss: 0.0998 - val_accuracy: 0.9658\n",
      "Epoch 11/30\n",
      "2400/2400 [==============================] - 45s 19ms/step - loss: 0.0927 - accuracy: 0.9670 - val_loss: 0.1009 - val_accuracy: 0.9643\n",
      "Epoch 12/30\n",
      "2400/2400 [==============================] - 45s 19ms/step - loss: 0.0925 - accuracy: 0.9672 - val_loss: 0.0992 - val_accuracy: 0.9662\n",
      "Epoch 13/30\n",
      "2400/2400 [==============================] - 45s 19ms/step - loss: 0.0923 - accuracy: 0.9672 - val_loss: 0.1017 - val_accuracy: 0.9635\n",
      "Epoch 14/30\n",
      "2400/2400 [==============================] - 45s 19ms/step - loss: 0.0922 - accuracy: 0.9673 - val_loss: 0.0994 - val_accuracy: 0.9659\n",
      "Epoch 15/30\n",
      "2400/2400 [==============================] - 45s 19ms/step - loss: 0.0920 - accuracy: 0.9673 - val_loss: 0.0996 - val_accuracy: 0.9655\n",
      "Epoch 16/30\n",
      "2400/2400 [==============================] - 45s 19ms/step - loss: 0.0918 - accuracy: 0.9674 - val_loss: 0.1002 - val_accuracy: 0.9652\n",
      "Epoch 17/30\n",
      "2400/2400 [==============================] - 45s 19ms/step - loss: 0.0917 - accuracy: 0.9674 - val_loss: 0.0996 - val_accuracy: 0.9651\n",
      "Epoch 18/30\n",
      "2400/2400 [==============================] - 45s 19ms/step - loss: 0.0916 - accuracy: 0.9674 - val_loss: 0.0995 - val_accuracy: 0.9657\n",
      "Epoch 19/30\n",
      "2400/2400 [==============================] - 45s 19ms/step - loss: 0.0914 - accuracy: 0.9675 - val_loss: 0.0996 - val_accuracy: 0.9652\n",
      "Epoch 20/30\n",
      "2400/2400 [==============================] - 45s 19ms/step - loss: 0.0913 - accuracy: 0.9676 - val_loss: 0.0985 - val_accuracy: 0.9661\n",
      "Epoch 21/30\n",
      "2400/2400 [==============================] - 45s 19ms/step - loss: 0.0912 - accuracy: 0.9677 - val_loss: 0.0981 - val_accuracy: 0.9662\n",
      "Epoch 22/30\n",
      "2400/2400 [==============================] - 45s 19ms/step - loss: 0.0910 - accuracy: 0.9677 - val_loss: 0.0980 - val_accuracy: 0.9662\n",
      "Epoch 23/30\n",
      "2400/2400 [==============================] - 45s 19ms/step - loss: 0.0910 - accuracy: 0.9677 - val_loss: 0.0986 - val_accuracy: 0.9660\n",
      "Epoch 24/30\n",
      "2400/2400 [==============================] - 46s 19ms/step - loss: 0.0907 - accuracy: 0.9681 - val_loss: 0.0986 - val_accuracy: 0.9657\n",
      "Epoch 25/30\n",
      "2400/2400 [==============================] - 45s 19ms/step - loss: 0.0906 - accuracy: 0.9678 - val_loss: 0.0981 - val_accuracy: 0.9658\n",
      "Epoch 26/30\n",
      "2400/2400 [==============================] - 45s 19ms/step - loss: 0.0904 - accuracy: 0.9678 - val_loss: 0.0989 - val_accuracy: 0.9660\n",
      "Epoch 27/30\n",
      "2400/2400 [==============================] - 45s 19ms/step - loss: 0.0903 - accuracy: 0.9682 - val_loss: 0.0982 - val_accuracy: 0.9660\n",
      "Epoch 28/30\n",
      "2400/2400 [==============================] - 45s 19ms/step - loss: 0.0902 - accuracy: 0.9680 - val_loss: 0.0974 - val_accuracy: 0.9661\n",
      "Epoch 29/30\n",
      "2400/2400 [==============================] - 45s 19ms/step - loss: 0.0900 - accuracy: 0.9682 - val_loss: 0.1001 - val_accuracy: 0.9655\n",
      "Epoch 30/30\n",
      "2400/2400 [==============================] - 45s 19ms/step - loss: 0.0901 - accuracy: 0.9682 - val_loss: 0.0975 - val_accuracy: 0.9663\n",
      "\n",
      "Saving history...\n"
     ]
    },
    {
     "data": {
      "text/plain": [
       "<keras.callbacks.History at 0x2ae5fb3f4100>"
      ]
     },
     "execution_count": 10,
     "metadata": {},
     "output_type": "execute_result"
    }
   ],
   "source": [
    "print(f\"=== Training [{dt.datetime.now()}] ===\")\n",
    "train_iteration(lr=2e-6, epochs=30)"
   ]
  },
  {
   "cell_type": "code",
   "execution_count": 11,
   "id": "af9b4da3-a48e-4189-8780-5b3f3682a1ff",
   "metadata": {},
   "outputs": [
    {
     "name": "stdout",
     "output_type": "stream",
     "text": [
      "INFO:tensorflow:Assets written to: /usatlas/atlas01/atlasdisk/users/atlas_wifeng/photon-jet/models/pfn/_2023-06-10/assets\n"
     ]
    }
   ],
   "source": [
    "save_model(\"\")"
   ]
  },
  {
   "cell_type": "markdown",
   "id": "bc9d76a4-3a5c-4385-b372-8c02bc812187",
   "metadata": {},
   "source": [
    "### Evaluate model"
   ]
  },
  {
   "cell_type": "code",
   "execution_count": 12,
   "id": "f8c8639d-410e-4247-9380-508693665e33",
   "metadata": {
    "tags": []
   },
   "outputs": [
    {
     "data": {
      "image/png": "[encoded data removed]",
      "text/plain": [
       "<Figure size 1000x400 with 2 Axes>"
      ]
     },
     "metadata": {},
     "output_type": "display_data"
    }
   ],
   "source": [
    "from matplotlib import pyplot as plt\n",
    "\n",
    "fig, axs = plt.subplots(1, 2, figsize=(10, 4))\n",
    "ax1, ax2 = axs\n",
    "\n",
    "ax1.plot(history[\"loss\"])\n",
    "ax1.plot(history[\"val_loss\"])\n",
    "ax1.legend([\"loss\", \"val_loss\"])\n",
    "ax1.set_xlabel(\"Epoch\")\n",
    "ax1.set_ylabel(\"Loss\");\n",
    "\n",
    "ax2.plot(history[\"accuracy\"])\n",
    "ax2.plot(history[\"val_accuracy\"])\n",
    "ax2.legend([\"loss\", \"val_accuracy\"])\n",
    "ax2.set_xlabel(\"Epoch\")\n",
    "ax2.set_ylabel(\"Accuracy\");"
   ]
  },
  {
   "cell_type": "code",
   "execution_count": 13,
   "id": "fd0e639f-8174-45a8-8154-51b1dcdc5fcc",
   "metadata": {},
   "outputs": [
    {
     "name": "stdout",
     "output_type": "stream",
     "text": [
      "60/60 [==============================] - 2s 29ms/step\n",
      "Testing accuracy: 0.9681333333333333\n"
     ]
    },
    {
     "data": {
      "image/png": "[encoded data removed]",
      "text/plain": [
       "<Figure size 640x480 with 2 Axes>"
      ]
     },
     "metadata": {},
     "output_type": "display_data"
    }
   ],
   "source": [
    "# Test model\n",
    "from test_model import test_model, plot_cm\n",
    "test_accuracy, cm = test_model(model, (X_test, Y_test))\n",
    "print(f\"Testing accuracy: {test_accuracy}\")\n",
    "\n",
    "plot_cm(cm, [\"pion\", \"photon\", \"axion2\"])"
   ]
  },
  {
   "cell_type": "code",
   "execution_count": null,
   "id": "9035dabc-dd05-4d87-9cb8-bb08c220781d",
   "metadata": {},
   "outputs": [],
   "source": []
  }
 ],
 "metadata": {
  "kernelspec": {
   "display_name": "top-tagging",
   "language": "python",
   "name": "top-tagging"
  },
  "language_info": {
   "codemirror_mode": {
    "name": "ipython",
    "version": 3
   },
   "file_extension": ".py",
   "mimetype": "text/x-python",
   "name": "python",
   "nbconvert_exporter": "python",
   "pygments_lexer": "ipython3",
   "version": "3.10.10"
  }
 },
 "nbformat": 4,
 "nbformat_minor": 5
}
