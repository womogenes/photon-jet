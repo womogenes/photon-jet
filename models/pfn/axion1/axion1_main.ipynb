{
 "cells": [
  {
   "cell_type": "markdown",
   "id": "21f93689-eea9-407e-9614-120e029a137b",
   "metadata": {},
   "source": [
    "# Test stuff for PFN model\n",
    "\n",
    "Classify pions, photons, and **axion1s**"
   ]
  },
  {
   "cell_type": "code",
   "execution_count": 1,
   "id": "44db5291-bdc8-4a14-884d-8e08c17ca30b",
   "metadata": {},
   "outputs": [],
   "source": [
    "# Add import paths\n",
    "import sys\n",
    "sys.path.append(\"..\")\n",
    "\n",
    "import os\n",
    "os.environ[\"TF_CPP_MIN_LOG_LEVEL\"] = \"2\"\n",
    "\n",
    "import numpy as np\n",
    "import datetime as dt\n",
    "from utils import print_gpu_memory\n",
    "\n",
    "# Make tensorflow not use too much memory\n",
    "import tensorflow as tf\n",
    "gpus = tf.config.list_physical_devices(\"GPU\")\n",
    "for gpu in gpus:\n",
    "    tf.config.experimental.set_memory_growth(gpu, True)\n",
    "\n",
    "disk_dir = \"/usatlas/atlas01/atlasdisk/users/atlas_wifeng\""
   ]
  },
  {
   "cell_type": "code",
   "execution_count": 2,
   "id": "179386df-5d96-468d-bdef-b61cd5ea4db9",
   "metadata": {},
   "outputs": [],
   "source": [
    "# Get data (~15 sec)\n",
    "from data import get_data\n",
    "(X_train, X_val, X_test,\n",
    " Y_train, Y_val, Y_test) = get_data(\"axion1_test/all_jets_point_cloud.npz\")"
   ]
  },
  {
   "cell_type": "code",
   "execution_count": 3,
   "id": "a5a46b41-fa4a-4248-984f-7bac6a9f52a1",
   "metadata": {},
   "outputs": [],
   "source": [
    "# Build model\n",
    "from model import PFN\n",
    "Phi_sizes = [128, 128, 128, 128, 64, 64, 64]\n",
    "F_sizes = [128, 128, 128, 128, 64, 64, 64]\n",
    "\n",
    "_, n_particles, n_features = X_train.shape\n",
    "model = PFN(\n",
    "    n_features=n_features,\n",
    "    n_particles=n_particles,\n",
    "    n_outputs=Y_train.shape[1],\n",
    "    Phi_sizes=Phi_sizes,\n",
    "    F_sizes=F_sizes\n",
    ")"
   ]
  },
  {
   "cell_type": "code",
   "execution_count": null,
   "id": "6de2b6db-4bc3-4c5d-8cc4-a4b8c5a1b2b9",
   "metadata": {},
   "outputs": [],
   "source": [
    "# Reset training history\n",
    "history = defaultdict(list)"
   ]
  },
  {
   "cell_type": "code",
   "execution_count": 16,
   "id": "b556fba9-41d8-46a5-bed9-28eafdec01ee",
   "metadata": {},
   "outputs": [],
   "source": [
    "# Utility functions for training\n",
    "from train_model import train_model\n",
    "from collections import defaultdict\n",
    "\n",
    "def train_iteration(lr, epochs):\n",
    "    fit_history = train_model(\n",
    "        model=model, \n",
    "        data=(X_train, X_val, Y_train, Y_val),\n",
    "        lr=lr,\n",
    "        epochs=epochs\n",
    "    )\n",
    "    print(f\"\\nTracking history... \", end=\"\")\n",
    "    for key in [\"loss\", \"val_loss\", \"accuracy\", \"val_accuracy\"]:\n",
    "        print(key, end=\", \")\n",
    "        history[key].extend(fit_history.history[key])    \n",
    "    return fit_history\n",
    "\n",
    "def save_model(name):\n",
    "    model_dir = f\"{disk_dir}/photon-jet/models/pfn\"\n",
    "    cur_date = dt.datetime.now().strftime(\"%Y-%m-%d\")\n",
    "    model.save(f\"{model_dir}/{name}_{cur_date}\")"
   ]
  },
  {
   "cell_type": "code",
   "execution_count": 5,
   "id": "126730cd-675b-49b9-af2e-26653db9b83b",
   "metadata": {},
   "outputs": [
    {
     "name": "stdout",
     "output_type": "stream",
     "text": [
      "GPU memory usage\n",
      "  current: 556.75 KB\n",
      "  peak:    618.25 KB\n"
     ]
    }
   ],
   "source": [
    "print_gpu_memory()"
   ]
  },
  {
   "cell_type": "code",
   "execution_count": 6,
   "id": "c5c7ed25-1b3b-4bc9-a133-2ba36d83ae5e",
   "metadata": {
    "collapsed": true,
    "jupyter": {
     "outputs_hidden": true
    },
    "tags": []
   },
   "outputs": [
    {
     "name": "stdout",
     "output_type": "stream",
     "text": [
      "=== Training with lr=2e-4 [2023-06-07 13:05:53.280572] ===\n",
      "Epoch 1/30\n",
      "2400/2400 [==============================] - 52s 19ms/step - loss: 1.6397 - accuracy: 0.3362 - val_loss: 1.1293 - val_accuracy: 0.3352\n",
      "Epoch 2/30\n",
      "2400/2400 [==============================] - 46s 19ms/step - loss: 1.1059 - accuracy: 0.3716 - val_loss: 1.1120 - val_accuracy: 0.3744\n",
      "Epoch 3/30\n",
      "2400/2400 [==============================] - 46s 19ms/step - loss: 1.0812 - accuracy: 0.3888 - val_loss: 1.0994 - val_accuracy: 0.3804\n",
      "Epoch 4/30\n",
      "2400/2400 [==============================] - 45s 19ms/step - loss: 1.0744 - accuracy: 0.3952 - val_loss: 1.0745 - val_accuracy: 0.4009\n",
      "Epoch 5/30\n",
      "2400/2400 [==============================] - 45s 19ms/step - loss: 1.0689 - accuracy: 0.4022 - val_loss: 1.0664 - val_accuracy: 0.4076\n",
      "Epoch 6/30\n",
      "2400/2400 [==============================] - 45s 19ms/step - loss: 1.0643 - accuracy: 0.4083 - val_loss: 1.0524 - val_accuracy: 0.4188\n",
      "Epoch 7/30\n",
      "2400/2400 [==============================] - 45s 19ms/step - loss: 1.0571 - accuracy: 0.4181 - val_loss: 1.0735 - val_accuracy: 0.4022\n",
      "Epoch 8/30\n",
      "2400/2400 [==============================] - 45s 19ms/step - loss: 1.0610 - accuracy: 0.4142 - val_loss: 1.0532 - val_accuracy: 0.4239\n",
      "Epoch 9/30\n",
      "2400/2400 [==============================] - 45s 19ms/step - loss: 1.0386 - accuracy: 0.4424 - val_loss: 1.0284 - val_accuracy: 0.4386\n",
      "Epoch 10/30\n",
      "2400/2400 [==============================] - 45s 19ms/step - loss: 0.9295 - accuracy: 0.5389 - val_loss: 0.8472 - val_accuracy: 0.6010\n",
      "Epoch 11/30\n",
      "2400/2400 [==============================] - 45s 19ms/step - loss: 0.9803 - accuracy: 0.5310 - val_loss: 1.0286 - val_accuracy: 0.4535\n",
      "Epoch 12/30\n",
      "2400/2400 [==============================] - 45s 19ms/step - loss: 0.8163 - accuracy: 0.6106 - val_loss: 0.6522 - val_accuracy: 0.7081\n",
      "Epoch 13/30\n",
      "2400/2400 [==============================] - 45s 19ms/step - loss: 0.8194 - accuracy: 0.6031 - val_loss: 0.9152 - val_accuracy: 0.5466\n",
      "Epoch 14/30\n",
      "2400/2400 [==============================] - 45s 19ms/step - loss: 0.6293 - accuracy: 0.7197 - val_loss: 0.5667 - val_accuracy: 0.7459\n",
      "Epoch 15/30\n",
      "2400/2400 [==============================] - 45s 19ms/step - loss: 0.5567 - accuracy: 0.7603 - val_loss: 0.6004 - val_accuracy: 0.7398\n",
      "Epoch 16/30\n",
      "2400/2400 [==============================] - 48s 20ms/step - loss: 1.0662 - accuracy: 0.6895 - val_loss: 0.8132 - val_accuracy: 0.6347\n",
      "Epoch 17/30\n",
      "2400/2400 [==============================] - 45s 19ms/step - loss: 0.7069 - accuracy: 0.6731 - val_loss: 0.7472 - val_accuracy: 0.6562\n",
      "Epoch 18/30\n",
      "2400/2400 [==============================] - 45s 19ms/step - loss: 0.5803 - accuracy: 0.7460 - val_loss: 0.5231 - val_accuracy: 0.7750\n",
      "Epoch 19/30\n",
      "2400/2400 [==============================] - 45s 19ms/step - loss: 0.5123 - accuracy: 0.7834 - val_loss: 0.4918 - val_accuracy: 0.7891\n",
      "Epoch 20/30\n",
      "2400/2400 [==============================] - 45s 19ms/step - loss: 0.5080 - accuracy: 0.7846 - val_loss: 0.4741 - val_accuracy: 0.8014\n",
      "Epoch 21/30\n",
      "2400/2400 [==============================] - 45s 19ms/step - loss: 0.5779 - accuracy: 0.7439 - val_loss: 0.4925 - val_accuracy: 0.7941\n",
      "Epoch 22/30\n",
      "2400/2400 [==============================] - 45s 19ms/step - loss: 0.6749 - accuracy: 0.6854 - val_loss: 0.5062 - val_accuracy: 0.7883\n",
      "Epoch 23/30\n",
      "2400/2400 [==============================] - 45s 19ms/step - loss: 0.6812 - accuracy: 0.6863 - val_loss: 0.8987 - val_accuracy: 0.5551\n",
      "Epoch 24/30\n",
      "2400/2400 [==============================] - 45s 19ms/step - loss: 0.7080 - accuracy: 0.6719 - val_loss: 0.8477 - val_accuracy: 0.5958\n",
      "Epoch 25/30\n",
      "2400/2400 [==============================] - 45s 19ms/step - loss: 0.6078 - accuracy: 0.7309 - val_loss: 0.5856 - val_accuracy: 0.7443\n",
      "Epoch 26/30\n",
      "2400/2400 [==============================] - 45s 19ms/step - loss: 0.5008 - accuracy: 0.7886 - val_loss: 0.4615 - val_accuracy: 0.8074\n",
      "Epoch 27/30\n",
      "2400/2400 [==============================] - 45s 19ms/step - loss: 0.6952 - accuracy: 0.6783 - val_loss: 0.6172 - val_accuracy: 0.7336\n",
      "Epoch 28/30\n",
      "2400/2400 [==============================] - 45s 19ms/step - loss: 0.5886 - accuracy: 0.7403 - val_loss: 0.4782 - val_accuracy: 0.7985\n",
      "Epoch 29/30\n",
      "2400/2400 [==============================] - 45s 19ms/step - loss: 0.5018 - accuracy: 0.7871 - val_loss: 0.4576 - val_accuracy: 0.8105\n",
      "Epoch 30/30\n",
      "2400/2400 [==============================] - 45s 19ms/step - loss: 0.4746 - accuracy: 0.8015 - val_loss: 0.4988 - val_accuracy: 0.7926\n",
      "\n",
      "Tracking history... loss, val_loss, accuracy, val_accuracy, "
     ]
    },
    {
     "data": {
      "text/plain": [
       "<keras.callbacks.History at 0x2abedfa84be0>"
      ]
     },
     "execution_count": 6,
     "metadata": {},
     "output_type": "execute_result"
    }
   ],
   "source": [
    "print(f\"=== Training with lr=2e-4 [{dt.datetime.now()}] ===\")\n",
    "train_iteration(lr=2e-4, epochs=30)"
   ]
  },
  {
   "cell_type": "code",
   "execution_count": 9,
   "id": "42261b06-bbba-41c7-9806-a144dd55d041",
   "metadata": {
    "collapsed": true,
    "jupyter": {
     "outputs_hidden": true
    },
    "tags": []
   },
   "outputs": [
    {
     "name": "stdout",
     "output_type": "stream",
     "text": [
      "=== Training with lr=2e-5 [2023-06-07 13:29:32.201938] ===\n",
      "Epoch 1/30\n",
      "2400/2400 [==============================] - 54s 19ms/step - loss: 0.4554 - accuracy: 0.8111 - val_loss: 0.4078 - val_accuracy: 0.8319\n",
      "Epoch 2/30\n",
      "2400/2400 [==============================] - 45s 19ms/step - loss: 0.5067 - accuracy: 0.7844 - val_loss: 0.4137 - val_accuracy: 0.8323\n",
      "Epoch 3/30\n",
      "2400/2400 [==============================] - 46s 19ms/step - loss: 0.4617 - accuracy: 0.8071 - val_loss: 0.5100 - val_accuracy: 0.7787\n",
      "Epoch 4/30\n",
      "2400/2400 [==============================] - 45s 19ms/step - loss: 0.4564 - accuracy: 0.8102 - val_loss: 0.4189 - val_accuracy: 0.8240\n",
      "Epoch 5/30\n",
      "2400/2400 [==============================] - 45s 19ms/step - loss: 0.4856 - accuracy: 0.7949 - val_loss: 0.4598 - val_accuracy: 0.8093\n",
      "Epoch 6/30\n",
      "2400/2400 [==============================] - 45s 19ms/step - loss: 0.4355 - accuracy: 0.8191 - val_loss: 0.5578 - val_accuracy: 0.7620\n",
      "Epoch 7/30\n",
      "2400/2400 [==============================] - 45s 19ms/step - loss: 0.4807 - accuracy: 0.7970 - val_loss: 0.6305 - val_accuracy: 0.7429\n",
      "Epoch 8/30\n",
      "2400/2400 [==============================] - 46s 19ms/step - loss: 0.5220 - accuracy: 0.7767 - val_loss: 0.5938 - val_accuracy: 0.7429\n",
      "Epoch 9/30\n",
      "2400/2400 [==============================] - 45s 19ms/step - loss: 0.4164 - accuracy: 0.8279 - val_loss: 0.4274 - val_accuracy: 0.8209\n",
      "Epoch 10/30\n",
      "2400/2400 [==============================] - 45s 19ms/step - loss: 0.4225 - accuracy: 0.8241 - val_loss: 0.3878 - val_accuracy: 0.8387\n",
      "Epoch 11/30\n",
      "2400/2400 [==============================] - 45s 19ms/step - loss: 0.5091 - accuracy: 0.7812 - val_loss: 0.5542 - val_accuracy: 0.7611\n",
      "Epoch 12/30\n",
      "2400/2400 [==============================] - 45s 19ms/step - loss: 0.4207 - accuracy: 0.8261 - val_loss: 0.3504 - val_accuracy: 0.8614\n",
      "Epoch 13/30\n",
      "2400/2400 [==============================] - 45s 19ms/step - loss: 0.5587 - accuracy: 0.7592 - val_loss: 0.8580 - val_accuracy: 0.5888\n",
      "Epoch 14/30\n",
      "2400/2400 [==============================] - 45s 19ms/step - loss: 0.5816 - accuracy: 0.7515 - val_loss: 0.3816 - val_accuracy: 0.8477\n",
      "Epoch 15/30\n",
      "2400/2400 [==============================] - 45s 19ms/step - loss: 0.4741 - accuracy: 0.7990 - val_loss: 0.3797 - val_accuracy: 0.8451\n",
      "Epoch 16/30\n",
      "2400/2400 [==============================] - 45s 19ms/step - loss: 0.4635 - accuracy: 0.8029 - val_loss: 0.3649 - val_accuracy: 0.8490\n",
      "Epoch 17/30\n",
      "2400/2400 [==============================] - 45s 19ms/step - loss: 0.4177 - accuracy: 0.8271 - val_loss: 0.4610 - val_accuracy: 0.8110\n",
      "Epoch 18/30\n",
      "2400/2400 [==============================] - 45s 19ms/step - loss: 0.3934 - accuracy: 0.8388 - val_loss: 0.3590 - val_accuracy: 0.8531\n",
      "Epoch 19/30\n",
      "2400/2400 [==============================] - 45s 19ms/step - loss: 0.5306 - accuracy: 0.7660 - val_loss: 0.4667 - val_accuracy: 0.8047\n",
      "Epoch 20/30\n",
      "2400/2400 [==============================] - 45s 19ms/step - loss: 0.5834 - accuracy: 0.7437 - val_loss: 0.4294 - val_accuracy: 0.8259\n",
      "Epoch 21/30\n",
      "2400/2400 [==============================] - 45s 19ms/step - loss: 0.4148 - accuracy: 0.8286 - val_loss: 0.3296 - val_accuracy: 0.8661\n",
      "Epoch 22/30\n",
      "2400/2400 [==============================] - 45s 19ms/step - loss: 0.4551 - accuracy: 0.8094 - val_loss: 0.4134 - val_accuracy: 0.8290\n",
      "Epoch 23/30\n",
      "2400/2400 [==============================] - 45s 19ms/step - loss: 0.3855 - accuracy: 0.8422 - val_loss: 0.3372 - val_accuracy: 0.8625\n",
      "Epoch 24/30\n",
      "2400/2400 [==============================] - 45s 19ms/step - loss: 0.5951 - accuracy: 0.7725 - val_loss: 0.4740 - val_accuracy: 0.7993\n",
      "Epoch 25/30\n",
      "2400/2400 [==============================] - 45s 19ms/step - loss: 0.4293 - accuracy: 0.8209 - val_loss: 0.4151 - val_accuracy: 0.8295\n",
      "Epoch 26/30\n",
      "2400/2400 [==============================] - 45s 19ms/step - loss: 0.5763 - accuracy: 0.7505 - val_loss: 0.5178 - val_accuracy: 0.7805\n",
      "Epoch 27/30\n",
      "2400/2400 [==============================] - 45s 19ms/step - loss: 0.4238 - accuracy: 0.8246 - val_loss: 0.3865 - val_accuracy: 0.8438\n",
      "Epoch 28/30\n",
      "2400/2400 [==============================] - 45s 19ms/step - loss: 0.5181 - accuracy: 0.7773 - val_loss: 0.5483 - val_accuracy: 0.7628\n",
      "Epoch 29/30\n",
      "2400/2400 [==============================] - 45s 19ms/step - loss: 0.4367 - accuracy: 0.8191 - val_loss: 0.3787 - val_accuracy: 0.8459\n",
      "Epoch 30/30\n",
      "2400/2400 [==============================] - 46s 19ms/step - loss: 0.3645 - accuracy: 0.8516 - val_loss: 0.4568 - val_accuracy: 0.8129\n",
      "\n",
      "Tracking history... loss, val_loss, accuracy, val_accuracy, "
     ]
    },
    {
     "data": {
      "text/plain": [
       "<keras.callbacks.History at 0x2abf5a10e740>"
      ]
     },
     "execution_count": 9,
     "metadata": {},
     "output_type": "execute_result"
    }
   ],
   "source": [
    "print(f\"=== Training with lr=2e-4 [{dt.datetime.now()}] ===\")\n",
    "train_iteration(lr=2e-4, epochs=30)"
   ]
  },
  {
   "cell_type": "code",
   "execution_count": 12,
   "id": "e980aa39-3485-472c-9993-4d054ee1dd02",
   "metadata": {
    "collapsed": true,
    "jupyter": {
     "outputs_hidden": true
    },
    "tags": []
   },
   "outputs": [
    {
     "name": "stdout",
     "output_type": "stream",
     "text": [
      "=== Training with lr=2e-5 [2023-06-07 13:59:35.507396] ===\n",
      "Epoch 1/30\n",
      "2400/2400 [==============================] - 51s 19ms/step - loss: 0.2704 - accuracy: 0.8942 - val_loss: 0.2245 - val_accuracy: 0.9138\n",
      "Epoch 2/30\n",
      "2400/2400 [==============================] - 45s 19ms/step - loss: 0.2233 - accuracy: 0.9152 - val_loss: 0.2111 - val_accuracy: 0.9217\n",
      "Epoch 3/30\n",
      "2400/2400 [==============================] - 45s 19ms/step - loss: 0.2047 - accuracy: 0.9237 - val_loss: 0.1860 - val_accuracy: 0.9333\n",
      "Epoch 4/30\n",
      "2400/2400 [==============================] - 46s 19ms/step - loss: 0.1950 - accuracy: 0.9276 - val_loss: 0.1822 - val_accuracy: 0.9333\n",
      "Epoch 5/30\n",
      "2400/2400 [==============================] - 45s 19ms/step - loss: 0.1856 - accuracy: 0.9319 - val_loss: 0.1958 - val_accuracy: 0.9274\n",
      "Epoch 6/30\n",
      "2400/2400 [==============================] - 45s 19ms/step - loss: 0.1779 - accuracy: 0.9344 - val_loss: 0.1701 - val_accuracy: 0.9388\n",
      "Epoch 7/30\n",
      "2400/2400 [==============================] - 45s 19ms/step - loss: 0.1714 - accuracy: 0.9379 - val_loss: 0.1624 - val_accuracy: 0.9420\n",
      "Epoch 8/30\n",
      "2400/2400 [==============================] - 45s 19ms/step - loss: 0.1646 - accuracy: 0.9403 - val_loss: 0.1580 - val_accuracy: 0.9438\n",
      "Epoch 9/30\n",
      "2400/2400 [==============================] - 45s 19ms/step - loss: 0.1605 - accuracy: 0.9420 - val_loss: 0.1549 - val_accuracy: 0.9455\n",
      "Epoch 10/30\n",
      "2400/2400 [==============================] - 45s 19ms/step - loss: 0.1537 - accuracy: 0.9446 - val_loss: 0.1788 - val_accuracy: 0.9345\n",
      "Epoch 11/30\n",
      "2400/2400 [==============================] - 45s 19ms/step - loss: 0.1526 - accuracy: 0.9453 - val_loss: 0.1681 - val_accuracy: 0.9385\n",
      "Epoch 12/30\n",
      "2400/2400 [==============================] - 45s 19ms/step - loss: 0.1464 - accuracy: 0.9481 - val_loss: 0.1514 - val_accuracy: 0.9459\n",
      "Epoch 13/30\n",
      "2400/2400 [==============================] - 47s 19ms/step - loss: 0.1440 - accuracy: 0.9490 - val_loss: 0.1404 - val_accuracy: 0.9504\n",
      "Epoch 14/30\n",
      "2400/2400 [==============================] - 45s 19ms/step - loss: 0.1400 - accuracy: 0.9505 - val_loss: 0.1415 - val_accuracy: 0.9507\n",
      "Epoch 15/30\n",
      "2400/2400 [==============================] - 45s 19ms/step - loss: 0.1375 - accuracy: 0.9519 - val_loss: 0.1315 - val_accuracy: 0.9546\n",
      "Epoch 16/30\n",
      "2400/2400 [==============================] - 45s 19ms/step - loss: 0.1329 - accuracy: 0.9533 - val_loss: 0.1502 - val_accuracy: 0.9470\n",
      "Epoch 17/30\n",
      "2400/2400 [==============================] - 45s 19ms/step - loss: 0.1324 - accuracy: 0.9538 - val_loss: 0.1593 - val_accuracy: 0.9435\n",
      "Epoch 18/30\n",
      "2400/2400 [==============================] - 45s 19ms/step - loss: 0.1284 - accuracy: 0.9556 - val_loss: 0.1223 - val_accuracy: 0.9580\n",
      "Epoch 19/30\n",
      "2400/2400 [==============================] - 45s 19ms/step - loss: 0.1263 - accuracy: 0.9560 - val_loss: 0.1310 - val_accuracy: 0.9538\n",
      "Epoch 20/30\n",
      "2400/2400 [==============================] - 45s 19ms/step - loss: 0.1245 - accuracy: 0.9569 - val_loss: 0.1169 - val_accuracy: 0.9604\n",
      "Epoch 21/30\n",
      "2400/2400 [==============================] - 45s 19ms/step - loss: 0.1254 - accuracy: 0.9566 - val_loss: 0.1136 - val_accuracy: 0.9619\n",
      "Epoch 22/30\n",
      "2400/2400 [==============================] - 45s 19ms/step - loss: 0.1198 - accuracy: 0.9587 - val_loss: 0.1766 - val_accuracy: 0.9365\n",
      "Epoch 23/30\n",
      "2400/2400 [==============================] - 45s 19ms/step - loss: 0.1197 - accuracy: 0.9585 - val_loss: 0.1269 - val_accuracy: 0.9552\n",
      "Epoch 24/30\n",
      "2400/2400 [==============================] - 45s 19ms/step - loss: 0.1167 - accuracy: 0.9601 - val_loss: 0.1120 - val_accuracy: 0.9617\n",
      "Epoch 25/30\n",
      "2400/2400 [==============================] - 45s 19ms/step - loss: 0.1143 - accuracy: 0.9610 - val_loss: 0.1039 - val_accuracy: 0.9653\n",
      "Epoch 26/30\n",
      "2400/2400 [==============================] - 45s 19ms/step - loss: 0.1152 - accuracy: 0.9604 - val_loss: 0.1111 - val_accuracy: 0.9624\n",
      "Epoch 27/30\n",
      "2400/2400 [==============================] - 45s 19ms/step - loss: 0.1133 - accuracy: 0.9612 - val_loss: 0.1075 - val_accuracy: 0.9646\n",
      "Epoch 28/30\n",
      "2400/2400 [==============================] - 45s 19ms/step - loss: 0.1121 - accuracy: 0.9615 - val_loss: 0.1076 - val_accuracy: 0.9653\n",
      "Epoch 29/30\n",
      "2400/2400 [==============================] - 45s 19ms/step - loss: 0.1093 - accuracy: 0.9628 - val_loss: 0.1081 - val_accuracy: 0.9650\n",
      "Epoch 30/30\n",
      "2400/2400 [==============================] - 45s 19ms/step - loss: 0.1072 - accuracy: 0.9633 - val_loss: 0.1341 - val_accuracy: 0.9544\n",
      "\n",
      "Tracking history... loss, val_loss, accuracy, val_accuracy, "
     ]
    },
    {
     "data": {
      "text/plain": [
       "<keras.callbacks.History at 0x2abfeb7a9a50>"
      ]
     },
     "execution_count": 12,
     "metadata": {},
     "output_type": "execute_result"
    }
   ],
   "source": [
    "print(f\"=== Training with lr=2e-5 [{dt.datetime.now()}] ===\")\n",
    "train_iteration(lr=2e-5, epochs=30)"
   ]
  },
  {
   "cell_type": "code",
   "execution_count": 13,
   "id": "33a7982b-1c33-45f5-8f45-af374ff01e3a",
   "metadata": {
    "collapsed": true,
    "jupyter": {
     "outputs_hidden": true
    },
    "tags": []
   },
   "outputs": [
    {
     "name": "stdout",
     "output_type": "stream",
     "text": [
      "=== Training with lr=2e-6 [2023-06-07 14:50:58.393211] ===\n",
      "Epoch 1/45\n",
      "2400/2400 [==============================] - 57s 19ms/step - loss: 0.0900 - accuracy: 0.9704 - val_loss: 0.0929 - val_accuracy: 0.9691\n",
      "Epoch 2/45\n",
      "2400/2400 [==============================] - 45s 19ms/step - loss: 0.0882 - accuracy: 0.9711 - val_loss: 0.0913 - val_accuracy: 0.9699\n",
      "Epoch 3/45\n",
      "2400/2400 [==============================] - 45s 19ms/step - loss: 0.0875 - accuracy: 0.9714 - val_loss: 0.0911 - val_accuracy: 0.9703\n",
      "Epoch 4/45\n",
      "2400/2400 [==============================] - 45s 19ms/step - loss: 0.0869 - accuracy: 0.9715 - val_loss: 0.0899 - val_accuracy: 0.9707\n",
      "Epoch 5/45\n",
      "2400/2400 [==============================] - 45s 19ms/step - loss: 0.0866 - accuracy: 0.9716 - val_loss: 0.0898 - val_accuracy: 0.9710\n",
      "Epoch 6/45\n",
      "2400/2400 [==============================] - 45s 19ms/step - loss: 0.0860 - accuracy: 0.9718 - val_loss: 0.0943 - val_accuracy: 0.9685\n",
      "Epoch 7/45\n",
      "2400/2400 [==============================] - 45s 19ms/step - loss: 0.0856 - accuracy: 0.9719 - val_loss: 0.0896 - val_accuracy: 0.9713\n",
      "Epoch 8/45\n",
      "2400/2400 [==============================] - 45s 19ms/step - loss: 0.0851 - accuracy: 0.9723 - val_loss: 0.0888 - val_accuracy: 0.9708\n",
      "Epoch 9/45\n",
      "2400/2400 [==============================] - 45s 19ms/step - loss: 0.0849 - accuracy: 0.9719 - val_loss: 0.0888 - val_accuracy: 0.9704\n",
      "Epoch 10/45\n",
      "2400/2400 [==============================] - 45s 19ms/step - loss: 0.0845 - accuracy: 0.9724 - val_loss: 0.0879 - val_accuracy: 0.9709\n",
      "Epoch 11/45\n",
      "2400/2400 [==============================] - 45s 19ms/step - loss: 0.0840 - accuracy: 0.9726 - val_loss: 0.0879 - val_accuracy: 0.9711\n",
      "Epoch 12/45\n",
      "2400/2400 [==============================] - 45s 19ms/step - loss: 0.0839 - accuracy: 0.9723 - val_loss: 0.0883 - val_accuracy: 0.9712\n",
      "Epoch 13/45\n",
      "1741/2400 [====================>.........] - ETA: 11s - loss: 0.0830 - accuracy: 0.9730"
     ]
    },
    {
     "ename": "KeyboardInterrupt",
     "evalue": "",
     "output_type": "error",
     "traceback": [
      "\u001b[0;31m---------------------------------------------------------------------------\u001b[0m",
      "\u001b[0;31mKeyboardInterrupt\u001b[0m                         Traceback (most recent call last)",
      "Cell \u001b[0;32mIn[13], line 2\u001b[0m\n\u001b[1;32m      1\u001b[0m \u001b[38;5;28mprint\u001b[39m(\u001b[38;5;124mf\u001b[39m\u001b[38;5;124m\"\u001b[39m\u001b[38;5;124m=== Training with lr=2e-6 [\u001b[39m\u001b[38;5;132;01m{\u001b[39;00mdt\u001b[38;5;241m.\u001b[39mdatetime\u001b[38;5;241m.\u001b[39mnow()\u001b[38;5;132;01m}\u001b[39;00m\u001b[38;5;124m] ===\u001b[39m\u001b[38;5;124m\"\u001b[39m)\n\u001b[0;32m----> 2\u001b[0m \u001b[43mtrain_iteration\u001b[49m\u001b[43m(\u001b[49m\u001b[43mlr\u001b[49m\u001b[38;5;241;43m=\u001b[39;49m\u001b[38;5;241;43m2e-6\u001b[39;49m\u001b[43m,\u001b[49m\u001b[43m \u001b[49m\u001b[43mepochs\u001b[49m\u001b[38;5;241;43m=\u001b[39;49m\u001b[38;5;241;43m45\u001b[39;49m\u001b[43m)\u001b[49m\n",
      "Cell \u001b[0;32mIn[4], line 8\u001b[0m, in \u001b[0;36mtrain_iteration\u001b[0;34m(lr, epochs)\u001b[0m\n\u001b[1;32m      7\u001b[0m \u001b[38;5;28;01mdef\u001b[39;00m \u001b[38;5;21mtrain_iteration\u001b[39m(lr, epochs):\n\u001b[0;32m----> 8\u001b[0m     fit_history \u001b[38;5;241m=\u001b[39m \u001b[43mtrain_model\u001b[49m\u001b[43m(\u001b[49m\n\u001b[1;32m      9\u001b[0m \u001b[43m        \u001b[49m\u001b[43mmodel\u001b[49m\u001b[38;5;241;43m=\u001b[39;49m\u001b[43mmodel\u001b[49m\u001b[43m,\u001b[49m\u001b[43m \u001b[49m\n\u001b[1;32m     10\u001b[0m \u001b[43m        \u001b[49m\u001b[43mdata\u001b[49m\u001b[38;5;241;43m=\u001b[39;49m\u001b[43m(\u001b[49m\u001b[43mX_train\u001b[49m\u001b[43m,\u001b[49m\u001b[43m \u001b[49m\u001b[43mX_val\u001b[49m\u001b[43m,\u001b[49m\u001b[43m \u001b[49m\u001b[43mY_train\u001b[49m\u001b[43m,\u001b[49m\u001b[43m \u001b[49m\u001b[43mY_val\u001b[49m\u001b[43m)\u001b[49m\u001b[43m,\u001b[49m\n\u001b[1;32m     11\u001b[0m \u001b[43m        \u001b[49m\u001b[43mlr\u001b[49m\u001b[38;5;241;43m=\u001b[39;49m\u001b[43mlr\u001b[49m\u001b[43m,\u001b[49m\n\u001b[1;32m     12\u001b[0m \u001b[43m        \u001b[49m\u001b[43mepochs\u001b[49m\u001b[38;5;241;43m=\u001b[39;49m\u001b[43mepochs\u001b[49m\n\u001b[1;32m     13\u001b[0m \u001b[43m    \u001b[49m\u001b[43m)\u001b[49m\n\u001b[1;32m     14\u001b[0m     \u001b[38;5;28mprint\u001b[39m(\u001b[38;5;124mf\u001b[39m\u001b[38;5;124m\"\u001b[39m\u001b[38;5;130;01m\\n\u001b[39;00m\u001b[38;5;124mTracking history... \u001b[39m\u001b[38;5;124m\"\u001b[39m, end\u001b[38;5;241m=\u001b[39m\u001b[38;5;124m\"\u001b[39m\u001b[38;5;124m\"\u001b[39m)\n\u001b[1;32m     15\u001b[0m     \u001b[38;5;28;01mfor\u001b[39;00m key \u001b[38;5;129;01min\u001b[39;00m [\u001b[38;5;124m\"\u001b[39m\u001b[38;5;124mloss\u001b[39m\u001b[38;5;124m\"\u001b[39m, \u001b[38;5;124m\"\u001b[39m\u001b[38;5;124mval_loss\u001b[39m\u001b[38;5;124m\"\u001b[39m, \u001b[38;5;124m\"\u001b[39m\u001b[38;5;124maccuracy\u001b[39m\u001b[38;5;124m\"\u001b[39m, \u001b[38;5;124m\"\u001b[39m\u001b[38;5;124mval_accuracy\u001b[39m\u001b[38;5;124m\"\u001b[39m]:\n",
      "File \u001b[0;32m/direct/usatlas+u/atlas_wifeng/photon-jet/scalar_test/pfn/axion1/../train_model.py:25\u001b[0m, in \u001b[0;36mtrain_model\u001b[0;34m(model, data, lr, epochs, batch_size, verbose)\u001b[0m\n\u001b[1;32m     18\u001b[0m X_train, X_val, Y_train, Y_val \u001b[38;5;241m=\u001b[39m data\n\u001b[1;32m     20\u001b[0m model\u001b[38;5;241m.\u001b[39mcompile(\n\u001b[1;32m     21\u001b[0m     optimizer\u001b[38;5;241m=\u001b[39mtf\u001b[38;5;241m.\u001b[39mkeras\u001b[38;5;241m.\u001b[39moptimizers\u001b[38;5;241m.\u001b[39mAdam(learning_rate\u001b[38;5;241m=\u001b[39mlr),\n\u001b[1;32m     22\u001b[0m     loss\u001b[38;5;241m=\u001b[39mtf\u001b[38;5;241m.\u001b[39mkeras\u001b[38;5;241m.\u001b[39mlosses\u001b[38;5;241m.\u001b[39mCategoricalCrossentropy(from_logits\u001b[38;5;241m=\u001b[39m\u001b[38;5;28;01mTrue\u001b[39;00m),\n\u001b[1;32m     23\u001b[0m     metrics\u001b[38;5;241m=\u001b[39m[\u001b[38;5;124m\"\u001b[39m\u001b[38;5;124maccuracy\u001b[39m\u001b[38;5;124m\"\u001b[39m]\n\u001b[1;32m     24\u001b[0m )\n\u001b[0;32m---> 25\u001b[0m fit_history \u001b[38;5;241m=\u001b[39m \u001b[43mmodel\u001b[49m\u001b[38;5;241;43m.\u001b[39;49m\u001b[43mfit\u001b[49m\u001b[43m(\u001b[49m\u001b[43mX_train\u001b[49m\u001b[43m,\u001b[49m\u001b[43m \u001b[49m\u001b[43mY_train\u001b[49m\u001b[43m,\u001b[49m\n\u001b[1;32m     26\u001b[0m \u001b[43m                    \u001b[49m\u001b[43mepochs\u001b[49m\u001b[38;5;241;43m=\u001b[39;49m\u001b[43mepochs\u001b[49m\u001b[43m,\u001b[49m\n\u001b[1;32m     27\u001b[0m \u001b[43m                    \u001b[49m\u001b[43mbatch_size\u001b[49m\u001b[38;5;241;43m=\u001b[39;49m\u001b[43mbatch_size\u001b[49m\u001b[43m,\u001b[49m\n\u001b[1;32m     28\u001b[0m \u001b[43m                    \u001b[49m\u001b[43mvalidation_data\u001b[49m\u001b[38;5;241;43m=\u001b[39;49m\u001b[43m(\u001b[49m\u001b[43mX_val\u001b[49m\u001b[43m,\u001b[49m\u001b[43m \u001b[49m\u001b[43mY_val\u001b[49m\u001b[43m)\u001b[49m\u001b[43m,\u001b[49m\n\u001b[1;32m     29\u001b[0m \u001b[43m                    \u001b[49m\u001b[43mverbose\u001b[49m\u001b[38;5;241;43m=\u001b[39;49m\u001b[43mverbose\u001b[49m\u001b[43m)\u001b[49m\n\u001b[1;32m     31\u001b[0m \u001b[38;5;28;01mreturn\u001b[39;00m fit_history\n",
      "File \u001b[0;32m/usatlas/atlas01/atlasdisk/users/atlas_wifeng/sw/miniconda/envs/top-tagging/lib/python3.10/site-packages/keras/utils/traceback_utils.py:65\u001b[0m, in \u001b[0;36mfilter_traceback.<locals>.error_handler\u001b[0;34m(*args, **kwargs)\u001b[0m\n\u001b[1;32m     63\u001b[0m filtered_tb \u001b[38;5;241m=\u001b[39m \u001b[38;5;28;01mNone\u001b[39;00m\n\u001b[1;32m     64\u001b[0m \u001b[38;5;28;01mtry\u001b[39;00m:\n\u001b[0;32m---> 65\u001b[0m     \u001b[38;5;28;01mreturn\u001b[39;00m \u001b[43mfn\u001b[49m\u001b[43m(\u001b[49m\u001b[38;5;241;43m*\u001b[39;49m\u001b[43margs\u001b[49m\u001b[43m,\u001b[49m\u001b[43m \u001b[49m\u001b[38;5;241;43m*\u001b[39;49m\u001b[38;5;241;43m*\u001b[39;49m\u001b[43mkwargs\u001b[49m\u001b[43m)\u001b[49m\n\u001b[1;32m     66\u001b[0m \u001b[38;5;28;01mexcept\u001b[39;00m \u001b[38;5;167;01mException\u001b[39;00m \u001b[38;5;28;01mas\u001b[39;00m e:\n\u001b[1;32m     67\u001b[0m     filtered_tb \u001b[38;5;241m=\u001b[39m _process_traceback_frames(e\u001b[38;5;241m.\u001b[39m__traceback__)\n",
      "File \u001b[0;32m/usatlas/atlas01/atlasdisk/users/atlas_wifeng/sw/miniconda/envs/top-tagging/lib/python3.10/site-packages/keras/engine/training.py:1685\u001b[0m, in \u001b[0;36mModel.fit\u001b[0;34m(self, x, y, batch_size, epochs, verbose, callbacks, validation_split, validation_data, shuffle, class_weight, sample_weight, initial_epoch, steps_per_epoch, validation_steps, validation_batch_size, validation_freq, max_queue_size, workers, use_multiprocessing)\u001b[0m\n\u001b[1;32m   1677\u001b[0m \u001b[38;5;28;01mwith\u001b[39;00m tf\u001b[38;5;241m.\u001b[39mprofiler\u001b[38;5;241m.\u001b[39mexperimental\u001b[38;5;241m.\u001b[39mTrace(\n\u001b[1;32m   1678\u001b[0m     \u001b[38;5;124m\"\u001b[39m\u001b[38;5;124mtrain\u001b[39m\u001b[38;5;124m\"\u001b[39m,\n\u001b[1;32m   1679\u001b[0m     epoch_num\u001b[38;5;241m=\u001b[39mepoch,\n\u001b[0;32m   (...)\u001b[0m\n\u001b[1;32m   1682\u001b[0m     _r\u001b[38;5;241m=\u001b[39m\u001b[38;5;241m1\u001b[39m,\n\u001b[1;32m   1683\u001b[0m ):\n\u001b[1;32m   1684\u001b[0m     callbacks\u001b[38;5;241m.\u001b[39mon_train_batch_begin(step)\n\u001b[0;32m-> 1685\u001b[0m     tmp_logs \u001b[38;5;241m=\u001b[39m \u001b[38;5;28;43mself\u001b[39;49m\u001b[38;5;241;43m.\u001b[39;49m\u001b[43mtrain_function\u001b[49m\u001b[43m(\u001b[49m\u001b[43miterator\u001b[49m\u001b[43m)\u001b[49m\n\u001b[1;32m   1686\u001b[0m     \u001b[38;5;28;01mif\u001b[39;00m data_handler\u001b[38;5;241m.\u001b[39mshould_sync:\n\u001b[1;32m   1687\u001b[0m         context\u001b[38;5;241m.\u001b[39masync_wait()\n",
      "File \u001b[0;32m/usatlas/atlas01/atlasdisk/users/atlas_wifeng/sw/miniconda/envs/top-tagging/lib/python3.10/site-packages/tensorflow/python/util/traceback_utils.py:150\u001b[0m, in \u001b[0;36mfilter_traceback.<locals>.error_handler\u001b[0;34m(*args, **kwargs)\u001b[0m\n\u001b[1;32m    148\u001b[0m filtered_tb \u001b[38;5;241m=\u001b[39m \u001b[38;5;28;01mNone\u001b[39;00m\n\u001b[1;32m    149\u001b[0m \u001b[38;5;28;01mtry\u001b[39;00m:\n\u001b[0;32m--> 150\u001b[0m   \u001b[38;5;28;01mreturn\u001b[39;00m \u001b[43mfn\u001b[49m\u001b[43m(\u001b[49m\u001b[38;5;241;43m*\u001b[39;49m\u001b[43margs\u001b[49m\u001b[43m,\u001b[49m\u001b[43m \u001b[49m\u001b[38;5;241;43m*\u001b[39;49m\u001b[38;5;241;43m*\u001b[39;49m\u001b[43mkwargs\u001b[49m\u001b[43m)\u001b[49m\n\u001b[1;32m    151\u001b[0m \u001b[38;5;28;01mexcept\u001b[39;00m \u001b[38;5;167;01mException\u001b[39;00m \u001b[38;5;28;01mas\u001b[39;00m e:\n\u001b[1;32m    152\u001b[0m   filtered_tb \u001b[38;5;241m=\u001b[39m _process_traceback_frames(e\u001b[38;5;241m.\u001b[39m__traceback__)\n",
      "File \u001b[0;32m/usatlas/atlas01/atlasdisk/users/atlas_wifeng/sw/miniconda/envs/top-tagging/lib/python3.10/site-packages/tensorflow/python/eager/polymorphic_function/polymorphic_function.py:894\u001b[0m, in \u001b[0;36mFunction.__call__\u001b[0;34m(self, *args, **kwds)\u001b[0m\n\u001b[1;32m    891\u001b[0m compiler \u001b[38;5;241m=\u001b[39m \u001b[38;5;124m\"\u001b[39m\u001b[38;5;124mxla\u001b[39m\u001b[38;5;124m\"\u001b[39m \u001b[38;5;28;01mif\u001b[39;00m \u001b[38;5;28mself\u001b[39m\u001b[38;5;241m.\u001b[39m_jit_compile \u001b[38;5;28;01melse\u001b[39;00m \u001b[38;5;124m\"\u001b[39m\u001b[38;5;124mnonXla\u001b[39m\u001b[38;5;124m\"\u001b[39m\n\u001b[1;32m    893\u001b[0m \u001b[38;5;28;01mwith\u001b[39;00m OptionalXlaContext(\u001b[38;5;28mself\u001b[39m\u001b[38;5;241m.\u001b[39m_jit_compile):\n\u001b[0;32m--> 894\u001b[0m   result \u001b[38;5;241m=\u001b[39m \u001b[38;5;28;43mself\u001b[39;49m\u001b[38;5;241;43m.\u001b[39;49m\u001b[43m_call\u001b[49m\u001b[43m(\u001b[49m\u001b[38;5;241;43m*\u001b[39;49m\u001b[43margs\u001b[49m\u001b[43m,\u001b[49m\u001b[43m \u001b[49m\u001b[38;5;241;43m*\u001b[39;49m\u001b[38;5;241;43m*\u001b[39;49m\u001b[43mkwds\u001b[49m\u001b[43m)\u001b[49m\n\u001b[1;32m    896\u001b[0m new_tracing_count \u001b[38;5;241m=\u001b[39m \u001b[38;5;28mself\u001b[39m\u001b[38;5;241m.\u001b[39mexperimental_get_tracing_count()\n\u001b[1;32m    897\u001b[0m without_tracing \u001b[38;5;241m=\u001b[39m (tracing_count \u001b[38;5;241m==\u001b[39m new_tracing_count)\n",
      "File \u001b[0;32m/usatlas/atlas01/atlasdisk/users/atlas_wifeng/sw/miniconda/envs/top-tagging/lib/python3.10/site-packages/tensorflow/python/eager/polymorphic_function/polymorphic_function.py:926\u001b[0m, in \u001b[0;36mFunction._call\u001b[0;34m(self, *args, **kwds)\u001b[0m\n\u001b[1;32m    923\u001b[0m   \u001b[38;5;28mself\u001b[39m\u001b[38;5;241m.\u001b[39m_lock\u001b[38;5;241m.\u001b[39mrelease()\n\u001b[1;32m    924\u001b[0m   \u001b[38;5;66;03m# In this case we have created variables on the first call, so we run the\u001b[39;00m\n\u001b[1;32m    925\u001b[0m   \u001b[38;5;66;03m# defunned version which is guaranteed to never create variables.\u001b[39;00m\n\u001b[0;32m--> 926\u001b[0m   \u001b[38;5;28;01mreturn\u001b[39;00m \u001b[38;5;28;43mself\u001b[39;49m\u001b[38;5;241;43m.\u001b[39;49m\u001b[43m_no_variable_creation_fn\u001b[49m\u001b[43m(\u001b[49m\u001b[38;5;241;43m*\u001b[39;49m\u001b[43margs\u001b[49m\u001b[43m,\u001b[49m\u001b[43m \u001b[49m\u001b[38;5;241;43m*\u001b[39;49m\u001b[38;5;241;43m*\u001b[39;49m\u001b[43mkwds\u001b[49m\u001b[43m)\u001b[49m  \u001b[38;5;66;03m# pylint: disable=not-callable\u001b[39;00m\n\u001b[1;32m    927\u001b[0m \u001b[38;5;28;01melif\u001b[39;00m \u001b[38;5;28mself\u001b[39m\u001b[38;5;241m.\u001b[39m_variable_creation_fn \u001b[38;5;129;01mis\u001b[39;00m \u001b[38;5;129;01mnot\u001b[39;00m \u001b[38;5;28;01mNone\u001b[39;00m:\n\u001b[1;32m    928\u001b[0m   \u001b[38;5;66;03m# Release the lock early so that multiple threads can perform the call\u001b[39;00m\n\u001b[1;32m    929\u001b[0m   \u001b[38;5;66;03m# in parallel.\u001b[39;00m\n\u001b[1;32m    930\u001b[0m   \u001b[38;5;28mself\u001b[39m\u001b[38;5;241m.\u001b[39m_lock\u001b[38;5;241m.\u001b[39mrelease()\n",
      "File \u001b[0;32m/usatlas/atlas01/atlasdisk/users/atlas_wifeng/sw/miniconda/envs/top-tagging/lib/python3.10/site-packages/tensorflow/python/eager/polymorphic_function/tracing_compiler.py:143\u001b[0m, in \u001b[0;36mTracingCompiler.__call__\u001b[0;34m(self, *args, **kwargs)\u001b[0m\n\u001b[1;32m    140\u001b[0m \u001b[38;5;28;01mwith\u001b[39;00m \u001b[38;5;28mself\u001b[39m\u001b[38;5;241m.\u001b[39m_lock:\n\u001b[1;32m    141\u001b[0m   (concrete_function,\n\u001b[1;32m    142\u001b[0m    filtered_flat_args) \u001b[38;5;241m=\u001b[39m \u001b[38;5;28mself\u001b[39m\u001b[38;5;241m.\u001b[39m_maybe_define_function(args, kwargs)\n\u001b[0;32m--> 143\u001b[0m \u001b[38;5;28;01mreturn\u001b[39;00m \u001b[43mconcrete_function\u001b[49m\u001b[38;5;241;43m.\u001b[39;49m\u001b[43m_call_flat\u001b[49m\u001b[43m(\u001b[49m\n\u001b[1;32m    144\u001b[0m \u001b[43m    \u001b[49m\u001b[43mfiltered_flat_args\u001b[49m\u001b[43m,\u001b[49m\u001b[43m \u001b[49m\u001b[43mcaptured_inputs\u001b[49m\u001b[38;5;241;43m=\u001b[39;49m\u001b[43mconcrete_function\u001b[49m\u001b[38;5;241;43m.\u001b[39;49m\u001b[43mcaptured_inputs\u001b[49m\u001b[43m)\u001b[49m\n",
      "File \u001b[0;32m/usatlas/atlas01/atlasdisk/users/atlas_wifeng/sw/miniconda/envs/top-tagging/lib/python3.10/site-packages/tensorflow/python/eager/polymorphic_function/monomorphic_function.py:1757\u001b[0m, in \u001b[0;36mConcreteFunction._call_flat\u001b[0;34m(self, args, captured_inputs, cancellation_manager)\u001b[0m\n\u001b[1;32m   1753\u001b[0m possible_gradient_type \u001b[38;5;241m=\u001b[39m gradients_util\u001b[38;5;241m.\u001b[39mPossibleTapeGradientTypes(args)\n\u001b[1;32m   1754\u001b[0m \u001b[38;5;28;01mif\u001b[39;00m (possible_gradient_type \u001b[38;5;241m==\u001b[39m gradients_util\u001b[38;5;241m.\u001b[39mPOSSIBLE_GRADIENT_TYPES_NONE\n\u001b[1;32m   1755\u001b[0m     \u001b[38;5;129;01mand\u001b[39;00m executing_eagerly):\n\u001b[1;32m   1756\u001b[0m   \u001b[38;5;66;03m# No tape is watching; skip to running the function.\u001b[39;00m\n\u001b[0;32m-> 1757\u001b[0m   \u001b[38;5;28;01mreturn\u001b[39;00m \u001b[38;5;28mself\u001b[39m\u001b[38;5;241m.\u001b[39m_build_call_outputs(\u001b[38;5;28;43mself\u001b[39;49m\u001b[38;5;241;43m.\u001b[39;49m\u001b[43m_inference_function\u001b[49m\u001b[38;5;241;43m.\u001b[39;49m\u001b[43mcall\u001b[49m\u001b[43m(\u001b[49m\n\u001b[1;32m   1758\u001b[0m \u001b[43m      \u001b[49m\u001b[43mctx\u001b[49m\u001b[43m,\u001b[49m\u001b[43m \u001b[49m\u001b[43margs\u001b[49m\u001b[43m,\u001b[49m\u001b[43m \u001b[49m\u001b[43mcancellation_manager\u001b[49m\u001b[38;5;241;43m=\u001b[39;49m\u001b[43mcancellation_manager\u001b[49m\u001b[43m)\u001b[49m)\n\u001b[1;32m   1759\u001b[0m forward_backward \u001b[38;5;241m=\u001b[39m \u001b[38;5;28mself\u001b[39m\u001b[38;5;241m.\u001b[39m_select_forward_and_backward_functions(\n\u001b[1;32m   1760\u001b[0m     args,\n\u001b[1;32m   1761\u001b[0m     possible_gradient_type,\n\u001b[1;32m   1762\u001b[0m     executing_eagerly)\n\u001b[1;32m   1763\u001b[0m forward_function, args_with_tangents \u001b[38;5;241m=\u001b[39m forward_backward\u001b[38;5;241m.\u001b[39mforward()\n",
      "File \u001b[0;32m/usatlas/atlas01/atlasdisk/users/atlas_wifeng/sw/miniconda/envs/top-tagging/lib/python3.10/site-packages/tensorflow/python/eager/polymorphic_function/monomorphic_function.py:381\u001b[0m, in \u001b[0;36m_EagerDefinedFunction.call\u001b[0;34m(self, ctx, args, cancellation_manager)\u001b[0m\n\u001b[1;32m    379\u001b[0m \u001b[38;5;28;01mwith\u001b[39;00m _InterpolateFunctionError(\u001b[38;5;28mself\u001b[39m):\n\u001b[1;32m    380\u001b[0m   \u001b[38;5;28;01mif\u001b[39;00m cancellation_manager \u001b[38;5;129;01mis\u001b[39;00m \u001b[38;5;28;01mNone\u001b[39;00m:\n\u001b[0;32m--> 381\u001b[0m     outputs \u001b[38;5;241m=\u001b[39m \u001b[43mexecute\u001b[49m\u001b[38;5;241;43m.\u001b[39;49m\u001b[43mexecute\u001b[49m\u001b[43m(\u001b[49m\n\u001b[1;32m    382\u001b[0m \u001b[43m        \u001b[49m\u001b[38;5;28;43mstr\u001b[39;49m\u001b[43m(\u001b[49m\u001b[38;5;28;43mself\u001b[39;49m\u001b[38;5;241;43m.\u001b[39;49m\u001b[43msignature\u001b[49m\u001b[38;5;241;43m.\u001b[39;49m\u001b[43mname\u001b[49m\u001b[43m)\u001b[49m\u001b[43m,\u001b[49m\n\u001b[1;32m    383\u001b[0m \u001b[43m        \u001b[49m\u001b[43mnum_outputs\u001b[49m\u001b[38;5;241;43m=\u001b[39;49m\u001b[38;5;28;43mself\u001b[39;49m\u001b[38;5;241;43m.\u001b[39;49m\u001b[43m_num_outputs\u001b[49m\u001b[43m,\u001b[49m\n\u001b[1;32m    384\u001b[0m \u001b[43m        \u001b[49m\u001b[43minputs\u001b[49m\u001b[38;5;241;43m=\u001b[39;49m\u001b[43margs\u001b[49m\u001b[43m,\u001b[49m\n\u001b[1;32m    385\u001b[0m \u001b[43m        \u001b[49m\u001b[43mattrs\u001b[49m\u001b[38;5;241;43m=\u001b[39;49m\u001b[43mattrs\u001b[49m\u001b[43m,\u001b[49m\n\u001b[1;32m    386\u001b[0m \u001b[43m        \u001b[49m\u001b[43mctx\u001b[49m\u001b[38;5;241;43m=\u001b[39;49m\u001b[43mctx\u001b[49m\u001b[43m)\u001b[49m\n\u001b[1;32m    387\u001b[0m   \u001b[38;5;28;01melse\u001b[39;00m:\n\u001b[1;32m    388\u001b[0m     outputs \u001b[38;5;241m=\u001b[39m execute\u001b[38;5;241m.\u001b[39mexecute_with_cancellation(\n\u001b[1;32m    389\u001b[0m         \u001b[38;5;28mstr\u001b[39m(\u001b[38;5;28mself\u001b[39m\u001b[38;5;241m.\u001b[39msignature\u001b[38;5;241m.\u001b[39mname),\n\u001b[1;32m    390\u001b[0m         num_outputs\u001b[38;5;241m=\u001b[39m\u001b[38;5;28mself\u001b[39m\u001b[38;5;241m.\u001b[39m_num_outputs,\n\u001b[0;32m   (...)\u001b[0m\n\u001b[1;32m    393\u001b[0m         ctx\u001b[38;5;241m=\u001b[39mctx,\n\u001b[1;32m    394\u001b[0m         cancellation_manager\u001b[38;5;241m=\u001b[39mcancellation_manager)\n",
      "File \u001b[0;32m/usatlas/atlas01/atlasdisk/users/atlas_wifeng/sw/miniconda/envs/top-tagging/lib/python3.10/site-packages/tensorflow/python/eager/execute.py:52\u001b[0m, in \u001b[0;36mquick_execute\u001b[0;34m(op_name, num_outputs, inputs, attrs, ctx, name)\u001b[0m\n\u001b[1;32m     50\u001b[0m \u001b[38;5;28;01mtry\u001b[39;00m:\n\u001b[1;32m     51\u001b[0m   ctx\u001b[38;5;241m.\u001b[39mensure_initialized()\n\u001b[0;32m---> 52\u001b[0m   tensors \u001b[38;5;241m=\u001b[39m \u001b[43mpywrap_tfe\u001b[49m\u001b[38;5;241;43m.\u001b[39;49m\u001b[43mTFE_Py_Execute\u001b[49m\u001b[43m(\u001b[49m\u001b[43mctx\u001b[49m\u001b[38;5;241;43m.\u001b[39;49m\u001b[43m_handle\u001b[49m\u001b[43m,\u001b[49m\u001b[43m \u001b[49m\u001b[43mdevice_name\u001b[49m\u001b[43m,\u001b[49m\u001b[43m \u001b[49m\u001b[43mop_name\u001b[49m\u001b[43m,\u001b[49m\n\u001b[1;32m     53\u001b[0m \u001b[43m                                      \u001b[49m\u001b[43minputs\u001b[49m\u001b[43m,\u001b[49m\u001b[43m \u001b[49m\u001b[43mattrs\u001b[49m\u001b[43m,\u001b[49m\u001b[43m \u001b[49m\u001b[43mnum_outputs\u001b[49m\u001b[43m)\u001b[49m\n\u001b[1;32m     54\u001b[0m \u001b[38;5;28;01mexcept\u001b[39;00m core\u001b[38;5;241m.\u001b[39m_NotOkStatusException \u001b[38;5;28;01mas\u001b[39;00m e:\n\u001b[1;32m     55\u001b[0m   \u001b[38;5;28;01mif\u001b[39;00m name \u001b[38;5;129;01mis\u001b[39;00m \u001b[38;5;129;01mnot\u001b[39;00m \u001b[38;5;28;01mNone\u001b[39;00m:\n",
      "\u001b[0;31mKeyboardInterrupt\u001b[0m: "
     ]
    }
   ],
   "source": [
    "print(f\"=== Training with lr=2e-6 [{dt.datetime.now()}] ===\")\n",
    "train_iteration(lr=2e-6, epochs=45)"
   ]
  },
  {
   "cell_type": "code",
   "execution_count": 17,
   "id": "e2b82099-5c4a-47a6-9e2b-a9649919e93e",
   "metadata": {},
   "outputs": [
    {
     "name": "stdout",
     "output_type": "stream",
     "text": [
      "INFO:tensorflow:Assets written to: /usatlas/atlas01/atlasdisk/users/atlas_wifeng/photon-jet/models/pfn/axion1_97%_2023-06-07/assets\n"
     ]
    }
   ],
   "source": [
    "save_model(\"axion1_97%\")"
   ]
  },
  {
   "cell_type": "markdown",
   "id": "1851521d-bfc1-452b-87dc-58f6f8b14abc",
   "metadata": {},
   "source": [
    "### Testing"
   ]
  },
  {
   "cell_type": "code",
   "execution_count": 18,
   "id": "72ed48a7-78f9-4585-b035-fbe81b37e9f9",
   "metadata": {},
   "outputs": [
    {
     "name": "stdout",
     "output_type": "stream",
     "text": [
      "60/60 [==============================] - 2s 29ms/step\n",
      "Testing accuracy: 0.9709666666666666\n"
     ]
    }
   ],
   "source": [
    "# Test model\n",
    "from test_model import test_model, plot_cm\n",
    "test_accuracy, cm = test_model(model, (X_test, Y_test))\n",
    "print(f\"Testing accuracy: {test_accuracy}\")"
   ]
  },
  {
   "cell_type": "code",
   "execution_count": 19,
   "id": "df160094-6843-4c60-a04b-5e0a6fa14d7f",
   "metadata": {},
   "outputs": [
    {
     "data": {
      "image/png": "[encoded data removed]",
      "text/plain": [
       "<Figure size 640x480 with 2 Axes>"
      ]
     },
     "metadata": {},
     "output_type": "display_data"
    }
   ],
   "source": [
    "plot_cm(cm, [\"pion\", \"photon\", \"axion1\"])"
   ]
  },
  {
   "cell_type": "code",
   "execution_count": null,
   "id": "fe5ca6fe-b063-45c0-986e-8a3352b7cfc2",
   "metadata": {},
   "outputs": [],
   "source": []
  }
 ],
 "metadata": {
  "kernelspec": {
   "display_name": "top-tagging",
   "language": "python",
   "name": "top-tagging"
  },
  "language_info": {
   "codemirror_mode": {
    "name": "ipython",
    "version": 3
   },
   "file_extension": ".py",
   "mimetype": "text/x-python",
   "name": "python",
   "nbconvert_exporter": "python",
   "pygments_lexer": "ipython3",
   "version": "3.10.10"
  }
 },
 "nbformat": 4,
 "nbformat_minor": 5
}
