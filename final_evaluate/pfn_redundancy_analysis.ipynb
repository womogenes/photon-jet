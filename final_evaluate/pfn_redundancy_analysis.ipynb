{
 "cells": [
  {
   "cell_type": "markdown",
   "id": "304ffc70-b3db-4b8a-b371-a9a5ef0c4cc7",
   "metadata": {},
   "source": [
    "## Analyze model redundancy"
   ]
  },
  {
   "cell_type": "code",
   "execution_count": 42,
   "id": "5797ff2b-fec5-4210-a3eb-cdad0ed51dd4",
   "metadata": {},
   "outputs": [],
   "source": [
    "import sys\n",
    "sys.path.append(\"..\")\n",
    "\n",
    "import tensorflow as tf\n",
    "import numpy as np\n",
    "\n",
    "from tabulate import tabulate\n",
    "import matplotlib.pyplot as plt\n",
    "from tqdm import tqdm\n",
    "\n",
    "from utils import data_dir, model_dir"
   ]
  },
  {
   "cell_type": "code",
   "execution_count": 51,
   "id": "785cd074-23af-4901-bc78-6af8f2e1e17f",
   "metadata": {},
   "outputs": [],
   "source": [
    "task_name = \"axion2\""
   ]
  },
  {
   "cell_type": "code",
   "execution_count": 52,
   "id": "c4c6e339-e4cb-4742-9892-476d4826a467",
   "metadata": {},
   "outputs": [
    {
     "name": "stdout",
     "output_type": "stream",
     "text": [
      "Loading 10% of data for particle pi0...\n",
      "Loading 10% of data for particle gamma...\n",
      "Loading 10% of data for particle axion2...\n",
      "clouds.shape: (30000, 960, 4)\n"
     ]
    }
   ],
   "source": [
    "## LOAD DATA (~40 sec)\n",
    "particles = [\"pi0\", \"gamma\", task_name]\n",
    "clouds = []\n",
    "for particle in particles:\n",
    "    print(f\"Loading 10% of data for particle {particle}...\")\n",
    "    clouds.append(np.load(f\"{data_dir}/processed/{particle}_cloud.npy\")[::10])\n",
    "clouds = np.vstack(clouds)\n",
    "print(f\"clouds.shape: {clouds.shape}\")"
   ]
  },
  {
   "cell_type": "code",
   "execution_count": 53,
   "id": "c0e2837b-9cb8-405e-9e82-f8ad14be74af",
   "metadata": {},
   "outputs": [
    {
     "name": "stdout",
     "output_type": "stream",
     "text": [
      "(3000, 960, 4)\n"
     ]
    }
   ],
   "source": [
    "# Further sample\n",
    "clouds_samp = clouds[::10]\n",
    "print(clouds_samp.shape)"
   ]
  },
  {
   "cell_type": "code",
   "execution_count": 60,
   "id": "f535714c-938b-4264-9991-de8a5c4d4dbc",
   "metadata": {},
   "outputs": [],
   "source": [
    "model = tf.keras.models.load_model(f\"{model_dir}/{task_name}_pfn\")"
   ]
  },
  {
   "cell_type": "code",
   "execution_count": 61,
   "id": "3a1d29c1-02ba-4d12-ac02-f6eec292e1d8",
   "metadata": {},
   "outputs": [
    {
     "name": "stdout",
     "output_type": "stream",
     "text": [
      "Running cloud through first layer...\n",
      "Running units through layer 0 (masking)...  raw_units.shape: (3000, 960, 4)  units.shape: (3000, 960, 4)\n",
      "Running units through layer 1 (Phi_0)...  raw_units.shape: (3000, 960, 256)  units.shape: (2880000, 256)\n",
      "Running units through layer 2 (Phi_1)...  raw_units.shape: (3000, 960, 256)  units.shape: (2880000, 256)\n",
      "Running units through layer 3 (Phi_2)...  raw_units.shape: (3000, 960, 256)  units.shape: (2880000, 256)\n",
      "Running units through layer 4 (Phi_3)...  raw_units.shape: (3000, 960, 256)  units.shape: (2880000, 256)\n",
      "Running units through layer 5 (Phi_4)...  raw_units.shape: (3000, 960, 128)  units.shape: (2880000, 128)\n",
      "Running units through layer 6 (Phi_5)...  raw_units.shape: (3000, 960, 128)  units.shape: (2880000, 128)\n",
      "Running units through layer 7 (Phi_6)...  raw_units.shape: (3000, 960, 128)  units.shape: (2880000, 128)\n",
      "Running units through layer 8 (Phi_7)...  raw_units.shape: (3000, 960, 128)  units.shape: (2880000, 128)\n",
      "Running units through layer 9 (Sigma)...  raw_units.shape: (3000, 128)  units.shape: (3000, 128)\n",
      "Running units through layer 10 (F_0)...  raw_units.shape: (3000, 256)  units.shape: (3000, 256)\n",
      "Running units through layer 11 (F_1)...  raw_units.shape: (3000, 256)  units.shape: (3000, 256)\n",
      "Running units through layer 12 (F_2)...  raw_units.shape: (3000, 256)  units.shape: (3000, 256)\n",
      "Running units through layer 13 (F_3)...  raw_units.shape: (3000, 256)  units.shape: (3000, 256)\n",
      "Running units through layer 14 (F_4)...  raw_units.shape: (3000, 128)  units.shape: (3000, 128)\n",
      "Running units through layer 15 (F_5)...  raw_units.shape: (3000, 128)  units.shape: (3000, 128)\n",
      "Running units through layer 16 (F_6)...  raw_units.shape: (3000, 128)  units.shape: (3000, 128)\n",
      "Running units through layer 17 (F_7)...  raw_units.shape: (3000, 128)  units.shape: (3000, 128)\n",
      "Running units through layer 18 (output)...  raw_units.shape: (3000, 3)  units.shape: (3000, 3)\n"
     ]
    }
   ],
   "source": [
    "print(f\"Running cloud through first layer...\")\n",
    "raw_units = model.layers[0](clouds_samp)\n",
    "all_units = {}\n",
    "\n",
    "for i, layer in enumerate(model.layers[1:]):\n",
    "    print(f\"Running units through layer {i} ({layer.name})...\", end=\"\")\n",
    "    if \"Sigma\" in layer.name:\n",
    "        raw_units = tf.math.reduce_sum(raw_units, axis=1, name=\"Sigma\")\n",
    "    else:\n",
    "        raw_units = layer(raw_units)\n",
    "    print(f\"  raw_units.shape: {raw_units.shape}\", end=\"\")\n",
    "    \n",
    "    # Reshapoe if necessary\n",
    "    if \"Phi\" in layer.name:\n",
    "        units = raw_units.numpy().reshape((-1, raw_units.shape[-1]))\n",
    "    else:\n",
    "        units = raw_units.numpy()\n",
    "    print(f\"  units.shape: {units.shape}\")\n",
    "    all_units[layer.name] = units"
   ]
  },
  {
   "cell_type": "code",
   "execution_count": 62,
   "id": "3575a115-6217-4dd3-a2cb-d111b52185d8",
   "metadata": {
    "tags": []
   },
   "outputs": [
    {
     "name": "stdout",
     "output_type": "stream",
     "text": [
      "masking         (3000, 960, 4)\n",
      "Phi_0           (2880000, 256)\n",
      "Phi_1           (2880000, 256)\n",
      "Phi_2           (2880000, 256)\n",
      "Phi_3           (2880000, 256)\n",
      "Phi_4           (2880000, 128)\n",
      "Phi_5           (2880000, 128)\n",
      "Phi_6           (2880000, 128)\n",
      "Phi_7           (2880000, 128)\n",
      "Sigma           (3000, 128)\n",
      "F_0             (3000, 256)\n",
      "F_1             (3000, 256)\n",
      "F_2             (3000, 256)\n",
      "F_3             (3000, 256)\n",
      "F_4             (3000, 128)\n",
      "F_5             (3000, 128)\n",
      "F_6             (3000, 128)\n",
      "F_7             (3000, 128)\n",
      "output          (3000, 3)\n"
     ]
    }
   ],
   "source": [
    "for name, units in all_units.items():\n",
    "    print(f\"{name:<15} {units.shape}\")"
   ]
  },
  {
   "cell_type": "code",
   "execution_count": 63,
   "id": "042560ea-7be4-4173-a41d-2f02f16f0d39",
   "metadata": {
    "tags": []
   },
   "outputs": [
    {
     "name": "stdout",
     "output_type": "stream",
     "text": [
      "Phi_0           (2880000, 256)\n"
     ]
    },
    {
     "data": {
      "image/png": "[encoded data removed]",
      "text/plain": [
       "<Figure size 640x480 with 1 Axes>"
      ]
     },
     "metadata": {},
     "output_type": "display_data"
    }
   ],
   "source": [
    "for name, units in all_units.items():\n",
    "    if name == \"masking\": continue\n",
    "    print(f\"{name:<15} {units.shape}\")\n",
    "    \n",
    "    values, base = np.histogram(np.log(np.var(units, axis=0)), bins=40)\n",
    "    plt.plot(base[:-1], np.cumsum(values))\n",
    "    \n",
    "    break"
   ]
  },
  {
   "cell_type": "code",
   "execution_count": 64,
   "id": "8715a8d8-4a9e-46d1-993f-ee144dd63218",
   "metadata": {},
   "outputs": [
    {
     "name": "stderr",
     "output_type": "stream",
     "text": [
      "100%|██████████| 19/19 [00:13<00:00,  1.40it/s]"
     ]
    },
    {
     "name": "stdout",
     "output_type": "stream",
     "text": [
      "axion2 PFN, unit redundancy analysis on 3000 jets\n",
      "layer      n_units    # units no variance    # units useful\n",
      "-------  ---------  ---------------------  ----------------\n",
      "Phi_0          256                      0               256\n",
      "Phi_1          256                    103               153\n",
      "Phi_2          256                     38               218\n",
      "Phi_3          256                     46               210\n",
      "Phi_4          128                     23               105\n",
      "Phi_5          128                      0               128\n",
      "Phi_6          128                      5               123\n",
      "Phi_7          128                     17               111\n",
      "Sigma          128                     17               111\n",
      "F_0            256                    100               156\n",
      "F_1            256                     45               211\n",
      "F_2            256                     15               241\n",
      "F_3            256                     14               242\n",
      "F_4            128                      1               127\n",
      "F_5            128                      2               126\n",
      "F_6            128                     21               107\n",
      "F_7            128                     25               103\n",
      "output           3                      0                 3\n"
     ]
    },
    {
     "name": "stderr",
     "output_type": "stream",
     "text": [
      "\n"
     ]
    }
   ],
   "source": [
    "table = []\n",
    "\n",
    "for name, units in tqdm(all_units.items()):\n",
    "    if name == \"masking\": continue    \n",
    "    zero_var = np.where(np.var(units, axis=0) == 0)[0]\n",
    "    table.append([name, units.shape[1], len(zero_var), units.shape[1] - len(zero_var)])\n",
    "\n",
    "print(f\"{task_name} PFN, unit redundancy analysis on {len(clouds_samp)} jets\")\n",
    "print(tabulate(table, headers=[\"layer\", \"n_units\", \"# units no variance\", \"# units useful\"]))"
   ]
  }
 ],
 "metadata": {
  "kernelspec": {
   "display_name": "ml",
   "language": "python",
   "name": "ml"
  },
  "language_info": {
   "codemirror_mode": {
    "name": "ipython",
    "version": 3
   },
   "file_extension": ".py",
   "mimetype": "text/x-python",
   "name": "python",
   "nbconvert_exporter": "python",
   "pygments_lexer": "ipython3",
   "version": "3.11.6"
  }
 },
 "nbformat": 4,
 "nbformat_minor": 5
}
