{
 "cells": [
  {
   "cell_type": "markdown",
   "id": "21ad1a65-3670-4e2b-abd1-53b8cb13f8f5",
   "metadata": {},
   "source": [
    "## Find correlations between PFN and BDT variables\n",
    "\n",
    "For each model, find the most highly-correlated PFN variable in the Sigmal layer."
   ]
  },
  {
   "cell_type": "code",
   "execution_count": 11,
   "id": "7a0d7fb5-a535-45f4-bd2a-de4a5082dad1",
   "metadata": {},
   "outputs": [],
   "source": [
    "import sys\n",
    "sys.path.append(\"../..\")"
   ]
  },
  {
   "cell_type": "code",
   "execution_count": 96,
   "id": "b295fd4c-e123-4dfb-9949-acbce7d5e3ca",
   "metadata": {},
   "outputs": [],
   "source": [
    "import numpy as np\n",
    "from utils import data_dir\n",
    "from collections import defaultdict\n",
    "\n",
    "import matplotlib.pyplot as plt\n",
    "from tabulate import tabulate"
   ]
  },
  {
   "cell_type": "markdown",
   "id": "c70a79a4-fdff-49a1-847f-eac0476c434d",
   "metadata": {},
   "source": [
    "## Utilities and such"
   ]
  },
  {
   "cell_type": "code",
   "execution_count": 88,
   "id": "b7955b05-0d5f-4343-8815-9c472d0ae5c4",
   "metadata": {},
   "outputs": [],
   "source": [
    "# Stylize labels with LaTeX\n",
    "def stylize(label):\n",
    "    if label.startswith(\"F\"):\n",
    "        if len(label) > 2:  # Unit\n",
    "            F_layer = label[1]\n",
    "            unit_idx = label[3:-1]\n",
    "            return \"$F^{[\" + F_layer + \"]}_{\" + unit_idx + \"}$\"\n",
    "        else:\n",
    "            F_layer = label[1]\n",
    "            return \"$F^{[\" + F_layer + \"]}$\"\n",
    "        \n",
    "    if label.startswith(\"Sigma\"):\n",
    "        unit_idx = label.removeprefix(\"Sigma(\").removesuffix(\")\")\n",
    "        return \"$\\Sigma_{\" + unit_idx + \"}$\"\n",
    "        \n",
    "    return label.replace(\"_\", \"\\\\_\")"
   ]
  },
  {
   "cell_type": "markdown",
   "id": "4c39370b-3706-4c69-a3b6-8ec1ed9afbb5",
   "metadata": {},
   "source": [
    "## BDT vars"
   ]
  },
  {
   "cell_type": "code",
   "execution_count": 19,
   "id": "b3dc40de-bfc3-4668-99af-27ce7c42a427",
   "metadata": {},
   "outputs": [],
   "source": [
    "task_name = \"scalar1\"\n",
    "model_layer = \"Sigma\""
   ]
  },
  {
   "cell_type": "code",
   "execution_count": 80,
   "id": "9a2d3310-2808-4329-baa0-8ac5d2e69572",
   "metadata": {},
   "outputs": [],
   "source": [
    "def get_bdt_pfn_corr_table(task_name, model_layer):\n",
    "    \"\"\"\n",
    "    Returns a dictionary where keys are bdt variable names\n",
    "        and values are a tuple (pfn_var, corr_coef)\n",
    "    \"\"\"\n",
    "    bdt_vars = []\n",
    "    for particle in [\"pi0\", \"gamma\", task_name]:\n",
    "        bdt_var_npz = np.load(f\"{data_dir}/processed/bdt_vars/{particle}_bdt_vars.npz\")\n",
    "        bdt_labels = list(bdt_var_npz.keys())\n",
    "        bdt_vars.append(np.vstack([bdt_var_npz[key] for key in bdt_var_labels])[:,::10])\n",
    "    \n",
    "    bdt_vars = np.hstack(bdt_vars)\n",
    "    print(\"BDT vars shape: \", bdt_vars.shape)\n",
    "    \n",
    "    pfn_vars = np.load(f\"pfn_layer_outputs/{task_name}_{model_layer}_10%.npy\")\n",
    "    pfn_vars = pfn_vars.T\n",
    "    \n",
    "    # Stylize these labels for the sake of LaTeX\n",
    "    if \"_\" in model_layer:\n",
    "        part, idx = model_layer.split(\"_\")  # Something like (\"F\", \"7\")\n",
    "        model_layer = f\"{part}{idx}\"\n",
    "    pfn_labels = [f\"{model_layer}({i})\" for i in range(pfn_vars.shape[0])]\n",
    "    \n",
    "    print(\"PFN outputs shape:\", pfn_vars.shape)\n",
    "    \n",
    "    # Mask out things that are all zeros\n",
    "    def filter_zero_var(arr, labels):\n",
    "        \"\"\"\n",
    "        arr.shape == (n_features, n_samples)\n",
    "        len(labels) == n_features\n",
    "        \n",
    "        Filter out all features having zero variance.\n",
    "        \"\"\"\n",
    "        # Filter for zero variance\n",
    "        all_zero_mask = np.nanvar(arr, axis=1) < 1e-6\n",
    "        return (\n",
    "            arr[~all_zero_mask],\n",
    "            [labels[i] for i in np.where(~all_zero_mask)[0]],\n",
    "            all_zero_mask\n",
    "        )\n",
    "    \n",
    "    print(\"Processing variables...\")\n",
    "    pfn_vars, pfn_labels, _ = filter_zero_var(pfn_vars, pfn_labels)\n",
    "    bdt_vars, bdt_labels, _ = filter_zero_var(bdt_vars, bdt_var_labels)\n",
    "    all_vars = np.vstack([pfn_vars, bdt_vars])\n",
    "    all_labels = pfn_labels + bdt_labels\n",
    "    \n",
    "    # Impute missing values\n",
    "    nan_locs = np.where(np.isnan(all_vars))\n",
    "    for feature, sample in zip(*nan_locs):\n",
    "        all_vars[feature,sample] = np.nanmean(all_vars[feature,:])\n",
    "        \n",
    "    assert not np.any(np.isnan(all_vars))\n",
    "    \n",
    "    # Compute final table\n",
    "    corr_mat = np.corrcoef(all_vars)\n",
    "    corrs = {}\n",
    "    for var1 in bdt_labels:\n",
    "        idx1 = all_labels.index(var1)\n",
    "        idx2 = np.argmax(corr_mat[idx1,:len(pfn_labels)])\n",
    "        var2 = all_labels[idx2]\n",
    "        corr = corr_mat[idx1,idx2]\n",
    "        corrs[var1] = (var2, corr)\n",
    "    \n",
    "    return corrs"
   ]
  },
  {
   "cell_type": "code",
   "execution_count": 81,
   "id": "46681456-b96a-45b3-b09a-265a69ca0c39",
   "metadata": {},
   "outputs": [
    {
     "name": "stdout",
     "output_type": "stream",
     "text": [
      "BDT vars shape:  (53, 30000)\n",
      "PFN outputs shape: (128, 30000)\n",
      "Processing variables...\n",
      "BDT vars shape:  (53, 30000)\n",
      "PFN outputs shape: (128, 30000)\n",
      "Processing variables...\n",
      "BDT vars shape:  (53, 30000)\n",
      "PFN outputs shape: (128, 30000)\n",
      "Processing variables...\n"
     ]
    }
   ],
   "source": [
    "tasks = [\"scalar1\", \"axion1\", \"axion2\"]\n",
    "corrs = {\n",
    "    task_name: get_bdt_pfn_corr_table(task_name, \"Sigma\") \\\n",
    "    for task_name in tasks\n",
    "}"
   ]
  },
  {
   "cell_type": "code",
   "execution_count": 127,
   "id": "237a83ce-1d05-4f76-8cf8-8e1e896a4293",
   "metadata": {},
   "outputs": [],
   "source": [
    "descriptions = defaultdict(str, {\n",
    "    \"depth_weighted_total_e\": \"Summed energy across all 960 calorimeter cells, directly weighted by layer (0 for pre-sampling layer, 1 for the first, 2 for the second, 3 for the third)\",\n",
    "    \"depth_weighted_total_e2\": \"Summed energy squared across all cells, directly weighted by layer\",\n",
    "    \"total_e\": \"Summed energy across all 960 calorimeter cells, unweighted\",\n",
    "    \"secondlayer_e\": \"Summed energy across all 256 cells in the second layer\",\n",
    "    \"firstlayer_x2\": \"Summed energy across first layer, weighted by $x$-coordinate squared $(\\phi^2)$\",\n",
    "    \"firstlayer_y2\": \"Summed energy across first layer, weighted by $y$-coordinate squared $(\\eta^2)$\",\n",
    "    \"secondlayer_x2\": \"Summed energy across second layer, weighted by $x$-coordinate squared $(\\phi^2)$\",\n",
    "    \"secondlayer_y2\": \"Summed energy across second layer, weighted by $y$-coordinate squared $(\\eta^2)$\",\n",
    "    \"prelayer_e\": \"Summed energy across pre-sampling layer\"\n",
    "})"
   ]
  },
  {
   "cell_type": "code",
   "execution_count": 128,
   "id": "f96d8887-ee71-4384-85fb-88bcce78a8aa",
   "metadata": {},
   "outputs": [],
   "source": [
    "chosen = [\n",
    "    \"depth_weighted_total_e\",\n",
    "    \"depth_weighted_total_e2\",\n",
    "    \"secondlayer_x2\",\n",
    "    \"secondlayer_y2\",\n",
    "    \"prelayer_e\",\n",
    "    \"total_e\"\n",
    "]"
   ]
  },
  {
   "cell_type": "code",
   "execution_count": 129,
   "id": "97ca92ad-eb7d-48c4-ac4f-61e25b7d01b7",
   "metadata": {},
   "outputs": [
    {
     "name": "stdout",
     "output_type": "stream",
     "text": [
      "\\begin{tabular}{llll}\n",
      "\\hline\n",
      " BDT variable                                                                                                                                                                         & scalar1 PFN            & axion1 PFN            & axion2 PFN             \\\\\n",
      "\\hline\n",
      " depth\\_weighted\\_total\\_e: Summed energy across all 960 calorimeter cells, directly weighted by layer (0 for pre-sampling layer, 1 for the first, 2 for the second, 3 for the third) & $\\Sigma_{117}$ (0.998) & $\\Sigma_{93}$ (0.998) & $\\Sigma_{73}$ (0.999)  \\\\\n",
      " total\\_e: Summed energy across all 960 calorimeter cells, unweighted                                                                                                                 & $\\Sigma_{88}$ (0.999)  & $\\Sigma_{93}$ (0.997) & $\\Sigma_{19}$ (0.996)  \\\\\n",
      " depth\\_weighted\\_total\\_e2: Summed energy squared across all cells, directly weighted by layer                                                                                       & $\\Sigma_{68}$ (0.998)  & $\\Sigma_{93}$ (0.996) & $\\Sigma_{73}$ (0.997)  \\\\\n",
      " secondlayer\\_y2: Summed energy across second layer, weighted by $y$-coordinate squared $(\\eta^2)$                                                                                    & $\\Sigma_{72}$ (0.990)  & $\\Sigma_{93}$ (0.987) & $\\Sigma_{73}$ (0.988)  \\\\\n",
      " secondlayer\\_x2: Summed energy across second layer, weighted by $x$-coordinate squared $(\\phi^2)$                                                                                    & $\\Sigma_{72}$ (0.990)  & $\\Sigma_{93}$ (0.986) & $\\Sigma_{19}$ (0.987)  \\\\\n",
      " prelayer\\_e: Summed energy across pre-sampling layer                                                                                                                                 & $\\Sigma_{56}$ (0.847)  & $\\Sigma_{7}$ (0.841)  & $\\Sigma_{126}$ (0.876) \\\\\n",
      "\\hline\n",
      "\\end{tabular}\n"
     ]
    }
   ],
   "source": [
    "bdt_vars = list(tables[\"scalar1\"].keys())\n",
    "table = []\n",
    "avg_corrs = []\n",
    "\n",
    "for bdt_var in bdt_vars:\n",
    "    if not bdt_var in chosen:\n",
    "        continue\n",
    "    table.append([f\"{stylize(bdt_var)}: {descriptions[bdt_var]}\"])\n",
    "    for task_name in tasks:\n",
    "        unit, corr = corrs[task_name][bdt_var]\n",
    "        table[-1].append(f\"{stylize(unit)} ({corr:.3f})\")\n",
    "    table[-1].append(np.mean([abs(corrs[task_name][bdt_var][1]) for task_name in tasks]))\n",
    "\n",
    "table.sort(key=lambda row: -row[-1])\n",
    "table = [row[:-1] for row in table]\n",
    "print(tabulate(\n",
    "    table,\n",
    "    headers=([\"BDT variable\"] + [f\"{task_name} PFN\" for task_name in tasks]),\n",
    "    tablefmt=\"latex_raw\"\n",
    "))"
   ]
  }
 ],
 "metadata": {
  "kernelspec": {
   "display_name": "Python (tf2)",
   "language": "python",
   "name": "tf"
  },
  "language_info": {
   "codemirror_mode": {
    "name": "ipython",
    "version": 3
   },
   "file_extension": ".py",
   "mimetype": "text/x-python",
   "name": "python",
   "nbconvert_exporter": "python",
   "pygments_lexer": "ipython3",
   "version": "3.11.6"
  }
 },
 "nbformat": 4,
 "nbformat_minor": 5
}
