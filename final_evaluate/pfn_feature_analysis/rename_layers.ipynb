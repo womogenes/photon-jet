{
 "cells": [
  {
   "cell_type": "markdown",
   "id": "57b64c14-6d89-49db-9852-63ea20634e0f",
   "metadata": {},
   "source": [
    "## Rename layers\n",
    "\n",
    "Saved models still call the summation layer `tf.math.reduce_sum`. Let's call it `sigma`."
   ]
  },
  {
   "cell_type": "code",
   "execution_count": 16,
   "id": "6cc2a792-ecac-4dce-be20-5a96bc964e36",
   "metadata": {},
   "outputs": [],
   "source": [
    "import sys\n",
    "sys.path.append(\"../..\")\n",
    "from utils import model_dir\n",
    "from tqdm import tqdm\n",
    "\n",
    "import tensorflow as tf"
   ]
  },
  {
   "cell_type": "code",
   "execution_count": 19,
   "id": "18cef172-9587-4ef5-9f90-dd6a00858d37",
   "metadata": {},
   "outputs": [],
   "source": [
    "# From https://stackoverflow.com/questions/63373692/how-to-rename-the-layers-of-a-keras-model-without-corrupting-the-structure/63414614#63414614\n",
    "def rename(model, layer, new_name):\n",
    "    def _get_node_suffix(name):\n",
    "        for old_name in old_nodes:\n",
    "            if old_name.startswith(name):\n",
    "                return old_name[len(name):]\n",
    "\n",
    "    old_name = layer.name\n",
    "    old_nodes = list(model._network_nodes)\n",
    "    new_nodes = []\n",
    "\n",
    "    for l in model.layers:\n",
    "        if l.name == old_name:\n",
    "            l._name = new_name\n",
    "            # vars(l).__setitem__('_name', new)  # bypasses .__setattr__\n",
    "            new_nodes.append(new_name + _get_node_suffix(old_name))\n",
    "        else:\n",
    "            new_nodes.append(l.name + _get_node_suffix(l.name))\n",
    "    model._network_nodes = set(new_nodes)"
   ]
  },
  {
   "cell_type": "code",
   "execution_count": 22,
   "id": "59cf8bb5-0354-49af-819f-a74591700aea",
   "metadata": {},
   "outputs": [
    {
     "name": "stdout",
     "output_type": "stream",
     "text": [
      "Renaming scalar1_pfn...\n",
      "No modification needed.\n",
      "Renaming axion1_pfn...\n",
      "No modification needed.\n",
      "Renaming axion2_pfn...\n",
      "Saving...\n",
      "INFO:tensorflow:Assets written to: /usatlas/atlas01/atlasdisk/users/wifeng/photon-jet/models_v2.2/axion2_pfn/assets\n"
     ]
    },
    {
     "name": "stderr",
     "output_type": "stream",
     "text": [
      "INFO:tensorflow:Assets written to: /usatlas/atlas01/atlasdisk/users/wifeng/photon-jet/models_v2.2/axion2_pfn/assets\n"
     ]
    }
   ],
   "source": [
    "for model_name in [\"scalar1_pfn\", \"axion1_pfn\", \"axion2_pfn\"]:\n",
    "    print(f\"Renaming {model_name}...\")\n",
    "    model = tf.keras.models.load_model(f\"{model_dir}/{model_name}\")\n",
    "    try:\n",
    "        rename(model, model.get_layer(\"tf.math.reduce_sum\"), \"Sigma\")\n",
    "        print(f\"Saving...\")\n",
    "        model.save(f\"{model_dir}/{model_name}\")\n",
    "    except:\n",
    "        print(f\"No modification needed.\")"
   ]
  }
 ],
 "metadata": {
  "kernelspec": {
   "display_name": "ml",
   "language": "python",
   "name": "ml"
  },
  "language_info": {
   "codemirror_mode": {
    "name": "ipython",
    "version": 3
   },
   "file_extension": ".py",
   "mimetype": "text/x-python",
   "name": "python",
   "nbconvert_exporter": "python",
   "pygments_lexer": "ipython3",
   "version": "3.11.6"
  }
 },
 "nbformat": 4,
 "nbformat_minor": 5
}
