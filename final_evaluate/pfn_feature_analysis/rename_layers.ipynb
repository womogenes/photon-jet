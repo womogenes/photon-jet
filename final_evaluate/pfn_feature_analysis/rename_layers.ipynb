{
 "cells": [
  {
   "cell_type": "markdown",
   "id": "57b64c14-6d89-49db-9852-63ea20634e0f",
   "metadata": {},
   "source": [
    "## Rename layers\n",
    "\n",
    "Saved models still call the summation layer `tf.math.reduce_sum`. Let's call it `sigma`."
   ]
  },
  {
   "cell_type": "code",
   "execution_count": 1,
   "id": "6cc2a792-ecac-4dce-be20-5a96bc964e36",
   "metadata": {},
   "outputs": [],
   "source": [
    "import sys\n",
    "sys.path.append(\"../..\")\n",
    "from utils import model_dir"
   ]
  },
  {
   "cell_type": "code",
   "execution_count": 2,
   "id": "72d9e788-2551-4f19-8116-76fcbfa0d0f8",
   "metadata": {},
   "outputs": [
    {
     "name": "stderr",
     "output_type": "stream",
     "text": [
      "2023-10-29 22:23:11.750837: I tensorflow/core/platform/cpu_feature_guard.cc:182] This TensorFlow binary is optimized to use available CPU instructions in performance-critical operations.\n",
      "To enable the following instructions: SSE4.1 SSE4.2 AVX AVX2 FMA, in other operations, rebuild TensorFlow with the appropriate compiler flags.\n"
     ]
    }
   ],
   "source": [
    "import tensorflow as tf"
   ]
  },
  {
   "cell_type": "code",
   "execution_count": 3,
   "id": "59cf8bb5-0354-49af-819f-a74591700aea",
   "metadata": {},
   "outputs": [
    {
     "name": "stdout",
     "output_type": "stream",
     "text": [
      "Renaming axion2_pfn...\n",
      "Saving...\n",
      "INFO:tensorflow:Assets written to: /usatlas/atlas01/atlasdisk/users/wifeng/photon-jet/models_v2.2/axion2_pfn/assets\n"
     ]
    },
    {
     "name": "stderr",
     "output_type": "stream",
     "text": [
      "INFO:tensorflow:Assets written to: /usatlas/atlas01/atlasdisk/users/wifeng/photon-jet/models_v2.2/axion2_pfn/assets\n"
     ]
    }
   ],
   "source": [
    "for model_name in [\"scalar1_pfn\", \"axion1_pfn\", \"axion2_pfn\"]:\n",
    "    print(f\"Renaming {model_name}...\")\n",
    "    model = tf.keras.models.load_model(f\"{model_dir}/{model_name}\")\n",
    "    model.get_layer(\"tf.math.reduce_sum\")._name = \"Sigma\"\n",
    "    print(f\"Saving...\")\n",
    "    model.save(f\"{model_dir}/{model_name}\")"
   ]
  }
 ],
 "metadata": {
  "kernelspec": {
   "display_name": "ml",
   "language": "python",
   "name": "ml"
  },
  "language_info": {
   "codemirror_mode": {
    "name": "ipython",
    "version": 3
   },
   "file_extension": ".py",
   "mimetype": "text/x-python",
   "name": "python",
   "nbconvert_exporter": "python",
   "pygments_lexer": "ipython3",
   "version": "3.11.6"
  }
 },
 "nbformat": 4,
 "nbformat_minor": 5
}
