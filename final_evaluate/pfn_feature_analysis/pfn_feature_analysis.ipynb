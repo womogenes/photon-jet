{
 "cells": [
  {
   "cell_type": "markdown",
   "id": "3e483efb-9f6c-4f4c-87ab-ae0dc7f55066",
   "metadata": {},
   "source": [
    "# PFN feature analysis\n",
    "\n",
    "Analyze the high-level features ($\\Phi_n$) of the PFN using the SHAP algorithm."
   ]
  },
  {
   "cell_type": "code",
   "execution_count": 1,
   "id": "53c85085-fc94-4381-a08e-d2dae0ab57be",
   "metadata": {},
   "outputs": [
    {
     "name": "stderr",
     "output_type": "stream",
     "text": [
      "2023-10-28 02:24:53.623906: I tensorflow/core/platform/cpu_feature_guard.cc:182] This TensorFlow binary is optimized to use available CPU instructions in performance-critical operations.\n",
      "To enable the following instructions: SSE4.1 SSE4.2 AVX AVX2 FMA, in other operations, rebuild TensorFlow with the appropriate compiler flags.\n"
     ]
    }
   ],
   "source": [
    "import tensorflow as tf\n",
    "import numpy as np\n",
    "from tensorflow import keras\n",
    "from matplotlib import pyplot as plt"
   ]
  },
  {
   "cell_type": "code",
   "execution_count": 2,
   "id": "755f3754-6483-4642-a440-832fedd39c93",
   "metadata": {},
   "outputs": [],
   "source": [
    "task_name = \"axion1\""
   ]
  },
  {
   "cell_type": "markdown",
   "id": "da1ee494-26a0-40b5-b936-67c205209c27",
   "metadata": {},
   "source": [
    "## 1. Compute high-level features using saved model"
   ]
  },
  {
   "cell_type": "code",
   "execution_count": 3,
   "id": "8c6e19d6-5e1d-4f2f-99e1-c6b1b073d343",
   "metadata": {},
   "outputs": [],
   "source": [
    "# ~1 min\n",
    "import sys\n",
    "sys.path.append(\"../..\")\n",
    "\n",
    "from utils import data_dir, model_dir\n",
    "from data import get_data"
   ]
  },
  {
   "cell_type": "code",
   "execution_count": 5,
   "id": "da353f79-6f70-4daa-a82b-3b88d7144993",
   "metadata": {},
   "outputs": [],
   "source": [
    "# ~2 min?\n",
    "(X_train, _, X_test,\n",
    " Y_train, _, Y_test) = get_data(task_name)"
   ]
  },
  {
   "cell_type": "code",
   "execution_count": null,
   "id": "dcc54d53-f105-4733-b476-18bc755c4bd5",
   "metadata": {},
   "outputs": [],
   "source": [
    "# 2 sec\n",
    "model = keras.models.load_model(f\"{model_dir}/{task_name}_pfn\")"
   ]
  },
  {
   "cell_type": "code",
   "execution_count": null,
   "id": "8025c098-1ed1-4aee-b510-e650fc10c3c4",
   "metadata": {},
   "outputs": [],
   "source": [
    "model.evaluate(X_test, Y_test, batch_size=1000)"
   ]
  },
  {
   "cell_type": "code",
   "execution_count": null,
   "id": "920a0fe9-6a4b-490d-8d18-b74c626913e0",
   "metadata": {
    "tags": []
   },
   "outputs": [],
   "source": [
    "Phi_model = keras.models.Model(inputs=model.input, outputs=model.get_layer(\"F_0\").input)\n",
    "Phi_model.summary()"
   ]
  },
  {
   "cell_type": "code",
   "execution_count": null,
   "id": "b2c74565-0fed-47d5-961a-0038fbe50799",
   "metadata": {
    "tags": []
   },
   "outputs": [],
   "source": [
    "F_model = keras.models.Model(inputs=model.get_layer(\"F_0\").input, outputs=model.output)\n",
    "F_model.summary()"
   ]
  },
  {
   "cell_type": "code",
   "execution_count": null,
   "id": "55cc71f4-2f79-4f97-8175-7a16631ca1d9",
   "metadata": {},
   "outputs": [],
   "source": [
    "Phi = Phi_model(X_test[0][np.newaxis,...])\n",
    "plt.xlabel(\"i\")\n",
    "plt.ylabel(\"Phi_i\")\n",
    "plt.title(\"Summed outputs of Phi layer\")\n",
    "plt.scatter(range(len(Phi[0])), Phi[0].numpy());"
   ]
  },
  {
   "cell_type": "code",
   "execution_count": null,
   "id": "9db38802-1336-4ad4-8fe9-2a387b1e71f3",
   "metadata": {},
   "outputs": [],
   "source": [
    "# Save the outputs of the Phi model\n",
    "Phi_outputs = Phi_model.predict(X_test)"
   ]
  },
  {
   "cell_type": "code",
   "execution_count": null,
   "id": "e1542a53-013b-45ff-be64-9dd1e00b0c4c",
   "metadata": {},
   "outputs": [],
   "source": [
    "print(f\"Shape of Phi_outputs:\", Phi_outputs.shape)\n",
    "np.savez(f\"./{task_name}_Phi_outputs.npz\", Phi_outputs)"
   ]
  },
  {
   "cell_type": "code",
   "execution_count": null,
   "id": "51636118-f9de-491b-a3fb-1efabd24ab96",
   "metadata": {},
   "outputs": [],
   "source": [
    "preds = np.argmax(F_model(Phi_outputs), axis=1)\n",
    "truth = np.argmax(Y_test, axis=1)\n",
    "print(preds[:10])\n",
    "print(truth[:10])\n",
    "print(f\"Accuracy: {(preds == truth).sum() / len(preds) * 100:.2f}%\")"
   ]
  },
  {
   "cell_type": "code",
   "execution_count": null,
   "id": "38a30110-f86f-48ba-b646-8ef74cbc76cd",
   "metadata": {},
   "outputs": [],
   "source": [
    "# ~5 sec\n",
    "F_model.save(f\"./{task_name}_F_model\")"
   ]
  },
  {
   "cell_type": "markdown",
   "id": "ae1170d2-3c47-44b1-be62-7325d60b133a",
   "metadata": {},
   "source": [
    "# Part 2: Apply SHAP algorithm\n",
    "\n",
    "https://shap.readthedocs.io/en/latest/example_notebooks/tabular_examples/model_agnostic/Multioutput%20Regression%20SHAP.html"
   ]
  },
  {
   "cell_type": "code",
   "execution_count": null,
   "id": "a9dda003-996d-48e8-8552-535f2cc124ce",
   "metadata": {},
   "outputs": [],
   "source": [
    "# ~2 min\n",
    "import shap"
   ]
  },
  {
   "cell_type": "code",
   "execution_count": null,
   "id": "3ea0da19-e55d-4f78-94e0-5cad72a97cf1",
   "metadata": {},
   "outputs": [],
   "source": [
    "sample_Phi_outputs = shap.sample(Phi_outputs, 50)"
   ]
  },
  {
   "cell_type": "code",
   "execution_count": null,
   "id": "b1594e06-8b1a-427f-99f5-8519839f5562",
   "metadata": {},
   "outputs": [],
   "source": [
    "explainer = shap.KernelExplainer(\n",
    "    model=F_model.predict,\n",
    "    data=sample_Phi_outputs,\n",
    "    link=\"identity\"  # Not entirely sure what this does\n",
    ")"
   ]
  },
  {
   "cell_type": "code",
   "execution_count": null,
   "id": "66bb90b3-31f6-4d70-99b0-b8f9b17562c8",
   "metadata": {
    "tags": []
   },
   "outputs": [],
   "source": [
    "shap_values = explainer.shap_values(X=sample_Phi_outputs)"
   ]
  },
  {
   "cell_type": "code",
   "execution_count": null,
   "id": "6b100f15-b2a9-4c66-a570-19dc0c2578af",
   "metadata": {},
   "outputs": [],
   "source": [
    "shap.initjs()"
   ]
  },
  {
   "cell_type": "code",
   "execution_count": null,
   "id": "45747559-6b55-4771-8611-e1bbb7af8a0b",
   "metadata": {},
   "outputs": [],
   "source": [
    "shap.summary_plot(\n",
    "    shap_values=shap_values[0],\n",
    "    features=Phi_outputs[:50],\n",
    "    feature_names=[f\"$\\Phi_{{{i}}}$\" for i in range(Phi_outputs.shape[1])],\n",
    "    max_display=50\n",
    ")"
   ]
  }
 ],
 "metadata": {
  "kernelspec": {
   "display_name": "ml",
   "language": "python",
   "name": "ml"
  },
  "language_info": {
   "codemirror_mode": {
    "name": "ipython",
    "version": 3
   },
   "file_extension": ".py",
   "mimetype": "text/x-python",
   "name": "python",
   "nbconvert_exporter": "python",
   "pygments_lexer": "ipython3",
   "version": "3.11.6"
  }
 },
 "nbformat": 4,
 "nbformat_minor": 5
}
