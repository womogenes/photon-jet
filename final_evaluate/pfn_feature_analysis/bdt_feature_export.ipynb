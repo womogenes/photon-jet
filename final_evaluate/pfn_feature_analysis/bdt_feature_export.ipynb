{
 "cells": [
  {
   "cell_type": "markdown",
   "id": "b9b5d7dc-d907-4096-8580-3fa7d8135cee",
   "metadata": {},
   "source": [
    "## Export BDT variables\n",
    "\n",
    "From `.root` to `.npz`."
   ]
  },
  {
   "cell_type": "code",
   "execution_count": 1,
   "id": "8894423f-5235-45e8-aa1b-cd8c3fefd5fd",
   "metadata": {},
   "outputs": [],
   "source": [
    "import sys\n",
    "sys.path.append(\"../..\")\n",
    "\n",
    "from utils import data_dir\n",
    "\n",
    "import re\n",
    "import os\n",
    "import uproot\n",
    "import numpy as np\n",
    "from tqdm import tqdm"
   ]
  },
  {
   "cell_type": "code",
   "execution_count": 2,
   "id": "a7fdd963-572e-40e8-97af-e440766008ec",
   "metadata": {},
   "outputs": [],
   "source": [
    "def convert(path):\n",
    "    \"\"\"\n",
    "    Convert path (.root file in <data_dir>/BDT_Vars_root)\n",
    "        to .npz file in <data_dir>/processed/bdt_vars.\n",
    "    \"\"\"\n",
    "    tree = uproot.open(f\"{data_dir}/BDT_Vars_root/{path}\")[\"fancy_tree;1\"]\n",
    "    npz_obj = {}\n",
    "    for key in tqdm(tree.keys()):\n",
    "        npz_obj[key] = np.array(tree[key].array())\n",
    "    \n",
    "    save_dir = f\"{data_dir}/processed/bdt_vars\"\n",
    "    os.makedirs(save_dir, exist_ok=True)\n",
    "    particle = re.search(\"new_(.*?)_1GeV_40-250GeV_100k.root\", path).group(1)\n",
    "    save_path = f\"{save_dir}/{particle}_bdt_vars.npz\"\n",
    "    print(f\"Saving to {save_path}...\")\n",
    "    np.savez(save_path, **npz_obj)"
   ]
  },
  {
   "cell_type": "code",
   "execution_count": 3,
   "id": "c63bea65-caea-4363-a492-5e61ab49a4c7",
   "metadata": {},
   "outputs": [
    {
     "name": "stdout",
     "output_type": "stream",
     "text": [
      "Processing new_pi0_1GeV_40-250GeV_100k.root...\n"
     ]
    },
    {
     "name": "stderr",
     "output_type": "stream",
     "text": [
      "100%|██████████| 54/54 [00:00<00:00, 145.82it/s]\n"
     ]
    },
    {
     "name": "stdout",
     "output_type": "stream",
     "text": [
      "Saving to /data/wifeng/photon-jet/data/processed/bdt_vars/pi0_bdt_vars.npz...\n",
      "Processing new_gamma_1GeV_40-250GeV_100k.root...\n"
     ]
    },
    {
     "name": "stderr",
     "output_type": "stream",
     "text": [
      "100%|██████████| 54/54 [00:00<00:00, 263.64it/s]\n"
     ]
    },
    {
     "name": "stdout",
     "output_type": "stream",
     "text": [
      "Saving to /data/wifeng/photon-jet/data/processed/bdt_vars/gamma_bdt_vars.npz...\n",
      "Processing new_scalar1_1GeV_40-250GeV_100k.root...\n"
     ]
    },
    {
     "name": "stderr",
     "output_type": "stream",
     "text": [
      "100%|██████████| 54/54 [00:00<00:00, 288.57it/s]\n"
     ]
    },
    {
     "name": "stdout",
     "output_type": "stream",
     "text": [
      "Saving to /data/wifeng/photon-jet/data/processed/bdt_vars/scalar1_bdt_vars.npz...\n",
      "Processing new_axion1_1GeV_40-250GeV_100k.root...\n"
     ]
    },
    {
     "name": "stderr",
     "output_type": "stream",
     "text": [
      "100%|██████████| 54/54 [00:00<00:00, 244.81it/s]\n"
     ]
    },
    {
     "name": "stdout",
     "output_type": "stream",
     "text": [
      "Saving to /data/wifeng/photon-jet/data/processed/bdt_vars/axion1_bdt_vars.npz...\n",
      "Processing new_axion2_1GeV_40-250GeV_100k.root...\n"
     ]
    },
    {
     "name": "stderr",
     "output_type": "stream",
     "text": [
      "100%|██████████| 54/54 [00:00<00:00, 207.65it/s]\n"
     ]
    },
    {
     "name": "stdout",
     "output_type": "stream",
     "text": [
      "Saving to /data/wifeng/photon-jet/data/processed/bdt_vars/axion2_bdt_vars.npz...\n",
      "Processing new_electron_1GeV_40-250GeV_100k.root...\n"
     ]
    },
    {
     "name": "stderr",
     "output_type": "stream",
     "text": [
      "100%|██████████| 54/54 [00:00<00:00, 249.27it/s]"
     ]
    },
    {
     "name": "stdout",
     "output_type": "stream",
     "text": [
      "Saving to /data/wifeng/photon-jet/data/processed/bdt_vars/electron_bdt_vars.npz...\n"
     ]
    },
    {
     "name": "stderr",
     "output_type": "stream",
     "text": [
      "\n"
     ]
    }
   ],
   "source": [
    "for path in os.listdir(f\"{data_dir}/BDT_Vars_root\"):\n",
    "    print(f\"Processing {path}...\")\n",
    "    convert(path)"
   ]
  }
 ],
 "metadata": {
  "kernelspec": {
   "display_name": "Python 3 (ipykernel)",
   "language": "python",
   "name": "python3"
  },
  "language_info": {
   "codemirror_mode": {
    "name": "ipython",
    "version": 3
   },
   "file_extension": ".py",
   "mimetype": "text/x-python",
   "name": "python",
   "nbconvert_exporter": "python",
   "pygments_lexer": "ipython3",
   "version": "3.8.10"
  }
 },
 "nbformat": 4,
 "nbformat_minor": 5
}
