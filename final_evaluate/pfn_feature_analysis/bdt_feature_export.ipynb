{
 "cells": [
  {
   "cell_type": "markdown",
   "id": "baac9278-1081-4607-a4ce-6ff68a336a6f",
   "metadata": {},
   "source": [
    "# Export BDT vars from .root to numpy"
   ]
  },
  {
   "cell_type": "code",
   "execution_count": 1,
   "id": "79959461-4639-4516-8987-39b3774d228b",
   "metadata": {},
   "outputs": [],
   "source": [
    "import uproot\n",
    "import numpy as np\n",
    "import os\n",
    "\n",
    "import sys\n",
    "sys.path.append(\"../..\")\n",
    "\n",
    "from utils import data_dir"
   ]
  },
  {
   "cell_type": "code",
   "execution_count": 4,
   "id": "977ee0e2-db29-403f-a0b8-43ccdea0efc9",
   "metadata": {},
   "outputs": [
    {
     "name": "stdout",
     "output_type": "stream",
     "text": [
      "Available root files:\n",
      "* new_pi0_1GeV_40-250GeV_100k.root\n",
      "* new_gamma_1GeV_40-250GeV_100k.root\n",
      "* new_scalar1_1GeV_40-250GeV_100k.root\n",
      "* new_axion2_1GeV_40-250GeV_100k.root\n",
      "* new_electron_1GeV_40-250GeV_100k.root\n",
      "* new_axion1_1GeV_40-250GeV_100k.root\n"
     ]
    }
   ],
   "source": [
    "# Input variables for the BDT are stored here\n",
    "bdtvar_path = f\"{data_dir}/BDT_Vars_root\"\n",
    "print(f\"Available root files:\")\n",
    "print(\"\\n\".join([f\"* {file}\" for file in os.listdir(bdtvar_path)]))"
   ]
  },
  {
   "cell_type": "code",
   "execution_count": 6,
   "id": "89134288-1813-48b3-a08e-661429c621a1",
   "metadata": {},
   "outputs": [],
   "source": [
    "particles = [\"pi0\", \"gamma\", \"scalar1\", \"axion1\", \"axion2\"]"
   ]
  },
  {
   "cell_type": "code",
   "execution_count": 16,
   "id": "6419e493-8ad3-4c1b-b741-d31161ea5e0f",
   "metadata": {
    "collapsed": true,
    "jupyter": {
     "outputs_hidden": true
    },
    "tags": []
   },
   "outputs": [
    {
     "name": "stdout",
     "output_type": "stream",
     "text": [
      "<TTree 'fancy_tree' (54 branches) at 0x2b38bc43f750>\n",
      "Keys:\n",
      "* total_e\n",
      "* prelayer_e\n",
      "* firstlayer_e\n",
      "* secondlayer_e\n",
      "* thirdlayer_e\n",
      "* depth_weighted_total_e\n",
      "* depth_weighted_total_e2\n",
      "* prelayer_x\n",
      "* prelayer_x2\n",
      "* firstlayer_x\n",
      "* firstlayer_x2\n",
      "* secondlayer_x\n",
      "* secondlayer_x2\n",
      "* thirdlayer_x\n",
      "* thirdlayer_x2\n",
      "* prelayer_y\n",
      "* prelayer_y2\n",
      "* firstlayer_y\n",
      "* firstlayer_y2\n",
      "* secondlayer_y\n",
      "* secondlayer_y2\n",
      "* thirdlayer_y\n",
      "* thirdlayer_y2\n",
      "* frac_pre\n",
      "* frac_first\n",
      "* frac_second\n",
      "* frac_third\n",
      "* shower_depth\n",
      "* shower_depth_width\n",
      "* pre_lateral_width_x\n",
      "* first_lateral_width_x\n",
      "* second_lateral_width_x\n",
      "* third_lateral_width_x\n",
      "* pre_lateral_width_y\n",
      "* first_lateral_width_y\n",
      "* second_lateral_width_y\n",
      "* third_lateral_width_y\n",
      "* pre_lateral_width_cell\n",
      "* first_lateral_width_cell\n",
      "* second_lateral_width_cell\n",
      "* third_lateral_width_cell\n",
      "* pre_Eratio\n",
      "* first_Eratio\n",
      "* second_Eratio\n",
      "* third_Eratio\n",
      "* second_R_eta\n",
      "* second_R_phi\n",
      "* second_lateral_width_eta_weta2\n",
      "* first_lateral_width_eta_w3\n",
      "* first_lateral_width_eta_w20\n",
      "* first_fraction_fside\n",
      "* first_dEs\n",
      "* d\n"
     ]
    }
   ],
   "source": [
    "for particle in particles:    \n",
    "    tree = uproot.open(f\"{bdtvar_path}/new_{particle}_1GeV_40-250GeV_100k.root\")[\"fancy_tree;1\"]\n",
    "    print(tree)\n",
    "    \n",
    "    keys = tree.arrays(library=\"np\").keys()\n",
    "    print(\"Keys:\")\n",
    "    print(\"\\n\".join([f\"* {key}\" for key in keys]))\n",
    "    \n",
    "    break"
   ]
  },
  {
   "cell_type": "markdown",
   "id": "3d9261a1-494a-4143-bddb-cbcd84d4083d",
   "metadata": {},
   "source": [
    "Features that we're actually using:\n",
    "```\n",
    "| Name           | Definition                                                               |\n",
    "|----------------|--------------------------------------------------------------------------|\n",
    "| $f_1$          | Fraction of energy in the first layer                                    |\n",
    "| $f_{side}$     | Fraction of energy outside core of three central strips                  |\n",
    "| $w_{s20}$      | Shower width for 20 strips around maximum strip                          |\n",
    "| $w_{3}$        | Shower width for three strips around maximum strip                       |\n",
    "| $\\Delta E_{s}$ | Difference between the energy associated with the                        |\n",
    "| $E_{ratio}$    | Ratio of the energy difference associated with the                       |\n",
    "| $R_{\\eta}$     | Ratio in $\\eta$ of cell energies in $3\\times 7$ versus $7 \\times 7$ cell |\n",
    "| $R_{\\phi}$     | Ratio in $\\phi$ of cell energies in $3\\times3$ and $3\\times7$ cells      |\n",
    "```\n",
    "\n",
    "But for this test, we'll cross-correlate ALL of them just to see if there are any good results."
   ]
  },
  {
   "cell_type": "markdown",
   "id": "d0db22af-164d-4e31-ad0e-bbb8685be618",
   "metadata": {},
   "source": [
    "## Test for consistent ordering"
   ]
  },
  {
   "cell_type": "code",
   "execution_count": null,
   "id": "2b88a073-12de-4270-a36a-53fd626a316f",
   "metadata": {},
   "outputs": [],
   "source": []
  }
 ],
 "metadata": {
  "kernelspec": {
   "display_name": "ml",
   "language": "python",
   "name": "ml"
  },
  "language_info": {
   "codemirror_mode": {
    "name": "ipython",
    "version": 3
   },
   "file_extension": ".py",
   "mimetype": "text/x-python",
   "name": "python",
   "nbconvert_exporter": "python",
   "pygments_lexer": "ipython3",
   "version": "3.11.6"
  }
 },
 "nbformat": 4,
 "nbformat_minor": 5
}
