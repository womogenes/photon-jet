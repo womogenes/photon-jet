{
 "cells": [
  {
   "cell_type": "markdown",
   "id": "d7f87229-186d-4627-9dbb-66c1020eeffe",
   "metadata": {},
   "source": [
    "# ROC plots\n",
    "\n",
    "Here's the idea. We have a PFN model, and it produces outputs for signal and non-signal jets.\n",
    "\n",
    "Let's fix a threshold $t$. We determine the **signal efficiency** by taking the proportion of signal jets whose outputs (which are 3-vectors) have **signal node value** greater than $t$.\n",
    "\n",
    "We calculate the **background efficiency** by taking the proportion of background jets whose outputs have **signal node value** greater than $t$."
   ]
  },
  {
   "cell_type": "code",
   "execution_count": 2,
   "id": "d28b9707-dabf-431f-9c89-45f6fe08843c",
   "metadata": {},
   "outputs": [],
   "source": [
    "import sys\n",
    "sys.path.append(\"../..\")\n",
    "\n",
    "import numpy as np\n",
    "import tensorflow as tf\n",
    "import tensorflow.keras as keras\n",
    "\n",
    "from utils import data_dir, model_dir"
   ]
  },
  {
   "cell_type": "code",
   "execution_count": 5,
   "id": "687a3ebc-8f4d-49b7-8f11-ba325570a682",
   "metadata": {},
   "outputs": [],
   "source": [
    "task_name = \"scalar1\""
   ]
  },
  {
   "cell_type": "markdown",
   "id": "d453e8c6-30cd-4861-a6a5-c1984ca9c986",
   "metadata": {},
   "source": [
    "## Load model and data"
   ]
  },
  {
   "cell_type": "code",
   "execution_count": 6,
   "id": "e2e6d7f3-0890-4b98-958e-dacce8e7f58d",
   "metadata": {},
   "outputs": [
    {
     "name": "stdout",
     "output_type": "stream",
     "text": [
      "Loading 10% of data for particle pi0...\n",
      "Loading 10% of data for particle gamma...\n",
      "Loading 10% of data for particle scalar1...\n",
      "clouds.shape: (30000, 960, 4)\n"
     ]
    }
   ],
   "source": [
    "## LOAD DATA\n",
    "particles = [\"pi0\", \"gamma\", task_name]\n",
    "clouds = []\n",
    "for particle in particles:\n",
    "    print(f\"Loading 10% of data for particle {particle}...\")\n",
    "    clouds.append(np.load(f\"{data_dir}/processed/{particle}_cloud.npy\")[::10])\n",
    "clouds = np.vstack(clouds)\n",
    "print(f\"clouds.shape: {clouds.shape}\")"
   ]
  },
  {
   "cell_type": "code",
   "execution_count": 7,
   "id": "41c18940-43a6-4a73-b8a4-be1f1122783c",
   "metadata": {},
   "outputs": [
    {
     "name": "stderr",
     "output_type": "stream",
     "text": [
      "2023-11-18 04:38:18.567278: I tensorflow/core/common_runtime/gpu/gpu_device.cc:1639] Created device /job:localhost/replica:0/task:0/device:GPU:0 with 3062 MB memory:  -> device: 0, name: NVIDIA A100-SXM4-40GB MIG 1g.5gb, pci bus id: 0000:01:00.0, compute capability: 8.0\n"
     ]
    }
   ],
   "source": [
    "pfn = keras.models.load_model(f\"{model_dir}/{task_name}_pfn\")"
   ]
  },
  {
   "cell_type": "code",
   "execution_count": 8,
   "id": "86d468d9-63f2-4b6c-8a50-a6c2a11237cd",
   "metadata": {},
   "outputs": [
    {
     "name": "stdout",
     "output_type": "stream",
     "text": [
      " 22/938 [..............................] - ETA: 7s"
     ]
    },
    {
     "name": "stderr",
     "output_type": "stream",
     "text": [
      "2023-11-18 04:38:20.670067: I tensorflow/compiler/xla/stream_executor/cuda/cuda_blas.cc:606] TensorFloat-32 will be used for the matrix multiplication. This will only be logged once.\n"
     ]
    },
    {
     "name": "stdout",
     "output_type": "stream",
     "text": [
      "938/938 [==============================] - 8s 8ms/step\n"
     ]
    }
   ],
   "source": [
    "outputs = pfn.predict(clouds)"
   ]
  }
 ],
 "metadata": {
  "kernelspec": {
   "display_name": "Python (tf2)",
   "language": "python",
   "name": "tf"
  },
  "language_info": {
   "codemirror_mode": {
    "name": "ipython",
    "version": 3
   },
   "file_extension": ".py",
   "mimetype": "text/x-python",
   "name": "python",
   "nbconvert_exporter": "python",
   "pygments_lexer": "ipython3",
   "version": "3.11.6"
  }
 },
 "nbformat": 4,
 "nbformat_minor": 5
}
