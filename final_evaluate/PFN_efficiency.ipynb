{
 "cells": [
  {
   "cell_type": "markdown",
   "id": "44aae786-cc29-4b9f-a89f-5d947876eac6",
   "metadata": {},
   "source": [
    "# Compute PFN efficiencies"
   ]
  },
  {
   "cell_type": "code",
   "execution_count": 1,
   "id": "2b1a326e-ba4f-4485-9166-ee18050cc4ec",
   "metadata": {},
   "outputs": [
    {
     "name": "stderr",
     "output_type": "stream",
     "text": [
      "2023-10-28 19:08:04.053922: I tensorflow/core/platform/cpu_feature_guard.cc:182] This TensorFlow binary is optimized to use available CPU instructions in performance-critical operations.\n",
      "To enable the following instructions: SSE4.1 SSE4.2 AVX AVX2 FMA, in other operations, rebuild TensorFlow with the appropriate compiler flags.\n"
     ]
    }
   ],
   "source": [
    "import numpy as np\n",
    "import h5py\n",
    "import yaml\n",
    "import matplotlib.pyplot as plt\n",
    "\n",
    "import tensorflow as tf\n",
    "import tensorflow.keras as keras"
   ]
  },
  {
   "cell_type": "code",
   "execution_count": 2,
   "id": "b76113f3-a63c-467d-9f5b-05234487881d",
   "metadata": {},
   "outputs": [],
   "source": [
    "task_name = \"axion1\"\n",
    "\n",
    "with open(\"../config.yaml\") as fin:\n",
    "    data = yaml.safe_load(fin)\n",
    "    model_dir = data['model_dir']\n",
    "    data_dir = data[\"data_dir\"]\n",
    "    cloud_dir = f\"{data['data_dir']}/processed/{task_name}_cloud.npy\""
   ]
  },
  {
   "cell_type": "code",
   "execution_count": 3,
   "id": "ae67586c-aca9-421b-a43f-af9f26157ee7",
   "metadata": {},
   "outputs": [],
   "source": [
    "# ~10 seconds\n",
    "pfn = keras.models.load_model(f\"{model_dir}/{task_name}_pfn\")"
   ]
  },
  {
   "cell_type": "code",
   "execution_count": 13,
   "id": "1d992032-1bfa-4ba6-bd23-95d18228f5dd",
   "metadata": {},
   "outputs": [
    {
     "name": "stdout",
     "output_type": "stream",
     "text": [
      "Loading clouds for pi0...\n",
      "Loading clouds for gamma...\n",
      "Loading clouds for axion1...\n"
     ]
    }
   ],
   "source": [
    "# Grab data (~15 seconds?)\n",
    "all_jets = []\n",
    "for particle in [\"pi0\", \"gamma\", task_name]:\n",
    "    print(f\"Loading clouds for {particle}...\")\n",
    "    all_jets.append(np.load(f\"{data_dir}/processed/{particle}_cloud.npy\"))"
   ]
  },
  {
   "cell_type": "code",
   "execution_count": 14,
   "id": "bdb18618-cea0-4ef2-ac4c-03034356d358",
   "metadata": {},
   "outputs": [],
   "source": [
    "def get_GeV(particle):\n",
    "    \"\"\"\n",
    "    Get an array of all the energies.\n",
    "    \"\"\"\n",
    "    file = h5py.File(f\"{data_dir}/h5/{particle}_40-250GeV_100k.h5\")\n",
    "    return np.array(np.squeeze(file[\"energy\"]))"
   ]
  },
  {
   "cell_type": "markdown",
   "id": "4b33c3bd-29d0-43c5-aa7a-523f7c791bf4",
   "metadata": {},
   "source": [
    "## Compute all the info we need"
   ]
  },
  {
   "cell_type": "code",
   "execution_count": 15,
   "id": "d1a6e7c8-1c7f-4a89-afd9-bb0cd3cdd915",
   "metadata": {},
   "outputs": [],
   "source": [
    "E = [get_GeV(\"pi0\"), get_GeV(\"gamma\"), get_GeV(task_name)]"
   ]
  },
  {
   "cell_type": "code",
   "execution_count": 16,
   "id": "5dca8f5a-dbe3-4b28-9c94-9cc74eb7fc5a",
   "metadata": {},
   "outputs": [
    {
     "name": "stdout",
     "output_type": "stream",
     "text": [
      "200/200 [==============================] - 13s 65ms/step\n",
      "200/200 [==============================] - 13s 66ms/step\n",
      "200/200 [==============================] - 13s 65ms/step\n"
     ]
    }
   ],
   "source": [
    "Y_pred = [\n",
    "    np.argmax(pfn.predict(jets, batch_size=500), axis=1)\n",
    "    for jets in all_jets\n",
    "]"
   ]
  },
  {
   "cell_type": "code",
   "execution_count": 17,
   "id": "1b97c6c9-757b-4a00-995a-feadab87c52a",
   "metadata": {},
   "outputs": [
    {
     "name": "stdout",
     "output_type": "stream",
     "text": [
      "Overall accuracy: 0.996\n"
     ]
    }
   ],
   "source": [
    "N = 100000\n",
    "Y_true = [0]*N + [1]*N + [2]*N\n",
    "\n",
    "correct = np.sum(np.concatenate(Y_pred) == np.array(Y_true))\n",
    "print(f\"Overall accuracy: {(correct / len(Y_true)):.3f}\")"
   ]
  },
  {
   "cell_type": "code",
   "execution_count": 18,
   "id": "04e7764d-a414-410c-af65-8b0596e88501",
   "metadata": {},
   "outputs": [],
   "source": [
    "def compute_efficiencies(particle):\n",
    "    \"\"\"\n",
    "    Particle can be either 0, 1, or 2.\n",
    "    \"\"\"\n",
    "    cutoffs = np.linspace(40, 250, 11)\n",
    "    \n",
    "    # EnergyRangeLow, EnergyRangeUp, Eff, EffErrLow, EffErrUp\n",
    "    table = []\n",
    "    for i in range(len(cutoffs) - 1):\n",
    "        low, up = cutoffs[i], cutoffs[i + 1]\n",
    "        mask = (E[particle] >= low) & (E[particle] < up)\n",
    "        \n",
    "        # Background\n",
    "        eff = round(np.sum(Y_pred[particle][mask] == 2) / np.sum(mask), 5)\n",
    "        \n",
    "        # What should errors actually be?\n",
    "        table.append([low, up, eff, 0.001, 0.001])\n",
    "    \n",
    "    return table"
   ]
  },
  {
   "cell_type": "code",
   "execution_count": 19,
   "id": "e4b9f099-9cb4-4109-8da5-b8a46b3fde5e",
   "metadata": {},
   "outputs": [],
   "source": [
    "os.makedirs(f\"./PFN_results/{task_name}_1GeV\", exist_ok=True)\n",
    "\n",
    "tables = {\n",
    "    \"eff_pi0.txt\": compute_efficiencies(0),\n",
    "    \"eff_gamma.txt\": compute_efficiencies(1),\n",
    "    f\"eff_{task_name}.txt\": compute_efficiencies(2)    \n",
    "}\n",
    "for path, table in tables.items():\n",
    "    with open(f\"./PFN_results/{task_name}_1GeV/{path}\", \"w\") as fout:\n",
    "        fout.write(\"EnergyRangeLow, EnergyRangeUp, Eff, EffErrLow, EffErrUp\\n\")\n",
    "        fout.write(\"\\n\".join([\", \".join(map(str, row)) for row in table]))\n",
    "        fout.write(\"\\n\")"
   ]
  },
  {
   "cell_type": "code",
   "execution_count": null,
   "id": "e0d1a3fd-e59b-4bd0-9285-64830cbba3b2",
   "metadata": {},
   "outputs": [],
   "source": []
  }
 ],
 "metadata": {
  "kernelspec": {
   "display_name": "ml",
   "language": "python",
   "name": "ml"
  },
  "language_info": {
   "codemirror_mode": {
    "name": "ipython",
    "version": 3
   },
   "file_extension": ".py",
   "mimetype": "text/x-python",
   "name": "python",
   "nbconvert_exporter": "python",
   "pygments_lexer": "ipython3",
   "version": "3.11.6"
  }
 },
 "nbformat": 4,
 "nbformat_minor": 5
}
