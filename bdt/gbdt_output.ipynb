{
 "cells": [
  {
   "cell_type": "markdown",
   "id": "cf5c8204-f845-4b69-960a-572b89c96614",
   "metadata": {},
   "source": [
    "Export BDT outputs into a `.npz` file."
   ]
  },
  {
   "cell_type": "code",
   "execution_count": 13,
   "id": "e206f483-7133-4000-9439-ee565604fafa",
   "metadata": {},
   "outputs": [],
   "source": [
    "import sys\n",
    "sys.path.append(\"..\")\n",
    "\n",
    "import os\n",
    "import numpy as np\n",
    "from scipy.special import softmax\n",
    "import joblib\n",
    "\n",
    "from utils import model_dir, data_dir"
   ]
  },
  {
   "cell_type": "code",
   "execution_count": 2,
   "id": "20b703f1-dd79-4370-ac76-953ec1775641",
   "metadata": {},
   "outputs": [],
   "source": [
    "task_name = \"axion1\""
   ]
  },
  {
   "cell_type": "code",
   "execution_count": 3,
   "id": "c597cf49-809d-4f01-b4c6-d364b3724ac8",
   "metadata": {},
   "outputs": [],
   "source": [
    "X_train = np.load(f\"{data_dir}/processed/bdt/{task_name}_X_train.npy\")\n",
    "y_train = np.load(f\"{data_dir}/processed/bdt/{task_name}_y_train.npy\")\n",
    "X_test = np.load(f\"{data_dir}/processed/bdt/{task_name}_X_test.npy\")\n",
    "y_test = np.load(f\"{data_dir}/processed/bdt/{task_name}_y_test.npy\")"
   ]
  },
  {
   "cell_type": "code",
   "execution_count": 4,
   "id": "8d64177c-e42d-49f7-ad5c-a522eac496f5",
   "metadata": {},
   "outputs": [],
   "source": [
    "bdt = joblib.load(f\"{model_dir}/{task_name}_bdt.joblib\")"
   ]
  },
  {
   "cell_type": "code",
   "execution_count": 16,
   "id": "3ed7a639-fff6-4ec1-b561-0ba04fe6d5de",
   "metadata": {},
   "outputs": [
    {
     "name": "stdout",
     "output_type": "stream",
     "text": [
      "(90000, 3)\n",
      "Saved to /data/wifeng/photon-jet/data/model_outputs/axion1_bdt_test.npz.\n"
     ]
    }
   ],
   "source": [
    "test_outputs = bdt.decision_function(X_test)\n",
    "\n",
    "save_dir = f\"{data_dir}/model_outputs\"\n",
    "os.makedirs(save_dir, exist_ok=True)\n",
    "save_path = f\"{save_dir}/{task_name}_bdt_test.npz\"\n",
    "np.savez(save_path, raw_outputs=test_outputs, y_true=y_test)\n",
    "\n",
    "print(test_outputs.shape)\n",
    "print(f\"Saved to {save_path}.\")"
   ]
  }
 ],
 "metadata": {
  "kernelspec": {
   "display_name": "Python (tf2)",
   "language": "python",
   "name": "tf"
  },
  "language_info": {
   "codemirror_mode": {
    "name": "ipython",
    "version": 3
   },
   "file_extension": ".py",
   "mimetype": "text/x-python",
   "name": "python",
   "nbconvert_exporter": "python",
   "pygments_lexer": "ipython3",
   "version": "3.11.6"
  }
 },
 "nbformat": 4,
 "nbformat_minor": 5
}
