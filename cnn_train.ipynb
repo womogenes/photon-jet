{
 "cells": [
  {
   "cell_type": "markdown",
   "id": "33cebaf5-5030-455d-ab20-24aed1f3f86a",
   "metadata": {},
   "source": [
    "## Imports"
   ]
  },
  {
   "cell_type": "code",
   "execution_count": 2,
   "id": "2ef67076-7559-4f10-a93d-14036f30ca7e",
   "metadata": {
    "tags": []
   },
   "outputs": [],
   "source": [
    "import sys\n",
    "import os\n",
    "import random\n",
    "import pandas as pd\n",
    "import numpy as np\n",
    "import matplotlib as mpl\n",
    "import matplotlib.pyplot as plt"
   ]
  },
  {
   "cell_type": "code",
   "execution_count": 3,
   "id": "803a73bb-64f1-42f5-af8a-5feee3f8ddb4",
   "metadata": {},
   "outputs": [
    {
     "name": "stdout",
     "output_type": "stream",
     "text": [
      "/usatlas/atlas01/atlasdisk/users/atlas_wifeng/sw/miniconda/envs/top-tagging/lib/python3.10/enum.py\n"
     ]
    }
   ],
   "source": [
    "import h5py\n",
    "from h5py import File as HDF5File\n",
    "\n",
    "import enum\n",
    "print(enum.__file__)"
   ]
  },
  {
   "cell_type": "code",
   "execution_count": 4,
   "id": "4f23a591-3271-4114-8345-f43c8aa8be8c",
   "metadata": {},
   "outputs": [
    {
     "name": "stderr",
     "output_type": "stream",
     "text": [
      "2023-08-23 02:40:59.978988: I tensorflow/core/platform/cpu_feature_guard.cc:182] This TensorFlow binary is optimized to use available CPU instructions in performance-critical operations.\n",
      "To enable the following instructions: AVX2 FMA, in other operations, rebuild TensorFlow with the appropriate compiler flags.\n",
      "2023-08-23 02:41:01.841180: W tensorflow/compiler/tf2tensorrt/utils/py_utils.cc:38] TF-TRT Warning: Could not find TensorRT\n"
     ]
    }
   ],
   "source": [
    "# Oh boy this might take a while\n",
    "import tensorflow as tf\n",
    "from tensorflow import keras\n",
    "\n",
    "from keras.layers import Lambda, Input\n",
    "from keras.layers import Dropout, Flatten, Dense\n",
    "import keras.backend as K\n",
    "from keras.models import Sequential, Model \n",
    "from keras.layers import Conv2D\n",
    "from keras.layers import MaxPooling2D\n",
    "from keras.layers import concatenate"
   ]
  },
  {
   "cell_type": "markdown",
   "id": "573ad61a-f923-4d11-96e4-e294fcf34024",
   "metadata": {},
   "source": [
    "## Loading data\n",
    "\n",
    "defines `_load_data(particle, datafile)`\n",
    "\n",
    "`particle` is an int to be used as the label. `datafile` is the path to a `.h5` file."
   ]
  },
  {
   "cell_type": "code",
   "execution_count": 27,
   "id": "7444c3ea-1b11-4d2c-9b5c-05557134b432",
   "metadata": {
    "jupyter": {
     "source_hidden": true
    },
    "tags": []
   },
   "outputs": [],
   "source": [
    "def _load_data(particle, datafile):\n",
    "    print('load_data from datafile', datafile)\n",
    "    d = h5py.File(datafile, 'r')\n",
    "    first = np.expand_dims((d['layer_0'])[:], -1)\n",
    "    second = np.expand_dims((d['layer_1'])[:], -1)\n",
    "    third = np.expand_dims((d['layer_2'])[:], -1)\n",
    "    four = np.expand_dims((d['layer_3'])[:], -1)\n",
    "    energy = (d['energy'])[:].reshape(-1, 1) * 1000  # convert to MeV\n",
    "    sizes = [\n",
    "        first.shape[1],\n",
    "        first.shape[2],\n",
    "        second.shape[1],\n",
    "        second.shape[2],\n",
    "        third.shape[1],\n",
    "        third.shape[2],\n",
    "        four.shape[1],\n",
    "        four.shape[2],\n",
    "    ]\n",
    "    y = [particle] * first.shape[0]\n",
    "\n",
    "    return (\n",
    "        first,\n",
    "        second,\n",
    "        third,\n",
    "        four,\n",
    "        y,\n",
    "        energy,\n",
    "        sizes,\n",
    "    )"
   ]
  },
  {
   "cell_type": "code",
   "execution_count": 32,
   "id": "814c7691-8160-47c2-a377-c3950984f416",
   "metadata": {},
   "outputs": [],
   "source": [
    "import yaml\n",
    "with open(\"./config.yaml\") as fin:\n",
    "    data_dir = yaml.safe_load(fin)[\"data_dir\"]\n",
    "os.chdir(data_dir)\n",
    "\n",
    "s = [\n",
    "    'h5/axion1_40-250GeV_100k.h5',\n",
    "    'h5/gamma_40-250GeV_100k.h5',\n",
    "    'h5/pi0_40-250GeV_100k.h5'\n",
    "]\n",
    "events = [1000, 1000, 1000]"
   ]
  },
  {
   "cell_type": "code",
   "execution_count": 33,
   "id": "6f310939-e908-4fb6-8544-f321bd2f64d4",
   "metadata": {},
   "outputs": [
    {
     "name": "stdout",
     "output_type": "stream",
     "text": [
      "load_data from datafile h5/axion1_40-250GeV_100k.h5\n",
      "load_data from datafile h5/gamma_40-250GeV_100k.h5\n",
      "load_data from datafile h5/pi0_40-250GeV_100k.h5\n"
     ]
    }
   ],
   "source": [
    "(\n",
    "    first,\n",
    "    second,\n",
    "    third,\n",
    "    four,\n",
    "    y,\n",
    "    energy,\n",
    "    sizes,\n",
    ") = [np.concatenate(t) for t in [a for a in zip(*[_load_data(1000, file) for file in s])]]"
   ]
  },
  {
   "cell_type": "markdown",
   "id": "e6f2f299-ded2-4a21-8fc7-2efcd7075d61",
   "metadata": {
    "jp-MarkdownHeadingCollapsed": true,
    "tags": []
   },
   "source": [
    "### Load data from each layer"
   ]
  },
  {
   "cell_type": "code",
   "execution_count": 34,
   "id": "7a898534-e1a1-4dce-81d3-72be1623287f",
   "metadata": {
    "tags": []
   },
   "outputs": [
    {
     "name": "stdout",
     "output_type": "stream",
     "text": [
      "load_data from datafile h5/axion1_40-250GeV_100k.h5\n"
     ]
    }
   ],
   "source": [
    "(\n",
    "    first_sig,\n",
    "    second_sig,\n",
    "    third_sig,\n",
    "    four_sig,\n",
    "    y_sig,\n",
    "    energy_sig,\n",
    "    sizes_sig,\n",
    ") = [np.concatenate(t) for t in [a for a in\n",
    "     zip(*[_load_data(events[0], s[0])])]]"
   ]
  },
  {
   "cell_type": "code",
   "execution_count": 35,
   "id": "a63bdbb0-5bf7-4237-8eef-4ac4656fc1fb",
   "metadata": {},
   "outputs": [
    {
     "name": "stdout",
     "output_type": "stream",
     "text": [
      "load_data from datafile h5/gamma_40-250GeV_100k.h5\n"
     ]
    }
   ],
   "source": [
    "(\n",
    "    first_bkg0,\n",
    "    second_bkg0,\n",
    "    third_bkg0,\n",
    "    four_bkg0,\n",
    "    y_bkg0,\n",
    "    energy_bkg0,\n",
    "    sizes_bkg0,\n",
    ") = [np.concatenate(t) for t in [a for a in\n",
    "     zip(*[_load_data(events[1], s[1])])]]"
   ]
  },
  {
   "cell_type": "code",
   "execution_count": 36,
   "id": "46e4e07d-8c08-46c5-ba4f-ac00acb0d0a3",
   "metadata": {},
   "outputs": [
    {
     "name": "stdout",
     "output_type": "stream",
     "text": [
      "load_data from datafile h5/pi0_40-250GeV_100k.h5\n"
     ]
    }
   ],
   "source": [
    "(\n",
    "    first_bkg1,\n",
    "    second_bkg1,\n",
    "    third_bkg1,\n",
    "    four_bkg1,\n",
    "    y_bkg1,\n",
    "    energy_bkg1,\n",
    "    sizes_bkg1,\n",
    ") = [np.concatenate(t) for t in [a for a in\n",
    "     zip(*[_load_data(events[2], s[2])])]]"
   ]
  },
  {
   "cell_type": "markdown",
   "id": "6414ce93-9ad1-483b-9f83-3a8ecc682d66",
   "metadata": {},
   "source": [
    "### Condense, evaluate the data we have"
   ]
  },
  {
   "cell_type": "code",
   "execution_count": 37,
   "id": "a9dacdc0-c15e-4587-a7d4-fa0ad20c2a5e",
   "metadata": {},
   "outputs": [],
   "source": [
    "(first_sig, second_sig, third_sig, four_sig, energy_sig) = \\\n",
    "    [(X.astype(np.float32) / 1000)[:100000] for X in [first_sig,\n",
    "     second_sig, third_sig, four_sig, energy_sig]]\n",
    "(first_bkg0, second_bkg0, third_bkg0, four_bkg0, energy_bkg0) = \\\n",
    "    [(X.astype(np.float32) / 1000)[:100000] for X in [first_bkg0,\n",
    "     second_bkg0, third_bkg0, four_bkg0, energy_bkg0]]\n",
    "(first_bkg1, second_bkg1, third_bkg1, four_bkg1, energy_bkg1) = \\\n",
    "    [(X.astype(np.float32) / 1000)[:100000] for X in [first_bkg1,\n",
    "     second_bkg1, third_bkg1, four_bkg1, energy_bkg1]]"
   ]
  },
  {
   "cell_type": "code",
   "execution_count": 38,
   "id": "66f42241-dc5b-489f-a47e-8c5ae6d3ef71",
   "metadata": {},
   "outputs": [
    {
     "name": "stdout",
     "output_type": "stream",
     "text": [
      "first (300000, 4, 16, 1)\n",
      "first_sig (100000, 4, 16, 1)\n",
      "second_sig (100000, 4, 128, 1)\n"
     ]
    }
   ],
   "source": [
    "print ('first', first.shape)\n",
    "print ('first_sig', first_sig.shape)\n",
    "print ('second_sig', second_sig.shape)"
   ]
  },
  {
   "cell_type": "code",
   "execution_count": 39,
   "id": "ed0caac3-19b5-4cce-b82b-738ff54cb011",
   "metadata": {},
   "outputs": [
    {
     "name": "stdout",
     "output_type": "stream",
     "text": [
      "(300000,)\n"
     ]
    }
   ],
   "source": [
    "inputs = [(first, second)]  # Input Simulation\n",
    "labels = np.concatenate((np.ones(first_sig.shape[0]),\n",
    "                        np.zeros(first_bkg0.shape[0]),\n",
    "                        np.ones(first_bkg1.shape[0]) + 1))\n",
    "print(labels.shape)"
   ]
  },
  {
   "cell_type": "markdown",
   "id": "3d4d2d82-e3a8-4f2c-879a-c8c5355ef8cd",
   "metadata": {
    "jp-MarkdownHeadingCollapsed": true,
    "tags": []
   },
   "source": [
    "## Build the model"
   ]
  },
  {
   "cell_type": "code",
   "execution_count": 5,
   "id": "cd17150d-7e25-4bff-bbf7-f44c86511bfb",
   "metadata": {},
   "outputs": [
    {
     "name": "stdout",
     "output_type": "stream",
     "text": [
      "hello\n"
     ]
    }
   ],
   "source": [
    "print(\"hello\")"
   ]
  },
  {
   "cell_type": "code",
   "execution_count": 20,
   "id": "c3296f20-fa0a-493e-beeb-2ae3d9975982",
   "metadata": {},
   "outputs": [
    {
     "name": "stdout",
     "output_type": "stream",
     "text": [
      "cov11.shape (None, 4, 16, 32)\n",
      "pool1.shape (None, 2, 8, 32)\n",
      "cov12.shape (None, 2, 8, 16)\n",
      "pool2.shape (None, 1, 4, 16)\n"
     ]
    }
   ],
   "source": [
    "visible1 = Input(shape=(4, 16, 1))\n",
    "conv11 = Conv2D(32, kernel_size=4, activation='relu', padding='same')(visible1)\n",
    "pool11 = MaxPooling2D(pool_size=(2, 2))(conv11)\n",
    "conv12 = Conv2D(16, kernel_size=4, activation='relu', padding='same')(pool11)\n",
    "pool12 = MaxPooling2D(pool_size=(2, 2))(conv12)\n",
    "flat1 = Flatten()(pool12)\n",
    "print ('cov11.shape', conv11.shape)\n",
    "print ('pool1.shape', pool11.shape)\n",
    "print ('cov12.shape', conv12.shape)\n",
    "print ('pool2.shape', pool12.shape)"
   ]
  },
  {
   "cell_type": "code",
   "execution_count": 21,
   "id": "77a83536-f4cb-486c-b6f5-caec7213392d",
   "metadata": {},
   "outputs": [
    {
     "name": "stdout",
     "output_type": "stream",
     "text": [
      "cov21.shape (None, 4, 128, 32)\n",
      "poo21.shape (None, 2, 64, 32)\n",
      "cov22.shape (None, 2, 64, 16)\n",
      "poo22.shape (None, 1, 32, 16)\n"
     ]
    }
   ],
   "source": [
    "visible2 = Input(shape=(4, 128, 1))\n",
    "conv21 = Conv2D(32, kernel_size=4, activation='relu', padding='same')(visible2)\n",
    "pool21 = MaxPooling2D(pool_size=(2, 2))(conv21)\n",
    "conv22 = Conv2D(16, kernel_size=4, activation='relu', padding='same')(pool21)\n",
    "pool22 = MaxPooling2D(pool_size=(2, 2))(conv22)\n",
    "flat2 = Flatten()(pool22)\n",
    "print ('cov21.shape', conv21.shape)\n",
    "print ('poo21.shape', pool21.shape)\n",
    "print ('cov22.shape', conv22.shape)\n",
    "print ('poo22.shape', pool22.shape)"
   ]
  },
  {
   "cell_type": "code",
   "execution_count": 22,
   "id": "1e73c23c-a649-4883-a6a3-70a984907366",
   "metadata": {},
   "outputs": [],
   "source": [
    "merge = concatenate([flat1, flat2])"
   ]
  },
  {
   "cell_type": "code",
   "execution_count": 23,
   "id": "44af81bc-60e9-45df-bcfc-c2c1bc23087a",
   "metadata": {},
   "outputs": [],
   "source": [
    "# interpretation model\n",
    "hidden1 = Dense(10, activation='relu')(merge)\n",
    "hidden2 = Dense(10, activation='relu')(hidden1)\n",
    "output = Dense(3, activation='sigmoid')(hidden2)\n",
    "cnn = Model(inputs=[visible1, visible2], outputs=output)\n",
    "\n",
    "cnn.compile(loss='sparse_categorical_crossentropy', optimizer='adam', metrics=['acc'])"
   ]
  },
  {
   "cell_type": "code",
   "execution_count": 24,
   "id": "6894db83-2f69-4fae-81cc-cce1df7f1dc4",
   "metadata": {},
   "outputs": [
    {
     "name": "stdout",
     "output_type": "stream",
     "text": [
      "Model: \"model_2\"\n",
      "__________________________________________________________________________________________________\n",
      " Layer (type)                   Output Shape         Param #     Connected to                     \n",
      "==================================================================================================\n",
      " input_9 (InputLayer)           [(None, 4, 16, 1)]   0           []                               \n",
      "                                                                                                  \n",
      " input_10 (InputLayer)          [(None, 4, 128, 1)]  0           []                               \n",
      "                                                                                                  \n",
      " conv2d_13 (Conv2D)             (None, 4, 16, 32)    544         ['input_9[0][0]']                \n",
      "                                                                                                  \n",
      " conv2d_15 (Conv2D)             (None, 4, 128, 32)   544         ['input_10[0][0]']               \n",
      "                                                                                                  \n",
      " max_pooling2d_10 (MaxPooling2D  (None, 2, 8, 32)    0           ['conv2d_13[0][0]']              \n",
      " )                                                                                                \n",
      "                                                                                                  \n",
      " max_pooling2d_12 (MaxPooling2D  (None, 2, 64, 32)   0           ['conv2d_15[0][0]']              \n",
      " )                                                                                                \n",
      "                                                                                                  \n",
      " conv2d_14 (Conv2D)             (None, 2, 8, 16)     8208        ['max_pooling2d_10[0][0]']       \n",
      "                                                                                                  \n",
      " conv2d_16 (Conv2D)             (None, 2, 64, 16)    8208        ['max_pooling2d_12[0][0]']       \n",
      "                                                                                                  \n",
      " max_pooling2d_11 (MaxPooling2D  (None, 1, 4, 16)    0           ['conv2d_14[0][0]']              \n",
      " )                                                                                                \n",
      "                                                                                                  \n",
      " max_pooling2d_13 (MaxPooling2D  (None, 1, 32, 16)   0           ['conv2d_16[0][0]']              \n",
      " )                                                                                                \n",
      "                                                                                                  \n",
      " flatten_4 (Flatten)            (None, 64)           0           ['max_pooling2d_11[0][0]']       \n",
      "                                                                                                  \n",
      " flatten_5 (Flatten)            (None, 512)          0           ['max_pooling2d_13[0][0]']       \n",
      "                                                                                                  \n",
      " concatenate_3 (Concatenate)    (None, 576)          0           ['flatten_4[0][0]',              \n",
      "                                                                  'flatten_5[0][0]']              \n",
      "                                                                                                  \n",
      " dense_6 (Dense)                (None, 10)           5770        ['concatenate_3[0][0]']          \n",
      "                                                                                                  \n",
      " dense_7 (Dense)                (None, 10)           110         ['dense_6[0][0]']                \n",
      "                                                                                                  \n",
      " dense_8 (Dense)                (None, 3)            33          ['dense_7[0][0]']                \n",
      "                                                                                                  \n",
      "==================================================================================================\n",
      "Total params: 23,417\n",
      "Trainable params: 23,417\n",
      "Non-trainable params: 0\n",
      "__________________________________________________________________________________________________\n",
      "None\n"
     ]
    }
   ],
   "source": [
    "# summarize layers\n",
    "print(cnn.summary())"
   ]
  },
  {
   "cell_type": "markdown",
   "id": "67c58e1e-c3a5-4f28-aa3c-decbeb3e9d72",
   "metadata": {},
   "source": [
    "## Train the model"
   ]
  },
  {
   "cell_type": "code",
   "execution_count": 40,
   "id": "a053bc97-b180-4064-8006-3f4ce44cd7f1",
   "metadata": {},
   "outputs": [
    {
     "name": "stdout",
     "output_type": "stream",
     "text": [
      "Epoch 1/50\n"
     ]
    },
    {
     "name": "stderr",
     "output_type": "stream",
     "text": [
      "2023-08-23 02:46:44.518957: I tensorflow/compiler/xla/stream_executor/cuda/cuda_dnn.cc:424] Loaded cuDNN version 8600\n",
      "2023-08-23 02:46:52.567459: I tensorflow/compiler/xla/service/service.cc:169] XLA service 0x2ad85ae1a6f0 initialized for platform CUDA (this does not guarantee that XLA will be used). Devices:\n",
      "2023-08-23 02:46:52.567499: I tensorflow/compiler/xla/service/service.cc:177]   StreamExecutor device (0): Tesla P100-PCIE-16GB, Compute Capability 6.0\n",
      "2023-08-23 02:46:52.573609: I tensorflow/compiler/mlir/tensorflow/utils/dump_mlir_util.cc:269] disabling MLIR crash reproducer, set env var `MLIR_CRASH_REPRODUCER_DIRECTORY` to enable.\n",
      "2023-08-23 02:46:52.806416: I ./tensorflow/compiler/jit/device_compiler.h:180] Compiled cluster using XLA!  This line is logged at most once for the lifetime of the process.\n"
     ]
    },
    {
     "name": "stdout",
     "output_type": "stream",
     "text": [
      "3000/3000 [==============================] - 27s 4ms/step - loss: 0.9821 - acc: 0.4543\n",
      "Epoch 2/50\n",
      "3000/3000 [==============================] - 12s 4ms/step - loss: 0.4095 - acc: 0.8398\n",
      "Epoch 3/50\n",
      "3000/3000 [==============================] - 12s 4ms/step - loss: 0.1552 - acc: 0.9551\n",
      "Epoch 4/50\n",
      "3000/3000 [==============================] - 12s 4ms/step - loss: 0.1066 - acc: 0.9674\n",
      "Epoch 5/50\n",
      "3000/3000 [==============================] - 12s 4ms/step - loss: 0.0897 - acc: 0.9724\n",
      "Epoch 6/50\n",
      "3000/3000 [==============================] - 12s 4ms/step - loss: 0.0821 - acc: 0.9747\n",
      "Epoch 7/50\n",
      "3000/3000 [==============================] - 12s 4ms/step - loss: 0.0759 - acc: 0.9765\n",
      "Epoch 8/50\n",
      "3000/3000 [==============================] - 12s 4ms/step - loss: 0.0702 - acc: 0.9785\n",
      "Epoch 9/50\n",
      "3000/3000 [==============================] - 12s 4ms/step - loss: 0.0672 - acc: 0.9794\n",
      "Epoch 10/50\n",
      "3000/3000 [==============================] - 12s 4ms/step - loss: 0.0638 - acc: 0.9805\n",
      "Epoch 11/50\n",
      "3000/3000 [==============================] - 12s 4ms/step - loss: 0.0604 - acc: 0.9813\n",
      "Epoch 12/50\n",
      "3000/3000 [==============================] - 12s 4ms/step - loss: 0.0590 - acc: 0.9818\n",
      "Epoch 13/50\n",
      "3000/3000 [==============================] - 12s 4ms/step - loss: 0.0575 - acc: 0.9826\n",
      "Epoch 14/50\n",
      "3000/3000 [==============================] - 13s 4ms/step - loss: 0.0556 - acc: 0.9830\n",
      "Epoch 15/50\n",
      "3000/3000 [==============================] - 12s 4ms/step - loss: 0.0538 - acc: 0.9837\n",
      "Epoch 16/50\n",
      "3000/3000 [==============================] - 12s 4ms/step - loss: 0.0527 - acc: 0.9839\n",
      "Epoch 17/50\n",
      "3000/3000 [==============================] - 12s 4ms/step - loss: 0.0504 - acc: 0.9847\n",
      "Epoch 18/50\n",
      "3000/3000 [==============================] - 12s 4ms/step - loss: 0.0500 - acc: 0.9849\n",
      "Epoch 19/50\n",
      "3000/3000 [==============================] - 12s 4ms/step - loss: 0.0479 - acc: 0.9858\n",
      "Epoch 20/50\n",
      "3000/3000 [==============================] - 12s 4ms/step - loss: 0.0472 - acc: 0.9860\n",
      "Epoch 21/50\n",
      "3000/3000 [==============================] - 12s 4ms/step - loss: 0.0457 - acc: 0.9863\n",
      "Epoch 22/50\n",
      "3000/3000 [==============================] - 12s 4ms/step - loss: 0.0445 - acc: 0.9867\n",
      "Epoch 23/50\n",
      "3000/3000 [==============================] - 12s 4ms/step - loss: 0.0447 - acc: 0.9868\n",
      "Epoch 24/50\n",
      "3000/3000 [==============================] - 12s 4ms/step - loss: 0.0426 - acc: 0.9874\n",
      "Epoch 25/50\n",
      "3000/3000 [==============================] - 12s 4ms/step - loss: 0.0418 - acc: 0.9878\n",
      "Epoch 26/50\n",
      "3000/3000 [==============================] - 12s 4ms/step - loss: 0.0423 - acc: 0.9875\n",
      "Epoch 27/50\n",
      "3000/3000 [==============================] - 12s 4ms/step - loss: 0.0404 - acc: 0.9881\n",
      "Epoch 28/50\n",
      "3000/3000 [==============================] - 12s 4ms/step - loss: 0.0394 - acc: 0.9884\n",
      "Epoch 29/50\n",
      "3000/3000 [==============================] - 12s 4ms/step - loss: 0.0385 - acc: 0.9888\n",
      "Epoch 30/50\n",
      "3000/3000 [==============================] - 12s 4ms/step - loss: 0.0382 - acc: 0.9889\n",
      "Epoch 31/50\n",
      "3000/3000 [==============================] - 12s 4ms/step - loss: 0.0382 - acc: 0.9888\n",
      "Epoch 32/50\n",
      "3000/3000 [==============================] - 12s 4ms/step - loss: 0.0371 - acc: 0.9894\n",
      "Epoch 33/50\n",
      "3000/3000 [==============================] - 12s 4ms/step - loss: 0.0359 - acc: 0.9895\n",
      "Epoch 34/50\n",
      "3000/3000 [==============================] - 12s 4ms/step - loss: 0.0365 - acc: 0.9895\n",
      "Epoch 35/50\n",
      "3000/3000 [==============================] - 12s 4ms/step - loss: 0.0354 - acc: 0.9896\n",
      "Epoch 36/50\n",
      "3000/3000 [==============================] - 12s 4ms/step - loss: 0.0349 - acc: 0.9899\n",
      "Epoch 37/50\n",
      "3000/3000 [==============================] - 12s 4ms/step - loss: 0.0342 - acc: 0.9900\n",
      "Epoch 38/50\n",
      "3000/3000 [==============================] - 12s 4ms/step - loss: 0.0333 - acc: 0.9906\n",
      "Epoch 39/50\n",
      "3000/3000 [==============================] - 12s 4ms/step - loss: 0.0328 - acc: 0.9907\n",
      "Epoch 40/50\n",
      "3000/3000 [==============================] - 12s 4ms/step - loss: 0.0326 - acc: 0.9906\n",
      "Epoch 41/50\n",
      "3000/3000 [==============================] - 12s 4ms/step - loss: 0.0322 - acc: 0.9909\n",
      "Epoch 42/50\n",
      "3000/3000 [==============================] - 12s 4ms/step - loss: 0.0316 - acc: 0.9911\n",
      "Epoch 43/50\n",
      "3000/3000 [==============================] - 12s 4ms/step - loss: 0.0311 - acc: 0.9910\n",
      "Epoch 44/50\n",
      "3000/3000 [==============================] - 12s 4ms/step - loss: 0.0307 - acc: 0.9913\n",
      "Epoch 45/50\n",
      "3000/3000 [==============================] - 12s 4ms/step - loss: 0.0323 - acc: 0.9908\n",
      "Epoch 46/50\n",
      "3000/3000 [==============================] - 12s 4ms/step - loss: 0.0291 - acc: 0.9919\n",
      "Epoch 47/50\n",
      "3000/3000 [==============================] - 12s 4ms/step - loss: 0.0320 - acc: 0.9914\n",
      "Epoch 48/50\n",
      "3000/3000 [==============================] - 12s 4ms/step - loss: 0.0290 - acc: 0.9920\n",
      "Epoch 49/50\n",
      "3000/3000 [==============================] - 12s 4ms/step - loss: 0.0280 - acc: 0.9922\n",
      "Epoch 50/50\n",
      "3000/3000 [==============================] - 12s 4ms/step - loss: 0.0282 - acc: 0.9922\n"
     ]
    }
   ],
   "source": [
    "history = cnn.fit(inputs, labels, epochs=50, batch_size=100)"
   ]
  }
 ],
 "metadata": {
  "kernelspec": {
   "display_name": "top-tagging",
   "language": "python",
   "name": "top-tagging"
  },
  "language_info": {
   "codemirror_mode": {
    "name": "ipython",
    "version": 3
   },
   "file_extension": ".py",
   "mimetype": "text/x-python",
   "name": "python",
   "nbconvert_exporter": "python",
   "pygments_lexer": "ipython3",
   "version": "3.10.10"
  }
 },
 "nbformat": 4,
 "nbformat_minor": 5
}
