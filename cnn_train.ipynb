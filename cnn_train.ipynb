{
 "cells": [
  {
   "cell_type": "markdown",
   "id": "33cebaf5-5030-455d-ab20-24aed1f3f86a",
   "metadata": {},
   "source": [
    "## Imports"
   ]
  },
  {
   "cell_type": "code",
   "execution_count": 1,
   "id": "2ef67076-7559-4f10-a93d-14036f30ca7e",
   "metadata": {
    "tags": []
   },
   "outputs": [],
   "source": [
    "import sys\n",
    "import os\n",
    "import random\n",
    "import pandas as pd\n",
    "import numpy as np\n",
    "import matplotlib as mpl\n",
    "import matplotlib.pyplot as plt"
   ]
  },
  {
   "cell_type": "code",
   "execution_count": 2,
   "id": "803a73bb-64f1-42f5-af8a-5feee3f8ddb4",
   "metadata": {},
   "outputs": [
    {
     "name": "stdout",
     "output_type": "stream",
     "text": [
      "/usatlas/atlas01/atlasdisk/users/atlas_wifeng/sw/miniconda/envs/top-tagging/lib/python3.10/enum.py\n"
     ]
    }
   ],
   "source": [
    "import h5py\n",
    "from h5py import File as HDF5File\n",
    "\n",
    "import enum\n",
    "print(enum.__file__)"
   ]
  },
  {
   "cell_type": "code",
   "execution_count": 3,
   "id": "4f23a591-3271-4114-8345-f43c8aa8be8c",
   "metadata": {},
   "outputs": [
    {
     "name": "stderr",
     "output_type": "stream",
     "text": [
      "2023-08-23 03:36:09.371416: I tensorflow/core/platform/cpu_feature_guard.cc:182] This TensorFlow binary is optimized to use available CPU instructions in performance-critical operations.\n",
      "To enable the following instructions: AVX2 FMA, in other operations, rebuild TensorFlow with the appropriate compiler flags.\n",
      "2023-08-23 03:36:11.384007: W tensorflow/compiler/tf2tensorrt/utils/py_utils.cc:38] TF-TRT Warning: Could not find TensorRT\n"
     ]
    }
   ],
   "source": [
    "# Oh boy this might take a while\n",
    "import tensorflow as tf\n",
    "from tensorflow import keras\n",
    "\n",
    "from keras.layers import Lambda, Input\n",
    "from keras.layers import Dropout, Flatten, Dense\n",
    "import keras.backend as K\n",
    "from keras.models import Sequential, Model \n",
    "from keras.layers import Conv2D\n",
    "from keras.layers import MaxPooling2D\n",
    "from keras.layers import concatenate"
   ]
  },
  {
   "cell_type": "code",
   "execution_count": 33,
   "id": "563b5db4-197c-40dd-8332-ab0506451f66",
   "metadata": {},
   "outputs": [],
   "source": [
    "import yaml\n",
    "with open(\"./config.yaml\") as fin:\n",
    "    config = yaml.safe_load(fin)\n",
    "    data_dir = config[\"data_dir\"]\n",
    "    model_dir = config[\"model_dir\"]\n",
    "    output_dir = config[\"output_dir\"]"
   ]
  },
  {
   "cell_type": "code",
   "execution_count": 5,
   "id": "bd11e0a5-ef74-492e-8e49-7c6b5dfc0d9d",
   "metadata": {},
   "outputs": [],
   "source": [
    "task_name = \"scalar1\""
   ]
  },
  {
   "cell_type": "markdown",
   "id": "573ad61a-f923-4d11-96e4-e294fcf34024",
   "metadata": {},
   "source": [
    "## Loading data\n",
    "\n",
    "defines `_load_data(particle, datafile)`\n",
    "\n",
    "`particle` is an int to be used as the label. `datafile` is the path to a `.h5` file."
   ]
  },
  {
   "cell_type": "code",
   "execution_count": 6,
   "id": "7444c3ea-1b11-4d2c-9b5c-05557134b432",
   "metadata": {
    "jupyter": {
     "source_hidden": true
    },
    "tags": []
   },
   "outputs": [],
   "source": [
    "def _load_data(particle, datafile):\n",
    "    print('load_data from datafile', datafile)\n",
    "    d = h5py.File(datafile, 'r')\n",
    "    first = np.expand_dims((d['layer_0'])[:], -1)\n",
    "    second = np.expand_dims((d['layer_1'])[:], -1)\n",
    "    third = np.expand_dims((d['layer_2'])[:], -1)\n",
    "    four = np.expand_dims((d['layer_3'])[:], -1)\n",
    "    energy = (d['energy'])[:].reshape(-1, 1) * 1000  # convert to MeV\n",
    "    sizes = [\n",
    "        first.shape[1],\n",
    "        first.shape[2],\n",
    "        second.shape[1],\n",
    "        second.shape[2],\n",
    "        third.shape[1],\n",
    "        third.shape[2],\n",
    "        four.shape[1],\n",
    "        four.shape[2],\n",
    "    ]\n",
    "    y = [particle] * first.shape[0]\n",
    "\n",
    "    return (\n",
    "        first,\n",
    "        second,\n",
    "        third,\n",
    "        four,\n",
    "        y,\n",
    "        energy,\n",
    "        sizes,\n",
    "    )"
   ]
  },
  {
   "cell_type": "code",
   "execution_count": 7,
   "id": "814c7691-8160-47c2-a377-c3950984f416",
   "metadata": {},
   "outputs": [],
   "source": [
    "s = [os.path.join(data_dir, p) for p in [\n",
    "    'h5/pi0_40-250GeV_100k.h5',\n",
    "    'h5/gamma_40-250GeV_100k.h5',\n",
    "    f'h5/{task_name}_40-250GeV_100k.h5',\n",
    "]]\n",
    "events = [1000, 1000, 1000]"
   ]
  },
  {
   "cell_type": "code",
   "execution_count": 8,
   "id": "6f310939-e908-4fb6-8544-f321bd2f64d4",
   "metadata": {},
   "outputs": [
    {
     "name": "stdout",
     "output_type": "stream",
     "text": [
      "load_data from datafile /usatlas/atlas01/atlasdisk/users/atlas_wifeng/photon-jet/data/h5/pi0_40-250GeV_100k.h5\n",
      "load_data from datafile /usatlas/atlas01/atlasdisk/users/atlas_wifeng/photon-jet/data/h5/gamma_40-250GeV_100k.h5\n",
      "load_data from datafile /usatlas/atlas01/atlasdisk/users/atlas_wifeng/photon-jet/data/h5/scalar1_40-250GeV_100k.h5\n"
     ]
    }
   ],
   "source": [
    "(\n",
    "    first,\n",
    "    second,\n",
    "    third,\n",
    "    four,\n",
    "    y,\n",
    "    energy,\n",
    "    sizes,\n",
    ") = [np.concatenate(t) for t in [a for a in zip(*[_load_data(1000, file) for file in s])]]"
   ]
  },
  {
   "cell_type": "markdown",
   "id": "e6f2f299-ded2-4a21-8fc7-2efcd7075d61",
   "metadata": {
    "tags": []
   },
   "source": [
    "### Load data from each layer"
   ]
  },
  {
   "cell_type": "code",
   "execution_count": 9,
   "id": "7a898534-e1a1-4dce-81d3-72be1623287f",
   "metadata": {
    "tags": []
   },
   "outputs": [
    {
     "name": "stdout",
     "output_type": "stream",
     "text": [
      "load_data from datafile /usatlas/atlas01/atlasdisk/users/atlas_wifeng/photon-jet/data/h5/scalar1_40-250GeV_100k.h5\n"
     ]
    }
   ],
   "source": [
    "(\n",
    "    first_sig,\n",
    "    second_sig,\n",
    "    third_sig,\n",
    "    four_sig,\n",
    "    y_sig,\n",
    "    energy_sig,\n",
    "    sizes_sig,\n",
    ") = [np.concatenate(t) for t in [a for a in\n",
    "     zip(*[_load_data(events[0], s[2])])]]"
   ]
  },
  {
   "cell_type": "code",
   "execution_count": 10,
   "id": "a63bdbb0-5bf7-4237-8eef-4ac4656fc1fb",
   "metadata": {},
   "outputs": [
    {
     "name": "stdout",
     "output_type": "stream",
     "text": [
      "load_data from datafile /usatlas/atlas01/atlasdisk/users/atlas_wifeng/photon-jet/data/h5/gamma_40-250GeV_100k.h5\n"
     ]
    }
   ],
   "source": [
    "(\n",
    "    first_bkg0,\n",
    "    second_bkg0,\n",
    "    third_bkg0,\n",
    "    four_bkg0,\n",
    "    y_bkg0,\n",
    "    energy_bkg0,\n",
    "    sizes_bkg0,\n",
    ") = [np.concatenate(t) for t in [a for a in\n",
    "     zip(*[_load_data(events[1], s[1])])]]"
   ]
  },
  {
   "cell_type": "code",
   "execution_count": 11,
   "id": "46e4e07d-8c08-46c5-ba4f-ac00acb0d0a3",
   "metadata": {},
   "outputs": [
    {
     "name": "stdout",
     "output_type": "stream",
     "text": [
      "load_data from datafile /usatlas/atlas01/atlasdisk/users/atlas_wifeng/photon-jet/data/h5/pi0_40-250GeV_100k.h5\n"
     ]
    }
   ],
   "source": [
    "(\n",
    "    first_bkg1,\n",
    "    second_bkg1,\n",
    "    third_bkg1,\n",
    "    four_bkg1,\n",
    "    y_bkg1,\n",
    "    energy_bkg1,\n",
    "    sizes_bkg1,\n",
    ") = [np.concatenate(t) for t in [a for a in\n",
    "     zip(*[_load_data(events[2], s[0])])]]"
   ]
  },
  {
   "cell_type": "markdown",
   "id": "6414ce93-9ad1-483b-9f83-3a8ecc682d66",
   "metadata": {},
   "source": [
    "### Condense, evaluate the data we have"
   ]
  },
  {
   "cell_type": "code",
   "execution_count": 12,
   "id": "a9dacdc0-c15e-4587-a7d4-fa0ad20c2a5e",
   "metadata": {},
   "outputs": [],
   "source": [
    "(first_sig, second_sig, third_sig, four_sig, energy_sig) = \\\n",
    "    [(X.astype(np.float32) / 1000)[:100000] for X in [first_sig,\n",
    "     second_sig, third_sig, four_sig, energy_sig]]\n",
    "(first_bkg0, second_bkg0, third_bkg0, four_bkg0, energy_bkg0) = \\\n",
    "    [(X.astype(np.float32) / 1000)[:100000] for X in [first_bkg0,\n",
    "     second_bkg0, third_bkg0, four_bkg0, energy_bkg0]]\n",
    "(first_bkg1, second_bkg1, third_bkg1, four_bkg1, energy_bkg1) = \\\n",
    "    [(X.astype(np.float32) / 1000)[:100000] for X in [first_bkg1,\n",
    "     second_bkg1, third_bkg1, four_bkg1, energy_bkg1]]"
   ]
  },
  {
   "cell_type": "code",
   "execution_count": 13,
   "id": "66f42241-dc5b-489f-a47e-8c5ae6d3ef71",
   "metadata": {},
   "outputs": [
    {
     "name": "stdout",
     "output_type": "stream",
     "text": [
      "first (300000, 4, 16, 1)\n",
      "second (300000, 4, 128, 1)\n",
      "first_sig (100000, 4, 16, 1)\n",
      "second_sig (100000, 4, 128, 1)\n"
     ]
    }
   ],
   "source": [
    "print('first', first.shape)\n",
    "print('second', second.shape)\n",
    "print('first_sig', first_sig.shape)\n",
    "print('second_sig', second_sig.shape)"
   ]
  },
  {
   "cell_type": "code",
   "execution_count": 14,
   "id": "ed0caac3-19b5-4cce-b82b-738ff54cb011",
   "metadata": {},
   "outputs": [
    {
     "name": "stdout",
     "output_type": "stream",
     "text": [
      "(300000,)\n"
     ]
    }
   ],
   "source": [
    "inputs = [(first, second)]  # Input Simulation\n",
    "labels = np.concatenate((np.zeros(first_sig.shape[0]) + 0,\n",
    "                         np.zeros(first_bkg0.shape[0]) + 1,\n",
    "                         np.zeros(first_bkg1.shape[0]) + 2))\n",
    "print(labels.shape)"
   ]
  },
  {
   "cell_type": "code",
   "execution_count": 15,
   "id": "142ebb2a-cba2-4187-89dd-fb1fd29c630e",
   "metadata": {},
   "outputs": [],
   "source": [
    "# Shuffle everything around with a given random seed\n",
    "N = first.shape[0]\n",
    "rng = np.random.default_rng(0)\n",
    "perm = np.random.permutation(N)"
   ]
  },
  {
   "cell_type": "code",
   "execution_count": 23,
   "id": "6ce4a870-717b-4eb0-9d63-ab7507d98abc",
   "metadata": {},
   "outputs": [],
   "source": [
    "n_train = round(0.7 * perm.shape[0])\n",
    "n_test = N - n_train"
   ]
  },
  {
   "cell_type": "code",
   "execution_count": 24,
   "id": "05e5aa57-f2a4-493d-8cf0-2c968a15c71d",
   "metadata": {},
   "outputs": [],
   "source": [
    "# ~2 sec\n",
    "inputs_train = [(first[perm][:n_train], second[perm][:n_train])]\n",
    "labels_train = labels[perm][:n_train]\n",
    "\n",
    "inputs_test = [(first[perm][n_train:], second[perm][n_train:])]\n",
    "labels_test = labels[perm][n_train:]"
   ]
  },
  {
   "cell_type": "markdown",
   "id": "3d4d2d82-e3a8-4f2c-879a-c8c5355ef8cd",
   "metadata": {
    "tags": []
   },
   "source": [
    "## Build the model"
   ]
  },
  {
   "cell_type": "code",
   "execution_count": null,
   "id": "cd17150d-7e25-4bff-bbf7-f44c86511bfb",
   "metadata": {},
   "outputs": [],
   "source": [
    "print(\"hello\")"
   ]
  },
  {
   "cell_type": "code",
   "execution_count": 26,
   "id": "c3296f20-fa0a-493e-beeb-2ae3d9975982",
   "metadata": {},
   "outputs": [
    {
     "name": "stdout",
     "output_type": "stream",
     "text": [
      "cov11.shape (None, 4, 16, 32)\n",
      "pool1.shape (None, 2, 8, 32)\n",
      "cov12.shape (None, 2, 8, 16)\n",
      "pool2.shape (None, 1, 4, 16)\n"
     ]
    }
   ],
   "source": [
    "visible1 = Input(shape=(4, 16, 1))\n",
    "conv11 = Conv2D(32, kernel_size=4, activation='relu', padding='same')(visible1)\n",
    "pool11 = MaxPooling2D(pool_size=(2, 2))(conv11)\n",
    "conv12 = Conv2D(16, kernel_size=4, activation='relu', padding='same')(pool11)\n",
    "pool12 = MaxPooling2D(pool_size=(2, 2))(conv12)\n",
    "flat1 = Flatten()(pool12)\n",
    "print ('cov11.shape', conv11.shape)\n",
    "print ('pool1.shape', pool11.shape)\n",
    "print ('cov12.shape', conv12.shape)\n",
    "print ('pool2.shape', pool12.shape)"
   ]
  },
  {
   "cell_type": "code",
   "execution_count": 27,
   "id": "77a83536-f4cb-486c-b6f5-caec7213392d",
   "metadata": {},
   "outputs": [
    {
     "name": "stdout",
     "output_type": "stream",
     "text": [
      "cov21.shape (None, 4, 128, 32)\n",
      "poo21.shape (None, 2, 64, 32)\n",
      "cov22.shape (None, 2, 64, 16)\n",
      "poo22.shape (None, 1, 32, 16)\n"
     ]
    }
   ],
   "source": [
    "visible2 = Input(shape=(4, 128, 1))\n",
    "conv21 = Conv2D(32, kernel_size=4, activation='relu', padding='same')(visible2)\n",
    "pool21 = MaxPooling2D(pool_size=(2, 2))(conv21)\n",
    "conv22 = Conv2D(16, kernel_size=4, activation='relu', padding='same')(pool21)\n",
    "pool22 = MaxPooling2D(pool_size=(2, 2))(conv22)\n",
    "flat2 = Flatten()(pool22)\n",
    "print ('cov21.shape', conv21.shape)\n",
    "print ('poo21.shape', pool21.shape)\n",
    "print ('cov22.shape', conv22.shape)\n",
    "print ('poo22.shape', pool22.shape)"
   ]
  },
  {
   "cell_type": "code",
   "execution_count": 28,
   "id": "1e73c23c-a649-4883-a6a3-70a984907366",
   "metadata": {},
   "outputs": [],
   "source": [
    "merge = concatenate([flat1, flat2])"
   ]
  },
  {
   "cell_type": "code",
   "execution_count": 29,
   "id": "44af81bc-60e9-45df-bcfc-c2c1bc23087a",
   "metadata": {},
   "outputs": [],
   "source": [
    "# interpretation model\n",
    "hidden1 = Dense(10, activation='relu')(merge)\n",
    "hidden2 = Dense(10, activation='relu')(hidden1)\n",
    "output = Dense(3, activation='sigmoid')(hidden2)\n",
    "cnn = Model(inputs=[visible1, visible2], outputs=output)\n",
    "\n",
    "cnn.compile(loss='sparse_categorical_crossentropy', optimizer='adam', metrics=['acc'])"
   ]
  },
  {
   "cell_type": "code",
   "execution_count": 30,
   "id": "6894db83-2f69-4fae-81cc-cce1df7f1dc4",
   "metadata": {},
   "outputs": [
    {
     "name": "stdout",
     "output_type": "stream",
     "text": [
      "Model: \"model_1\"\n",
      "__________________________________________________________________________________________________\n",
      " Layer (type)                   Output Shape         Param #     Connected to                     \n",
      "==================================================================================================\n",
      " input_3 (InputLayer)           [(None, 4, 16, 1)]   0           []                               \n",
      "                                                                                                  \n",
      " input_4 (InputLayer)           [(None, 4, 128, 1)]  0           []                               \n",
      "                                                                                                  \n",
      " conv2d_4 (Conv2D)              (None, 4, 16, 32)    544         ['input_3[0][0]']                \n",
      "                                                                                                  \n",
      " conv2d_6 (Conv2D)              (None, 4, 128, 32)   544         ['input_4[0][0]']                \n",
      "                                                                                                  \n",
      " max_pooling2d_4 (MaxPooling2D)  (None, 2, 8, 32)    0           ['conv2d_4[0][0]']               \n",
      "                                                                                                  \n",
      " max_pooling2d_6 (MaxPooling2D)  (None, 2, 64, 32)   0           ['conv2d_6[0][0]']               \n",
      "                                                                                                  \n",
      " conv2d_5 (Conv2D)              (None, 2, 8, 16)     8208        ['max_pooling2d_4[0][0]']        \n",
      "                                                                                                  \n",
      " conv2d_7 (Conv2D)              (None, 2, 64, 16)    8208        ['max_pooling2d_6[0][0]']        \n",
      "                                                                                                  \n",
      " max_pooling2d_5 (MaxPooling2D)  (None, 1, 4, 16)    0           ['conv2d_5[0][0]']               \n",
      "                                                                                                  \n",
      " max_pooling2d_7 (MaxPooling2D)  (None, 1, 32, 16)   0           ['conv2d_7[0][0]']               \n",
      "                                                                                                  \n",
      " flatten_2 (Flatten)            (None, 64)           0           ['max_pooling2d_5[0][0]']        \n",
      "                                                                                                  \n",
      " flatten_3 (Flatten)            (None, 512)          0           ['max_pooling2d_7[0][0]']        \n",
      "                                                                                                  \n",
      " concatenate_1 (Concatenate)    (None, 576)          0           ['flatten_2[0][0]',              \n",
      "                                                                  'flatten_3[0][0]']              \n",
      "                                                                                                  \n",
      " dense_3 (Dense)                (None, 10)           5770        ['concatenate_1[0][0]']          \n",
      "                                                                                                  \n",
      " dense_4 (Dense)                (None, 10)           110         ['dense_3[0][0]']                \n",
      "                                                                                                  \n",
      " dense_5 (Dense)                (None, 3)            33          ['dense_4[0][0]']                \n",
      "                                                                                                  \n",
      "==================================================================================================\n",
      "Total params: 23,417\n",
      "Trainable params: 23,417\n",
      "Non-trainable params: 0\n",
      "__________________________________________________________________________________________________\n",
      "None\n"
     ]
    }
   ],
   "source": [
    "# summarize layers\n",
    "print(cnn.summary())"
   ]
  },
  {
   "cell_type": "markdown",
   "id": "67c58e1e-c3a5-4f28-aa3c-decbeb3e9d72",
   "metadata": {},
   "source": [
    "## Train the model"
   ]
  },
  {
   "cell_type": "code",
   "execution_count": 31,
   "id": "a053bc97-b180-4064-8006-3f4ce44cd7f1",
   "metadata": {
    "tags": []
   },
   "outputs": [
    {
     "name": "stdout",
     "output_type": "stream",
     "text": [
      "Epoch 1/50\n"
     ]
    },
    {
     "name": "stderr",
     "output_type": "stream",
     "text": [
      "2023-08-23 03:37:13.165897: I tensorflow/compiler/xla/stream_executor/cuda/cuda_dnn.cc:424] Loaded cuDNN version 8600\n",
      "2023-08-23 03:37:13.896770: I tensorflow/compiler/xla/service/service.cc:169] XLA service 0x2b17d15056a0 initialized for platform CUDA (this does not guarantee that XLA will be used). Devices:\n",
      "2023-08-23 03:37:13.896810: I tensorflow/compiler/xla/service/service.cc:177]   StreamExecutor device (0): Tesla P100-PCIE-16GB, Compute Capability 6.0\n",
      "2023-08-23 03:37:13.902629: I tensorflow/compiler/mlir/tensorflow/utils/dump_mlir_util.cc:269] disabling MLIR crash reproducer, set env var `MLIR_CRASH_REPRODUCER_DIRECTORY` to enable.\n",
      "2023-08-23 03:37:14.144263: I ./tensorflow/compiler/jit/device_compiler.h:180] Compiled cluster using XLA!  This line is logged at most once for the lifetime of the process.\n"
     ]
    },
    {
     "name": "stdout",
     "output_type": "stream",
     "text": [
      "2100/2100 [==============================] - 13s 4ms/step - loss: 0.2615 - acc: 0.9176\n",
      "Epoch 2/50\n",
      "2100/2100 [==============================] - 8s 4ms/step - loss: 0.0839 - acc: 0.9745\n",
      "Epoch 3/50\n",
      "2100/2100 [==============================] - 9s 4ms/step - loss: 0.0735 - acc: 0.9775\n",
      "Epoch 4/50\n",
      "2100/2100 [==============================] - 8s 4ms/step - loss: 0.0676 - acc: 0.9791\n",
      "Epoch 5/50\n",
      "2100/2100 [==============================] - 8s 4ms/step - loss: 0.0632 - acc: 0.9806\n",
      "Epoch 6/50\n",
      "2100/2100 [==============================] - 9s 4ms/step - loss: 0.0563 - acc: 0.9831\n",
      "Epoch 7/50\n",
      "2100/2100 [==============================] - 8s 4ms/step - loss: 0.0548 - acc: 0.9836\n",
      "Epoch 8/50\n",
      "2100/2100 [==============================] - 8s 4ms/step - loss: 0.0521 - acc: 0.9842\n",
      "Epoch 9/50\n",
      "2100/2100 [==============================] - 8s 4ms/step - loss: 0.0492 - acc: 0.9852\n",
      "Epoch 10/50\n",
      "2100/2100 [==============================] - 8s 4ms/step - loss: 0.0466 - acc: 0.9857\n",
      "Epoch 11/50\n",
      "2100/2100 [==============================] - 8s 4ms/step - loss: 0.0445 - acc: 0.9866\n",
      "Epoch 12/50\n",
      "2100/2100 [==============================] - 8s 4ms/step - loss: 0.0436 - acc: 0.9867\n",
      "Epoch 13/50\n",
      "2100/2100 [==============================] - 8s 4ms/step - loss: 0.0425 - acc: 0.9872\n",
      "Epoch 14/50\n",
      "2100/2100 [==============================] - 8s 4ms/step - loss: 0.0416 - acc: 0.9876\n",
      "Epoch 15/50\n",
      "2100/2100 [==============================] - 8s 4ms/step - loss: 0.0398 - acc: 0.9880\n",
      "Epoch 16/50\n",
      "2100/2100 [==============================] - 8s 4ms/step - loss: 0.0379 - acc: 0.9884\n",
      "Epoch 17/50\n",
      "2100/2100 [==============================] - 8s 4ms/step - loss: 0.0370 - acc: 0.9889\n",
      "Epoch 18/50\n",
      "2100/2100 [==============================] - 8s 4ms/step - loss: 0.0361 - acc: 0.9892\n",
      "Epoch 19/50\n",
      "2100/2100 [==============================] - 9s 4ms/step - loss: 0.0345 - acc: 0.9896\n",
      "Epoch 20/50\n",
      "2100/2100 [==============================] - 9s 4ms/step - loss: 0.0337 - acc: 0.9898\n",
      "Epoch 21/50\n",
      "2100/2100 [==============================] - 9s 4ms/step - loss: 0.0321 - acc: 0.9904\n",
      "Epoch 22/50\n",
      "2100/2100 [==============================] - 9s 4ms/step - loss: 0.0317 - acc: 0.9905\n",
      "Epoch 23/50\n",
      "2100/2100 [==============================] - 9s 4ms/step - loss: 0.0320 - acc: 0.9904\n",
      "Epoch 24/50\n",
      "2100/2100 [==============================] - 9s 4ms/step - loss: 0.0305 - acc: 0.9909\n",
      "Epoch 25/50\n",
      "2100/2100 [==============================] - 9s 4ms/step - loss: 0.0296 - acc: 0.9914\n",
      "Epoch 26/50\n",
      "2100/2100 [==============================] - 9s 4ms/step - loss: 0.0283 - acc: 0.9916\n",
      "Epoch 27/50\n",
      "2100/2100 [==============================] - 9s 4ms/step - loss: 0.0275 - acc: 0.9918\n",
      "Epoch 28/50\n",
      "2100/2100 [==============================] - 9s 4ms/step - loss: 0.0264 - acc: 0.9924\n",
      "Epoch 29/50\n",
      "2100/2100 [==============================] - 9s 4ms/step - loss: 0.0262 - acc: 0.9922\n",
      "Epoch 30/50\n",
      "2100/2100 [==============================] - 9s 4ms/step - loss: 0.0255 - acc: 0.9925\n",
      "Epoch 31/50\n",
      "2100/2100 [==============================] - 9s 4ms/step - loss: 0.0247 - acc: 0.9926\n",
      "Epoch 32/50\n",
      "2100/2100 [==============================] - 9s 4ms/step - loss: 0.0247 - acc: 0.9926\n",
      "Epoch 33/50\n",
      "2100/2100 [==============================] - 9s 4ms/step - loss: 0.0237 - acc: 0.9930\n",
      "Epoch 34/50\n",
      "2100/2100 [==============================] - 9s 4ms/step - loss: 0.0232 - acc: 0.9929\n",
      "Epoch 35/50\n",
      "2100/2100 [==============================] - 9s 4ms/step - loss: 0.0226 - acc: 0.9933\n",
      "Epoch 36/50\n",
      "2100/2100 [==============================] - 9s 4ms/step - loss: 0.0225 - acc: 0.9932\n",
      "Epoch 37/50\n",
      "2100/2100 [==============================] - 8s 4ms/step - loss: 0.0215 - acc: 0.9936\n",
      "Epoch 38/50\n",
      "2100/2100 [==============================] - 9s 4ms/step - loss: 0.0216 - acc: 0.9935\n",
      "Epoch 39/50\n",
      "2100/2100 [==============================] - 9s 4ms/step - loss: 0.0208 - acc: 0.9938\n",
      "Epoch 40/50\n",
      "2100/2100 [==============================] - 9s 4ms/step - loss: 0.0211 - acc: 0.9938\n",
      "Epoch 41/50\n",
      "2100/2100 [==============================] - 9s 4ms/step - loss: 0.0202 - acc: 0.9941\n",
      "Epoch 42/50\n",
      "2100/2100 [==============================] - 8s 4ms/step - loss: 0.0198 - acc: 0.9940\n",
      "Epoch 43/50\n",
      "2100/2100 [==============================] - 9s 4ms/step - loss: 0.0194 - acc: 0.9942\n",
      "Epoch 44/50\n",
      "2100/2100 [==============================] - 9s 4ms/step - loss: 0.0188 - acc: 0.9944\n",
      "Epoch 45/50\n",
      "2100/2100 [==============================] - 9s 4ms/step - loss: 0.0192 - acc: 0.9944\n",
      "Epoch 46/50\n",
      "2100/2100 [==============================] - 9s 4ms/step - loss: 0.0186 - acc: 0.9945\n",
      "Epoch 47/50\n",
      "2100/2100 [==============================] - 9s 4ms/step - loss: 0.0173 - acc: 0.9948\n",
      "Epoch 48/50\n",
      "2100/2100 [==============================] - 9s 4ms/step - loss: 0.0170 - acc: 0.9951\n",
      "Epoch 49/50\n",
      "2100/2100 [==============================] - 9s 4ms/step - loss: 0.0175 - acc: 0.9948\n",
      "Epoch 50/50\n",
      "2100/2100 [==============================] - 9s 4ms/step - loss: 0.0168 - acc: 0.9950\n"
     ]
    }
   ],
   "source": [
    "# Takes about 10 min to train 50 epochs. Reaches >99% accuracy!\n",
    "history = cnn.fit(\n",
    "    inputs_train, labels_train,\n",
    "    epochs=50, batch_size=100\n",
    ")"
   ]
  },
  {
   "cell_type": "code",
   "execution_count": 32,
   "id": "4e3d6a9e-88bd-4647-bb9a-fae1a3495471",
   "metadata": {},
   "outputs": [
    {
     "name": "stdout",
     "output_type": "stream",
     "text": [
      "task name: scalar1\n"
     ]
    },
    {
     "name": "stderr",
     "output_type": "stream",
     "text": [
      "WARNING:absl:Found untraced functions such as _jit_compiled_convolution_op, _jit_compiled_convolution_op, _jit_compiled_convolution_op, _jit_compiled_convolution_op while saving (showing 4 of 4). These functions will not be directly callable after loading.\n"
     ]
    },
    {
     "name": "stdout",
     "output_type": "stream",
     "text": [
      "INFO:tensorflow:Assets written to: /usatlas/atlas01/atlasdisk/users/atlas_wifeng/photon-jet/models_v2.1/cnn/scalar1_cnn/assets\n"
     ]
    },
    {
     "name": "stderr",
     "output_type": "stream",
     "text": [
      "INFO:tensorflow:Assets written to: /usatlas/atlas01/atlasdisk/users/atlas_wifeng/photon-jet/models_v2.1/cnn/scalar1_cnn/assets\n"
     ]
    }
   ],
   "source": [
    "# Save this model\n",
    "os.makedirs(f\"{model_dir}/cnn\", exist_ok=True)\n",
    "\n",
    "print(f\"task name: {task_name}\")\n",
    "cnn.save(f\"{model_dir}/cnn/{task_name}_cnn\")"
   ]
  },
  {
   "cell_type": "code",
   "execution_count": null,
   "id": "87a2003b-b6a3-4729-8d6b-3b119aba2f65",
   "metadata": {},
   "outputs": [],
   "source": [
    "import json\n",
    "\n",
    "os.makedirs(f\"{output_dir}/cnn\", exist_ok=True)\n",
    "# with open(f\"{ouptut_dir}/cnn/{task_name}_train_history.json\", \"w\") as fout:\n",
    "#     json.dump({\n",
    "#         val_loss=\n",
    "#     })"
   ]
  }
 ],
 "metadata": {
  "kernelspec": {
   "display_name": "top-tagging",
   "language": "python",
   "name": "top-tagging"
  },
  "language_info": {
   "codemirror_mode": {
    "name": "ipython",
    "version": 3
   },
   "file_extension": ".py",
   "mimetype": "text/x-python",
   "name": "python",
   "nbconvert_exporter": "python",
   "pygments_lexer": "ipython3",
   "version": "3.10.10"
  }
 },
 "nbformat": 4,
 "nbformat_minor": 5
}
